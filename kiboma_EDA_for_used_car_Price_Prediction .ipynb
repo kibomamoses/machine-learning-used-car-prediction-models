{
  "cells": [
    {
      "cell_type": "markdown",
      "metadata": {
        "id": "-y7UMwShTMIm"
      },
      "source": [
        "# Used Car Dataset EDA and Price Prediction using Different Machine Learning Models\n",
        "by Moses Kiboma"
      ]
    },
    {
      "cell_type": "markdown",
      "metadata": {
        "id": "zedzF35_dkD8"
      },
      "source": [
        "#  Loading Dataset\n",
        "For this project, I used the dataset on used car sales from\n",
        "all over the United States from TrueCar. \n",
        "### The features available\n",
        "in this dataset are \n",
        "\n",
        "Mileage,\n",
        "Make,\n",
        "Model,\n",
        "Year,\n",
        "State,\n",
        "City,"
      ]
    },
    {
      "cell_type": "markdown",
      "metadata": {
        "id": "tPj9oN99eMmW"
      },
      "source": [
        "### Import necessary libraries"
      ]
    },
    {
      "cell_type": "code",
      "execution_count": 61,
      "metadata": {
        "id": "UUUnPZ4-TMIw"
      },
      "outputs": [],
      "source": [
        "import pandas as pd #dataframe\n",
        "import numpy as np #mathematical computations\n",
        "import matplotlib.pyplot as plt #visualization\n",
        "import matplotlib\n",
        "import seaborn as sns #visualization\n",
        "from sklearn.model_selection import train_test_split #Splitting the dataset into training and testing\n",
        "from sklearn.model_selection import ShuffleSplit #Random shuffling\n",
        "from sklearn.model_selection import cross_val_score #Score cross validation\n",
        "from warnings import simplefilter #Filtering warnings\n",
        "#Liblaries for models\n",
        "from sklearn.linear_model import LinearRegression, Ridge\n",
        "from sklearn.neighbors import KNeighborsRegressor\n",
        "from sklearn.tree import DecisionTreeRegressor\n",
        "from sklearn.ensemble import RandomForestRegressor, GradientBoostingRegressor, ExtraTreesRegressor, BaggingRegressor\n",
        "\n",
        "simplefilter(action='ignore', category=FutureWarning)\n",
        "%matplotlib inline"
      ]
    },
    {
      "cell_type": "markdown",
      "metadata": {
        "id": "WTokwm-nTMIz"
      },
      "source": [
        "### Loading dataaets into DataFrames"
      ]
    },
    {
      "cell_type": "code",
      "execution_count": null,
      "metadata": {
        "colab": {
          "base_uri": "https://localhost:8080/",
          "height": 206
        },
        "id": "1AEcd2BxTMIz",
        "outputId": "c51de825-bd98-48e8-d40d-3be1fc8a8345"
      },
      "outputs": [
        {
          "output_type": "execute_result",
          "data": {
            "text/plain": [
              "   Price  Year  Mileage              City State                Vin   Make  \\\n",
              "0   8995  2014    35725           El Paso    TX  19VDE2E53EE000083  Acura   \n",
              "1  10888  2013    19606  Long Island City    NY  19VDE1F52DE012636  Acura   \n",
              "2   8995  2013    48851           El Paso    TX  19VDE2E52DE000025  Acura   \n",
              "3  10999  2014    39922           Windsor    CO  19VDE1F71EE003817  Acura   \n",
              "4  14799  2016    22142            Lindon    UT  19UDE2F32GA001284  Acura   \n",
              "\n",
              "          Model  \n",
              "0    ILX6-Speed  \n",
              "1    ILX5-Speed  \n",
              "2    ILX6-Speed  \n",
              "3    ILX5-Speed  \n",
              "4  ILXAutomatic  "
            ],
            "text/html": [
              "\n",
              "  <div id=\"df-e3653e52-7a40-4961-a499-0c67bbecb063\">\n",
              "    <div class=\"colab-df-container\">\n",
              "      <div>\n",
              "<style scoped>\n",
              "    .dataframe tbody tr th:only-of-type {\n",
              "        vertical-align: middle;\n",
              "    }\n",
              "\n",
              "    .dataframe tbody tr th {\n",
              "        vertical-align: top;\n",
              "    }\n",
              "\n",
              "    .dataframe thead th {\n",
              "        text-align: right;\n",
              "    }\n",
              "</style>\n",
              "<table border=\"1\" class=\"dataframe\">\n",
              "  <thead>\n",
              "    <tr style=\"text-align: right;\">\n",
              "      <th></th>\n",
              "      <th>Price</th>\n",
              "      <th>Year</th>\n",
              "      <th>Mileage</th>\n",
              "      <th>City</th>\n",
              "      <th>State</th>\n",
              "      <th>Vin</th>\n",
              "      <th>Make</th>\n",
              "      <th>Model</th>\n",
              "    </tr>\n",
              "  </thead>\n",
              "  <tbody>\n",
              "    <tr>\n",
              "      <th>0</th>\n",
              "      <td>8995</td>\n",
              "      <td>2014</td>\n",
              "      <td>35725</td>\n",
              "      <td>El Paso</td>\n",
              "      <td>TX</td>\n",
              "      <td>19VDE2E53EE000083</td>\n",
              "      <td>Acura</td>\n",
              "      <td>ILX6-Speed</td>\n",
              "    </tr>\n",
              "    <tr>\n",
              "      <th>1</th>\n",
              "      <td>10888</td>\n",
              "      <td>2013</td>\n",
              "      <td>19606</td>\n",
              "      <td>Long Island City</td>\n",
              "      <td>NY</td>\n",
              "      <td>19VDE1F52DE012636</td>\n",
              "      <td>Acura</td>\n",
              "      <td>ILX5-Speed</td>\n",
              "    </tr>\n",
              "    <tr>\n",
              "      <th>2</th>\n",
              "      <td>8995</td>\n",
              "      <td>2013</td>\n",
              "      <td>48851</td>\n",
              "      <td>El Paso</td>\n",
              "      <td>TX</td>\n",
              "      <td>19VDE2E52DE000025</td>\n",
              "      <td>Acura</td>\n",
              "      <td>ILX6-Speed</td>\n",
              "    </tr>\n",
              "    <tr>\n",
              "      <th>3</th>\n",
              "      <td>10999</td>\n",
              "      <td>2014</td>\n",
              "      <td>39922</td>\n",
              "      <td>Windsor</td>\n",
              "      <td>CO</td>\n",
              "      <td>19VDE1F71EE003817</td>\n",
              "      <td>Acura</td>\n",
              "      <td>ILX5-Speed</td>\n",
              "    </tr>\n",
              "    <tr>\n",
              "      <th>4</th>\n",
              "      <td>14799</td>\n",
              "      <td>2016</td>\n",
              "      <td>22142</td>\n",
              "      <td>Lindon</td>\n",
              "      <td>UT</td>\n",
              "      <td>19UDE2F32GA001284</td>\n",
              "      <td>Acura</td>\n",
              "      <td>ILXAutomatic</td>\n",
              "    </tr>\n",
              "  </tbody>\n",
              "</table>\n",
              "</div>\n",
              "      <button class=\"colab-df-convert\" onclick=\"convertToInteractive('df-e3653e52-7a40-4961-a499-0c67bbecb063')\"\n",
              "              title=\"Convert this dataframe to an interactive table.\"\n",
              "              style=\"display:none;\">\n",
              "        \n",
              "  <svg xmlns=\"http://www.w3.org/2000/svg\" height=\"24px\"viewBox=\"0 0 24 24\"\n",
              "       width=\"24px\">\n",
              "    <path d=\"M0 0h24v24H0V0z\" fill=\"none\"/>\n",
              "    <path d=\"M18.56 5.44l.94 2.06.94-2.06 2.06-.94-2.06-.94-.94-2.06-.94 2.06-2.06.94zm-11 1L8.5 8.5l.94-2.06 2.06-.94-2.06-.94L8.5 2.5l-.94 2.06-2.06.94zm10 10l.94 2.06.94-2.06 2.06-.94-2.06-.94-.94-2.06-.94 2.06-2.06.94z\"/><path d=\"M17.41 7.96l-1.37-1.37c-.4-.4-.92-.59-1.43-.59-.52 0-1.04.2-1.43.59L10.3 9.45l-7.72 7.72c-.78.78-.78 2.05 0 2.83L4 21.41c.39.39.9.59 1.41.59.51 0 1.02-.2 1.41-.59l7.78-7.78 2.81-2.81c.8-.78.8-2.07 0-2.86zM5.41 20L4 18.59l7.72-7.72 1.47 1.35L5.41 20z\"/>\n",
              "  </svg>\n",
              "      </button>\n",
              "      \n",
              "  <style>\n",
              "    .colab-df-container {\n",
              "      display:flex;\n",
              "      flex-wrap:wrap;\n",
              "      gap: 12px;\n",
              "    }\n",
              "\n",
              "    .colab-df-convert {\n",
              "      background-color: #E8F0FE;\n",
              "      border: none;\n",
              "      border-radius: 50%;\n",
              "      cursor: pointer;\n",
              "      display: none;\n",
              "      fill: #1967D2;\n",
              "      height: 32px;\n",
              "      padding: 0 0 0 0;\n",
              "      width: 32px;\n",
              "    }\n",
              "\n",
              "    .colab-df-convert:hover {\n",
              "      background-color: #E2EBFA;\n",
              "      box-shadow: 0px 1px 2px rgba(60, 64, 67, 0.3), 0px 1px 3px 1px rgba(60, 64, 67, 0.15);\n",
              "      fill: #174EA6;\n",
              "    }\n",
              "\n",
              "    [theme=dark] .colab-df-convert {\n",
              "      background-color: #3B4455;\n",
              "      fill: #D2E3FC;\n",
              "    }\n",
              "\n",
              "    [theme=dark] .colab-df-convert:hover {\n",
              "      background-color: #434B5C;\n",
              "      box-shadow: 0px 1px 3px 1px rgba(0, 0, 0, 0.15);\n",
              "      filter: drop-shadow(0px 1px 2px rgba(0, 0, 0, 0.3));\n",
              "      fill: #FFFFFF;\n",
              "    }\n",
              "  </style>\n",
              "\n",
              "      <script>\n",
              "        const buttonEl =\n",
              "          document.querySelector('#df-e3653e52-7a40-4961-a499-0c67bbecb063 button.colab-df-convert');\n",
              "        buttonEl.style.display =\n",
              "          google.colab.kernel.accessAllowed ? 'block' : 'none';\n",
              "\n",
              "        async function convertToInteractive(key) {\n",
              "          const element = document.querySelector('#df-e3653e52-7a40-4961-a499-0c67bbecb063');\n",
              "          const dataTable =\n",
              "            await google.colab.kernel.invokeFunction('convertToInteractive',\n",
              "                                                     [key], {});\n",
              "          if (!dataTable) return;\n",
              "\n",
              "          const docLinkHtml = 'Like what you see? Visit the ' +\n",
              "            '<a target=\"_blank\" href=https://colab.research.google.com/notebooks/data_table.ipynb>data table notebook</a>'\n",
              "            + ' to learn more about interactive tables.';\n",
              "          element.innerHTML = '';\n",
              "          dataTable['output_type'] = 'display_data';\n",
              "          await google.colab.output.renderOutput(dataTable, element);\n",
              "          const docLink = document.createElement('div');\n",
              "          docLink.innerHTML = docLinkHtml;\n",
              "          element.appendChild(docLink);\n",
              "        }\n",
              "      </script>\n",
              "    </div>\n",
              "  </div>\n",
              "  "
            ]
          },
          "metadata": {},
          "execution_count": 2
        }
      ],
      "source": [
        "#Loading Dataset 1\n",
        "df1 = pd.read_csv('true_car_listings.csv')\n",
        "df1.head()"
      ]
    },
    {
      "cell_type": "code",
      "execution_count": null,
      "metadata": {
        "colab": {
          "base_uri": "https://localhost:8080/",
          "height": 206
        },
        "id": "taeK1lhdTMI1",
        "outputId": "0581726d-9622-4e45-e54e-779015076532"
      },
      "outputs": [
        {
          "output_type": "execute_result",
          "data": {
            "text/plain": [
              "   Id  Price  Year  Mileage            City State                Vin   Make  \\\n",
              "0   1  16472  2015    18681  Jefferson City    MO  KL4CJBSBXFB267643  Buick   \n",
              "1   2  15749  2015    27592        Highland    IN  KL4CJASB5FB245057  Buick   \n",
              "2   3  16998  2015    13650           Boone    NC  KL4CJCSB0FB264921  Buick   \n",
              "3   4  15777  2015    25195     New Orleans    LA  KL4CJASB4FB217542  Buick   \n",
              "4   5  16784  2015    22800       Las Vegas    NV  KL4CJBSB3FB166881  Buick   \n",
              "\n",
              "               Model  \n",
              "0  EncoreConvenience  \n",
              "1          EncoreFWD  \n",
              "2      EncoreLeather  \n",
              "3          EncoreFWD  \n",
              "4  EncoreConvenience  "
            ],
            "text/html": [
              "\n",
              "  <div id=\"df-73b0d9e6-a25a-4d9f-8af4-ebcb19756499\">\n",
              "    <div class=\"colab-df-container\">\n",
              "      <div>\n",
              "<style scoped>\n",
              "    .dataframe tbody tr th:only-of-type {\n",
              "        vertical-align: middle;\n",
              "    }\n",
              "\n",
              "    .dataframe tbody tr th {\n",
              "        vertical-align: top;\n",
              "    }\n",
              "\n",
              "    .dataframe thead th {\n",
              "        text-align: right;\n",
              "    }\n",
              "</style>\n",
              "<table border=\"1\" class=\"dataframe\">\n",
              "  <thead>\n",
              "    <tr style=\"text-align: right;\">\n",
              "      <th></th>\n",
              "      <th>Id</th>\n",
              "      <th>Price</th>\n",
              "      <th>Year</th>\n",
              "      <th>Mileage</th>\n",
              "      <th>City</th>\n",
              "      <th>State</th>\n",
              "      <th>Vin</th>\n",
              "      <th>Make</th>\n",
              "      <th>Model</th>\n",
              "    </tr>\n",
              "  </thead>\n",
              "  <tbody>\n",
              "    <tr>\n",
              "      <th>0</th>\n",
              "      <td>1</td>\n",
              "      <td>16472</td>\n",
              "      <td>2015</td>\n",
              "      <td>18681</td>\n",
              "      <td>Jefferson City</td>\n",
              "      <td>MO</td>\n",
              "      <td>KL4CJBSBXFB267643</td>\n",
              "      <td>Buick</td>\n",
              "      <td>EncoreConvenience</td>\n",
              "    </tr>\n",
              "    <tr>\n",
              "      <th>1</th>\n",
              "      <td>2</td>\n",
              "      <td>15749</td>\n",
              "      <td>2015</td>\n",
              "      <td>27592</td>\n",
              "      <td>Highland</td>\n",
              "      <td>IN</td>\n",
              "      <td>KL4CJASB5FB245057</td>\n",
              "      <td>Buick</td>\n",
              "      <td>EncoreFWD</td>\n",
              "    </tr>\n",
              "    <tr>\n",
              "      <th>2</th>\n",
              "      <td>3</td>\n",
              "      <td>16998</td>\n",
              "      <td>2015</td>\n",
              "      <td>13650</td>\n",
              "      <td>Boone</td>\n",
              "      <td>NC</td>\n",
              "      <td>KL4CJCSB0FB264921</td>\n",
              "      <td>Buick</td>\n",
              "      <td>EncoreLeather</td>\n",
              "    </tr>\n",
              "    <tr>\n",
              "      <th>3</th>\n",
              "      <td>4</td>\n",
              "      <td>15777</td>\n",
              "      <td>2015</td>\n",
              "      <td>25195</td>\n",
              "      <td>New Orleans</td>\n",
              "      <td>LA</td>\n",
              "      <td>KL4CJASB4FB217542</td>\n",
              "      <td>Buick</td>\n",
              "      <td>EncoreFWD</td>\n",
              "    </tr>\n",
              "    <tr>\n",
              "      <th>4</th>\n",
              "      <td>5</td>\n",
              "      <td>16784</td>\n",
              "      <td>2015</td>\n",
              "      <td>22800</td>\n",
              "      <td>Las Vegas</td>\n",
              "      <td>NV</td>\n",
              "      <td>KL4CJBSB3FB166881</td>\n",
              "      <td>Buick</td>\n",
              "      <td>EncoreConvenience</td>\n",
              "    </tr>\n",
              "  </tbody>\n",
              "</table>\n",
              "</div>\n",
              "      <button class=\"colab-df-convert\" onclick=\"convertToInteractive('df-73b0d9e6-a25a-4d9f-8af4-ebcb19756499')\"\n",
              "              title=\"Convert this dataframe to an interactive table.\"\n",
              "              style=\"display:none;\">\n",
              "        \n",
              "  <svg xmlns=\"http://www.w3.org/2000/svg\" height=\"24px\"viewBox=\"0 0 24 24\"\n",
              "       width=\"24px\">\n",
              "    <path d=\"M0 0h24v24H0V0z\" fill=\"none\"/>\n",
              "    <path d=\"M18.56 5.44l.94 2.06.94-2.06 2.06-.94-2.06-.94-.94-2.06-.94 2.06-2.06.94zm-11 1L8.5 8.5l.94-2.06 2.06-.94-2.06-.94L8.5 2.5l-.94 2.06-2.06.94zm10 10l.94 2.06.94-2.06 2.06-.94-2.06-.94-.94-2.06-.94 2.06-2.06.94z\"/><path d=\"M17.41 7.96l-1.37-1.37c-.4-.4-.92-.59-1.43-.59-.52 0-1.04.2-1.43.59L10.3 9.45l-7.72 7.72c-.78.78-.78 2.05 0 2.83L4 21.41c.39.39.9.59 1.41.59.51 0 1.02-.2 1.41-.59l7.78-7.78 2.81-2.81c.8-.78.8-2.07 0-2.86zM5.41 20L4 18.59l7.72-7.72 1.47 1.35L5.41 20z\"/>\n",
              "  </svg>\n",
              "      </button>\n",
              "      \n",
              "  <style>\n",
              "    .colab-df-container {\n",
              "      display:flex;\n",
              "      flex-wrap:wrap;\n",
              "      gap: 12px;\n",
              "    }\n",
              "\n",
              "    .colab-df-convert {\n",
              "      background-color: #E8F0FE;\n",
              "      border: none;\n",
              "      border-radius: 50%;\n",
              "      cursor: pointer;\n",
              "      display: none;\n",
              "      fill: #1967D2;\n",
              "      height: 32px;\n",
              "      padding: 0 0 0 0;\n",
              "      width: 32px;\n",
              "    }\n",
              "\n",
              "    .colab-df-convert:hover {\n",
              "      background-color: #E2EBFA;\n",
              "      box-shadow: 0px 1px 2px rgba(60, 64, 67, 0.3), 0px 1px 3px 1px rgba(60, 64, 67, 0.15);\n",
              "      fill: #174EA6;\n",
              "    }\n",
              "\n",
              "    [theme=dark] .colab-df-convert {\n",
              "      background-color: #3B4455;\n",
              "      fill: #D2E3FC;\n",
              "    }\n",
              "\n",
              "    [theme=dark] .colab-df-convert:hover {\n",
              "      background-color: #434B5C;\n",
              "      box-shadow: 0px 1px 3px 1px rgba(0, 0, 0, 0.15);\n",
              "      filter: drop-shadow(0px 1px 2px rgba(0, 0, 0, 0.3));\n",
              "      fill: #FFFFFF;\n",
              "    }\n",
              "  </style>\n",
              "\n",
              "      <script>\n",
              "        const buttonEl =\n",
              "          document.querySelector('#df-73b0d9e6-a25a-4d9f-8af4-ebcb19756499 button.colab-df-convert');\n",
              "        buttonEl.style.display =\n",
              "          google.colab.kernel.accessAllowed ? 'block' : 'none';\n",
              "\n",
              "        async function convertToInteractive(key) {\n",
              "          const element = document.querySelector('#df-73b0d9e6-a25a-4d9f-8af4-ebcb19756499');\n",
              "          const dataTable =\n",
              "            await google.colab.kernel.invokeFunction('convertToInteractive',\n",
              "                                                     [key], {});\n",
              "          if (!dataTable) return;\n",
              "\n",
              "          const docLinkHtml = 'Like what you see? Visit the ' +\n",
              "            '<a target=\"_blank\" href=https://colab.research.google.com/notebooks/data_table.ipynb>data table notebook</a>'\n",
              "            + ' to learn more about interactive tables.';\n",
              "          element.innerHTML = '';\n",
              "          dataTable['output_type'] = 'display_data';\n",
              "          await google.colab.output.renderOutput(dataTable, element);\n",
              "          const docLink = document.createElement('div');\n",
              "          docLink.innerHTML = docLinkHtml;\n",
              "          element.appendChild(docLink);\n",
              "        }\n",
              "      </script>\n",
              "    </div>\n",
              "  </div>\n",
              "  "
            ]
          },
          "metadata": {},
          "execution_count": 3
        }
      ],
      "source": [
        "#Loading Dataset and skipping bad lines\n",
        "df2 = pd.read_csv('tc20171021.csv' , on_bad_lines='skip')\n",
        "df2.head()\n"
      ]
    },
    {
      "cell_type": "code",
      "execution_count": null,
      "metadata": {
        "colab": {
          "base_uri": "https://localhost:8080/"
        },
        "id": "awAb3DSxTMI2",
        "outputId": "271f62c1-b198-4ba3-b5d7-cf62ba4f79a2"
      },
      "outputs": [
        {
          "output_type": "execute_result",
          "data": {
            "text/plain": [
              "(852122, 8)"
            ]
          },
          "metadata": {},
          "execution_count": 4
        }
      ],
      "source": [
        "# shape of dataset 1\n",
        "df1.shape\n"
      ]
    },
    {
      "cell_type": "code",
      "execution_count": null,
      "metadata": {
        "colab": {
          "base_uri": "https://localhost:8080/"
        },
        "id": "277v0205TMI3",
        "outputId": "dc34bef7-1870-49a7-e4d4-1049a650dea9"
      },
      "outputs": [
        {
          "output_type": "execute_result",
          "data": {
            "text/plain": [
              "(1216250, 9)"
            ]
          },
          "metadata": {},
          "execution_count": 5
        }
      ],
      "source": [
        "# shape of dataset 1\n",
        "df2.shape"
      ]
    },
    {
      "cell_type": "markdown",
      "metadata": {
        "id": "x1ht6kIQWXZW"
      },
      "source": [
        "# Droping column ID from dataset 2\n",
        "To merge the data sets the colums must be equla that is why we are droping column ID to make sure there is no maerging error"
      ]
    },
    {
      "cell_type": "code",
      "execution_count": null,
      "metadata": {
        "colab": {
          "base_uri": "https://localhost:8080/",
          "height": 424
        },
        "id": "oQPknz6lUSka",
        "outputId": "d007c7b5-302c-420b-d657-e4aa3841cbcd"
      },
      "outputs": [
        {
          "output_type": "execute_result",
          "data": {
            "text/plain": [
              "         Price  Year  Mileage            City State                Vin   Make  \\\n",
              "0        16472  2015    18681  Jefferson City    MO  KL4CJBSBXFB267643  Buick   \n",
              "1        15749  2015    27592        Highland    IN  KL4CJASB5FB245057  Buick   \n",
              "2        16998  2015    13650           Boone    NC  KL4CJCSB0FB264921  Buick   \n",
              "3        15777  2015    25195     New Orleans    LA  KL4CJASB4FB217542  Buick   \n",
              "4        16784  2015    22800       Las Vegas    NV  KL4CJBSB3FB166881  Buick   \n",
              "...        ...   ...      ...             ...   ...                ...    ...   \n",
              "1216245  79900  2017       25    East Hanover    NJ  YV4BC0ZX0H1128239  Volvo   \n",
              "1216246  80895  2017       10    Corte Madera    CA  YV4BC0ZX0H1124188  Volvo   \n",
              "1216247  68755  2018     2500       Englewood    NJ  YV4A22PL4J1212676  Volvo   \n",
              "1216248  72260  2017     3201       Englewood    NJ  YV4A22PL3H1186162  Volvo   \n",
              "1216249  60240  2017     8342     San Leandro    CA  YV4A22NLXH1006162  Volvo   \n",
              "\n",
              "                     Model  \n",
              "0        EncoreConvenience  \n",
              "1                EncoreFWD  \n",
              "2            EncoreLeather  \n",
              "3                EncoreFWD  \n",
              "4        EncoreConvenience  \n",
              "...                    ...  \n",
              "1216245             XC90T8  \n",
              "1216246             XC90T8  \n",
              "1216247             XC90T6  \n",
              "1216248             XC90T6  \n",
              "1216249                V90  \n",
              "\n",
              "[1216250 rows x 8 columns]"
            ],
            "text/html": [
              "\n",
              "  <div id=\"df-923b8298-10a4-4ea8-ad89-2b5c7970071e\">\n",
              "    <div class=\"colab-df-container\">\n",
              "      <div>\n",
              "<style scoped>\n",
              "    .dataframe tbody tr th:only-of-type {\n",
              "        vertical-align: middle;\n",
              "    }\n",
              "\n",
              "    .dataframe tbody tr th {\n",
              "        vertical-align: top;\n",
              "    }\n",
              "\n",
              "    .dataframe thead th {\n",
              "        text-align: right;\n",
              "    }\n",
              "</style>\n",
              "<table border=\"1\" class=\"dataframe\">\n",
              "  <thead>\n",
              "    <tr style=\"text-align: right;\">\n",
              "      <th></th>\n",
              "      <th>Price</th>\n",
              "      <th>Year</th>\n",
              "      <th>Mileage</th>\n",
              "      <th>City</th>\n",
              "      <th>State</th>\n",
              "      <th>Vin</th>\n",
              "      <th>Make</th>\n",
              "      <th>Model</th>\n",
              "    </tr>\n",
              "  </thead>\n",
              "  <tbody>\n",
              "    <tr>\n",
              "      <th>0</th>\n",
              "      <td>16472</td>\n",
              "      <td>2015</td>\n",
              "      <td>18681</td>\n",
              "      <td>Jefferson City</td>\n",
              "      <td>MO</td>\n",
              "      <td>KL4CJBSBXFB267643</td>\n",
              "      <td>Buick</td>\n",
              "      <td>EncoreConvenience</td>\n",
              "    </tr>\n",
              "    <tr>\n",
              "      <th>1</th>\n",
              "      <td>15749</td>\n",
              "      <td>2015</td>\n",
              "      <td>27592</td>\n",
              "      <td>Highland</td>\n",
              "      <td>IN</td>\n",
              "      <td>KL4CJASB5FB245057</td>\n",
              "      <td>Buick</td>\n",
              "      <td>EncoreFWD</td>\n",
              "    </tr>\n",
              "    <tr>\n",
              "      <th>2</th>\n",
              "      <td>16998</td>\n",
              "      <td>2015</td>\n",
              "      <td>13650</td>\n",
              "      <td>Boone</td>\n",
              "      <td>NC</td>\n",
              "      <td>KL4CJCSB0FB264921</td>\n",
              "      <td>Buick</td>\n",
              "      <td>EncoreLeather</td>\n",
              "    </tr>\n",
              "    <tr>\n",
              "      <th>3</th>\n",
              "      <td>15777</td>\n",
              "      <td>2015</td>\n",
              "      <td>25195</td>\n",
              "      <td>New Orleans</td>\n",
              "      <td>LA</td>\n",
              "      <td>KL4CJASB4FB217542</td>\n",
              "      <td>Buick</td>\n",
              "      <td>EncoreFWD</td>\n",
              "    </tr>\n",
              "    <tr>\n",
              "      <th>4</th>\n",
              "      <td>16784</td>\n",
              "      <td>2015</td>\n",
              "      <td>22800</td>\n",
              "      <td>Las Vegas</td>\n",
              "      <td>NV</td>\n",
              "      <td>KL4CJBSB3FB166881</td>\n",
              "      <td>Buick</td>\n",
              "      <td>EncoreConvenience</td>\n",
              "    </tr>\n",
              "    <tr>\n",
              "      <th>...</th>\n",
              "      <td>...</td>\n",
              "      <td>...</td>\n",
              "      <td>...</td>\n",
              "      <td>...</td>\n",
              "      <td>...</td>\n",
              "      <td>...</td>\n",
              "      <td>...</td>\n",
              "      <td>...</td>\n",
              "    </tr>\n",
              "    <tr>\n",
              "      <th>1216245</th>\n",
              "      <td>79900</td>\n",
              "      <td>2017</td>\n",
              "      <td>25</td>\n",
              "      <td>East Hanover</td>\n",
              "      <td>NJ</td>\n",
              "      <td>YV4BC0ZX0H1128239</td>\n",
              "      <td>Volvo</td>\n",
              "      <td>XC90T8</td>\n",
              "    </tr>\n",
              "    <tr>\n",
              "      <th>1216246</th>\n",
              "      <td>80895</td>\n",
              "      <td>2017</td>\n",
              "      <td>10</td>\n",
              "      <td>Corte Madera</td>\n",
              "      <td>CA</td>\n",
              "      <td>YV4BC0ZX0H1124188</td>\n",
              "      <td>Volvo</td>\n",
              "      <td>XC90T8</td>\n",
              "    </tr>\n",
              "    <tr>\n",
              "      <th>1216247</th>\n",
              "      <td>68755</td>\n",
              "      <td>2018</td>\n",
              "      <td>2500</td>\n",
              "      <td>Englewood</td>\n",
              "      <td>NJ</td>\n",
              "      <td>YV4A22PL4J1212676</td>\n",
              "      <td>Volvo</td>\n",
              "      <td>XC90T6</td>\n",
              "    </tr>\n",
              "    <tr>\n",
              "      <th>1216248</th>\n",
              "      <td>72260</td>\n",
              "      <td>2017</td>\n",
              "      <td>3201</td>\n",
              "      <td>Englewood</td>\n",
              "      <td>NJ</td>\n",
              "      <td>YV4A22PL3H1186162</td>\n",
              "      <td>Volvo</td>\n",
              "      <td>XC90T6</td>\n",
              "    </tr>\n",
              "    <tr>\n",
              "      <th>1216249</th>\n",
              "      <td>60240</td>\n",
              "      <td>2017</td>\n",
              "      <td>8342</td>\n",
              "      <td>San Leandro</td>\n",
              "      <td>CA</td>\n",
              "      <td>YV4A22NLXH1006162</td>\n",
              "      <td>Volvo</td>\n",
              "      <td>V90</td>\n",
              "    </tr>\n",
              "  </tbody>\n",
              "</table>\n",
              "<p>1216250 rows × 8 columns</p>\n",
              "</div>\n",
              "      <button class=\"colab-df-convert\" onclick=\"convertToInteractive('df-923b8298-10a4-4ea8-ad89-2b5c7970071e')\"\n",
              "              title=\"Convert this dataframe to an interactive table.\"\n",
              "              style=\"display:none;\">\n",
              "        \n",
              "  <svg xmlns=\"http://www.w3.org/2000/svg\" height=\"24px\"viewBox=\"0 0 24 24\"\n",
              "       width=\"24px\">\n",
              "    <path d=\"M0 0h24v24H0V0z\" fill=\"none\"/>\n",
              "    <path d=\"M18.56 5.44l.94 2.06.94-2.06 2.06-.94-2.06-.94-.94-2.06-.94 2.06-2.06.94zm-11 1L8.5 8.5l.94-2.06 2.06-.94-2.06-.94L8.5 2.5l-.94 2.06-2.06.94zm10 10l.94 2.06.94-2.06 2.06-.94-2.06-.94-.94-2.06-.94 2.06-2.06.94z\"/><path d=\"M17.41 7.96l-1.37-1.37c-.4-.4-.92-.59-1.43-.59-.52 0-1.04.2-1.43.59L10.3 9.45l-7.72 7.72c-.78.78-.78 2.05 0 2.83L4 21.41c.39.39.9.59 1.41.59.51 0 1.02-.2 1.41-.59l7.78-7.78 2.81-2.81c.8-.78.8-2.07 0-2.86zM5.41 20L4 18.59l7.72-7.72 1.47 1.35L5.41 20z\"/>\n",
              "  </svg>\n",
              "      </button>\n",
              "      \n",
              "  <style>\n",
              "    .colab-df-container {\n",
              "      display:flex;\n",
              "      flex-wrap:wrap;\n",
              "      gap: 12px;\n",
              "    }\n",
              "\n",
              "    .colab-df-convert {\n",
              "      background-color: #E8F0FE;\n",
              "      border: none;\n",
              "      border-radius: 50%;\n",
              "      cursor: pointer;\n",
              "      display: none;\n",
              "      fill: #1967D2;\n",
              "      height: 32px;\n",
              "      padding: 0 0 0 0;\n",
              "      width: 32px;\n",
              "    }\n",
              "\n",
              "    .colab-df-convert:hover {\n",
              "      background-color: #E2EBFA;\n",
              "      box-shadow: 0px 1px 2px rgba(60, 64, 67, 0.3), 0px 1px 3px 1px rgba(60, 64, 67, 0.15);\n",
              "      fill: #174EA6;\n",
              "    }\n",
              "\n",
              "    [theme=dark] .colab-df-convert {\n",
              "      background-color: #3B4455;\n",
              "      fill: #D2E3FC;\n",
              "    }\n",
              "\n",
              "    [theme=dark] .colab-df-convert:hover {\n",
              "      background-color: #434B5C;\n",
              "      box-shadow: 0px 1px 3px 1px rgba(0, 0, 0, 0.15);\n",
              "      filter: drop-shadow(0px 1px 2px rgba(0, 0, 0, 0.3));\n",
              "      fill: #FFFFFF;\n",
              "    }\n",
              "  </style>\n",
              "\n",
              "      <script>\n",
              "        const buttonEl =\n",
              "          document.querySelector('#df-923b8298-10a4-4ea8-ad89-2b5c7970071e button.colab-df-convert');\n",
              "        buttonEl.style.display =\n",
              "          google.colab.kernel.accessAllowed ? 'block' : 'none';\n",
              "\n",
              "        async function convertToInteractive(key) {\n",
              "          const element = document.querySelector('#df-923b8298-10a4-4ea8-ad89-2b5c7970071e');\n",
              "          const dataTable =\n",
              "            await google.colab.kernel.invokeFunction('convertToInteractive',\n",
              "                                                     [key], {});\n",
              "          if (!dataTable) return;\n",
              "\n",
              "          const docLinkHtml = 'Like what you see? Visit the ' +\n",
              "            '<a target=\"_blank\" href=https://colab.research.google.com/notebooks/data_table.ipynb>data table notebook</a>'\n",
              "            + ' to learn more about interactive tables.';\n",
              "          element.innerHTML = '';\n",
              "          dataTable['output_type'] = 'display_data';\n",
              "          await google.colab.output.renderOutput(dataTable, element);\n",
              "          const docLink = document.createElement('div');\n",
              "          docLink.innerHTML = docLinkHtml;\n",
              "          element.appendChild(docLink);\n",
              "        }\n",
              "      </script>\n",
              "    </div>\n",
              "  </div>\n",
              "  "
            ]
          },
          "metadata": {},
          "execution_count": 6
        }
      ],
      "source": [
        "df3=df2.drop(['Id'], axis = 1)\n",
        "df3"
      ]
    },
    {
      "cell_type": "code",
      "execution_count": null,
      "metadata": {
        "colab": {
          "base_uri": "https://localhost:8080/"
        },
        "id": "bSyl9RugTMI4",
        "outputId": "340a1c7b-a02f-4ff3-e8ad-ee51583fe4a6"
      },
      "outputs": [
        {
          "output_type": "execute_result",
          "data": {
            "text/plain": [
              "Index(['Price', 'Year', 'Mileage', 'City', 'State', 'Vin', 'Make', 'Model'], dtype='object')"
            ]
          },
          "metadata": {},
          "execution_count": 7
        }
      ],
      "source": [
        "# dataset 1 columns\n",
        "df1.columns\n"
      ]
    },
    {
      "cell_type": "code",
      "execution_count": null,
      "metadata": {
        "colab": {
          "base_uri": "https://localhost:8080/"
        },
        "id": "jioUyNvsTMI5",
        "outputId": "17c044bd-73af-4eaa-af92-db558c853820"
      },
      "outputs": [
        {
          "output_type": "execute_result",
          "data": {
            "text/plain": [
              "Index(['Price', 'Year', 'Mileage', 'City', 'State', 'Vin', 'Make', 'Model'], dtype='object')"
            ]
          },
          "metadata": {},
          "execution_count": 8
        }
      ],
      "source": [
        "#dataset 2 columns\n",
        "df3.columns"
      ]
    },
    {
      "cell_type": "markdown",
      "source": [
        "Now that colums are equal as show by the results we can be able to merge"
      ],
      "metadata": {
        "id": "9wGA69dD77A5"
      }
    },
    {
      "cell_type": "markdown",
      "metadata": {
        "id": "TWr-meWIWw-p"
      },
      "source": [
        "# Merging the datasets"
      ]
    },
    {
      "cell_type": "code",
      "execution_count": null,
      "metadata": {
        "colab": {
          "base_uri": "https://localhost:8080/",
          "height": 424
        },
        "id": "x7rqYhlKVU05",
        "outputId": "7e8575c1-e80f-43b0-fde3-589466179ad4"
      },
      "outputs": [
        {
          "output_type": "execute_result",
          "data": {
            "text/plain": [
              "        Price  Year  Mileage              City State                Vin  \\\n",
              "0        8995  2014    35725           El Paso    TX  19VDE2E53EE000083   \n",
              "1       10888  2013    19606  Long Island City    NY  19VDE1F52DE012636   \n",
              "2        8995  2013    48851           El Paso    TX  19VDE2E52DE000025   \n",
              "3       10999  2014    39922           Windsor    CO  19VDE1F71EE003817   \n",
              "4       14799  2016    22142            Lindon    UT  19UDE2F32GA001284   \n",
              "...       ...   ...      ...               ...   ...                ...   \n",
              "539140  54995  2017    10913            Berwyn    PA  YV1A22ML5H1004169   \n",
              "539141  61990  2017     2201     Winston Salem    NC  YV1A22ML0H1006850   \n",
              "539142  80895  2017       10      Corte Madera    CA  YV4BC0ZX0H1124188   \n",
              "539143  72260  2017     3201         Englewood    NJ  YV4A22PL3H1186162   \n",
              "539144  55999  2016    28941      Fort Collins    CO  YV4A22PL4G1000868   \n",
              "\n",
              "         Make         Model  \n",
              "0       Acura    ILX6-Speed  \n",
              "1       Acura    ILX5-Speed  \n",
              "2       Acura    ILX6-Speed  \n",
              "3       Acura    ILX5-Speed  \n",
              "4       Acura  ILXAutomatic  \n",
              "...       ...           ...  \n",
              "539140  Volvo         S90T6  \n",
              "539141  Volvo         S90T6  \n",
              "539142  Volvo        XC90T8  \n",
              "539143  Volvo        XC90T6  \n",
              "539144  Volvo       XC90AWD  \n",
              "\n",
              "[539145 rows x 8 columns]"
            ],
            "text/html": [
              "\n",
              "  <div id=\"df-27f31b04-f1b5-4e8d-bd8c-eac909be1b3c\">\n",
              "    <div class=\"colab-df-container\">\n",
              "      <div>\n",
              "<style scoped>\n",
              "    .dataframe tbody tr th:only-of-type {\n",
              "        vertical-align: middle;\n",
              "    }\n",
              "\n",
              "    .dataframe tbody tr th {\n",
              "        vertical-align: top;\n",
              "    }\n",
              "\n",
              "    .dataframe thead th {\n",
              "        text-align: right;\n",
              "    }\n",
              "</style>\n",
              "<table border=\"1\" class=\"dataframe\">\n",
              "  <thead>\n",
              "    <tr style=\"text-align: right;\">\n",
              "      <th></th>\n",
              "      <th>Price</th>\n",
              "      <th>Year</th>\n",
              "      <th>Mileage</th>\n",
              "      <th>City</th>\n",
              "      <th>State</th>\n",
              "      <th>Vin</th>\n",
              "      <th>Make</th>\n",
              "      <th>Model</th>\n",
              "    </tr>\n",
              "  </thead>\n",
              "  <tbody>\n",
              "    <tr>\n",
              "      <th>0</th>\n",
              "      <td>8995</td>\n",
              "      <td>2014</td>\n",
              "      <td>35725</td>\n",
              "      <td>El Paso</td>\n",
              "      <td>TX</td>\n",
              "      <td>19VDE2E53EE000083</td>\n",
              "      <td>Acura</td>\n",
              "      <td>ILX6-Speed</td>\n",
              "    </tr>\n",
              "    <tr>\n",
              "      <th>1</th>\n",
              "      <td>10888</td>\n",
              "      <td>2013</td>\n",
              "      <td>19606</td>\n",
              "      <td>Long Island City</td>\n",
              "      <td>NY</td>\n",
              "      <td>19VDE1F52DE012636</td>\n",
              "      <td>Acura</td>\n",
              "      <td>ILX5-Speed</td>\n",
              "    </tr>\n",
              "    <tr>\n",
              "      <th>2</th>\n",
              "      <td>8995</td>\n",
              "      <td>2013</td>\n",
              "      <td>48851</td>\n",
              "      <td>El Paso</td>\n",
              "      <td>TX</td>\n",
              "      <td>19VDE2E52DE000025</td>\n",
              "      <td>Acura</td>\n",
              "      <td>ILX6-Speed</td>\n",
              "    </tr>\n",
              "    <tr>\n",
              "      <th>3</th>\n",
              "      <td>10999</td>\n",
              "      <td>2014</td>\n",
              "      <td>39922</td>\n",
              "      <td>Windsor</td>\n",
              "      <td>CO</td>\n",
              "      <td>19VDE1F71EE003817</td>\n",
              "      <td>Acura</td>\n",
              "      <td>ILX5-Speed</td>\n",
              "    </tr>\n",
              "    <tr>\n",
              "      <th>4</th>\n",
              "      <td>14799</td>\n",
              "      <td>2016</td>\n",
              "      <td>22142</td>\n",
              "      <td>Lindon</td>\n",
              "      <td>UT</td>\n",
              "      <td>19UDE2F32GA001284</td>\n",
              "      <td>Acura</td>\n",
              "      <td>ILXAutomatic</td>\n",
              "    </tr>\n",
              "    <tr>\n",
              "      <th>...</th>\n",
              "      <td>...</td>\n",
              "      <td>...</td>\n",
              "      <td>...</td>\n",
              "      <td>...</td>\n",
              "      <td>...</td>\n",
              "      <td>...</td>\n",
              "      <td>...</td>\n",
              "      <td>...</td>\n",
              "    </tr>\n",
              "    <tr>\n",
              "      <th>539140</th>\n",
              "      <td>54995</td>\n",
              "      <td>2017</td>\n",
              "      <td>10913</td>\n",
              "      <td>Berwyn</td>\n",
              "      <td>PA</td>\n",
              "      <td>YV1A22ML5H1004169</td>\n",
              "      <td>Volvo</td>\n",
              "      <td>S90T6</td>\n",
              "    </tr>\n",
              "    <tr>\n",
              "      <th>539141</th>\n",
              "      <td>61990</td>\n",
              "      <td>2017</td>\n",
              "      <td>2201</td>\n",
              "      <td>Winston Salem</td>\n",
              "      <td>NC</td>\n",
              "      <td>YV1A22ML0H1006850</td>\n",
              "      <td>Volvo</td>\n",
              "      <td>S90T6</td>\n",
              "    </tr>\n",
              "    <tr>\n",
              "      <th>539142</th>\n",
              "      <td>80895</td>\n",
              "      <td>2017</td>\n",
              "      <td>10</td>\n",
              "      <td>Corte Madera</td>\n",
              "      <td>CA</td>\n",
              "      <td>YV4BC0ZX0H1124188</td>\n",
              "      <td>Volvo</td>\n",
              "      <td>XC90T8</td>\n",
              "    </tr>\n",
              "    <tr>\n",
              "      <th>539143</th>\n",
              "      <td>72260</td>\n",
              "      <td>2017</td>\n",
              "      <td>3201</td>\n",
              "      <td>Englewood</td>\n",
              "      <td>NJ</td>\n",
              "      <td>YV4A22PL3H1186162</td>\n",
              "      <td>Volvo</td>\n",
              "      <td>XC90T6</td>\n",
              "    </tr>\n",
              "    <tr>\n",
              "      <th>539144</th>\n",
              "      <td>55999</td>\n",
              "      <td>2016</td>\n",
              "      <td>28941</td>\n",
              "      <td>Fort Collins</td>\n",
              "      <td>CO</td>\n",
              "      <td>YV4A22PL4G1000868</td>\n",
              "      <td>Volvo</td>\n",
              "      <td>XC90AWD</td>\n",
              "    </tr>\n",
              "  </tbody>\n",
              "</table>\n",
              "<p>539145 rows × 8 columns</p>\n",
              "</div>\n",
              "      <button class=\"colab-df-convert\" onclick=\"convertToInteractive('df-27f31b04-f1b5-4e8d-bd8c-eac909be1b3c')\"\n",
              "              title=\"Convert this dataframe to an interactive table.\"\n",
              "              style=\"display:none;\">\n",
              "        \n",
              "  <svg xmlns=\"http://www.w3.org/2000/svg\" height=\"24px\"viewBox=\"0 0 24 24\"\n",
              "       width=\"24px\">\n",
              "    <path d=\"M0 0h24v24H0V0z\" fill=\"none\"/>\n",
              "    <path d=\"M18.56 5.44l.94 2.06.94-2.06 2.06-.94-2.06-.94-.94-2.06-.94 2.06-2.06.94zm-11 1L8.5 8.5l.94-2.06 2.06-.94-2.06-.94L8.5 2.5l-.94 2.06-2.06.94zm10 10l.94 2.06.94-2.06 2.06-.94-2.06-.94-.94-2.06-.94 2.06-2.06.94z\"/><path d=\"M17.41 7.96l-1.37-1.37c-.4-.4-.92-.59-1.43-.59-.52 0-1.04.2-1.43.59L10.3 9.45l-7.72 7.72c-.78.78-.78 2.05 0 2.83L4 21.41c.39.39.9.59 1.41.59.51 0 1.02-.2 1.41-.59l7.78-7.78 2.81-2.81c.8-.78.8-2.07 0-2.86zM5.41 20L4 18.59l7.72-7.72 1.47 1.35L5.41 20z\"/>\n",
              "  </svg>\n",
              "      </button>\n",
              "      \n",
              "  <style>\n",
              "    .colab-df-container {\n",
              "      display:flex;\n",
              "      flex-wrap:wrap;\n",
              "      gap: 12px;\n",
              "    }\n",
              "\n",
              "    .colab-df-convert {\n",
              "      background-color: #E8F0FE;\n",
              "      border: none;\n",
              "      border-radius: 50%;\n",
              "      cursor: pointer;\n",
              "      display: none;\n",
              "      fill: #1967D2;\n",
              "      height: 32px;\n",
              "      padding: 0 0 0 0;\n",
              "      width: 32px;\n",
              "    }\n",
              "\n",
              "    .colab-df-convert:hover {\n",
              "      background-color: #E2EBFA;\n",
              "      box-shadow: 0px 1px 2px rgba(60, 64, 67, 0.3), 0px 1px 3px 1px rgba(60, 64, 67, 0.15);\n",
              "      fill: #174EA6;\n",
              "    }\n",
              "\n",
              "    [theme=dark] .colab-df-convert {\n",
              "      background-color: #3B4455;\n",
              "      fill: #D2E3FC;\n",
              "    }\n",
              "\n",
              "    [theme=dark] .colab-df-convert:hover {\n",
              "      background-color: #434B5C;\n",
              "      box-shadow: 0px 1px 3px 1px rgba(0, 0, 0, 0.15);\n",
              "      filter: drop-shadow(0px 1px 2px rgba(0, 0, 0, 0.3));\n",
              "      fill: #FFFFFF;\n",
              "    }\n",
              "  </style>\n",
              "\n",
              "      <script>\n",
              "        const buttonEl =\n",
              "          document.querySelector('#df-27f31b04-f1b5-4e8d-bd8c-eac909be1b3c button.colab-df-convert');\n",
              "        buttonEl.style.display =\n",
              "          google.colab.kernel.accessAllowed ? 'block' : 'none';\n",
              "\n",
              "        async function convertToInteractive(key) {\n",
              "          const element = document.querySelector('#df-27f31b04-f1b5-4e8d-bd8c-eac909be1b3c');\n",
              "          const dataTable =\n",
              "            await google.colab.kernel.invokeFunction('convertToInteractive',\n",
              "                                                     [key], {});\n",
              "          if (!dataTable) return;\n",
              "\n",
              "          const docLinkHtml = 'Like what you see? Visit the ' +\n",
              "            '<a target=\"_blank\" href=https://colab.research.google.com/notebooks/data_table.ipynb>data table notebook</a>'\n",
              "            + ' to learn more about interactive tables.';\n",
              "          element.innerHTML = '';\n",
              "          dataTable['output_type'] = 'display_data';\n",
              "          await google.colab.output.renderOutput(dataTable, element);\n",
              "          const docLink = document.createElement('div');\n",
              "          docLink.innerHTML = docLinkHtml;\n",
              "          element.appendChild(docLink);\n",
              "        }\n",
              "      </script>\n",
              "    </div>\n",
              "  </div>\n",
              "  "
            ]
          },
          "metadata": {},
          "execution_count": 9
        }
      ],
      "source": [
        "maindf = pd.merge(df1, df3)\n",
        "maindf"
      ]
    },
    {
      "cell_type": "markdown",
      "source": [
        "After corretly merging the data increases "
      ],
      "metadata": {
        "id": "Iu4cWUxu8GUk"
      }
    },
    {
      "cell_type": "markdown",
      "metadata": {
        "id": "i_r2EPYgXczh"
      },
      "source": [
        "# Columns Types\n",
        "Here am finding column types which can help me identfy categorical and numerical data"
      ]
    },
    {
      "cell_type": "code",
      "execution_count": null,
      "metadata": {
        "colab": {
          "base_uri": "https://localhost:8080/"
        },
        "id": "O0Ja27YEXjXb",
        "outputId": "3a9bdf0b-c627-4703-ac72-e2aab720fccd"
      },
      "outputs": [
        {
          "output_type": "execute_result",
          "data": {
            "text/plain": [
              "Price       int64\n",
              "Year        int64\n",
              "Mileage     int64\n",
              "City       object\n",
              "State      object\n",
              "Vin        object\n",
              "Make       object\n",
              "Model      object\n",
              "dtype: object"
            ]
          },
          "metadata": {},
          "execution_count": 10
        }
      ],
      "source": [
        "maindf.dtypes"
      ]
    },
    {
      "cell_type": "code",
      "execution_count": null,
      "metadata": {
        "colab": {
          "base_uri": "https://localhost:8080/"
        },
        "id": "cg9VjXnvVgGU",
        "outputId": "ad26fde5-a4c5-4bc5-f8f8-649e92aa8358"
      },
      "outputs": [
        {
          "output_type": "stream",
          "name": "stdout",
          "text": [
            "<class 'pandas.core.frame.DataFrame'>\n",
            "Int64Index: 539145 entries, 0 to 539144\n",
            "Data columns (total 8 columns):\n",
            " #   Column   Non-Null Count   Dtype \n",
            "---  ------   --------------   ----- \n",
            " 0   Price    539145 non-null  int64 \n",
            " 1   Year     539145 non-null  int64 \n",
            " 2   Mileage  539145 non-null  int64 \n",
            " 3   City     539145 non-null  object\n",
            " 4   State    539145 non-null  object\n",
            " 5   Vin      539145 non-null  object\n",
            " 6   Make     539145 non-null  object\n",
            " 7   Model    539145 non-null  object\n",
            "dtypes: int64(3), object(5)\n",
            "memory usage: 37.0+ MB\n"
          ]
        }
      ],
      "source": [
        "maindf.info()"
      ]
    },
    {
      "cell_type": "markdown",
      "source": [
        "This info shows us the summary of the combined dataset"
      ],
      "metadata": {
        "id": "LuLzL8fV8izQ"
      }
    },
    {
      "cell_type": "markdown",
      "metadata": {
        "id": "HWhBTxV-TMI-"
      },
      "source": [
        "# Checking missing values"
      ]
    },
    {
      "cell_type": "code",
      "execution_count": null,
      "metadata": {
        "colab": {
          "base_uri": "https://localhost:8080/"
        },
        "id": "IHQEOBZjTMI_",
        "outputId": "bf0f800d-7449-4095-ec3c-ab34d818a7f9"
      },
      "outputs": [
        {
          "output_type": "execute_result",
          "data": {
            "text/plain": [
              "Price      0\n",
              "Year       0\n",
              "Mileage    0\n",
              "City       0\n",
              "State      0\n",
              "Vin        0\n",
              "Make       0\n",
              "Model      0\n",
              "dtype: int64"
            ]
          },
          "metadata": {},
          "execution_count": 12
        }
      ],
      "source": [
        "maindf.isnull().sum()"
      ]
    },
    {
      "cell_type": "markdown",
      "metadata": {
        "id": "Rlp_ztLgX6RG"
      },
      "source": [
        "As you can see there are no missing values from the dataset"
      ]
    },
    {
      "cell_type": "markdown",
      "metadata": {
        "id": "1RktbZA3YM2c"
      },
      "source": [
        "# Statistical Analysis:\n"
      ]
    },
    {
      "cell_type": "markdown",
      "metadata": {
        "id": "8r9wgG22YRRJ"
      },
      "source": [
        "# Descriptive Analysis for Numerical data"
      ]
    },
    {
      "cell_type": "markdown",
      "source": [
        "I have identfied numerical data from our combined dataset"
      ],
      "metadata": {
        "id": "egtUtWi48tVu"
      }
    },
    {
      "cell_type": "code",
      "execution_count": null,
      "metadata": {
        "colab": {
          "base_uri": "https://localhost:8080/",
          "height": 424
        },
        "id": "o_IUFdH-W8YL",
        "outputId": "4c26934d-83c6-4d10-febe-58a5e35668a4"
      },
      "outputs": [
        {
          "output_type": "execute_result",
          "data": {
            "text/plain": [
              "        Price  Year  Mileage\n",
              "0        8995  2014    35725\n",
              "1       10888  2013    19606\n",
              "2        8995  2013    48851\n",
              "3       10999  2014    39922\n",
              "4       14799  2016    22142\n",
              "...       ...   ...      ...\n",
              "539140  54995  2017    10913\n",
              "539141  61990  2017     2201\n",
              "539142  80895  2017       10\n",
              "539143  72260  2017     3201\n",
              "539144  55999  2016    28941\n",
              "\n",
              "[539145 rows x 3 columns]"
            ],
            "text/html": [
              "\n",
              "  <div id=\"df-c15ee99b-5fad-468d-86e5-d4c4da7096ee\">\n",
              "    <div class=\"colab-df-container\">\n",
              "      <div>\n",
              "<style scoped>\n",
              "    .dataframe tbody tr th:only-of-type {\n",
              "        vertical-align: middle;\n",
              "    }\n",
              "\n",
              "    .dataframe tbody tr th {\n",
              "        vertical-align: top;\n",
              "    }\n",
              "\n",
              "    .dataframe thead th {\n",
              "        text-align: right;\n",
              "    }\n",
              "</style>\n",
              "<table border=\"1\" class=\"dataframe\">\n",
              "  <thead>\n",
              "    <tr style=\"text-align: right;\">\n",
              "      <th></th>\n",
              "      <th>Price</th>\n",
              "      <th>Year</th>\n",
              "      <th>Mileage</th>\n",
              "    </tr>\n",
              "  </thead>\n",
              "  <tbody>\n",
              "    <tr>\n",
              "      <th>0</th>\n",
              "      <td>8995</td>\n",
              "      <td>2014</td>\n",
              "      <td>35725</td>\n",
              "    </tr>\n",
              "    <tr>\n",
              "      <th>1</th>\n",
              "      <td>10888</td>\n",
              "      <td>2013</td>\n",
              "      <td>19606</td>\n",
              "    </tr>\n",
              "    <tr>\n",
              "      <th>2</th>\n",
              "      <td>8995</td>\n",
              "      <td>2013</td>\n",
              "      <td>48851</td>\n",
              "    </tr>\n",
              "    <tr>\n",
              "      <th>3</th>\n",
              "      <td>10999</td>\n",
              "      <td>2014</td>\n",
              "      <td>39922</td>\n",
              "    </tr>\n",
              "    <tr>\n",
              "      <th>4</th>\n",
              "      <td>14799</td>\n",
              "      <td>2016</td>\n",
              "      <td>22142</td>\n",
              "    </tr>\n",
              "    <tr>\n",
              "      <th>...</th>\n",
              "      <td>...</td>\n",
              "      <td>...</td>\n",
              "      <td>...</td>\n",
              "    </tr>\n",
              "    <tr>\n",
              "      <th>539140</th>\n",
              "      <td>54995</td>\n",
              "      <td>2017</td>\n",
              "      <td>10913</td>\n",
              "    </tr>\n",
              "    <tr>\n",
              "      <th>539141</th>\n",
              "      <td>61990</td>\n",
              "      <td>2017</td>\n",
              "      <td>2201</td>\n",
              "    </tr>\n",
              "    <tr>\n",
              "      <th>539142</th>\n",
              "      <td>80895</td>\n",
              "      <td>2017</td>\n",
              "      <td>10</td>\n",
              "    </tr>\n",
              "    <tr>\n",
              "      <th>539143</th>\n",
              "      <td>72260</td>\n",
              "      <td>2017</td>\n",
              "      <td>3201</td>\n",
              "    </tr>\n",
              "    <tr>\n",
              "      <th>539144</th>\n",
              "      <td>55999</td>\n",
              "      <td>2016</td>\n",
              "      <td>28941</td>\n",
              "    </tr>\n",
              "  </tbody>\n",
              "</table>\n",
              "<p>539145 rows × 3 columns</p>\n",
              "</div>\n",
              "      <button class=\"colab-df-convert\" onclick=\"convertToInteractive('df-c15ee99b-5fad-468d-86e5-d4c4da7096ee')\"\n",
              "              title=\"Convert this dataframe to an interactive table.\"\n",
              "              style=\"display:none;\">\n",
              "        \n",
              "  <svg xmlns=\"http://www.w3.org/2000/svg\" height=\"24px\"viewBox=\"0 0 24 24\"\n",
              "       width=\"24px\">\n",
              "    <path d=\"M0 0h24v24H0V0z\" fill=\"none\"/>\n",
              "    <path d=\"M18.56 5.44l.94 2.06.94-2.06 2.06-.94-2.06-.94-.94-2.06-.94 2.06-2.06.94zm-11 1L8.5 8.5l.94-2.06 2.06-.94-2.06-.94L8.5 2.5l-.94 2.06-2.06.94zm10 10l.94 2.06.94-2.06 2.06-.94-2.06-.94-.94-2.06-.94 2.06-2.06.94z\"/><path d=\"M17.41 7.96l-1.37-1.37c-.4-.4-.92-.59-1.43-.59-.52 0-1.04.2-1.43.59L10.3 9.45l-7.72 7.72c-.78.78-.78 2.05 0 2.83L4 21.41c.39.39.9.59 1.41.59.51 0 1.02-.2 1.41-.59l7.78-7.78 2.81-2.81c.8-.78.8-2.07 0-2.86zM5.41 20L4 18.59l7.72-7.72 1.47 1.35L5.41 20z\"/>\n",
              "  </svg>\n",
              "      </button>\n",
              "      \n",
              "  <style>\n",
              "    .colab-df-container {\n",
              "      display:flex;\n",
              "      flex-wrap:wrap;\n",
              "      gap: 12px;\n",
              "    }\n",
              "\n",
              "    .colab-df-convert {\n",
              "      background-color: #E8F0FE;\n",
              "      border: none;\n",
              "      border-radius: 50%;\n",
              "      cursor: pointer;\n",
              "      display: none;\n",
              "      fill: #1967D2;\n",
              "      height: 32px;\n",
              "      padding: 0 0 0 0;\n",
              "      width: 32px;\n",
              "    }\n",
              "\n",
              "    .colab-df-convert:hover {\n",
              "      background-color: #E2EBFA;\n",
              "      box-shadow: 0px 1px 2px rgba(60, 64, 67, 0.3), 0px 1px 3px 1px rgba(60, 64, 67, 0.15);\n",
              "      fill: #174EA6;\n",
              "    }\n",
              "\n",
              "    [theme=dark] .colab-df-convert {\n",
              "      background-color: #3B4455;\n",
              "      fill: #D2E3FC;\n",
              "    }\n",
              "\n",
              "    [theme=dark] .colab-df-convert:hover {\n",
              "      background-color: #434B5C;\n",
              "      box-shadow: 0px 1px 3px 1px rgba(0, 0, 0, 0.15);\n",
              "      filter: drop-shadow(0px 1px 2px rgba(0, 0, 0, 0.3));\n",
              "      fill: #FFFFFF;\n",
              "    }\n",
              "  </style>\n",
              "\n",
              "      <script>\n",
              "        const buttonEl =\n",
              "          document.querySelector('#df-c15ee99b-5fad-468d-86e5-d4c4da7096ee button.colab-df-convert');\n",
              "        buttonEl.style.display =\n",
              "          google.colab.kernel.accessAllowed ? 'block' : 'none';\n",
              "\n",
              "        async function convertToInteractive(key) {\n",
              "          const element = document.querySelector('#df-c15ee99b-5fad-468d-86e5-d4c4da7096ee');\n",
              "          const dataTable =\n",
              "            await google.colab.kernel.invokeFunction('convertToInteractive',\n",
              "                                                     [key], {});\n",
              "          if (!dataTable) return;\n",
              "\n",
              "          const docLinkHtml = 'Like what you see? Visit the ' +\n",
              "            '<a target=\"_blank\" href=https://colab.research.google.com/notebooks/data_table.ipynb>data table notebook</a>'\n",
              "            + ' to learn more about interactive tables.';\n",
              "          element.innerHTML = '';\n",
              "          dataTable['output_type'] = 'display_data';\n",
              "          await google.colab.output.renderOutput(dataTable, element);\n",
              "          const docLink = document.createElement('div');\n",
              "          docLink.innerHTML = docLinkHtml;\n",
              "          element.appendChild(docLink);\n",
              "        }\n",
              "      </script>\n",
              "    </div>\n",
              "  </div>\n",
              "  "
            ]
          },
          "metadata": {},
          "execution_count": 13
        }
      ],
      "source": [
        "numdata= maindf.select_dtypes(include=['int64']).copy()\n",
        "numdata"
      ]
    },
    {
      "cell_type": "code",
      "execution_count": null,
      "metadata": {
        "id": "07q790CXTMJA"
      },
      "outputs": [],
      "source": [
        "sns.set(color_codes=True)\n",
        "sns.set(rc={'figure.figsize':(6,3)})\n",
        "\n",
        "def plot_histogram(col, color_val='#005c9d',\\\n",
        "                   x_label='Price', y_label='Frequency',\\\n",
        "                   title_text='Distribution of car prices'):\n",
        "    sns.distplot(col, kde=False, color=color_val)\n",
        "    \n",
        "    ax = plt.gca()\n",
        "    ax.set_xlabel(x_label)\n",
        "    ax.set_ylabel(y_label)\n",
        "    ax.set_title(title_text)\n",
        "    ax.get_xaxis().get_major_formatter().set_scientific(False)\n",
        "    ax.get_yaxis().get_major_formatter().set_scientific(False)\n",
        "\n",
        "    plt.show()"
      ]
    },
    {
      "cell_type": "markdown",
      "metadata": {
        "id": "Wr1u8k_BTMJD"
      },
      "source": [
        "### Comparing mean and median of pricesof our dataset"
      ]
    },
    {
      "cell_type": "code",
      "execution_count": null,
      "metadata": {
        "colab": {
          "base_uri": "https://localhost:8080/"
        },
        "id": "wcmxsSntTMJD",
        "outputId": "473de3b1-9c07-4baa-a0ee-226b9f167dc1"
      },
      "outputs": [
        {
          "output_type": "stream",
          "name": "stdout",
          "text": [
            "Mean: 20752.166610095614\n",
            "\n",
            "Median:  17898.0\n"
          ]
        }
      ],
      "source": [
        "print('Mean:', numdata.Price.mean())\n",
        "print()\n",
        "print('Median: ',numdata.Price.median())"
      ]
    },
    {
      "cell_type": "markdown",
      "metadata": {
        "id": "GKckdEgXTMJE"
      },
      "source": [
        "### Finding minmum and maximum  prices of our dataset"
      ]
    },
    {
      "cell_type": "code",
      "execution_count": null,
      "metadata": {
        "colab": {
          "base_uri": "https://localhost:8080/"
        },
        "id": "6W3sTSj6TMJE",
        "outputId": "a4ba5daf-d258-427b-8e89-fc29249fca79"
      },
      "outputs": [
        {
          "output_type": "stream",
          "name": "stdout",
          "text": [
            "MaxMum price:  499500\n",
            "MinMum price:  1500\n"
          ]
        }
      ],
      "source": [
        "print('MaxMum price: ', numdata.Price.max())\n",
        "print('MinMum price: ', numdata.Price.min())"
      ]
    },
    {
      "cell_type": "code",
      "execution_count": null,
      "metadata": {
        "colab": {
          "base_uri": "https://localhost:8080/",
          "height": 300
        },
        "id": "MOnIGynbTMI7",
        "outputId": "d1e6aca7-ab95-465a-ca24-51b7d95283fc"
      },
      "outputs": [
        {
          "output_type": "execute_result",
          "data": {
            "text/plain": [
              "               Price           Year       Mileage\n",
              "count  539145.000000  539145.000000  5.391450e+05\n",
              "mean    20752.166610    2013.025310  5.476343e+04\n",
              "std     13583.398559       3.571959  4.343680e+04\n",
              "min      1500.000000    1997.000000  5.000000e+00\n",
              "25%     12746.000000    2012.000000  2.462500e+04\n",
              "50%     17898.000000    2014.000000  4.185800e+04\n",
              "75%     25995.000000    2015.000000  7.657800e+04\n",
              "max    499500.000000    2018.000000  2.856196e+06"
            ],
            "text/html": [
              "\n",
              "  <div id=\"df-ae88a743-2b5e-4119-9948-4a7ee65a12b3\">\n",
              "    <div class=\"colab-df-container\">\n",
              "      <div>\n",
              "<style scoped>\n",
              "    .dataframe tbody tr th:only-of-type {\n",
              "        vertical-align: middle;\n",
              "    }\n",
              "\n",
              "    .dataframe tbody tr th {\n",
              "        vertical-align: top;\n",
              "    }\n",
              "\n",
              "    .dataframe thead th {\n",
              "        text-align: right;\n",
              "    }\n",
              "</style>\n",
              "<table border=\"1\" class=\"dataframe\">\n",
              "  <thead>\n",
              "    <tr style=\"text-align: right;\">\n",
              "      <th></th>\n",
              "      <th>Price</th>\n",
              "      <th>Year</th>\n",
              "      <th>Mileage</th>\n",
              "    </tr>\n",
              "  </thead>\n",
              "  <tbody>\n",
              "    <tr>\n",
              "      <th>count</th>\n",
              "      <td>539145.000000</td>\n",
              "      <td>539145.000000</td>\n",
              "      <td>5.391450e+05</td>\n",
              "    </tr>\n",
              "    <tr>\n",
              "      <th>mean</th>\n",
              "      <td>20752.166610</td>\n",
              "      <td>2013.025310</td>\n",
              "      <td>5.476343e+04</td>\n",
              "    </tr>\n",
              "    <tr>\n",
              "      <th>std</th>\n",
              "      <td>13583.398559</td>\n",
              "      <td>3.571959</td>\n",
              "      <td>4.343680e+04</td>\n",
              "    </tr>\n",
              "    <tr>\n",
              "      <th>min</th>\n",
              "      <td>1500.000000</td>\n",
              "      <td>1997.000000</td>\n",
              "      <td>5.000000e+00</td>\n",
              "    </tr>\n",
              "    <tr>\n",
              "      <th>25%</th>\n",
              "      <td>12746.000000</td>\n",
              "      <td>2012.000000</td>\n",
              "      <td>2.462500e+04</td>\n",
              "    </tr>\n",
              "    <tr>\n",
              "      <th>50%</th>\n",
              "      <td>17898.000000</td>\n",
              "      <td>2014.000000</td>\n",
              "      <td>4.185800e+04</td>\n",
              "    </tr>\n",
              "    <tr>\n",
              "      <th>75%</th>\n",
              "      <td>25995.000000</td>\n",
              "      <td>2015.000000</td>\n",
              "      <td>7.657800e+04</td>\n",
              "    </tr>\n",
              "    <tr>\n",
              "      <th>max</th>\n",
              "      <td>499500.000000</td>\n",
              "      <td>2018.000000</td>\n",
              "      <td>2.856196e+06</td>\n",
              "    </tr>\n",
              "  </tbody>\n",
              "</table>\n",
              "</div>\n",
              "      <button class=\"colab-df-convert\" onclick=\"convertToInteractive('df-ae88a743-2b5e-4119-9948-4a7ee65a12b3')\"\n",
              "              title=\"Convert this dataframe to an interactive table.\"\n",
              "              style=\"display:none;\">\n",
              "        \n",
              "  <svg xmlns=\"http://www.w3.org/2000/svg\" height=\"24px\"viewBox=\"0 0 24 24\"\n",
              "       width=\"24px\">\n",
              "    <path d=\"M0 0h24v24H0V0z\" fill=\"none\"/>\n",
              "    <path d=\"M18.56 5.44l.94 2.06.94-2.06 2.06-.94-2.06-.94-.94-2.06-.94 2.06-2.06.94zm-11 1L8.5 8.5l.94-2.06 2.06-.94-2.06-.94L8.5 2.5l-.94 2.06-2.06.94zm10 10l.94 2.06.94-2.06 2.06-.94-2.06-.94-.94-2.06-.94 2.06-2.06.94z\"/><path d=\"M17.41 7.96l-1.37-1.37c-.4-.4-.92-.59-1.43-.59-.52 0-1.04.2-1.43.59L10.3 9.45l-7.72 7.72c-.78.78-.78 2.05 0 2.83L4 21.41c.39.39.9.59 1.41.59.51 0 1.02-.2 1.41-.59l7.78-7.78 2.81-2.81c.8-.78.8-2.07 0-2.86zM5.41 20L4 18.59l7.72-7.72 1.47 1.35L5.41 20z\"/>\n",
              "  </svg>\n",
              "      </button>\n",
              "      \n",
              "  <style>\n",
              "    .colab-df-container {\n",
              "      display:flex;\n",
              "      flex-wrap:wrap;\n",
              "      gap: 12px;\n",
              "    }\n",
              "\n",
              "    .colab-df-convert {\n",
              "      background-color: #E8F0FE;\n",
              "      border: none;\n",
              "      border-radius: 50%;\n",
              "      cursor: pointer;\n",
              "      display: none;\n",
              "      fill: #1967D2;\n",
              "      height: 32px;\n",
              "      padding: 0 0 0 0;\n",
              "      width: 32px;\n",
              "    }\n",
              "\n",
              "    .colab-df-convert:hover {\n",
              "      background-color: #E2EBFA;\n",
              "      box-shadow: 0px 1px 2px rgba(60, 64, 67, 0.3), 0px 1px 3px 1px rgba(60, 64, 67, 0.15);\n",
              "      fill: #174EA6;\n",
              "    }\n",
              "\n",
              "    [theme=dark] .colab-df-convert {\n",
              "      background-color: #3B4455;\n",
              "      fill: #D2E3FC;\n",
              "    }\n",
              "\n",
              "    [theme=dark] .colab-df-convert:hover {\n",
              "      background-color: #434B5C;\n",
              "      box-shadow: 0px 1px 3px 1px rgba(0, 0, 0, 0.15);\n",
              "      filter: drop-shadow(0px 1px 2px rgba(0, 0, 0, 0.3));\n",
              "      fill: #FFFFFF;\n",
              "    }\n",
              "  </style>\n",
              "\n",
              "      <script>\n",
              "        const buttonEl =\n",
              "          document.querySelector('#df-ae88a743-2b5e-4119-9948-4a7ee65a12b3 button.colab-df-convert');\n",
              "        buttonEl.style.display =\n",
              "          google.colab.kernel.accessAllowed ? 'block' : 'none';\n",
              "\n",
              "        async function convertToInteractive(key) {\n",
              "          const element = document.querySelector('#df-ae88a743-2b5e-4119-9948-4a7ee65a12b3');\n",
              "          const dataTable =\n",
              "            await google.colab.kernel.invokeFunction('convertToInteractive',\n",
              "                                                     [key], {});\n",
              "          if (!dataTable) return;\n",
              "\n",
              "          const docLinkHtml = 'Like what you see? Visit the ' +\n",
              "            '<a target=\"_blank\" href=https://colab.research.google.com/notebooks/data_table.ipynb>data table notebook</a>'\n",
              "            + ' to learn more about interactive tables.';\n",
              "          element.innerHTML = '';\n",
              "          dataTable['output_type'] = 'display_data';\n",
              "          await google.colab.output.renderOutput(dataTable, element);\n",
              "          const docLink = document.createElement('div');\n",
              "          docLink.innerHTML = docLinkHtml;\n",
              "          element.appendChild(docLink);\n",
              "        }\n",
              "      </script>\n",
              "    </div>\n",
              "  </div>\n",
              "  "
            ]
          },
          "metadata": {},
          "execution_count": 17
        }
      ],
      "source": [
        "numdata.describe()"
      ]
    },
    {
      "cell_type": "markdown",
      "metadata": {
        "id": "6v4S33kxpaMk"
      },
      "source": [
        "#Visualizing Descriptive data"
      ]
    },
    {
      "cell_type": "code",
      "execution_count": null,
      "metadata": {
        "colab": {
          "base_uri": "https://localhost:8080/",
          "height": 839
        },
        "id": "ko2fSCNwYbxE",
        "outputId": "9d828ffb-6d2f-4af9-af83-585c2393fe73"
      },
      "outputs": [
        {
          "output_type": "display_data",
          "data": {
            "text/plain": [
              "<Figure size 720x1008 with 4 Axes>"
            ],
            "image/png": "[encoded data removed]"
          },
          "metadata": {}
        }
      ],
      "source": [
        "numdata.hist(figsize=(10, 14), bins=50, xlabelsize=8, ylabelsize=8); "
      ]
    },
    {
      "cell_type": "markdown",
      "source": [
        "From the histograms we can know how numerical data relate to eah other"
      ],
      "metadata": {
        "id": "aQ8Hl9vR89IJ"
      }
    },
    {
      "cell_type": "code",
      "execution_count": null,
      "metadata": {
        "colab": {
          "base_uri": "https://localhost:8080/",
          "height": 246
        },
        "id": "_VIkYblQTMJB",
        "outputId": "fc3793de-19cb-48ec-a52e-3d1dc0be0d27"
      },
      "outputs": [
        {
          "output_type": "display_data",
          "data": {
            "text/plain": [
              "<Figure size 432x216 with 1 Axes>"
            ],
            "image/png": "[encoded data removed]"
          },
          "metadata": {}
        }
      ],
      "source": [
        "price_mill = numdata.Price\n",
        "plot_histogram(price_mill)"
      ]
    },
    {
      "cell_type": "markdown",
      "metadata": {
        "id": "TvfrE_LUTMJB"
      },
      "source": [
        "The plot indicates that the prices are skewed toward the left, with the maximum number of cars hovering between 0 and 100000.\n",
        "\n",
        "For a better perspective, let us view the distribution in the USD 0–100000 range"
      ]
    },
    {
      "cell_type": "code",
      "execution_count": null,
      "metadata": {
        "colab": {
          "base_uri": "https://localhost:8080/",
          "height": 246
        },
        "id": "peV0ZEmZTMJC",
        "outputId": "d7647622-eb90-4048-95e4-594f6f8721e3"
      },
      "outputs": [
        {
          "output_type": "display_data",
          "data": {
            "text/plain": [
              "<Figure size 432x216 with 1 Axes>"
            ],
            "image/png": "[encoded data removed]"
          },
          "metadata": {}
        }
      ],
      "source": [
        "plot_histogram(numdata.Price[numdata.Price<100000])"
      ]
    },
    {
      "cell_type": "markdown",
      "metadata": {
        "id": "TcemVlIOpVsZ"
      },
      "source": [
        "Apparently, a large number of cars in the database are priced between at 12995 . Here is code that proves this:"
      ]
    },
    {
      "cell_type": "code",
      "execution_count": null,
      "metadata": {
        "colab": {
          "base_uri": "https://localhost:8080/"
        },
        "id": "rvL1ZWwbTMJD",
        "outputId": "68812e54-66cf-4c48-83e6-3b817f80173a"
      },
      "outputs": [
        {
          "output_type": "stream",
          "name": "stdout",
          "text": [
            "Price:  14995 \n",
            "Counts:  3465\n",
            "\n",
            "Ten most frequently occurring prices:\n",
            "\n",
            "14995    3465\n",
            "13995    3306\n",
            "12995    3291\n",
            "9995     3173\n",
            "15995    2998\n",
            "16995    2972\n",
            "10995    2966\n",
            "11995    2916\n",
            "8995     2907\n",
            "7995     2534\n",
            "Name: Price, dtype: int64\n"
          ]
        }
      ],
      "source": [
        "price_counts = numdata.Price.value_counts()\n",
        "print('Price: ', price_counts.index[0], '\\nCounts: ', price_counts.values[0])\n",
        "print('\\nTen most frequently occurring prices:\\n')\n",
        "print(price_counts[:10])"
      ]
    },
    {
      "cell_type": "markdown",
      "metadata": {
        "id": "lNYzFthrTMJJ"
      },
      "source": [
        "## How make is Interelated with Prices"
      ]
    },
    {
      "cell_type": "code",
      "execution_count": null,
      "metadata": {
        "colab": {
          "base_uri": "https://localhost:8080/",
          "height": 305
        },
        "id": "U1bZL96ETMJK",
        "outputId": "aa76648b-5a20-4c6b-fdcd-ff866279747a"
      },
      "outputs": [
        {
          "output_type": "display_data",
          "data": {
            "text/plain": [
              "<Figure size 1440x360 with 1 Axes>"
            ],
            "image/png": "[encoded data removed]"
          },
          "metadata": {}
        }
      ],
      "source": [
        "plt.figure(figsize=(20, 5))\n",
        "plt.xticks(rotation=90)\n",
        "sns.barplot(x='Make', y='Price', data=maindf);"
      ]
    },
    {
      "cell_type": "markdown",
      "metadata": {
        "id": "8v_RyqMXirHM"
      },
      "source": [
        "from the grap MCLarren cost high that other cars"
      ]
    },
    {
      "cell_type": "markdown",
      "source": [
        "#How state is related to price"
      ],
      "metadata": {
        "id": "ejV7DVMs_NDZ"
      }
    },
    {
      "cell_type": "code",
      "source": [
        "plt.figure(figsize=(20, 5))\n",
        "plt.xticks(rotation=90)\n",
        "sns.barplot(x='State', y='Price', data=maindf);"
      ],
      "metadata": {
        "colab": {
          "base_uri": "https://localhost:8080/",
          "height": 261
        },
        "id": "IXV9h4Cd_Mfn",
        "outputId": "b3d34588-3e5f-49f0-ba51-5172a487582d"
      },
      "execution_count": null,
      "outputs": [
        {
          "output_type": "display_data",
          "data": {
            "text/plain": [
              "<Figure size 1440x360 with 1 Axes>"
            ],
            "image/png": "[encoded data removed]"
          },
          "metadata": {}
        }
      ]
    },
    {
      "cell_type": "markdown",
      "source": [
        "#How Year relate to Prices"
      ],
      "metadata": {
        "id": "1GjDMxgp9SGk"
      }
    },
    {
      "cell_type": "code",
      "execution_count": null,
      "metadata": {
        "colab": {
          "base_uri": "https://localhost:8080/",
          "height": 303
        },
        "id": "LgtkGeONTMJL",
        "outputId": "82a77f2f-5cf5-4d49-ae78-495cd177d112"
      },
      "outputs": [
        {
          "output_type": "display_data",
          "data": {
            "text/plain": [
              "<Figure size 720x288 with 1 Axes>"
            ],
            "image/png": "[encoded data removed]"
          },
          "metadata": {}
        }
      ],
      "source": [
        "year = maindf.Year.astype(np.int64)\n",
        "price = maindf.Price\n",
        "plt.figure(figsize=(10, 4))\n",
        "plt.xticks(rotation=90)\n",
        "sns.barplot(year, price);"
      ]
    },
    {
      "cell_type": "markdown",
      "source": [
        "The price went high with the years"
      ],
      "metadata": {
        "id": "Q-r2Nq6RyNde"
      }
    },
    {
      "cell_type": "markdown",
      "metadata": {
        "id": "bTCCaNvzTMJL"
      },
      "source": [
        "## How Mileage compares to prices of cars"
      ]
    },
    {
      "cell_type": "code",
      "execution_count": null,
      "metadata": {
        "colab": {
          "base_uri": "https://localhost:8080/",
          "height": 271
        },
        "id": "JSXt7YK0TMJL",
        "outputId": "189ce4e5-ff08-40d8-c02a-bfa0d353dd91"
      },
      "outputs": [
        {
          "output_type": "display_data",
          "data": {
            "text/plain": [
              "<Figure size 1080x288 with 1 Axes>"
            ],
            "image/png": "[encoded data removed]"
          },
          "metadata": {}
        }
      ],
      "source": [
        "Mileage = maindf.Mileage.astype(np.int64)\n",
        "price = maindf.Price\n",
        "plt.figure(figsize=(15, 4))\n",
        "plt.xticks(rotation=180)\n",
        "sns.scatterplot(Mileage, price);"
      ]
    },
    {
      "cell_type": "markdown",
      "metadata": {
        "id": "QM5b9LJQYmZm"
      },
      "source": [
        "From the scatter plot graph we can conclude that the less the milliage the higher the price or the higher the milleage the less the price"
      ]
    },
    {
      "cell_type": "code",
      "execution_count": null,
      "metadata": {
        "colab": {
          "base_uri": "https://localhost:8080/",
          "height": 143
        },
        "id": "Dtl_Abz6TMJM",
        "outputId": "c7b9fdd8-ee3f-4137-9e97-78481e70a13b"
      },
      "outputs": [
        {
          "output_type": "execute_result",
          "data": {
            "text/plain": [
              "            Price      Year   Mileage\n",
              "Price    1.000000  0.415143 -0.435322\n",
              "Year     0.415143  1.000000 -0.766524\n",
              "Mileage -0.435322 -0.766524  1.000000"
            ],
            "text/html": [
              "\n",
              "  <div id=\"df-b48906b9-c2a2-445e-8a9c-5afb0db7062b\">\n",
              "    <div class=\"colab-df-container\">\n",
              "      <div>\n",
              "<style scoped>\n",
              "    .dataframe tbody tr th:only-of-type {\n",
              "        vertical-align: middle;\n",
              "    }\n",
              "\n",
              "    .dataframe tbody tr th {\n",
              "        vertical-align: top;\n",
              "    }\n",
              "\n",
              "    .dataframe thead th {\n",
              "        text-align: right;\n",
              "    }\n",
              "</style>\n",
              "<table border=\"1\" class=\"dataframe\">\n",
              "  <thead>\n",
              "    <tr style=\"text-align: right;\">\n",
              "      <th></th>\n",
              "      <th>Price</th>\n",
              "      <th>Year</th>\n",
              "      <th>Mileage</th>\n",
              "    </tr>\n",
              "  </thead>\n",
              "  <tbody>\n",
              "    <tr>\n",
              "      <th>Price</th>\n",
              "      <td>1.000000</td>\n",
              "      <td>0.415143</td>\n",
              "      <td>-0.435322</td>\n",
              "    </tr>\n",
              "    <tr>\n",
              "      <th>Year</th>\n",
              "      <td>0.415143</td>\n",
              "      <td>1.000000</td>\n",
              "      <td>-0.766524</td>\n",
              "    </tr>\n",
              "    <tr>\n",
              "      <th>Mileage</th>\n",
              "      <td>-0.435322</td>\n",
              "      <td>-0.766524</td>\n",
              "      <td>1.000000</td>\n",
              "    </tr>\n",
              "  </tbody>\n",
              "</table>\n",
              "</div>\n",
              "      <button class=\"colab-df-convert\" onclick=\"convertToInteractive('df-b48906b9-c2a2-445e-8a9c-5afb0db7062b')\"\n",
              "              title=\"Convert this dataframe to an interactive table.\"\n",
              "              style=\"display:none;\">\n",
              "        \n",
              "  <svg xmlns=\"http://www.w3.org/2000/svg\" height=\"24px\"viewBox=\"0 0 24 24\"\n",
              "       width=\"24px\">\n",
              "    <path d=\"M0 0h24v24H0V0z\" fill=\"none\"/>\n",
              "    <path d=\"M18.56 5.44l.94 2.06.94-2.06 2.06-.94-2.06-.94-.94-2.06-.94 2.06-2.06.94zm-11 1L8.5 8.5l.94-2.06 2.06-.94-2.06-.94L8.5 2.5l-.94 2.06-2.06.94zm10 10l.94 2.06.94-2.06 2.06-.94-2.06-.94-.94-2.06-.94 2.06-2.06.94z\"/><path d=\"M17.41 7.96l-1.37-1.37c-.4-.4-.92-.59-1.43-.59-.52 0-1.04.2-1.43.59L10.3 9.45l-7.72 7.72c-.78.78-.78 2.05 0 2.83L4 21.41c.39.39.9.59 1.41.59.51 0 1.02-.2 1.41-.59l7.78-7.78 2.81-2.81c.8-.78.8-2.07 0-2.86zM5.41 20L4 18.59l7.72-7.72 1.47 1.35L5.41 20z\"/>\n",
              "  </svg>\n",
              "      </button>\n",
              "      \n",
              "  <style>\n",
              "    .colab-df-container {\n",
              "      display:flex;\n",
              "      flex-wrap:wrap;\n",
              "      gap: 12px;\n",
              "    }\n",
              "\n",
              "    .colab-df-convert {\n",
              "      background-color: #E8F0FE;\n",
              "      border: none;\n",
              "      border-radius: 50%;\n",
              "      cursor: pointer;\n",
              "      display: none;\n",
              "      fill: #1967D2;\n",
              "      height: 32px;\n",
              "      padding: 0 0 0 0;\n",
              "      width: 32px;\n",
              "    }\n",
              "\n",
              "    .colab-df-convert:hover {\n",
              "      background-color: #E2EBFA;\n",
              "      box-shadow: 0px 1px 2px rgba(60, 64, 67, 0.3), 0px 1px 3px 1px rgba(60, 64, 67, 0.15);\n",
              "      fill: #174EA6;\n",
              "    }\n",
              "\n",
              "    [theme=dark] .colab-df-convert {\n",
              "      background-color: #3B4455;\n",
              "      fill: #D2E3FC;\n",
              "    }\n",
              "\n",
              "    [theme=dark] .colab-df-convert:hover {\n",
              "      background-color: #434B5C;\n",
              "      box-shadow: 0px 1px 3px 1px rgba(0, 0, 0, 0.15);\n",
              "      filter: drop-shadow(0px 1px 2px rgba(0, 0, 0, 0.3));\n",
              "      fill: #FFFFFF;\n",
              "    }\n",
              "  </style>\n",
              "\n",
              "      <script>\n",
              "        const buttonEl =\n",
              "          document.querySelector('#df-b48906b9-c2a2-445e-8a9c-5afb0db7062b button.colab-df-convert');\n",
              "        buttonEl.style.display =\n",
              "          google.colab.kernel.accessAllowed ? 'block' : 'none';\n",
              "\n",
              "        async function convertToInteractive(key) {\n",
              "          const element = document.querySelector('#df-b48906b9-c2a2-445e-8a9c-5afb0db7062b');\n",
              "          const dataTable =\n",
              "            await google.colab.kernel.invokeFunction('convertToInteractive',\n",
              "                                                     [key], {});\n",
              "          if (!dataTable) return;\n",
              "\n",
              "          const docLinkHtml = 'Like what you see? Visit the ' +\n",
              "            '<a target=\"_blank\" href=https://colab.research.google.com/notebooks/data_table.ipynb>data table notebook</a>'\n",
              "            + ' to learn more about interactive tables.';\n",
              "          element.innerHTML = '';\n",
              "          dataTable['output_type'] = 'display_data';\n",
              "          await google.colab.output.renderOutput(dataTable, element);\n",
              "          const docLink = document.createElement('div');\n",
              "          docLink.innerHTML = docLinkHtml;\n",
              "          element.appendChild(docLink);\n",
              "        }\n",
              "      </script>\n",
              "    </div>\n",
              "  </div>\n",
              "  "
            ]
          },
          "metadata": {},
          "execution_count": 26
        }
      ],
      "source": [
        "corr=maindf.corr()\n",
        "corr"
      ]
    },
    {
      "cell_type": "code",
      "execution_count": null,
      "metadata": {
        "colab": {
          "base_uri": "https://localhost:8080/",
          "height": 615
        },
        "id": "9e3Gp4XWTMJM",
        "outputId": "87acac93-0202-4b1d-fab0-e8c2e951e0eb"
      },
      "outputs": [
        {
          "output_type": "execute_result",
          "data": {
            "text/plain": [
              "<matplotlib.axes._subplots.AxesSubplot at 0x7fccfb16ee50>"
            ]
          },
          "metadata": {},
          "execution_count": 27
        },
        {
          "output_type": "display_data",
          "data": {
            "text/plain": [
              "<Figure size 1080x720 with 2 Axes>"
            ],
            "image/png": "[encoded data removed]"
          },
          "metadata": {}
        }
      ],
      "source": [
        "plt.figure(figsize = (15,10))\n",
        "sns.heatmap(corr,annot=True)"
      ]
    },
    {
      "cell_type": "markdown",
      "source": [
        "Correlation helps us know how much strong the numerical data is related to each other"
      ],
      "metadata": {
        "id": "6VD_lfvB9Z5P"
      }
    },
    {
      "cell_type": "code",
      "source": [
        "numdata.info"
      ],
      "metadata": {
        "colab": {
          "base_uri": "https://localhost:8080/"
        },
        "id": "n5jMhlw0zDGq",
        "outputId": "4adb3826-a7c1-4d71-81a3-f3f86cb3cd24"
      },
      "execution_count": null,
      "outputs": [
        {
          "output_type": "execute_result",
          "data": {
            "text/plain": [
              "<bound method DataFrame.info of         Price  Year  Mileage\n",
              "0        8995  2014    35725\n",
              "1       10888  2013    19606\n",
              "2        8995  2013    48851\n",
              "3       10999  2014    39922\n",
              "4       14799  2016    22142\n",
              "...       ...   ...      ...\n",
              "539140  54995  2017    10913\n",
              "539141  61990  2017     2201\n",
              "539142  80895  2017       10\n",
              "539143  72260  2017     3201\n",
              "539144  55999  2016    28941\n",
              "\n",
              "[539145 rows x 3 columns]>"
            ]
          },
          "metadata": {},
          "execution_count": 28
        }
      ]
    },
    {
      "cell_type": "markdown",
      "metadata": {
        "id": "pS-SfetHbTVE"
      },
      "source": [
        "# Categorical Features Analysis\n"
      ]
    },
    {
      "cell_type": "markdown",
      "source": [
        "I identfied the categorical data by using object"
      ],
      "metadata": {
        "id": "_PB0nI1_9oU1"
      }
    },
    {
      "cell_type": "code",
      "execution_count": null,
      "metadata": {
        "colab": {
          "base_uri": "https://localhost:8080/",
          "height": 424
        },
        "id": "N8eyH9fabSex",
        "outputId": "a26b3ac5-36d7-4af4-f6f2-894469e8763a"
      },
      "outputs": [
        {
          "output_type": "execute_result",
          "data": {
            "text/plain": [
              "                    City State                Vin   Make         Model\n",
              "0                El Paso    TX  19VDE2E53EE000083  Acura    ILX6-Speed\n",
              "1       Long Island City    NY  19VDE1F52DE012636  Acura    ILX5-Speed\n",
              "2                El Paso    TX  19VDE2E52DE000025  Acura    ILX6-Speed\n",
              "3                Windsor    CO  19VDE1F71EE003817  Acura    ILX5-Speed\n",
              "4                 Lindon    UT  19UDE2F32GA001284  Acura  ILXAutomatic\n",
              "...                  ...   ...                ...    ...           ...\n",
              "539140            Berwyn    PA  YV1A22ML5H1004169  Volvo         S90T6\n",
              "539141     Winston Salem    NC  YV1A22ML0H1006850  Volvo         S90T6\n",
              "539142      Corte Madera    CA  YV4BC0ZX0H1124188  Volvo        XC90T8\n",
              "539143         Englewood    NJ  YV4A22PL3H1186162  Volvo        XC90T6\n",
              "539144      Fort Collins    CO  YV4A22PL4G1000868  Volvo       XC90AWD\n",
              "\n",
              "[539145 rows x 5 columns]"
            ],
            "text/html": [
              "\n",
              "  <div id=\"df-ac17c461-81bd-4d36-8014-3baaacd0b938\">\n",
              "    <div class=\"colab-df-container\">\n",
              "      <div>\n",
              "<style scoped>\n",
              "    .dataframe tbody tr th:only-of-type {\n",
              "        vertical-align: middle;\n",
              "    }\n",
              "\n",
              "    .dataframe tbody tr th {\n",
              "        vertical-align: top;\n",
              "    }\n",
              "\n",
              "    .dataframe thead th {\n",
              "        text-align: right;\n",
              "    }\n",
              "</style>\n",
              "<table border=\"1\" class=\"dataframe\">\n",
              "  <thead>\n",
              "    <tr style=\"text-align: right;\">\n",
              "      <th></th>\n",
              "      <th>City</th>\n",
              "      <th>State</th>\n",
              "      <th>Vin</th>\n",
              "      <th>Make</th>\n",
              "      <th>Model</th>\n",
              "    </tr>\n",
              "  </thead>\n",
              "  <tbody>\n",
              "    <tr>\n",
              "      <th>0</th>\n",
              "      <td>El Paso</td>\n",
              "      <td>TX</td>\n",
              "      <td>19VDE2E53EE000083</td>\n",
              "      <td>Acura</td>\n",
              "      <td>ILX6-Speed</td>\n",
              "    </tr>\n",
              "    <tr>\n",
              "      <th>1</th>\n",
              "      <td>Long Island City</td>\n",
              "      <td>NY</td>\n",
              "      <td>19VDE1F52DE012636</td>\n",
              "      <td>Acura</td>\n",
              "      <td>ILX5-Speed</td>\n",
              "    </tr>\n",
              "    <tr>\n",
              "      <th>2</th>\n",
              "      <td>El Paso</td>\n",
              "      <td>TX</td>\n",
              "      <td>19VDE2E52DE000025</td>\n",
              "      <td>Acura</td>\n",
              "      <td>ILX6-Speed</td>\n",
              "    </tr>\n",
              "    <tr>\n",
              "      <th>3</th>\n",
              "      <td>Windsor</td>\n",
              "      <td>CO</td>\n",
              "      <td>19VDE1F71EE003817</td>\n",
              "      <td>Acura</td>\n",
              "      <td>ILX5-Speed</td>\n",
              "    </tr>\n",
              "    <tr>\n",
              "      <th>4</th>\n",
              "      <td>Lindon</td>\n",
              "      <td>UT</td>\n",
              "      <td>19UDE2F32GA001284</td>\n",
              "      <td>Acura</td>\n",
              "      <td>ILXAutomatic</td>\n",
              "    </tr>\n",
              "    <tr>\n",
              "      <th>...</th>\n",
              "      <td>...</td>\n",
              "      <td>...</td>\n",
              "      <td>...</td>\n",
              "      <td>...</td>\n",
              "      <td>...</td>\n",
              "    </tr>\n",
              "    <tr>\n",
              "      <th>539140</th>\n",
              "      <td>Berwyn</td>\n",
              "      <td>PA</td>\n",
              "      <td>YV1A22ML5H1004169</td>\n",
              "      <td>Volvo</td>\n",
              "      <td>S90T6</td>\n",
              "    </tr>\n",
              "    <tr>\n",
              "      <th>539141</th>\n",
              "      <td>Winston Salem</td>\n",
              "      <td>NC</td>\n",
              "      <td>YV1A22ML0H1006850</td>\n",
              "      <td>Volvo</td>\n",
              "      <td>S90T6</td>\n",
              "    </tr>\n",
              "    <tr>\n",
              "      <th>539142</th>\n",
              "      <td>Corte Madera</td>\n",
              "      <td>CA</td>\n",
              "      <td>YV4BC0ZX0H1124188</td>\n",
              "      <td>Volvo</td>\n",
              "      <td>XC90T8</td>\n",
              "    </tr>\n",
              "    <tr>\n",
              "      <th>539143</th>\n",
              "      <td>Englewood</td>\n",
              "      <td>NJ</td>\n",
              "      <td>YV4A22PL3H1186162</td>\n",
              "      <td>Volvo</td>\n",
              "      <td>XC90T6</td>\n",
              "    </tr>\n",
              "    <tr>\n",
              "      <th>539144</th>\n",
              "      <td>Fort Collins</td>\n",
              "      <td>CO</td>\n",
              "      <td>YV4A22PL4G1000868</td>\n",
              "      <td>Volvo</td>\n",
              "      <td>XC90AWD</td>\n",
              "    </tr>\n",
              "  </tbody>\n",
              "</table>\n",
              "<p>539145 rows × 5 columns</p>\n",
              "</div>\n",
              "      <button class=\"colab-df-convert\" onclick=\"convertToInteractive('df-ac17c461-81bd-4d36-8014-3baaacd0b938')\"\n",
              "              title=\"Convert this dataframe to an interactive table.\"\n",
              "              style=\"display:none;\">\n",
              "        \n",
              "  <svg xmlns=\"http://www.w3.org/2000/svg\" height=\"24px\"viewBox=\"0 0 24 24\"\n",
              "       width=\"24px\">\n",
              "    <path d=\"M0 0h24v24H0V0z\" fill=\"none\"/>\n",
              "    <path d=\"M18.56 5.44l.94 2.06.94-2.06 2.06-.94-2.06-.94-.94-2.06-.94 2.06-2.06.94zm-11 1L8.5 8.5l.94-2.06 2.06-.94-2.06-.94L8.5 2.5l-.94 2.06-2.06.94zm10 10l.94 2.06.94-2.06 2.06-.94-2.06-.94-.94-2.06-.94 2.06-2.06.94z\"/><path d=\"M17.41 7.96l-1.37-1.37c-.4-.4-.92-.59-1.43-.59-.52 0-1.04.2-1.43.59L10.3 9.45l-7.72 7.72c-.78.78-.78 2.05 0 2.83L4 21.41c.39.39.9.59 1.41.59.51 0 1.02-.2 1.41-.59l7.78-7.78 2.81-2.81c.8-.78.8-2.07 0-2.86zM5.41 20L4 18.59l7.72-7.72 1.47 1.35L5.41 20z\"/>\n",
              "  </svg>\n",
              "      </button>\n",
              "      \n",
              "  <style>\n",
              "    .colab-df-container {\n",
              "      display:flex;\n",
              "      flex-wrap:wrap;\n",
              "      gap: 12px;\n",
              "    }\n",
              "\n",
              "    .colab-df-convert {\n",
              "      background-color: #E8F0FE;\n",
              "      border: none;\n",
              "      border-radius: 50%;\n",
              "      cursor: pointer;\n",
              "      display: none;\n",
              "      fill: #1967D2;\n",
              "      height: 32px;\n",
              "      padding: 0 0 0 0;\n",
              "      width: 32px;\n",
              "    }\n",
              "\n",
              "    .colab-df-convert:hover {\n",
              "      background-color: #E2EBFA;\n",
              "      box-shadow: 0px 1px 2px rgba(60, 64, 67, 0.3), 0px 1px 3px 1px rgba(60, 64, 67, 0.15);\n",
              "      fill: #174EA6;\n",
              "    }\n",
              "\n",
              "    [theme=dark] .colab-df-convert {\n",
              "      background-color: #3B4455;\n",
              "      fill: #D2E3FC;\n",
              "    }\n",
              "\n",
              "    [theme=dark] .colab-df-convert:hover {\n",
              "      background-color: #434B5C;\n",
              "      box-shadow: 0px 1px 3px 1px rgba(0, 0, 0, 0.15);\n",
              "      filter: drop-shadow(0px 1px 2px rgba(0, 0, 0, 0.3));\n",
              "      fill: #FFFFFF;\n",
              "    }\n",
              "  </style>\n",
              "\n",
              "      <script>\n",
              "        const buttonEl =\n",
              "          document.querySelector('#df-ac17c461-81bd-4d36-8014-3baaacd0b938 button.colab-df-convert');\n",
              "        buttonEl.style.display =\n",
              "          google.colab.kernel.accessAllowed ? 'block' : 'none';\n",
              "\n",
              "        async function convertToInteractive(key) {\n",
              "          const element = document.querySelector('#df-ac17c461-81bd-4d36-8014-3baaacd0b938');\n",
              "          const dataTable =\n",
              "            await google.colab.kernel.invokeFunction('convertToInteractive',\n",
              "                                                     [key], {});\n",
              "          if (!dataTable) return;\n",
              "\n",
              "          const docLinkHtml = 'Like what you see? Visit the ' +\n",
              "            '<a target=\"_blank\" href=https://colab.research.google.com/notebooks/data_table.ipynb>data table notebook</a>'\n",
              "            + ' to learn more about interactive tables.';\n",
              "          element.innerHTML = '';\n",
              "          dataTable['output_type'] = 'display_data';\n",
              "          await google.colab.output.renderOutput(dataTable, element);\n",
              "          const docLink = document.createElement('div');\n",
              "          docLink.innerHTML = docLinkHtml;\n",
              "          element.appendChild(docLink);\n",
              "        }\n",
              "      </script>\n",
              "    </div>\n",
              "  </div>\n",
              "  "
            ]
          },
          "metadata": {},
          "execution_count": 29
        }
      ],
      "source": [
        " catdata= maindf.select_dtypes(include=['object']).copy()\n",
        " catdata"
      ]
    },
    {
      "cell_type": "code",
      "source": [
        "catdata.info"
      ],
      "metadata": {
        "colab": {
          "base_uri": "https://localhost:8080/"
        },
        "id": "_S9ADo6tziKG",
        "outputId": "d59ef033-74a9-41c2-9979-2ab0e2185c5a"
      },
      "execution_count": null,
      "outputs": [
        {
          "output_type": "execute_result",
          "data": {
            "text/plain": [
              "<bound method DataFrame.info of                     City State                Vin   Make         Model\n",
              "0                El Paso    TX  19VDE2E53EE000083  Acura    ILX6-Speed\n",
              "1       Long Island City    NY  19VDE1F52DE012636  Acura    ILX5-Speed\n",
              "2                El Paso    TX  19VDE2E52DE000025  Acura    ILX6-Speed\n",
              "3                Windsor    CO  19VDE1F71EE003817  Acura    ILX5-Speed\n",
              "4                 Lindon    UT  19UDE2F32GA001284  Acura  ILXAutomatic\n",
              "...                  ...   ...                ...    ...           ...\n",
              "539140            Berwyn    PA  YV1A22ML5H1004169  Volvo         S90T6\n",
              "539141     Winston Salem    NC  YV1A22ML0H1006850  Volvo         S90T6\n",
              "539142      Corte Madera    CA  YV4BC0ZX0H1124188  Volvo        XC90T8\n",
              "539143         Englewood    NJ  YV4A22PL3H1186162  Volvo        XC90T6\n",
              "539144      Fort Collins    CO  YV4A22PL4G1000868  Volvo       XC90AWD\n",
              "\n",
              "[539145 rows x 5 columns]>"
            ]
          },
          "metadata": {},
          "execution_count": 30
        }
      ]
    },
    {
      "cell_type": "markdown",
      "source": [
        "Categorical data have same rows that Numerucal colums"
      ],
      "metadata": {
        "id": "0M9ABaL5zo7m"
      }
    },
    {
      "cell_type": "markdown",
      "metadata": {
        "id": "p7C5vpi6cT75"
      },
      "source": [
        "#### Checking missing values"
      ]
    },
    {
      "cell_type": "code",
      "execution_count": null,
      "metadata": {
        "colab": {
          "base_uri": "https://localhost:8080/"
        },
        "id": "uX35mNMkcLeF",
        "outputId": "e1ebd017-dd1d-4dd7-b8d0-6376dea4e18d"
      },
      "outputs": [
        {
          "output_type": "stream",
          "name": "stdout",
          "text": [
            "City     0\n",
            "State    0\n",
            "Vin      0\n",
            "Make     0\n",
            "Model    0\n",
            "dtype: int64\n"
          ]
        }
      ],
      "source": [
        "print(catdata.isnull().sum())"
      ]
    },
    {
      "cell_type": "markdown",
      "metadata": {
        "id": "TTCp8Nc2clxh"
      },
      "source": [
        "###Lets know what each of our colums contain"
      ]
    },
    {
      "cell_type": "code",
      "execution_count": null,
      "metadata": {
        "colab": {
          "base_uri": "https://localhost:8080/"
        },
        "id": "BSY1WQcMc98_",
        "outputId": "d7388132-7ec5-49f5-9a59-c0a6c4de98d2"
      },
      "outputs": [
        {
          "output_type": "stream",
          "name": "stdout",
          "text": [
            " TX    61833\n",
            " CA    52699\n",
            " FL    49687\n",
            " GA    24219\n",
            " IL    23615\n",
            " NC    23433\n",
            " VA    21956\n",
            " NY    18149\n",
            " NJ    17353\n",
            " PA    17292\n",
            " AZ    14832\n",
            " CO    14654\n",
            " OH    14326\n",
            " WA    13975\n",
            " TN    11603\n",
            " MA    10752\n",
            " MD    10500\n",
            " IN     9565\n",
            " MO     9341\n",
            " KY     9195\n",
            " AL     8085\n",
            " CT     6713\n",
            " MI     6700\n",
            " OR     6573\n",
            " MN     6550\n",
            " SC     6437\n",
            " UT     6270\n",
            " WI     6171\n",
            " LA     5574\n",
            " OK     5526\n",
            " KS     4870\n",
            " NV     4575\n",
            " MS     4076\n",
            " AR     3961\n",
            " NH     3695\n",
            " NM     3141\n",
            " NE     2983\n",
            " IA     2799\n",
            " ID     2281\n",
            " HI     2146\n",
            " DE     1449\n",
            " MT     1350\n",
            " ME     1346\n",
            " AK     1219\n",
            " RI     1124\n",
            " WV      984\n",
            " SD      883\n",
            " VT      724\n",
            " ND      553\n",
            " Fl      525\n",
            " WY      396\n",
            " Va      121\n",
            " Md       92\n",
            " ga       77\n",
            " Ga       65\n",
            " Az       52\n",
            " Oh       35\n",
            " DC       23\n",
            " Ca       22\n",
            "Name: State, dtype: int64\n"
          ]
        }
      ],
      "source": [
        "print(catdata['State'].value_counts())"
      ]
    },
    {
      "cell_type": "code",
      "execution_count": null,
      "metadata": {
        "colab": {
          "base_uri": "https://localhost:8080/"
        },
        "id": "dl2F7hgkc-Sa",
        "outputId": "7816f24b-6e2a-490a-db78-e0c4818e6742"
      },
      "outputs": [
        {
          "output_type": "stream",
          "name": "stdout",
          "text": [
            "1G1JC6SH8E4194609    2\n",
            "1FADP3F24GL320976    2\n",
            "3FADP4BJ5GM148345    2\n",
            "2G1FB1E32F9284364    2\n",
            "1FADP3K2XHL216581    2\n",
            "                    ..\n",
            "3FADP4EJ8HM129009    1\n",
            "3FAHP0HA2CR332768    1\n",
            "3FADP4FJ5HM139205    1\n",
            "3FA6P0H92ER114992    1\n",
            "YV4A22PL4G1000868    1\n",
            "Name: Vin, Length: 539126, dtype: int64\n"
          ]
        }
      ],
      "source": [
        "print(catdata['Vin'].value_counts())"
      ]
    },
    {
      "cell_type": "code",
      "execution_count": null,
      "metadata": {
        "colab": {
          "base_uri": "https://localhost:8080/"
        },
        "id": "2LOPHiqbc-jC",
        "outputId": "2de35505-c5a7-4cae-b8ed-efb74bbdce36"
      },
      "outputs": [
        {
          "output_type": "stream",
          "name": "stdout",
          "text": [
            "Chevrolet        65115\n",
            "Ford             62640\n",
            "Toyota           45441\n",
            "Nissan           42834\n",
            "BMW              32415\n",
            "Honda            30800\n",
            "Jeep             24204\n",
            "Hyundai          23050\n",
            "Dodge            22579\n",
            "GMC              18008\n",
            "Kia              17281\n",
            "Mercedes-Benz    16787\n",
            "Volkswagen       14713\n",
            "Audi             12618\n",
            "Acura            11049\n",
            "Lexus            10891\n",
            "Chrysler         10201\n",
            "Subaru           10099\n",
            "Cadillac          9376\n",
            "Mazda             8684\n",
            "Buick             7654\n",
            "INFINITI          7366\n",
            "Ram               6376\n",
            "Lincoln           4396\n",
            "Volvo             2985\n",
            "Mitsubishi        2787\n",
            "MINI              2678\n",
            "Land              2505\n",
            "Porsche           2492\n",
            "Scion             2024\n",
            "Pontiac           1356\n",
            "Jaguar            1290\n",
            "FIAT              1194\n",
            "Mercury            815\n",
            "Saturn             778\n",
            "HUMMER             654\n",
            "Maserati           634\n",
            "smart              504\n",
            "Bentley            367\n",
            "Suzuki             263\n",
            "Saab               203\n",
            "Ferrari            192\n",
            "Tesla              151\n",
            "Aston              149\n",
            "Oldsmobile         101\n",
            "Lamborghini         81\n",
            "Isuzu               68\n",
            "Rolls-Royce         60\n",
            "Genesis             53\n",
            "Alfa                44\n",
            "Plymouth            37\n",
            "Lotus               30\n",
            "McLaren             25\n",
            "AM                  19\n",
            "Fisker              14\n",
            "Freightliner         7\n",
            "Maybach              7\n",
            "Geo                  1\n",
            "Name: Make, dtype: int64\n"
          ]
        }
      ],
      "source": [
        "print(catdata['Make'].value_counts())"
      ]
    },
    {
      "cell_type": "code",
      "execution_count": null,
      "metadata": {
        "colab": {
          "base_uri": "https://localhost:8080/"
        },
        "id": "cYJFKuVDdMOg",
        "outputId": "508231fd-b235-42b8-d145-ee071414a821"
      },
      "outputs": [
        {
          "output_type": "stream",
          "name": "stdout",
          "text": [
            "Silverado      15811\n",
            "3              11131\n",
            "Grand          10898\n",
            "Accord          8484\n",
            "F-1504WD        7358\n",
            "               ...  \n",
            "3500Last           1\n",
            "LHS4dr             1\n",
            "4500               1\n",
            "1500HFE            1\n",
            "V60Polestar        1\n",
            "Name: Model, Length: 2579, dtype: int64\n"
          ]
        }
      ],
      "source": [
        "print(catdata['Model'].value_counts())"
      ]
    },
    {
      "cell_type": "code",
      "execution_count": null,
      "metadata": {
        "colab": {
          "base_uri": "https://localhost:8080/"
        },
        "id": "euGHGrNzc5XW",
        "outputId": "42a33f87-6a1e-463e-c216-96cd546d7373"
      },
      "outputs": [
        {
          "output_type": "stream",
          "name": "stdout",
          "text": [
            "Houston                 8810\n",
            "San Antonio             5115\n",
            "Louisville              4392\n",
            "Jacksonville            4004\n",
            "Orlando                 3743\n",
            "                        ... \n",
            "Los Banos                  3\n",
            "Royston                    2\n",
            "White River Junction       2\n",
            "Holbrook                   2\n",
            "Port Jervis                1\n",
            "Name: City, Length: 2553, dtype: int64\n"
          ]
        }
      ],
      "source": [
        "print(catdata['City'].value_counts())"
      ]
    },
    {
      "cell_type": "markdown",
      "metadata": {
        "id": "dUIMq_FMeVki"
      },
      "source": [
        "# Visualize Our categorical data"
      ]
    },
    {
      "cell_type": "code",
      "execution_count": null,
      "metadata": {
        "colab": {
          "base_uri": "https://localhost:8080/",
          "height": 359
        },
        "id": "dXhXbZORTMJJ",
        "outputId": "2f4259d8-d841-4d0a-87bb-c3b89e3db80e"
      },
      "outputs": [
        {
          "output_type": "display_data",
          "data": {
            "text/plain": [
              "<Figure size 720x288 with 1 Axes>"
            ],
            "image/png": "[encoded data removed]"
          },
          "metadata": {}
        }
      ],
      "source": [
        "plt.figure(figsize=(10, 4))\n",
        "plt.xticks(rotation=90)\n",
        "sns.countplot(catdata.Make);"
      ]
    },
    {
      "cell_type": "code",
      "execution_count": null,
      "metadata": {
        "colab": {
          "base_uri": "https://localhost:8080/",
          "height": 301
        },
        "id": "el2ICHyRfJyC",
        "outputId": "4f6dff55-d8f5-4f60-a8dc-2f1e686bb2ed"
      },
      "outputs": [
        {
          "output_type": "display_data",
          "data": {
            "text/plain": [
              "<Figure size 1440x432 with 1 Axes>"
            ],
            "image/png": "[encoded data removed]"
          },
          "metadata": {}
        }
      ],
      "source": [
        "plt.figure(figsize=(20, 6))\n",
        "plt.xticks(rotation=90)\n",
        "sns.countplot(catdata.State);"
      ]
    },
    {
      "cell_type": "markdown",
      "source": [
        "Texas has higher number of cars compared to other states"
      ],
      "metadata": {
        "id": "paxuobK81xde"
      }
    },
    {
      "cell_type": "markdown",
      "metadata": {
        "id": "_JZMEBLQm1XB"
      },
      "source": [
        "#Removing Duplicate vins"
      ]
    },
    {
      "cell_type": "code",
      "execution_count": null,
      "metadata": {
        "id": "v8GF3MsZg47n"
      },
      "outputs": [],
      "source": [
        "#sorting first\n",
        "maindf.sort_values(\"Vin\", inplace = True)"
      ]
    },
    {
      "cell_type": "code",
      "execution_count": null,
      "metadata": {
        "colab": {
          "base_uri": "https://localhost:8080/",
          "height": 424
        },
        "id": "UcBf3tCsnduV",
        "outputId": "589bdb84-bb8e-409f-8d1a-d97429618986"
      },
      "outputs": [
        {
          "output_type": "execute_result",
          "data": {
            "text/plain": [
              "        Price  Year  Mileage          City State                Vin      Make  \\\n",
              "61497   29833  2016       55   Tinley Park    IL  04WT3N56GG0646582     Buick   \n",
              "61498   29833  2016       56   Tinley Park    IL  04WT3N59GG1261202     Buick   \n",
              "285146  77995  2004    51651     Hampstead    MD  137FA84374E208897    HUMMER   \n",
              "11111   89999  2001    49100       Houston    TX  137FA843X1E195221        AM   \n",
              "285141  59995  2002    44420      Manassas    VA  137FA843X2E197617    HUMMER   \n",
              "...       ...   ...      ...           ...   ...                ...       ...   \n",
              "376887  80990  2017    11819  Indianapolis    IN  ZN661YUL7HX199849  Maserati   \n",
              "376898  85900  2017     3952      Oakhurst    NJ  ZN661YUL8HX196815  Maserati   \n",
              "376882  81875  2017     2220      Oakhurst    NJ  ZN661YUL8HX230445  Maserati   \n",
              "376876  82687  2017     1632  Gaithersburg    MD  ZN661YUS7HX230573  Maserati   \n",
              "376897  84995  2017    12687        Austin    TX  ZN661YUS9HX226976  Maserati   \n",
              "\n",
              "                 Model  \n",
              "61497   CascadaPremium  \n",
              "61498   CascadaPremium  \n",
              "285146   H14-Passenger  \n",
              "11111          General  \n",
              "285141   H14-Passenger  \n",
              "...                ...  \n",
              "376887        LevanteS  \n",
              "376898        LevanteS  \n",
              "376882        LevanteS  \n",
              "376876        LevanteS  \n",
              "376897        LevanteS  \n",
              "\n",
              "[539107 rows x 8 columns]"
            ],
            "text/html": [
              "\n",
              "  <div id=\"df-94adc809-3ab4-4573-91a1-b2dedebc2f3c\">\n",
              "    <div class=\"colab-df-container\">\n",
              "      <div>\n",
              "<style scoped>\n",
              "    .dataframe tbody tr th:only-of-type {\n",
              "        vertical-align: middle;\n",
              "    }\n",
              "\n",
              "    .dataframe tbody tr th {\n",
              "        vertical-align: top;\n",
              "    }\n",
              "\n",
              "    .dataframe thead th {\n",
              "        text-align: right;\n",
              "    }\n",
              "</style>\n",
              "<table border=\"1\" class=\"dataframe\">\n",
              "  <thead>\n",
              "    <tr style=\"text-align: right;\">\n",
              "      <th></th>\n",
              "      <th>Price</th>\n",
              "      <th>Year</th>\n",
              "      <th>Mileage</th>\n",
              "      <th>City</th>\n",
              "      <th>State</th>\n",
              "      <th>Vin</th>\n",
              "      <th>Make</th>\n",
              "      <th>Model</th>\n",
              "    </tr>\n",
              "  </thead>\n",
              "  <tbody>\n",
              "    <tr>\n",
              "      <th>61497</th>\n",
              "      <td>29833</td>\n",
              "      <td>2016</td>\n",
              "      <td>55</td>\n",
              "      <td>Tinley Park</td>\n",
              "      <td>IL</td>\n",
              "      <td>04WT3N56GG0646582</td>\n",
              "      <td>Buick</td>\n",
              "      <td>CascadaPremium</td>\n",
              "    </tr>\n",
              "    <tr>\n",
              "      <th>61498</th>\n",
              "      <td>29833</td>\n",
              "      <td>2016</td>\n",
              "      <td>56</td>\n",
              "      <td>Tinley Park</td>\n",
              "      <td>IL</td>\n",
              "      <td>04WT3N59GG1261202</td>\n",
              "      <td>Buick</td>\n",
              "      <td>CascadaPremium</td>\n",
              "    </tr>\n",
              "    <tr>\n",
              "      <th>285146</th>\n",
              "      <td>77995</td>\n",
              "      <td>2004</td>\n",
              "      <td>51651</td>\n",
              "      <td>Hampstead</td>\n",
              "      <td>MD</td>\n",
              "      <td>137FA84374E208897</td>\n",
              "      <td>HUMMER</td>\n",
              "      <td>H14-Passenger</td>\n",
              "    </tr>\n",
              "    <tr>\n",
              "      <th>11111</th>\n",
              "      <td>89999</td>\n",
              "      <td>2001</td>\n",
              "      <td>49100</td>\n",
              "      <td>Houston</td>\n",
              "      <td>TX</td>\n",
              "      <td>137FA843X1E195221</td>\n",
              "      <td>AM</td>\n",
              "      <td>General</td>\n",
              "    </tr>\n",
              "    <tr>\n",
              "      <th>285141</th>\n",
              "      <td>59995</td>\n",
              "      <td>2002</td>\n",
              "      <td>44420</td>\n",
              "      <td>Manassas</td>\n",
              "      <td>VA</td>\n",
              "      <td>137FA843X2E197617</td>\n",
              "      <td>HUMMER</td>\n",
              "      <td>H14-Passenger</td>\n",
              "    </tr>\n",
              "    <tr>\n",
              "      <th>...</th>\n",
              "      <td>...</td>\n",
              "      <td>...</td>\n",
              "      <td>...</td>\n",
              "      <td>...</td>\n",
              "      <td>...</td>\n",
              "      <td>...</td>\n",
              "      <td>...</td>\n",
              "      <td>...</td>\n",
              "    </tr>\n",
              "    <tr>\n",
              "      <th>376887</th>\n",
              "      <td>80990</td>\n",
              "      <td>2017</td>\n",
              "      <td>11819</td>\n",
              "      <td>Indianapolis</td>\n",
              "      <td>IN</td>\n",
              "      <td>ZN661YUL7HX199849</td>\n",
              "      <td>Maserati</td>\n",
              "      <td>LevanteS</td>\n",
              "    </tr>\n",
              "    <tr>\n",
              "      <th>376898</th>\n",
              "      <td>85900</td>\n",
              "      <td>2017</td>\n",
              "      <td>3952</td>\n",
              "      <td>Oakhurst</td>\n",
              "      <td>NJ</td>\n",
              "      <td>ZN661YUL8HX196815</td>\n",
              "      <td>Maserati</td>\n",
              "      <td>LevanteS</td>\n",
              "    </tr>\n",
              "    <tr>\n",
              "      <th>376882</th>\n",
              "      <td>81875</td>\n",
              "      <td>2017</td>\n",
              "      <td>2220</td>\n",
              "      <td>Oakhurst</td>\n",
              "      <td>NJ</td>\n",
              "      <td>ZN661YUL8HX230445</td>\n",
              "      <td>Maserati</td>\n",
              "      <td>LevanteS</td>\n",
              "    </tr>\n",
              "    <tr>\n",
              "      <th>376876</th>\n",
              "      <td>82687</td>\n",
              "      <td>2017</td>\n",
              "      <td>1632</td>\n",
              "      <td>Gaithersburg</td>\n",
              "      <td>MD</td>\n",
              "      <td>ZN661YUS7HX230573</td>\n",
              "      <td>Maserati</td>\n",
              "      <td>LevanteS</td>\n",
              "    </tr>\n",
              "    <tr>\n",
              "      <th>376897</th>\n",
              "      <td>84995</td>\n",
              "      <td>2017</td>\n",
              "      <td>12687</td>\n",
              "      <td>Austin</td>\n",
              "      <td>TX</td>\n",
              "      <td>ZN661YUS9HX226976</td>\n",
              "      <td>Maserati</td>\n",
              "      <td>LevanteS</td>\n",
              "    </tr>\n",
              "  </tbody>\n",
              "</table>\n",
              "<p>539107 rows × 8 columns</p>\n",
              "</div>\n",
              "      <button class=\"colab-df-convert\" onclick=\"convertToInteractive('df-94adc809-3ab4-4573-91a1-b2dedebc2f3c')\"\n",
              "              title=\"Convert this dataframe to an interactive table.\"\n",
              "              style=\"display:none;\">\n",
              "        \n",
              "  <svg xmlns=\"http://www.w3.org/2000/svg\" height=\"24px\"viewBox=\"0 0 24 24\"\n",
              "       width=\"24px\">\n",
              "    <path d=\"M0 0h24v24H0V0z\" fill=\"none\"/>\n",
              "    <path d=\"M18.56 5.44l.94 2.06.94-2.06 2.06-.94-2.06-.94-.94-2.06-.94 2.06-2.06.94zm-11 1L8.5 8.5l.94-2.06 2.06-.94-2.06-.94L8.5 2.5l-.94 2.06-2.06.94zm10 10l.94 2.06.94-2.06 2.06-.94-2.06-.94-.94-2.06-.94 2.06-2.06.94z\"/><path d=\"M17.41 7.96l-1.37-1.37c-.4-.4-.92-.59-1.43-.59-.52 0-1.04.2-1.43.59L10.3 9.45l-7.72 7.72c-.78.78-.78 2.05 0 2.83L4 21.41c.39.39.9.59 1.41.59.51 0 1.02-.2 1.41-.59l7.78-7.78 2.81-2.81c.8-.78.8-2.07 0-2.86zM5.41 20L4 18.59l7.72-7.72 1.47 1.35L5.41 20z\"/>\n",
              "  </svg>\n",
              "      </button>\n",
              "      \n",
              "  <style>\n",
              "    .colab-df-container {\n",
              "      display:flex;\n",
              "      flex-wrap:wrap;\n",
              "      gap: 12px;\n",
              "    }\n",
              "\n",
              "    .colab-df-convert {\n",
              "      background-color: #E8F0FE;\n",
              "      border: none;\n",
              "      border-radius: 50%;\n",
              "      cursor: pointer;\n",
              "      display: none;\n",
              "      fill: #1967D2;\n",
              "      height: 32px;\n",
              "      padding: 0 0 0 0;\n",
              "      width: 32px;\n",
              "    }\n",
              "\n",
              "    .colab-df-convert:hover {\n",
              "      background-color: #E2EBFA;\n",
              "      box-shadow: 0px 1px 2px rgba(60, 64, 67, 0.3), 0px 1px 3px 1px rgba(60, 64, 67, 0.15);\n",
              "      fill: #174EA6;\n",
              "    }\n",
              "\n",
              "    [theme=dark] .colab-df-convert {\n",
              "      background-color: #3B4455;\n",
              "      fill: #D2E3FC;\n",
              "    }\n",
              "\n",
              "    [theme=dark] .colab-df-convert:hover {\n",
              "      background-color: #434B5C;\n",
              "      box-shadow: 0px 1px 3px 1px rgba(0, 0, 0, 0.15);\n",
              "      filter: drop-shadow(0px 1px 2px rgba(0, 0, 0, 0.3));\n",
              "      fill: #FFFFFF;\n",
              "    }\n",
              "  </style>\n",
              "\n",
              "      <script>\n",
              "        const buttonEl =\n",
              "          document.querySelector('#df-94adc809-3ab4-4573-91a1-b2dedebc2f3c button.colab-df-convert');\n",
              "        buttonEl.style.display =\n",
              "          google.colab.kernel.accessAllowed ? 'block' : 'none';\n",
              "\n",
              "        async function convertToInteractive(key) {\n",
              "          const element = document.querySelector('#df-94adc809-3ab4-4573-91a1-b2dedebc2f3c');\n",
              "          const dataTable =\n",
              "            await google.colab.kernel.invokeFunction('convertToInteractive',\n",
              "                                                     [key], {});\n",
              "          if (!dataTable) return;\n",
              "\n",
              "          const docLinkHtml = 'Like what you see? Visit the ' +\n",
              "            '<a target=\"_blank\" href=https://colab.research.google.com/notebooks/data_table.ipynb>data table notebook</a>'\n",
              "            + ' to learn more about interactive tables.';\n",
              "          element.innerHTML = '';\n",
              "          dataTable['output_type'] = 'display_data';\n",
              "          await google.colab.output.renderOutput(dataTable, element);\n",
              "          const docLink = document.createElement('div');\n",
              "          docLink.innerHTML = docLinkHtml;\n",
              "          element.appendChild(docLink);\n",
              "        }\n",
              "      </script>\n",
              "    </div>\n",
              "  </div>\n",
              "  "
            ]
          },
          "metadata": {},
          "execution_count": 40
        }
      ],
      "source": [
        "maindf.drop_duplicates(subset =\"Vin\",\n",
        "                     keep = False, inplace = True)\n",
        "maindf"
      ]
    },
    {
      "cell_type": "markdown",
      "metadata": {
        "id": "XeSO8hgnoIem"
      },
      "source": [
        "#Combining categorical data and numerical data"
      ]
    },
    {
      "cell_type": "code",
      "execution_count": null,
      "metadata": {
        "id": "FfQiSGbeTMJB",
        "colab": {
          "base_uri": "https://localhost:8080/",
          "height": 424
        },
        "outputId": "1933e73b-2675-4337-f639-0949b61b04ef"
      },
      "outputs": [
        {
          "output_type": "execute_result",
          "data": {
            "text/plain": [
              "          Price    Year  Mileage           City State                Vin  \\\n",
              "0        8995.0  2014.0  35725.0            NaN   NaN                NaN   \n",
              "1       10888.0  2013.0  19606.0            NaN   NaN                NaN   \n",
              "2        8995.0  2013.0  48851.0            NaN   NaN                NaN   \n",
              "3       10999.0  2014.0  39922.0            NaN   NaN                NaN   \n",
              "4       14799.0  2016.0  22142.0            NaN   NaN                NaN   \n",
              "...         ...     ...      ...            ...   ...                ...   \n",
              "539140      NaN     NaN      NaN         Berwyn    PA  YV1A22ML5H1004169   \n",
              "539141      NaN     NaN      NaN  Winston Salem    NC  YV1A22ML0H1006850   \n",
              "539142      NaN     NaN      NaN   Corte Madera    CA  YV4BC0ZX0H1124188   \n",
              "539143      NaN     NaN      NaN      Englewood    NJ  YV4A22PL3H1186162   \n",
              "539144      NaN     NaN      NaN   Fort Collins    CO  YV4A22PL4G1000868   \n",
              "\n",
              "         Make    Model  \n",
              "0         NaN      NaN  \n",
              "1         NaN      NaN  \n",
              "2         NaN      NaN  \n",
              "3         NaN      NaN  \n",
              "4         NaN      NaN  \n",
              "...       ...      ...  \n",
              "539140  Volvo    S90T6  \n",
              "539141  Volvo    S90T6  \n",
              "539142  Volvo   XC90T8  \n",
              "539143  Volvo   XC90T6  \n",
              "539144  Volvo  XC90AWD  \n",
              "\n",
              "[1078290 rows x 8 columns]"
            ],
            "text/html": [
              "\n",
              "  <div id=\"df-4388b17f-f3a2-4edc-9353-da01bf3c0837\">\n",
              "    <div class=\"colab-df-container\">\n",
              "      <div>\n",
              "<style scoped>\n",
              "    .dataframe tbody tr th:only-of-type {\n",
              "        vertical-align: middle;\n",
              "    }\n",
              "\n",
              "    .dataframe tbody tr th {\n",
              "        vertical-align: top;\n",
              "    }\n",
              "\n",
              "    .dataframe thead th {\n",
              "        text-align: right;\n",
              "    }\n",
              "</style>\n",
              "<table border=\"1\" class=\"dataframe\">\n",
              "  <thead>\n",
              "    <tr style=\"text-align: right;\">\n",
              "      <th></th>\n",
              "      <th>Price</th>\n",
              "      <th>Year</th>\n",
              "      <th>Mileage</th>\n",
              "      <th>City</th>\n",
              "      <th>State</th>\n",
              "      <th>Vin</th>\n",
              "      <th>Make</th>\n",
              "      <th>Model</th>\n",
              "    </tr>\n",
              "  </thead>\n",
              "  <tbody>\n",
              "    <tr>\n",
              "      <th>0</th>\n",
              "      <td>8995.0</td>\n",
              "      <td>2014.0</td>\n",
              "      <td>35725.0</td>\n",
              "      <td>NaN</td>\n",
              "      <td>NaN</td>\n",
              "      <td>NaN</td>\n",
              "      <td>NaN</td>\n",
              "      <td>NaN</td>\n",
              "    </tr>\n",
              "    <tr>\n",
              "      <th>1</th>\n",
              "      <td>10888.0</td>\n",
              "      <td>2013.0</td>\n",
              "      <td>19606.0</td>\n",
              "      <td>NaN</td>\n",
              "      <td>NaN</td>\n",
              "      <td>NaN</td>\n",
              "      <td>NaN</td>\n",
              "      <td>NaN</td>\n",
              "    </tr>\n",
              "    <tr>\n",
              "      <th>2</th>\n",
              "      <td>8995.0</td>\n",
              "      <td>2013.0</td>\n",
              "      <td>48851.0</td>\n",
              "      <td>NaN</td>\n",
              "      <td>NaN</td>\n",
              "      <td>NaN</td>\n",
              "      <td>NaN</td>\n",
              "      <td>NaN</td>\n",
              "    </tr>\n",
              "    <tr>\n",
              "      <th>3</th>\n",
              "      <td>10999.0</td>\n",
              "      <td>2014.0</td>\n",
              "      <td>39922.0</td>\n",
              "      <td>NaN</td>\n",
              "      <td>NaN</td>\n",
              "      <td>NaN</td>\n",
              "      <td>NaN</td>\n",
              "      <td>NaN</td>\n",
              "    </tr>\n",
              "    <tr>\n",
              "      <th>4</th>\n",
              "      <td>14799.0</td>\n",
              "      <td>2016.0</td>\n",
              "      <td>22142.0</td>\n",
              "      <td>NaN</td>\n",
              "      <td>NaN</td>\n",
              "      <td>NaN</td>\n",
              "      <td>NaN</td>\n",
              "      <td>NaN</td>\n",
              "    </tr>\n",
              "    <tr>\n",
              "      <th>...</th>\n",
              "      <td>...</td>\n",
              "      <td>...</td>\n",
              "      <td>...</td>\n",
              "      <td>...</td>\n",
              "      <td>...</td>\n",
              "      <td>...</td>\n",
              "      <td>...</td>\n",
              "      <td>...</td>\n",
              "    </tr>\n",
              "    <tr>\n",
              "      <th>539140</th>\n",
              "      <td>NaN</td>\n",
              "      <td>NaN</td>\n",
              "      <td>NaN</td>\n",
              "      <td>Berwyn</td>\n",
              "      <td>PA</td>\n",
              "      <td>YV1A22ML5H1004169</td>\n",
              "      <td>Volvo</td>\n",
              "      <td>S90T6</td>\n",
              "    </tr>\n",
              "    <tr>\n",
              "      <th>539141</th>\n",
              "      <td>NaN</td>\n",
              "      <td>NaN</td>\n",
              "      <td>NaN</td>\n",
              "      <td>Winston Salem</td>\n",
              "      <td>NC</td>\n",
              "      <td>YV1A22ML0H1006850</td>\n",
              "      <td>Volvo</td>\n",
              "      <td>S90T6</td>\n",
              "    </tr>\n",
              "    <tr>\n",
              "      <th>539142</th>\n",
              "      <td>NaN</td>\n",
              "      <td>NaN</td>\n",
              "      <td>NaN</td>\n",
              "      <td>Corte Madera</td>\n",
              "      <td>CA</td>\n",
              "      <td>YV4BC0ZX0H1124188</td>\n",
              "      <td>Volvo</td>\n",
              "      <td>XC90T8</td>\n",
              "    </tr>\n",
              "    <tr>\n",
              "      <th>539143</th>\n",
              "      <td>NaN</td>\n",
              "      <td>NaN</td>\n",
              "      <td>NaN</td>\n",
              "      <td>Englewood</td>\n",
              "      <td>NJ</td>\n",
              "      <td>YV4A22PL3H1186162</td>\n",
              "      <td>Volvo</td>\n",
              "      <td>XC90T6</td>\n",
              "    </tr>\n",
              "    <tr>\n",
              "      <th>539144</th>\n",
              "      <td>NaN</td>\n",
              "      <td>NaN</td>\n",
              "      <td>NaN</td>\n",
              "      <td>Fort Collins</td>\n",
              "      <td>CO</td>\n",
              "      <td>YV4A22PL4G1000868</td>\n",
              "      <td>Volvo</td>\n",
              "      <td>XC90AWD</td>\n",
              "    </tr>\n",
              "  </tbody>\n",
              "</table>\n",
              "<p>1078290 rows × 8 columns</p>\n",
              "</div>\n",
              "      <button class=\"colab-df-convert\" onclick=\"convertToInteractive('df-4388b17f-f3a2-4edc-9353-da01bf3c0837')\"\n",
              "              title=\"Convert this dataframe to an interactive table.\"\n",
              "              style=\"display:none;\">\n",
              "        \n",
              "  <svg xmlns=\"http://www.w3.org/2000/svg\" height=\"24px\"viewBox=\"0 0 24 24\"\n",
              "       width=\"24px\">\n",
              "    <path d=\"M0 0h24v24H0V0z\" fill=\"none\"/>\n",
              "    <path d=\"M18.56 5.44l.94 2.06.94-2.06 2.06-.94-2.06-.94-.94-2.06-.94 2.06-2.06.94zm-11 1L8.5 8.5l.94-2.06 2.06-.94-2.06-.94L8.5 2.5l-.94 2.06-2.06.94zm10 10l.94 2.06.94-2.06 2.06-.94-2.06-.94-.94-2.06-.94 2.06-2.06.94z\"/><path d=\"M17.41 7.96l-1.37-1.37c-.4-.4-.92-.59-1.43-.59-.52 0-1.04.2-1.43.59L10.3 9.45l-7.72 7.72c-.78.78-.78 2.05 0 2.83L4 21.41c.39.39.9.59 1.41.59.51 0 1.02-.2 1.41-.59l7.78-7.78 2.81-2.81c.8-.78.8-2.07 0-2.86zM5.41 20L4 18.59l7.72-7.72 1.47 1.35L5.41 20z\"/>\n",
              "  </svg>\n",
              "      </button>\n",
              "      \n",
              "  <style>\n",
              "    .colab-df-container {\n",
              "      display:flex;\n",
              "      flex-wrap:wrap;\n",
              "      gap: 12px;\n",
              "    }\n",
              "\n",
              "    .colab-df-convert {\n",
              "      background-color: #E8F0FE;\n",
              "      border: none;\n",
              "      border-radius: 50%;\n",
              "      cursor: pointer;\n",
              "      display: none;\n",
              "      fill: #1967D2;\n",
              "      height: 32px;\n",
              "      padding: 0 0 0 0;\n",
              "      width: 32px;\n",
              "    }\n",
              "\n",
              "    .colab-df-convert:hover {\n",
              "      background-color: #E2EBFA;\n",
              "      box-shadow: 0px 1px 2px rgba(60, 64, 67, 0.3), 0px 1px 3px 1px rgba(60, 64, 67, 0.15);\n",
              "      fill: #174EA6;\n",
              "    }\n",
              "\n",
              "    [theme=dark] .colab-df-convert {\n",
              "      background-color: #3B4455;\n",
              "      fill: #D2E3FC;\n",
              "    }\n",
              "\n",
              "    [theme=dark] .colab-df-convert:hover {\n",
              "      background-color: #434B5C;\n",
              "      box-shadow: 0px 1px 3px 1px rgba(0, 0, 0, 0.15);\n",
              "      filter: drop-shadow(0px 1px 2px rgba(0, 0, 0, 0.3));\n",
              "      fill: #FFFFFF;\n",
              "    }\n",
              "  </style>\n",
              "\n",
              "      <script>\n",
              "        const buttonEl =\n",
              "          document.querySelector('#df-4388b17f-f3a2-4edc-9353-da01bf3c0837 button.colab-df-convert');\n",
              "        buttonEl.style.display =\n",
              "          google.colab.kernel.accessAllowed ? 'block' : 'none';\n",
              "\n",
              "        async function convertToInteractive(key) {\n",
              "          const element = document.querySelector('#df-4388b17f-f3a2-4edc-9353-da01bf3c0837');\n",
              "          const dataTable =\n",
              "            await google.colab.kernel.invokeFunction('convertToInteractive',\n",
              "                                                     [key], {});\n",
              "          if (!dataTable) return;\n",
              "\n",
              "          const docLinkHtml = 'Like what you see? Visit the ' +\n",
              "            '<a target=\"_blank\" href=https://colab.research.google.com/notebooks/data_table.ipynb>data table notebook</a>'\n",
              "            + ' to learn more about interactive tables.';\n",
              "          element.innerHTML = '';\n",
              "          dataTable['output_type'] = 'display_data';\n",
              "          await google.colab.output.renderOutput(dataTable, element);\n",
              "          const docLink = document.createElement('div');\n",
              "          docLink.innerHTML = docLinkHtml;\n",
              "          element.appendChild(docLink);\n",
              "        }\n",
              "      </script>\n",
              "    </div>\n",
              "  </div>\n",
              "  "
            ]
          },
          "metadata": {},
          "execution_count": 41
        }
      ],
      "source": [
        "cleandf=numdata.append(catdata)\n",
        "cleandf"
      ]
    },
    {
      "cell_type": "markdown",
      "metadata": {
        "id": "LuciLQ7tudyr"
      },
      "source": [
        "#Uppecasing Colum names"
      ]
    },
    {
      "cell_type": "code",
      "execution_count": null,
      "metadata": {
        "colab": {
          "base_uri": "https://localhost:8080/",
          "height": 424
        },
        "id": "9TBOWt5Pui1e",
        "outputId": "a59b8f30-aa3f-45a3-8836-61aea8c0deed"
      },
      "outputs": [
        {
          "output_type": "execute_result",
          "data": {
            "text/plain": [
              "        PRICE  YEAR  MILEAGE          CITY STATE                VIN      MAKE  \\\n",
              "61497   29833  2016       55   Tinley Park    IL  04WT3N56GG0646582     Buick   \n",
              "61498   29833  2016       56   Tinley Park    IL  04WT3N59GG1261202     Buick   \n",
              "285146  77995  2004    51651     Hampstead    MD  137FA84374E208897    HUMMER   \n",
              "11111   89999  2001    49100       Houston    TX  137FA843X1E195221        AM   \n",
              "285141  59995  2002    44420      Manassas    VA  137FA843X2E197617    HUMMER   \n",
              "...       ...   ...      ...           ...   ...                ...       ...   \n",
              "376887  80990  2017    11819  Indianapolis    IN  ZN661YUL7HX199849  Maserati   \n",
              "376898  85900  2017     3952      Oakhurst    NJ  ZN661YUL8HX196815  Maserati   \n",
              "376882  81875  2017     2220      Oakhurst    NJ  ZN661YUL8HX230445  Maserati   \n",
              "376876  82687  2017     1632  Gaithersburg    MD  ZN661YUS7HX230573  Maserati   \n",
              "376897  84995  2017    12687        Austin    TX  ZN661YUS9HX226976  Maserati   \n",
              "\n",
              "                 MODEL  \n",
              "61497   CascadaPremium  \n",
              "61498   CascadaPremium  \n",
              "285146   H14-Passenger  \n",
              "11111          General  \n",
              "285141   H14-Passenger  \n",
              "...                ...  \n",
              "376887        LevanteS  \n",
              "376898        LevanteS  \n",
              "376882        LevanteS  \n",
              "376876        LevanteS  \n",
              "376897        LevanteS  \n",
              "\n",
              "[539107 rows x 8 columns]"
            ],
            "text/html": [
              "\n",
              "  <div id=\"df-aaf98601-ac0d-44cf-a436-fcf80f114a46\">\n",
              "    <div class=\"colab-df-container\">\n",
              "      <div>\n",
              "<style scoped>\n",
              "    .dataframe tbody tr th:only-of-type {\n",
              "        vertical-align: middle;\n",
              "    }\n",
              "\n",
              "    .dataframe tbody tr th {\n",
              "        vertical-align: top;\n",
              "    }\n",
              "\n",
              "    .dataframe thead th {\n",
              "        text-align: right;\n",
              "    }\n",
              "</style>\n",
              "<table border=\"1\" class=\"dataframe\">\n",
              "  <thead>\n",
              "    <tr style=\"text-align: right;\">\n",
              "      <th></th>\n",
              "      <th>PRICE</th>\n",
              "      <th>YEAR</th>\n",
              "      <th>MILEAGE</th>\n",
              "      <th>CITY</th>\n",
              "      <th>STATE</th>\n",
              "      <th>VIN</th>\n",
              "      <th>MAKE</th>\n",
              "      <th>MODEL</th>\n",
              "    </tr>\n",
              "  </thead>\n",
              "  <tbody>\n",
              "    <tr>\n",
              "      <th>61497</th>\n",
              "      <td>29833</td>\n",
              "      <td>2016</td>\n",
              "      <td>55</td>\n",
              "      <td>Tinley Park</td>\n",
              "      <td>IL</td>\n",
              "      <td>04WT3N56GG0646582</td>\n",
              "      <td>Buick</td>\n",
              "      <td>CascadaPremium</td>\n",
              "    </tr>\n",
              "    <tr>\n",
              "      <th>61498</th>\n",
              "      <td>29833</td>\n",
              "      <td>2016</td>\n",
              "      <td>56</td>\n",
              "      <td>Tinley Park</td>\n",
              "      <td>IL</td>\n",
              "      <td>04WT3N59GG1261202</td>\n",
              "      <td>Buick</td>\n",
              "      <td>CascadaPremium</td>\n",
              "    </tr>\n",
              "    <tr>\n",
              "      <th>285146</th>\n",
              "      <td>77995</td>\n",
              "      <td>2004</td>\n",
              "      <td>51651</td>\n",
              "      <td>Hampstead</td>\n",
              "      <td>MD</td>\n",
              "      <td>137FA84374E208897</td>\n",
              "      <td>HUMMER</td>\n",
              "      <td>H14-Passenger</td>\n",
              "    </tr>\n",
              "    <tr>\n",
              "      <th>11111</th>\n",
              "      <td>89999</td>\n",
              "      <td>2001</td>\n",
              "      <td>49100</td>\n",
              "      <td>Houston</td>\n",
              "      <td>TX</td>\n",
              "      <td>137FA843X1E195221</td>\n",
              "      <td>AM</td>\n",
              "      <td>General</td>\n",
              "    </tr>\n",
              "    <tr>\n",
              "      <th>285141</th>\n",
              "      <td>59995</td>\n",
              "      <td>2002</td>\n",
              "      <td>44420</td>\n",
              "      <td>Manassas</td>\n",
              "      <td>VA</td>\n",
              "      <td>137FA843X2E197617</td>\n",
              "      <td>HUMMER</td>\n",
              "      <td>H14-Passenger</td>\n",
              "    </tr>\n",
              "    <tr>\n",
              "      <th>...</th>\n",
              "      <td>...</td>\n",
              "      <td>...</td>\n",
              "      <td>...</td>\n",
              "      <td>...</td>\n",
              "      <td>...</td>\n",
              "      <td>...</td>\n",
              "      <td>...</td>\n",
              "      <td>...</td>\n",
              "    </tr>\n",
              "    <tr>\n",
              "      <th>376887</th>\n",
              "      <td>80990</td>\n",
              "      <td>2017</td>\n",
              "      <td>11819</td>\n",
              "      <td>Indianapolis</td>\n",
              "      <td>IN</td>\n",
              "      <td>ZN661YUL7HX199849</td>\n",
              "      <td>Maserati</td>\n",
              "      <td>LevanteS</td>\n",
              "    </tr>\n",
              "    <tr>\n",
              "      <th>376898</th>\n",
              "      <td>85900</td>\n",
              "      <td>2017</td>\n",
              "      <td>3952</td>\n",
              "      <td>Oakhurst</td>\n",
              "      <td>NJ</td>\n",
              "      <td>ZN661YUL8HX196815</td>\n",
              "      <td>Maserati</td>\n",
              "      <td>LevanteS</td>\n",
              "    </tr>\n",
              "    <tr>\n",
              "      <th>376882</th>\n",
              "      <td>81875</td>\n",
              "      <td>2017</td>\n",
              "      <td>2220</td>\n",
              "      <td>Oakhurst</td>\n",
              "      <td>NJ</td>\n",
              "      <td>ZN661YUL8HX230445</td>\n",
              "      <td>Maserati</td>\n",
              "      <td>LevanteS</td>\n",
              "    </tr>\n",
              "    <tr>\n",
              "      <th>376876</th>\n",
              "      <td>82687</td>\n",
              "      <td>2017</td>\n",
              "      <td>1632</td>\n",
              "      <td>Gaithersburg</td>\n",
              "      <td>MD</td>\n",
              "      <td>ZN661YUS7HX230573</td>\n",
              "      <td>Maserati</td>\n",
              "      <td>LevanteS</td>\n",
              "    </tr>\n",
              "    <tr>\n",
              "      <th>376897</th>\n",
              "      <td>84995</td>\n",
              "      <td>2017</td>\n",
              "      <td>12687</td>\n",
              "      <td>Austin</td>\n",
              "      <td>TX</td>\n",
              "      <td>ZN661YUS9HX226976</td>\n",
              "      <td>Maserati</td>\n",
              "      <td>LevanteS</td>\n",
              "    </tr>\n",
              "  </tbody>\n",
              "</table>\n",
              "<p>539107 rows × 8 columns</p>\n",
              "</div>\n",
              "      <button class=\"colab-df-convert\" onclick=\"convertToInteractive('df-aaf98601-ac0d-44cf-a436-fcf80f114a46')\"\n",
              "              title=\"Convert this dataframe to an interactive table.\"\n",
              "              style=\"display:none;\">\n",
              "        \n",
              "  <svg xmlns=\"http://www.w3.org/2000/svg\" height=\"24px\"viewBox=\"0 0 24 24\"\n",
              "       width=\"24px\">\n",
              "    <path d=\"M0 0h24v24H0V0z\" fill=\"none\"/>\n",
              "    <path d=\"M18.56 5.44l.94 2.06.94-2.06 2.06-.94-2.06-.94-.94-2.06-.94 2.06-2.06.94zm-11 1L8.5 8.5l.94-2.06 2.06-.94-2.06-.94L8.5 2.5l-.94 2.06-2.06.94zm10 10l.94 2.06.94-2.06 2.06-.94-2.06-.94-.94-2.06-.94 2.06-2.06.94z\"/><path d=\"M17.41 7.96l-1.37-1.37c-.4-.4-.92-.59-1.43-.59-.52 0-1.04.2-1.43.59L10.3 9.45l-7.72 7.72c-.78.78-.78 2.05 0 2.83L4 21.41c.39.39.9.59 1.41.59.51 0 1.02-.2 1.41-.59l7.78-7.78 2.81-2.81c.8-.78.8-2.07 0-2.86zM5.41 20L4 18.59l7.72-7.72 1.47 1.35L5.41 20z\"/>\n",
              "  </svg>\n",
              "      </button>\n",
              "      \n",
              "  <style>\n",
              "    .colab-df-container {\n",
              "      display:flex;\n",
              "      flex-wrap:wrap;\n",
              "      gap: 12px;\n",
              "    }\n",
              "\n",
              "    .colab-df-convert {\n",
              "      background-color: #E8F0FE;\n",
              "      border: none;\n",
              "      border-radius: 50%;\n",
              "      cursor: pointer;\n",
              "      display: none;\n",
              "      fill: #1967D2;\n",
              "      height: 32px;\n",
              "      padding: 0 0 0 0;\n",
              "      width: 32px;\n",
              "    }\n",
              "\n",
              "    .colab-df-convert:hover {\n",
              "      background-color: #E2EBFA;\n",
              "      box-shadow: 0px 1px 2px rgba(60, 64, 67, 0.3), 0px 1px 3px 1px rgba(60, 64, 67, 0.15);\n",
              "      fill: #174EA6;\n",
              "    }\n",
              "\n",
              "    [theme=dark] .colab-df-convert {\n",
              "      background-color: #3B4455;\n",
              "      fill: #D2E3FC;\n",
              "    }\n",
              "\n",
              "    [theme=dark] .colab-df-convert:hover {\n",
              "      background-color: #434B5C;\n",
              "      box-shadow: 0px 1px 3px 1px rgba(0, 0, 0, 0.15);\n",
              "      filter: drop-shadow(0px 1px 2px rgba(0, 0, 0, 0.3));\n",
              "      fill: #FFFFFF;\n",
              "    }\n",
              "  </style>\n",
              "\n",
              "      <script>\n",
              "        const buttonEl =\n",
              "          document.querySelector('#df-aaf98601-ac0d-44cf-a436-fcf80f114a46 button.colab-df-convert');\n",
              "        buttonEl.style.display =\n",
              "          google.colab.kernel.accessAllowed ? 'block' : 'none';\n",
              "\n",
              "        async function convertToInteractive(key) {\n",
              "          const element = document.querySelector('#df-aaf98601-ac0d-44cf-a436-fcf80f114a46');\n",
              "          const dataTable =\n",
              "            await google.colab.kernel.invokeFunction('convertToInteractive',\n",
              "                                                     [key], {});\n",
              "          if (!dataTable) return;\n",
              "\n",
              "          const docLinkHtml = 'Like what you see? Visit the ' +\n",
              "            '<a target=\"_blank\" href=https://colab.research.google.com/notebooks/data_table.ipynb>data table notebook</a>'\n",
              "            + ' to learn more about interactive tables.';\n",
              "          element.innerHTML = '';\n",
              "          dataTable['output_type'] = 'display_data';\n",
              "          await google.colab.output.renderOutput(dataTable, element);\n",
              "          const docLink = document.createElement('div');\n",
              "          docLink.innerHTML = docLinkHtml;\n",
              "          element.appendChild(docLink);\n",
              "        }\n",
              "      </script>\n",
              "    </div>\n",
              "  </div>\n",
              "  "
            ]
          },
          "metadata": {},
          "execution_count": 42
        }
      ],
      "source": [
        "maindf.columns = maindf.columns.str.upper()\n",
        "maindf"
      ]
    },
    {
      "cell_type": "markdown",
      "metadata": {
        "id": "xt5RiVST2S6D"
      },
      "source": [
        "# Dividing into Old and New sets"
      ]
    },
    {
      "cell_type": "code",
      "execution_count": null,
      "metadata": {
        "id": "2FToT6iM2Q2s"
      },
      "outputs": [],
      "source": [
        ""
      ]
    },
    {
      "cell_type": "markdown",
      "metadata": {
        "id": "LLb5z3qa5N91"
      },
      "source": [
        "#Removing Vin Column"
      ]
    },
    {
      "cell_type": "code",
      "execution_count": null,
      "metadata": {
        "colab": {
          "base_uri": "https://localhost:8080/",
          "height": 424
        },
        "id": "tCGpib9M5V7S",
        "outputId": "8fb46d86-d1d9-41d5-b007-3e2dc7273326"
      },
      "outputs": [
        {
          "output_type": "execute_result",
          "data": {
            "text/plain": [
              "        PRICE  YEAR  MILEAGE          CITY STATE      MAKE           MODEL\n",
              "61497   29833  2016       55   Tinley Park    IL     Buick  CascadaPremium\n",
              "61498   29833  2016       56   Tinley Park    IL     Buick  CascadaPremium\n",
              "285146  77995  2004    51651     Hampstead    MD    HUMMER   H14-Passenger\n",
              "11111   89999  2001    49100       Houston    TX        AM         General\n",
              "285141  59995  2002    44420      Manassas    VA    HUMMER   H14-Passenger\n",
              "...       ...   ...      ...           ...   ...       ...             ...\n",
              "376887  80990  2017    11819  Indianapolis    IN  Maserati        LevanteS\n",
              "376898  85900  2017     3952      Oakhurst    NJ  Maserati        LevanteS\n",
              "376882  81875  2017     2220      Oakhurst    NJ  Maserati        LevanteS\n",
              "376876  82687  2017     1632  Gaithersburg    MD  Maserati        LevanteS\n",
              "376897  84995  2017    12687        Austin    TX  Maserati        LevanteS\n",
              "\n",
              "[539107 rows x 7 columns]"
            ],
            "text/html": [
              "\n",
              "  <div id=\"df-d97310e3-dc1a-4b8e-9b11-5825334db878\">\n",
              "    <div class=\"colab-df-container\">\n",
              "      <div>\n",
              "<style scoped>\n",
              "    .dataframe tbody tr th:only-of-type {\n",
              "        vertical-align: middle;\n",
              "    }\n",
              "\n",
              "    .dataframe tbody tr th {\n",
              "        vertical-align: top;\n",
              "    }\n",
              "\n",
              "    .dataframe thead th {\n",
              "        text-align: right;\n",
              "    }\n",
              "</style>\n",
              "<table border=\"1\" class=\"dataframe\">\n",
              "  <thead>\n",
              "    <tr style=\"text-align: right;\">\n",
              "      <th></th>\n",
              "      <th>PRICE</th>\n",
              "      <th>YEAR</th>\n",
              "      <th>MILEAGE</th>\n",
              "      <th>CITY</th>\n",
              "      <th>STATE</th>\n",
              "      <th>MAKE</th>\n",
              "      <th>MODEL</th>\n",
              "    </tr>\n",
              "  </thead>\n",
              "  <tbody>\n",
              "    <tr>\n",
              "      <th>61497</th>\n",
              "      <td>29833</td>\n",
              "      <td>2016</td>\n",
              "      <td>55</td>\n",
              "      <td>Tinley Park</td>\n",
              "      <td>IL</td>\n",
              "      <td>Buick</td>\n",
              "      <td>CascadaPremium</td>\n",
              "    </tr>\n",
              "    <tr>\n",
              "      <th>61498</th>\n",
              "      <td>29833</td>\n",
              "      <td>2016</td>\n",
              "      <td>56</td>\n",
              "      <td>Tinley Park</td>\n",
              "      <td>IL</td>\n",
              "      <td>Buick</td>\n",
              "      <td>CascadaPremium</td>\n",
              "    </tr>\n",
              "    <tr>\n",
              "      <th>285146</th>\n",
              "      <td>77995</td>\n",
              "      <td>2004</td>\n",
              "      <td>51651</td>\n",
              "      <td>Hampstead</td>\n",
              "      <td>MD</td>\n",
              "      <td>HUMMER</td>\n",
              "      <td>H14-Passenger</td>\n",
              "    </tr>\n",
              "    <tr>\n",
              "      <th>11111</th>\n",
              "      <td>89999</td>\n",
              "      <td>2001</td>\n",
              "      <td>49100</td>\n",
              "      <td>Houston</td>\n",
              "      <td>TX</td>\n",
              "      <td>AM</td>\n",
              "      <td>General</td>\n",
              "    </tr>\n",
              "    <tr>\n",
              "      <th>285141</th>\n",
              "      <td>59995</td>\n",
              "      <td>2002</td>\n",
              "      <td>44420</td>\n",
              "      <td>Manassas</td>\n",
              "      <td>VA</td>\n",
              "      <td>HUMMER</td>\n",
              "      <td>H14-Passenger</td>\n",
              "    </tr>\n",
              "    <tr>\n",
              "      <th>...</th>\n",
              "      <td>...</td>\n",
              "      <td>...</td>\n",
              "      <td>...</td>\n",
              "      <td>...</td>\n",
              "      <td>...</td>\n",
              "      <td>...</td>\n",
              "      <td>...</td>\n",
              "    </tr>\n",
              "    <tr>\n",
              "      <th>376887</th>\n",
              "      <td>80990</td>\n",
              "      <td>2017</td>\n",
              "      <td>11819</td>\n",
              "      <td>Indianapolis</td>\n",
              "      <td>IN</td>\n",
              "      <td>Maserati</td>\n",
              "      <td>LevanteS</td>\n",
              "    </tr>\n",
              "    <tr>\n",
              "      <th>376898</th>\n",
              "      <td>85900</td>\n",
              "      <td>2017</td>\n",
              "      <td>3952</td>\n",
              "      <td>Oakhurst</td>\n",
              "      <td>NJ</td>\n",
              "      <td>Maserati</td>\n",
              "      <td>LevanteS</td>\n",
              "    </tr>\n",
              "    <tr>\n",
              "      <th>376882</th>\n",
              "      <td>81875</td>\n",
              "      <td>2017</td>\n",
              "      <td>2220</td>\n",
              "      <td>Oakhurst</td>\n",
              "      <td>NJ</td>\n",
              "      <td>Maserati</td>\n",
              "      <td>LevanteS</td>\n",
              "    </tr>\n",
              "    <tr>\n",
              "      <th>376876</th>\n",
              "      <td>82687</td>\n",
              "      <td>2017</td>\n",
              "      <td>1632</td>\n",
              "      <td>Gaithersburg</td>\n",
              "      <td>MD</td>\n",
              "      <td>Maserati</td>\n",
              "      <td>LevanteS</td>\n",
              "    </tr>\n",
              "    <tr>\n",
              "      <th>376897</th>\n",
              "      <td>84995</td>\n",
              "      <td>2017</td>\n",
              "      <td>12687</td>\n",
              "      <td>Austin</td>\n",
              "      <td>TX</td>\n",
              "      <td>Maserati</td>\n",
              "      <td>LevanteS</td>\n",
              "    </tr>\n",
              "  </tbody>\n",
              "</table>\n",
              "<p>539107 rows × 7 columns</p>\n",
              "</div>\n",
              "      <button class=\"colab-df-convert\" onclick=\"convertToInteractive('df-d97310e3-dc1a-4b8e-9b11-5825334db878')\"\n",
              "              title=\"Convert this dataframe to an interactive table.\"\n",
              "              style=\"display:none;\">\n",
              "        \n",
              "  <svg xmlns=\"http://www.w3.org/2000/svg\" height=\"24px\"viewBox=\"0 0 24 24\"\n",
              "       width=\"24px\">\n",
              "    <path d=\"M0 0h24v24H0V0z\" fill=\"none\"/>\n",
              "    <path d=\"M18.56 5.44l.94 2.06.94-2.06 2.06-.94-2.06-.94-.94-2.06-.94 2.06-2.06.94zm-11 1L8.5 8.5l.94-2.06 2.06-.94-2.06-.94L8.5 2.5l-.94 2.06-2.06.94zm10 10l.94 2.06.94-2.06 2.06-.94-2.06-.94-.94-2.06-.94 2.06-2.06.94z\"/><path d=\"M17.41 7.96l-1.37-1.37c-.4-.4-.92-.59-1.43-.59-.52 0-1.04.2-1.43.59L10.3 9.45l-7.72 7.72c-.78.78-.78 2.05 0 2.83L4 21.41c.39.39.9.59 1.41.59.51 0 1.02-.2 1.41-.59l7.78-7.78 2.81-2.81c.8-.78.8-2.07 0-2.86zM5.41 20L4 18.59l7.72-7.72 1.47 1.35L5.41 20z\"/>\n",
              "  </svg>\n",
              "      </button>\n",
              "      \n",
              "  <style>\n",
              "    .colab-df-container {\n",
              "      display:flex;\n",
              "      flex-wrap:wrap;\n",
              "      gap: 12px;\n",
              "    }\n",
              "\n",
              "    .colab-df-convert {\n",
              "      background-color: #E8F0FE;\n",
              "      border: none;\n",
              "      border-radius: 50%;\n",
              "      cursor: pointer;\n",
              "      display: none;\n",
              "      fill: #1967D2;\n",
              "      height: 32px;\n",
              "      padding: 0 0 0 0;\n",
              "      width: 32px;\n",
              "    }\n",
              "\n",
              "    .colab-df-convert:hover {\n",
              "      background-color: #E2EBFA;\n",
              "      box-shadow: 0px 1px 2px rgba(60, 64, 67, 0.3), 0px 1px 3px 1px rgba(60, 64, 67, 0.15);\n",
              "      fill: #174EA6;\n",
              "    }\n",
              "\n",
              "    [theme=dark] .colab-df-convert {\n",
              "      background-color: #3B4455;\n",
              "      fill: #D2E3FC;\n",
              "    }\n",
              "\n",
              "    [theme=dark] .colab-df-convert:hover {\n",
              "      background-color: #434B5C;\n",
              "      box-shadow: 0px 1px 3px 1px rgba(0, 0, 0, 0.15);\n",
              "      filter: drop-shadow(0px 1px 2px rgba(0, 0, 0, 0.3));\n",
              "      fill: #FFFFFF;\n",
              "    }\n",
              "  </style>\n",
              "\n",
              "      <script>\n",
              "        const buttonEl =\n",
              "          document.querySelector('#df-d97310e3-dc1a-4b8e-9b11-5825334db878 button.colab-df-convert');\n",
              "        buttonEl.style.display =\n",
              "          google.colab.kernel.accessAllowed ? 'block' : 'none';\n",
              "\n",
              "        async function convertToInteractive(key) {\n",
              "          const element = document.querySelector('#df-d97310e3-dc1a-4b8e-9b11-5825334db878');\n",
              "          const dataTable =\n",
              "            await google.colab.kernel.invokeFunction('convertToInteractive',\n",
              "                                                     [key], {});\n",
              "          if (!dataTable) return;\n",
              "\n",
              "          const docLinkHtml = 'Like what you see? Visit the ' +\n",
              "            '<a target=\"_blank\" href=https://colab.research.google.com/notebooks/data_table.ipynb>data table notebook</a>'\n",
              "            + ' to learn more about interactive tables.';\n",
              "          element.innerHTML = '';\n",
              "          dataTable['output_type'] = 'display_data';\n",
              "          await google.colab.output.renderOutput(dataTable, element);\n",
              "          const docLink = document.createElement('div');\n",
              "          docLink.innerHTML = docLinkHtml;\n",
              "          element.appendChild(docLink);\n",
              "        }\n",
              "      </script>\n",
              "    </div>\n",
              "  </div>\n",
              "  "
            ]
          },
          "metadata": {},
          "execution_count": 43
        }
      ],
      "source": [
        "maindf.drop('VIN', inplace=True, axis=1)\n",
        "maindf"
      ]
    },
    {
      "cell_type": "markdown",
      "metadata": {
        "id": "IemUcnIY5U56"
      },
      "source": [
        "#Feature Engineering:"
      ]
    },
    {
      "cell_type": "markdown",
      "metadata": {
        "id": "Yn5kC7AOTMJG"
      },
      "source": [
        "# Removing Outliers"
      ]
    },
    {
      "cell_type": "code",
      "execution_count": null,
      "metadata": {
        "colab": {
          "base_uri": "https://localhost:8080/",
          "height": 224
        },
        "id": "b_vZoTXJ5uiL",
        "outputId": "add4090e-a3b6-48c8-b1da-4fc535638e13"
      },
      "outputs": [
        {
          "output_type": "display_data",
          "data": {
            "text/plain": [
              "<Figure size 432x216 with 1 Axes>"
            ],
            "image/png": "[encoded data removed]"
          },
          "metadata": {}
        }
      ],
      "source": [
        "sns.boxplot(data =maindf,color=\"y\") \n",
        "plt.show()"
      ]
    },
    {
      "cell_type": "code",
      "execution_count": null,
      "metadata": {
        "id": "WdiQMb-xTMJH"
      },
      "outputs": [],
      "source": [
        "Q1 = maindf.quantile(0.25)\n",
        "Q3 = maindf.quantile(0.75)\n",
        "IQR = Q3 - Q1"
      ]
    },
    {
      "cell_type": "code",
      "source": [
        ""
      ],
      "metadata": {
        "id": "AyFL6Jb-HzJ3"
      },
      "execution_count": null,
      "outputs": []
    },
    {
      "cell_type": "code",
      "execution_count": null,
      "metadata": {
        "colab": {
          "base_uri": "https://localhost:8080/"
        },
        "id": "qAbsqEw1TMJH",
        "outputId": "9f4b526a-be1c-4b7b-9371-0777df85acee"
      },
      "outputs": [
        {
          "output_type": "execute_result",
          "data": {
            "text/plain": [
              "PRICE      12746.0\n",
              "YEAR        2012.0\n",
              "MILEAGE    24625.0\n",
              "Name: 0.25, dtype: float64"
            ]
          },
          "metadata": {},
          "execution_count": 48
        }
      ],
      "source": [
        "Q1"
      ]
    },
    {
      "cell_type": "code",
      "execution_count": null,
      "metadata": {
        "colab": {
          "base_uri": "https://localhost:8080/"
        },
        "id": "559HKWzvTMJI",
        "outputId": "1e94369d-0497-4887-85bf-b5f44d473327"
      },
      "outputs": [
        {
          "output_type": "execute_result",
          "data": {
            "text/plain": [
              "PRICE      25995.0\n",
              "YEAR        2015.0\n",
              "MILEAGE    76579.0\n",
              "Name: 0.75, dtype: float64"
            ]
          },
          "metadata": {},
          "execution_count": 49
        }
      ],
      "source": [
        "Q3"
      ]
    },
    {
      "cell_type": "code",
      "execution_count": null,
      "metadata": {
        "colab": {
          "base_uri": "https://localhost:8080/"
        },
        "id": "TniZPypFTMJI",
        "outputId": "e50197c7-df79-44f8-ff75-c5a0e50c37b4"
      },
      "outputs": [
        {
          "output_type": "execute_result",
          "data": {
            "text/plain": [
              "PRICE      13249.0\n",
              "YEAR           3.0\n",
              "MILEAGE    51954.0\n",
              "dtype: float64"
            ]
          },
          "metadata": {},
          "execution_count": 50
        }
      ],
      "source": [
        "IQR"
      ]
    },
    {
      "cell_type": "code",
      "execution_count": null,
      "metadata": {
        "colab": {
          "base_uri": "https://localhost:8080/",
          "height": 424
        },
        "id": "Oi69cmqgTMJI",
        "outputId": "57219086-b81b-4ab1-fb51-6abb9763f34e"
      },
      "outputs": [
        {
          "output_type": "execute_result",
          "data": {
            "text/plain": [
              "        PRICE  YEAR  MILEAGE          CITY STATE   MAKE           MODEL\n",
              "61497   29833  2016       55   Tinley Park    IL  Buick  CascadaPremium\n",
              "61498   29833  2016       56   Tinley Park    IL  Buick  CascadaPremium\n",
              "190036  16160  2014    31039     Santa Ana    CA   Ford         Mustang\n",
              "584     19998  2016    16233  Indianapolis    IN  Acura    ILXAutomatic\n",
              "1761    26598  2017     4309      San Juan    TX  Acura    ILXAutomatic\n",
              "...       ...   ...      ...           ...   ...    ...             ...\n",
              "456241  18512  2015     7935   West Valley    UT    Ram       ProMaster\n",
              "455743  17000  2016     5165    Monticello    MN    Ram       ProMaster\n",
              "455847  15980  2016    17723       Pacoima    CA    Ram       ProMaster\n",
              "455713  15988  2015     5912     Claremont    CA    Ram       ProMaster\n",
              "455807  14995  2015    27977    Union City    GA    Ram       ProMaster\n",
              "\n",
              "[461574 rows x 7 columns]"
            ],
            "text/html": [
              "\n",
              "  <div id=\"df-c367417f-5562-4b4e-9b11-9d489232aa81\">\n",
              "    <div class=\"colab-df-container\">\n",
              "      <div>\n",
              "<style scoped>\n",
              "    .dataframe tbody tr th:only-of-type {\n",
              "        vertical-align: middle;\n",
              "    }\n",
              "\n",
              "    .dataframe tbody tr th {\n",
              "        vertical-align: top;\n",
              "    }\n",
              "\n",
              "    .dataframe thead th {\n",
              "        text-align: right;\n",
              "    }\n",
              "</style>\n",
              "<table border=\"1\" class=\"dataframe\">\n",
              "  <thead>\n",
              "    <tr style=\"text-align: right;\">\n",
              "      <th></th>\n",
              "      <th>PRICE</th>\n",
              "      <th>YEAR</th>\n",
              "      <th>MILEAGE</th>\n",
              "      <th>CITY</th>\n",
              "      <th>STATE</th>\n",
              "      <th>MAKE</th>\n",
              "      <th>MODEL</th>\n",
              "    </tr>\n",
              "  </thead>\n",
              "  <tbody>\n",
              "    <tr>\n",
              "      <th>61497</th>\n",
              "      <td>29833</td>\n",
              "      <td>2016</td>\n",
              "      <td>55</td>\n",
              "      <td>Tinley Park</td>\n",
              "      <td>IL</td>\n",
              "      <td>Buick</td>\n",
              "      <td>CascadaPremium</td>\n",
              "    </tr>\n",
              "    <tr>\n",
              "      <th>61498</th>\n",
              "      <td>29833</td>\n",
              "      <td>2016</td>\n",
              "      <td>56</td>\n",
              "      <td>Tinley Park</td>\n",
              "      <td>IL</td>\n",
              "      <td>Buick</td>\n",
              "      <td>CascadaPremium</td>\n",
              "    </tr>\n",
              "    <tr>\n",
              "      <th>190036</th>\n",
              "      <td>16160</td>\n",
              "      <td>2014</td>\n",
              "      <td>31039</td>\n",
              "      <td>Santa Ana</td>\n",
              "      <td>CA</td>\n",
              "      <td>Ford</td>\n",
              "      <td>Mustang</td>\n",
              "    </tr>\n",
              "    <tr>\n",
              "      <th>584</th>\n",
              "      <td>19998</td>\n",
              "      <td>2016</td>\n",
              "      <td>16233</td>\n",
              "      <td>Indianapolis</td>\n",
              "      <td>IN</td>\n",
              "      <td>Acura</td>\n",
              "      <td>ILXAutomatic</td>\n",
              "    </tr>\n",
              "    <tr>\n",
              "      <th>1761</th>\n",
              "      <td>26598</td>\n",
              "      <td>2017</td>\n",
              "      <td>4309</td>\n",
              "      <td>San Juan</td>\n",
              "      <td>TX</td>\n",
              "      <td>Acura</td>\n",
              "      <td>ILXAutomatic</td>\n",
              "    </tr>\n",
              "    <tr>\n",
              "      <th>...</th>\n",
              "      <td>...</td>\n",
              "      <td>...</td>\n",
              "      <td>...</td>\n",
              "      <td>...</td>\n",
              "      <td>...</td>\n",
              "      <td>...</td>\n",
              "      <td>...</td>\n",
              "    </tr>\n",
              "    <tr>\n",
              "      <th>456241</th>\n",
              "      <td>18512</td>\n",
              "      <td>2015</td>\n",
              "      <td>7935</td>\n",
              "      <td>West Valley</td>\n",
              "      <td>UT</td>\n",
              "      <td>Ram</td>\n",
              "      <td>ProMaster</td>\n",
              "    </tr>\n",
              "    <tr>\n",
              "      <th>455743</th>\n",
              "      <td>17000</td>\n",
              "      <td>2016</td>\n",
              "      <td>5165</td>\n",
              "      <td>Monticello</td>\n",
              "      <td>MN</td>\n",
              "      <td>Ram</td>\n",
              "      <td>ProMaster</td>\n",
              "    </tr>\n",
              "    <tr>\n",
              "      <th>455847</th>\n",
              "      <td>15980</td>\n",
              "      <td>2016</td>\n",
              "      <td>17723</td>\n",
              "      <td>Pacoima</td>\n",
              "      <td>CA</td>\n",
              "      <td>Ram</td>\n",
              "      <td>ProMaster</td>\n",
              "    </tr>\n",
              "    <tr>\n",
              "      <th>455713</th>\n",
              "      <td>15988</td>\n",
              "      <td>2015</td>\n",
              "      <td>5912</td>\n",
              "      <td>Claremont</td>\n",
              "      <td>CA</td>\n",
              "      <td>Ram</td>\n",
              "      <td>ProMaster</td>\n",
              "    </tr>\n",
              "    <tr>\n",
              "      <th>455807</th>\n",
              "      <td>14995</td>\n",
              "      <td>2015</td>\n",
              "      <td>27977</td>\n",
              "      <td>Union City</td>\n",
              "      <td>GA</td>\n",
              "      <td>Ram</td>\n",
              "      <td>ProMaster</td>\n",
              "    </tr>\n",
              "  </tbody>\n",
              "</table>\n",
              "<p>461574 rows × 7 columns</p>\n",
              "</div>\n",
              "      <button class=\"colab-df-convert\" onclick=\"convertToInteractive('df-c367417f-5562-4b4e-9b11-9d489232aa81')\"\n",
              "              title=\"Convert this dataframe to an interactive table.\"\n",
              "              style=\"display:none;\">\n",
              "        \n",
              "  <svg xmlns=\"http://www.w3.org/2000/svg\" height=\"24px\"viewBox=\"0 0 24 24\"\n",
              "       width=\"24px\">\n",
              "    <path d=\"M0 0h24v24H0V0z\" fill=\"none\"/>\n",
              "    <path d=\"M18.56 5.44l.94 2.06.94-2.06 2.06-.94-2.06-.94-.94-2.06-.94 2.06-2.06.94zm-11 1L8.5 8.5l.94-2.06 2.06-.94-2.06-.94L8.5 2.5l-.94 2.06-2.06.94zm10 10l.94 2.06.94-2.06 2.06-.94-2.06-.94-.94-2.06-.94 2.06-2.06.94z\"/><path d=\"M17.41 7.96l-1.37-1.37c-.4-.4-.92-.59-1.43-.59-.52 0-1.04.2-1.43.59L10.3 9.45l-7.72 7.72c-.78.78-.78 2.05 0 2.83L4 21.41c.39.39.9.59 1.41.59.51 0 1.02-.2 1.41-.59l7.78-7.78 2.81-2.81c.8-.78.8-2.07 0-2.86zM5.41 20L4 18.59l7.72-7.72 1.47 1.35L5.41 20z\"/>\n",
              "  </svg>\n",
              "      </button>\n",
              "      \n",
              "  <style>\n",
              "    .colab-df-container {\n",
              "      display:flex;\n",
              "      flex-wrap:wrap;\n",
              "      gap: 12px;\n",
              "    }\n",
              "\n",
              "    .colab-df-convert {\n",
              "      background-color: #E8F0FE;\n",
              "      border: none;\n",
              "      border-radius: 50%;\n",
              "      cursor: pointer;\n",
              "      display: none;\n",
              "      fill: #1967D2;\n",
              "      height: 32px;\n",
              "      padding: 0 0 0 0;\n",
              "      width: 32px;\n",
              "    }\n",
              "\n",
              "    .colab-df-convert:hover {\n",
              "      background-color: #E2EBFA;\n",
              "      box-shadow: 0px 1px 2px rgba(60, 64, 67, 0.3), 0px 1px 3px 1px rgba(60, 64, 67, 0.15);\n",
              "      fill: #174EA6;\n",
              "    }\n",
              "\n",
              "    [theme=dark] .colab-df-convert {\n",
              "      background-color: #3B4455;\n",
              "      fill: #D2E3FC;\n",
              "    }\n",
              "\n",
              "    [theme=dark] .colab-df-convert:hover {\n",
              "      background-color: #434B5C;\n",
              "      box-shadow: 0px 1px 3px 1px rgba(0, 0, 0, 0.15);\n",
              "      filter: drop-shadow(0px 1px 2px rgba(0, 0, 0, 0.3));\n",
              "      fill: #FFFFFF;\n",
              "    }\n",
              "  </style>\n",
              "\n",
              "      <script>\n",
              "        const buttonEl =\n",
              "          document.querySelector('#df-c367417f-5562-4b4e-9b11-9d489232aa81 button.colab-df-convert');\n",
              "        buttonEl.style.display =\n",
              "          google.colab.kernel.accessAllowed ? 'block' : 'none';\n",
              "\n",
              "        async function convertToInteractive(key) {\n",
              "          const element = document.querySelector('#df-c367417f-5562-4b4e-9b11-9d489232aa81');\n",
              "          const dataTable =\n",
              "            await google.colab.kernel.invokeFunction('convertToInteractive',\n",
              "                                                     [key], {});\n",
              "          if (!dataTable) return;\n",
              "\n",
              "          const docLinkHtml = 'Like what you see? Visit the ' +\n",
              "            '<a target=\"_blank\" href=https://colab.research.google.com/notebooks/data_table.ipynb>data table notebook</a>'\n",
              "            + ' to learn more about interactive tables.';\n",
              "          element.innerHTML = '';\n",
              "          dataTable['output_type'] = 'display_data';\n",
              "          await google.colab.output.renderOutput(dataTable, element);\n",
              "          const docLink = document.createElement('div');\n",
              "          docLink.innerHTML = docLinkHtml;\n",
              "          element.appendChild(docLink);\n",
              "        }\n",
              "      </script>\n",
              "    </div>\n",
              "  </div>\n",
              "  "
            ]
          },
          "metadata": {},
          "execution_count": 51
        }
      ],
      "source": [
        "maindf1 = maindf[~((maindf < (Q1 - 1.5 * IQR)) | (maindf > (Q3 + 1.5 * IQR))).any(axis=1)]\n",
        "maindf1"
      ]
    },
    {
      "cell_type": "markdown",
      "metadata": {
        "id": "p4D94eoFfKmw"
      },
      "source": [
        "# saving the clean data"
      ]
    },
    {
      "cell_type": "code",
      "execution_count": 53,
      "metadata": {
        "id": "cmD6FcZafKMP"
      },
      "outputs": [],
      "source": [
        "# saving the dataframe\n",
        "maindf.to_csv('clean_car_dataset.csv')"
      ]
    },
    {
      "cell_type": "markdown",
      "source": [
        "#Data modelling using diffrent machine leaning classfiers"
      ],
      "metadata": {
        "id": "KRD1Ops9OW5D"
      }
    },
    {
      "cell_type": "code",
      "source": [
        "#Loading Clean dataset\n",
        "clean = pd.read_csv('clean_car_dataset.csv')\n",
        "clean.head()"
      ],
      "metadata": {
        "id": "qzmfWmDWNQe5",
        "colab": {
          "base_uri": "https://localhost:8080/",
          "height": 206
        },
        "outputId": "231fc0aa-40fa-41ed-c5b8-1777b6b27a25"
      },
      "execution_count": 54,
      "outputs": [
        {
          "output_type": "execute_result",
          "data": {
            "text/plain": [
              "   Unnamed: 0  PRICE  YEAR  MILEAGE         CITY STATE    MAKE           MODEL\n",
              "0       61497  29833  2016       55  Tinley Park    IL   Buick  CascadaPremium\n",
              "1       61498  29833  2016       56  Tinley Park    IL   Buick  CascadaPremium\n",
              "2      285146  77995  2004    51651    Hampstead    MD  HUMMER   H14-Passenger\n",
              "3       11111  89999  2001    49100      Houston    TX      AM         General\n",
              "4      285141  59995  2002    44420     Manassas    VA  HUMMER   H14-Passenger"
            ],
            "text/html": [
              "\n",
              "  <div id=\"df-658b0769-4afa-455b-b8ff-d05f6d751cfa\">\n",
              "    <div class=\"colab-df-container\">\n",
              "      <div>\n",
              "<style scoped>\n",
              "    .dataframe tbody tr th:only-of-type {\n",
              "        vertical-align: middle;\n",
              "    }\n",
              "\n",
              "    .dataframe tbody tr th {\n",
              "        vertical-align: top;\n",
              "    }\n",
              "\n",
              "    .dataframe thead th {\n",
              "        text-align: right;\n",
              "    }\n",
              "</style>\n",
              "<table border=\"1\" class=\"dataframe\">\n",
              "  <thead>\n",
              "    <tr style=\"text-align: right;\">\n",
              "      <th></th>\n",
              "      <th>Unnamed: 0</th>\n",
              "      <th>PRICE</th>\n",
              "      <th>YEAR</th>\n",
              "      <th>MILEAGE</th>\n",
              "      <th>CITY</th>\n",
              "      <th>STATE</th>\n",
              "      <th>MAKE</th>\n",
              "      <th>MODEL</th>\n",
              "    </tr>\n",
              "  </thead>\n",
              "  <tbody>\n",
              "    <tr>\n",
              "      <th>0</th>\n",
              "      <td>61497</td>\n",
              "      <td>29833</td>\n",
              "      <td>2016</td>\n",
              "      <td>55</td>\n",
              "      <td>Tinley Park</td>\n",
              "      <td>IL</td>\n",
              "      <td>Buick</td>\n",
              "      <td>CascadaPremium</td>\n",
              "    </tr>\n",
              "    <tr>\n",
              "      <th>1</th>\n",
              "      <td>61498</td>\n",
              "      <td>29833</td>\n",
              "      <td>2016</td>\n",
              "      <td>56</td>\n",
              "      <td>Tinley Park</td>\n",
              "      <td>IL</td>\n",
              "      <td>Buick</td>\n",
              "      <td>CascadaPremium</td>\n",
              "    </tr>\n",
              "    <tr>\n",
              "      <th>2</th>\n",
              "      <td>285146</td>\n",
              "      <td>77995</td>\n",
              "      <td>2004</td>\n",
              "      <td>51651</td>\n",
              "      <td>Hampstead</td>\n",
              "      <td>MD</td>\n",
              "      <td>HUMMER</td>\n",
              "      <td>H14-Passenger</td>\n",
              "    </tr>\n",
              "    <tr>\n",
              "      <th>3</th>\n",
              "      <td>11111</td>\n",
              "      <td>89999</td>\n",
              "      <td>2001</td>\n",
              "      <td>49100</td>\n",
              "      <td>Houston</td>\n",
              "      <td>TX</td>\n",
              "      <td>AM</td>\n",
              "      <td>General</td>\n",
              "    </tr>\n",
              "    <tr>\n",
              "      <th>4</th>\n",
              "      <td>285141</td>\n",
              "      <td>59995</td>\n",
              "      <td>2002</td>\n",
              "      <td>44420</td>\n",
              "      <td>Manassas</td>\n",
              "      <td>VA</td>\n",
              "      <td>HUMMER</td>\n",
              "      <td>H14-Passenger</td>\n",
              "    </tr>\n",
              "  </tbody>\n",
              "</table>\n",
              "</div>\n",
              "      <button class=\"colab-df-convert\" onclick=\"convertToInteractive('df-658b0769-4afa-455b-b8ff-d05f6d751cfa')\"\n",
              "              title=\"Convert this dataframe to an interactive table.\"\n",
              "              style=\"display:none;\">\n",
              "        \n",
              "  <svg xmlns=\"http://www.w3.org/2000/svg\" height=\"24px\"viewBox=\"0 0 24 24\"\n",
              "       width=\"24px\">\n",
              "    <path d=\"M0 0h24v24H0V0z\" fill=\"none\"/>\n",
              "    <path d=\"M18.56 5.44l.94 2.06.94-2.06 2.06-.94-2.06-.94-.94-2.06-.94 2.06-2.06.94zm-11 1L8.5 8.5l.94-2.06 2.06-.94-2.06-.94L8.5 2.5l-.94 2.06-2.06.94zm10 10l.94 2.06.94-2.06 2.06-.94-2.06-.94-.94-2.06-.94 2.06-2.06.94z\"/><path d=\"M17.41 7.96l-1.37-1.37c-.4-.4-.92-.59-1.43-.59-.52 0-1.04.2-1.43.59L10.3 9.45l-7.72 7.72c-.78.78-.78 2.05 0 2.83L4 21.41c.39.39.9.59 1.41.59.51 0 1.02-.2 1.41-.59l7.78-7.78 2.81-2.81c.8-.78.8-2.07 0-2.86zM5.41 20L4 18.59l7.72-7.72 1.47 1.35L5.41 20z\"/>\n",
              "  </svg>\n",
              "      </button>\n",
              "      \n",
              "  <style>\n",
              "    .colab-df-container {\n",
              "      display:flex;\n",
              "      flex-wrap:wrap;\n",
              "      gap: 12px;\n",
              "    }\n",
              "\n",
              "    .colab-df-convert {\n",
              "      background-color: #E8F0FE;\n",
              "      border: none;\n",
              "      border-radius: 50%;\n",
              "      cursor: pointer;\n",
              "      display: none;\n",
              "      fill: #1967D2;\n",
              "      height: 32px;\n",
              "      padding: 0 0 0 0;\n",
              "      width: 32px;\n",
              "    }\n",
              "\n",
              "    .colab-df-convert:hover {\n",
              "      background-color: #E2EBFA;\n",
              "      box-shadow: 0px 1px 2px rgba(60, 64, 67, 0.3), 0px 1px 3px 1px rgba(60, 64, 67, 0.15);\n",
              "      fill: #174EA6;\n",
              "    }\n",
              "\n",
              "    [theme=dark] .colab-df-convert {\n",
              "      background-color: #3B4455;\n",
              "      fill: #D2E3FC;\n",
              "    }\n",
              "\n",
              "    [theme=dark] .colab-df-convert:hover {\n",
              "      background-color: #434B5C;\n",
              "      box-shadow: 0px 1px 3px 1px rgba(0, 0, 0, 0.15);\n",
              "      filter: drop-shadow(0px 1px 2px rgba(0, 0, 0, 0.3));\n",
              "      fill: #FFFFFF;\n",
              "    }\n",
              "  </style>\n",
              "\n",
              "      <script>\n",
              "        const buttonEl =\n",
              "          document.querySelector('#df-658b0769-4afa-455b-b8ff-d05f6d751cfa button.colab-df-convert');\n",
              "        buttonEl.style.display =\n",
              "          google.colab.kernel.accessAllowed ? 'block' : 'none';\n",
              "\n",
              "        async function convertToInteractive(key) {\n",
              "          const element = document.querySelector('#df-658b0769-4afa-455b-b8ff-d05f6d751cfa');\n",
              "          const dataTable =\n",
              "            await google.colab.kernel.invokeFunction('convertToInteractive',\n",
              "                                                     [key], {});\n",
              "          if (!dataTable) return;\n",
              "\n",
              "          const docLinkHtml = 'Like what you see? Visit the ' +\n",
              "            '<a target=\"_blank\" href=https://colab.research.google.com/notebooks/data_table.ipynb>data table notebook</a>'\n",
              "            + ' to learn more about interactive tables.';\n",
              "          element.innerHTML = '';\n",
              "          dataTable['output_type'] = 'display_data';\n",
              "          await google.colab.output.renderOutput(dataTable, element);\n",
              "          const docLink = document.createElement('div');\n",
              "          docLink.innerHTML = docLinkHtml;\n",
              "          element.appendChild(docLink);\n",
              "        }\n",
              "      </script>\n",
              "    </div>\n",
              "  </div>\n",
              "  "
            ]
          },
          "metadata": {},
          "execution_count": 54
        }
      ]
    },
    {
      "cell_type": "markdown",
      "source": [
        "## removing the first un imporntant column"
      ],
      "metadata": {
        "id": "u8H0fZrdO50b"
      }
    },
    {
      "cell_type": "code",
      "source": [
        "clean.drop('Unnamed: 0', inplace=True, axis=1)\n",
        "clean"
      ],
      "metadata": {
        "id": "y820AwQUNQvb",
        "colab": {
          "base_uri": "https://localhost:8080/",
          "height": 424
        },
        "outputId": "be2f61d6-d01f-4373-8fb3-ebdd48f284be"
      },
      "execution_count": 55,
      "outputs": [
        {
          "output_type": "execute_result",
          "data": {
            "text/plain": [
              "        PRICE  YEAR  MILEAGE          CITY STATE      MAKE           MODEL\n",
              "0       29833  2016       55   Tinley Park    IL     Buick  CascadaPremium\n",
              "1       29833  2016       56   Tinley Park    IL     Buick  CascadaPremium\n",
              "2       77995  2004    51651     Hampstead    MD    HUMMER   H14-Passenger\n",
              "3       89999  2001    49100       Houston    TX        AM         General\n",
              "4       59995  2002    44420      Manassas    VA    HUMMER   H14-Passenger\n",
              "...       ...   ...      ...           ...   ...       ...             ...\n",
              "539102  80990  2017    11819  Indianapolis    IN  Maserati        LevanteS\n",
              "539103  85900  2017     3952      Oakhurst    NJ  Maserati        LevanteS\n",
              "539104  81875  2017     2220      Oakhurst    NJ  Maserati        LevanteS\n",
              "539105  82687  2017     1632  Gaithersburg    MD  Maserati        LevanteS\n",
              "539106  84995  2017    12687        Austin    TX  Maserati        LevanteS\n",
              "\n",
              "[539107 rows x 7 columns]"
            ],
            "text/html": [
              "\n",
              "  <div id=\"df-c1297f7d-2f8a-4b67-9a60-1f5bf0165fa6\">\n",
              "    <div class=\"colab-df-container\">\n",
              "      <div>\n",
              "<style scoped>\n",
              "    .dataframe tbody tr th:only-of-type {\n",
              "        vertical-align: middle;\n",
              "    }\n",
              "\n",
              "    .dataframe tbody tr th {\n",
              "        vertical-align: top;\n",
              "    }\n",
              "\n",
              "    .dataframe thead th {\n",
              "        text-align: right;\n",
              "    }\n",
              "</style>\n",
              "<table border=\"1\" class=\"dataframe\">\n",
              "  <thead>\n",
              "    <tr style=\"text-align: right;\">\n",
              "      <th></th>\n",
              "      <th>PRICE</th>\n",
              "      <th>YEAR</th>\n",
              "      <th>MILEAGE</th>\n",
              "      <th>CITY</th>\n",
              "      <th>STATE</th>\n",
              "      <th>MAKE</th>\n",
              "      <th>MODEL</th>\n",
              "    </tr>\n",
              "  </thead>\n",
              "  <tbody>\n",
              "    <tr>\n",
              "      <th>0</th>\n",
              "      <td>29833</td>\n",
              "      <td>2016</td>\n",
              "      <td>55</td>\n",
              "      <td>Tinley Park</td>\n",
              "      <td>IL</td>\n",
              "      <td>Buick</td>\n",
              "      <td>CascadaPremium</td>\n",
              "    </tr>\n",
              "    <tr>\n",
              "      <th>1</th>\n",
              "      <td>29833</td>\n",
              "      <td>2016</td>\n",
              "      <td>56</td>\n",
              "      <td>Tinley Park</td>\n",
              "      <td>IL</td>\n",
              "      <td>Buick</td>\n",
              "      <td>CascadaPremium</td>\n",
              "    </tr>\n",
              "    <tr>\n",
              "      <th>2</th>\n",
              "      <td>77995</td>\n",
              "      <td>2004</td>\n",
              "      <td>51651</td>\n",
              "      <td>Hampstead</td>\n",
              "      <td>MD</td>\n",
              "      <td>HUMMER</td>\n",
              "      <td>H14-Passenger</td>\n",
              "    </tr>\n",
              "    <tr>\n",
              "      <th>3</th>\n",
              "      <td>89999</td>\n",
              "      <td>2001</td>\n",
              "      <td>49100</td>\n",
              "      <td>Houston</td>\n",
              "      <td>TX</td>\n",
              "      <td>AM</td>\n",
              "      <td>General</td>\n",
              "    </tr>\n",
              "    <tr>\n",
              "      <th>4</th>\n",
              "      <td>59995</td>\n",
              "      <td>2002</td>\n",
              "      <td>44420</td>\n",
              "      <td>Manassas</td>\n",
              "      <td>VA</td>\n",
              "      <td>HUMMER</td>\n",
              "      <td>H14-Passenger</td>\n",
              "    </tr>\n",
              "    <tr>\n",
              "      <th>...</th>\n",
              "      <td>...</td>\n",
              "      <td>...</td>\n",
              "      <td>...</td>\n",
              "      <td>...</td>\n",
              "      <td>...</td>\n",
              "      <td>...</td>\n",
              "      <td>...</td>\n",
              "    </tr>\n",
              "    <tr>\n",
              "      <th>539102</th>\n",
              "      <td>80990</td>\n",
              "      <td>2017</td>\n",
              "      <td>11819</td>\n",
              "      <td>Indianapolis</td>\n",
              "      <td>IN</td>\n",
              "      <td>Maserati</td>\n",
              "      <td>LevanteS</td>\n",
              "    </tr>\n",
              "    <tr>\n",
              "      <th>539103</th>\n",
              "      <td>85900</td>\n",
              "      <td>2017</td>\n",
              "      <td>3952</td>\n",
              "      <td>Oakhurst</td>\n",
              "      <td>NJ</td>\n",
              "      <td>Maserati</td>\n",
              "      <td>LevanteS</td>\n",
              "    </tr>\n",
              "    <tr>\n",
              "      <th>539104</th>\n",
              "      <td>81875</td>\n",
              "      <td>2017</td>\n",
              "      <td>2220</td>\n",
              "      <td>Oakhurst</td>\n",
              "      <td>NJ</td>\n",
              "      <td>Maserati</td>\n",
              "      <td>LevanteS</td>\n",
              "    </tr>\n",
              "    <tr>\n",
              "      <th>539105</th>\n",
              "      <td>82687</td>\n",
              "      <td>2017</td>\n",
              "      <td>1632</td>\n",
              "      <td>Gaithersburg</td>\n",
              "      <td>MD</td>\n",
              "      <td>Maserati</td>\n",
              "      <td>LevanteS</td>\n",
              "    </tr>\n",
              "    <tr>\n",
              "      <th>539106</th>\n",
              "      <td>84995</td>\n",
              "      <td>2017</td>\n",
              "      <td>12687</td>\n",
              "      <td>Austin</td>\n",
              "      <td>TX</td>\n",
              "      <td>Maserati</td>\n",
              "      <td>LevanteS</td>\n",
              "    </tr>\n",
              "  </tbody>\n",
              "</table>\n",
              "<p>539107 rows × 7 columns</p>\n",
              "</div>\n",
              "      <button class=\"colab-df-convert\" onclick=\"convertToInteractive('df-c1297f7d-2f8a-4b67-9a60-1f5bf0165fa6')\"\n",
              "              title=\"Convert this dataframe to an interactive table.\"\n",
              "              style=\"display:none;\">\n",
              "        \n",
              "  <svg xmlns=\"http://www.w3.org/2000/svg\" height=\"24px\"viewBox=\"0 0 24 24\"\n",
              "       width=\"24px\">\n",
              "    <path d=\"M0 0h24v24H0V0z\" fill=\"none\"/>\n",
              "    <path d=\"M18.56 5.44l.94 2.06.94-2.06 2.06-.94-2.06-.94-.94-2.06-.94 2.06-2.06.94zm-11 1L8.5 8.5l.94-2.06 2.06-.94-2.06-.94L8.5 2.5l-.94 2.06-2.06.94zm10 10l.94 2.06.94-2.06 2.06-.94-2.06-.94-.94-2.06-.94 2.06-2.06.94z\"/><path d=\"M17.41 7.96l-1.37-1.37c-.4-.4-.92-.59-1.43-.59-.52 0-1.04.2-1.43.59L10.3 9.45l-7.72 7.72c-.78.78-.78 2.05 0 2.83L4 21.41c.39.39.9.59 1.41.59.51 0 1.02-.2 1.41-.59l7.78-7.78 2.81-2.81c.8-.78.8-2.07 0-2.86zM5.41 20L4 18.59l7.72-7.72 1.47 1.35L5.41 20z\"/>\n",
              "  </svg>\n",
              "      </button>\n",
              "      \n",
              "  <style>\n",
              "    .colab-df-container {\n",
              "      display:flex;\n",
              "      flex-wrap:wrap;\n",
              "      gap: 12px;\n",
              "    }\n",
              "\n",
              "    .colab-df-convert {\n",
              "      background-color: #E8F0FE;\n",
              "      border: none;\n",
              "      border-radius: 50%;\n",
              "      cursor: pointer;\n",
              "      display: none;\n",
              "      fill: #1967D2;\n",
              "      height: 32px;\n",
              "      padding: 0 0 0 0;\n",
              "      width: 32px;\n",
              "    }\n",
              "\n",
              "    .colab-df-convert:hover {\n",
              "      background-color: #E2EBFA;\n",
              "      box-shadow: 0px 1px 2px rgba(60, 64, 67, 0.3), 0px 1px 3px 1px rgba(60, 64, 67, 0.15);\n",
              "      fill: #174EA6;\n",
              "    }\n",
              "\n",
              "    [theme=dark] .colab-df-convert {\n",
              "      background-color: #3B4455;\n",
              "      fill: #D2E3FC;\n",
              "    }\n",
              "\n",
              "    [theme=dark] .colab-df-convert:hover {\n",
              "      background-color: #434B5C;\n",
              "      box-shadow: 0px 1px 3px 1px rgba(0, 0, 0, 0.15);\n",
              "      filter: drop-shadow(0px 1px 2px rgba(0, 0, 0, 0.3));\n",
              "      fill: #FFFFFF;\n",
              "    }\n",
              "  </style>\n",
              "\n",
              "      <script>\n",
              "        const buttonEl =\n",
              "          document.querySelector('#df-c1297f7d-2f8a-4b67-9a60-1f5bf0165fa6 button.colab-df-convert');\n",
              "        buttonEl.style.display =\n",
              "          google.colab.kernel.accessAllowed ? 'block' : 'none';\n",
              "\n",
              "        async function convertToInteractive(key) {\n",
              "          const element = document.querySelector('#df-c1297f7d-2f8a-4b67-9a60-1f5bf0165fa6');\n",
              "          const dataTable =\n",
              "            await google.colab.kernel.invokeFunction('convertToInteractive',\n",
              "                                                     [key], {});\n",
              "          if (!dataTable) return;\n",
              "\n",
              "          const docLinkHtml = 'Like what you see? Visit the ' +\n",
              "            '<a target=\"_blank\" href=https://colab.research.google.com/notebooks/data_table.ipynb>data table notebook</a>'\n",
              "            + ' to learn more about interactive tables.';\n",
              "          element.innerHTML = '';\n",
              "          dataTable['output_type'] = 'display_data';\n",
              "          await google.colab.output.renderOutput(dataTable, element);\n",
              "          const docLink = document.createElement('div');\n",
              "          docLink.innerHTML = docLinkHtml;\n",
              "          element.appendChild(docLink);\n",
              "        }\n",
              "      </script>\n",
              "    </div>\n",
              "  </div>\n",
              "  "
            ]
          },
          "metadata": {},
          "execution_count": 55
        }
      ]
    },
    {
      "cell_type": "markdown",
      "source": [
        "# creating models"
      ],
      "metadata": {
        "id": "FlYyZ8eHPZeX"
      }
    },
    {
      "cell_type": "code",
      "source": [
        "X = clean[['YEAR', 'MILEAGE']]\n",
        "y = clean[['PRICE']]\n",
        "X_train, X_test, y_train, y_test = train_test_split(X,y,test_size = .2, random_state = 0)"
      ],
      "metadata": {
        "id": "MVXW3MToNQzd"
      },
      "execution_count": 57,
      "outputs": []
    },
    {
      "cell_type": "markdown",
      "source": [
        "#"
      ],
      "metadata": {
        "id": "s95n9n2dPzMn"
      }
    },
    {
      "cell_type": "markdown",
      "metadata": {
        "id": "UwOHu3rUTMJO"
      },
      "source": [
        "# Linear Regression"
      ]
    },
    {
      "cell_type": "code",
      "execution_count": 58,
      "metadata": {
        "id": "o8fqA_S9TMJO",
        "colab": {
          "base_uri": "https://localhost:8080/"
        },
        "outputId": "a6436b5a-1525-4a96-9a95-eba5d9794e9f"
      },
      "outputs": [
        {
          "output_type": "execute_result",
          "data": {
            "text/plain": [
              "LinearRegression()"
            ]
          },
          "metadata": {},
          "execution_count": 58
        }
      ],
      "source": [
        "model = LinearRegression()\n",
        "model.fit(X_train,y_train)"
      ]
    },
    {
      "cell_type": "code",
      "execution_count": 59,
      "metadata": {
        "id": "GA9NFaDsTMJP"
      },
      "outputs": [],
      "source": [
        "y_predict = model.predict(X_test)\n",
        "y_test = np.array(y_test)"
      ]
    },
    {
      "cell_type": "code",
      "execution_count": 60,
      "metadata": {
        "scrolled": true,
        "id": "DZ_zgSmlTMJP",
        "colab": {
          "base_uri": "https://localhost:8080/"
        },
        "outputId": "1533c3b6-29bf-4949-a923-80de51fe31eb"
      },
      "outputs": [
        {
          "output_type": "execute_result",
          "data": {
            "text/plain": [
              "0.20585286451088947"
            ]
          },
          "metadata": {},
          "execution_count": 60
        }
      ],
      "source": [
        "lr = LinearRegression()\n",
        "lr.fit(X_train,y_train)\n",
        "lr.score(X_test,y_test)"
      ]
    },
    {
      "cell_type": "markdown",
      "metadata": {
        "id": "DZJ--_bETMJP"
      },
      "source": [
        "Use K Fold cross validation to measure accuracy of our LinearRegression model."
      ]
    },
    {
      "cell_type": "code",
      "execution_count": null,
      "metadata": {
        "id": "8Rz-N5XyTMJP",
        "colab": {
          "base_uri": "https://localhost:8080/"
        },
        "outputId": "30caf34e-19bd-4c2c-f014-04510d41a359"
      },
      "outputs": [
        {
          "output_type": "execute_result",
          "data": {
            "text/plain": [
              "array([0.68942911, 0.69103796, 0.68240094, 0.66946684, 0.68768692])"
            ]
          },
          "metadata": {},
          "execution_count": 40
        }
      ],
      "source": [
        "cv = ShuffleSplit(n_splits=5, test_size=0.2, random_state=0)\n",
        "\n",
        "cross_val_score(LinearRegression(), X, y, cv=cv)"
      ]
    },
    {
      "cell_type": "markdown",
      "metadata": {
        "id": "lklIeNngTMJQ"
      },
      "source": [
        "As you can see, we are getting low score from Linear Regression. Let's see if we can get better results from different regression models."
      ]
    },
    {
      "cell_type": "markdown",
      "metadata": {
        "id": "O5OjXQEmTMJQ"
      },
      "source": [
        "# KNN"
      ]
    },
    {
      "cell_type": "code",
      "execution_count": null,
      "metadata": {
        "id": "KXVaYVnVTMJQ",
        "colab": {
          "base_uri": "https://localhost:8080/"
        },
        "outputId": "baaca9da-251d-4f15-8dd9-302fd16b1679"
      },
      "outputs": [
        {
          "output_type": "execute_result",
          "data": {
            "text/plain": [
              "(0.702454799469804, 0.5530669070984982)"
            ]
          },
          "metadata": {},
          "execution_count": 41
        }
      ],
      "source": [
        "\n",
        "neigh=KNeighborsRegressor()\n",
        "neigh.fit(X_train,y_train)\n",
        "neigh.score(X_train,y_train), neigh.score(X_test,y_test)"
      ]
    },
    {
      "cell_type": "markdown",
      "source": [
        "Here we can see KNN has a result better than Linear regreation which is 66%"
      ],
      "metadata": {
        "id": "gdqIZf9vVIZC"
      }
    },
    {
      "cell_type": "markdown",
      "metadata": {
        "id": "sK_UlCfITMJS"
      },
      "source": [
        "# DecisionTreeRegressor"
      ]
    },
    {
      "cell_type": "code",
      "execution_count": null,
      "metadata": {
        "id": "re3HoFBbTMJS",
        "colab": {
          "base_uri": "https://localhost:8080/"
        },
        "outputId": "6f5b6b5c-c317-45b9-bc63-9d38f4588f56"
      },
      "outputs": [
        {
          "output_type": "execute_result",
          "data": {
            "text/plain": [
              "(0.8407690856337605, 0.6446791359608866)"
            ]
          },
          "metadata": {},
          "execution_count": 42
        }
      ],
      "source": [
        "#Checking another regression model\n",
        "\n",
        "dtr = DecisionTreeRegressor(random_state=0, max_depth=1000, min_samples_split = 18, min_impurity_decrease = 1.4)\n",
        "dtr.fit(X_train, y_train.values.ravel())\n",
        "dtr.score(X_train,y_train), dtr.score(X_test,y_test)"
      ]
    },
    {
      "cell_type": "markdown",
      "source": [
        "Heredecision tree has given as a reasonable percentage of 78.7 which we can use..but let us try other models by creating a fitting random forest"
      ],
      "metadata": {
        "id": "UzAuGkdTVmng"
      }
    },
    {
      "cell_type": "markdown",
      "source": [
        "# RandomForestRegressor"
      ],
      "metadata": {
        "id": "J-yrJupJbzYy"
      }
    },
    {
      "cell_type": "code",
      "execution_count": null,
      "metadata": {
        "id": "DwD-khaaTMJS",
        "colab": {
          "base_uri": "https://localhost:8080/"
        },
        "outputId": "dc480028-24f9-49bb-bdb8-9a3c066ab5dd"
      },
      "outputs": [
        {
          "output_type": "stream",
          "name": "stdout",
          "text": [
            "0.9435312815817117 0.6215955670124362\n"
          ]
        }
      ],
      "source": [
        "#Creating and fitting RandomForestRegressor\n",
        "\n",
        "random_forest = RandomForestRegressor(n_estimators = 250, max_features = 'sqrt', n_jobs = 20)\n",
        "random_forest.fit(X_train, y_train.values.ravel())\n",
        "print(random_forest.score(X_train, y_train), random_forest.score(X_test, y_test))\n"
      ]
    },
    {
      "cell_type": "markdown",
      "source": [
        "It is even more better with a result of 94.3.but still let us keepon trying other models"
      ],
      "metadata": {
        "id": "kb6oR0cqWXWe"
      }
    },
    {
      "cell_type": "code",
      "source": [
        ""
      ],
      "metadata": {
        "id": "tPVt2qnNWTUQ"
      },
      "execution_count": null,
      "outputs": []
    },
    {
      "cell_type": "markdown",
      "metadata": {
        "id": "u30YzelQTMJT"
      },
      "source": [
        "# BaggingRegressor"
      ]
    },
    {
      "cell_type": "code",
      "execution_count": null,
      "metadata": {
        "id": "L_GeyZhaTMJT",
        "colab": {
          "base_uri": "https://localhost:8080/"
        },
        "outputId": "7c3217c1-dd2f-487b-964f-c4e467cde0b2"
      },
      "outputs": [
        {
          "output_type": "execute_result",
          "data": {
            "text/plain": [
              "(0.9432853399166771, 0.6222372568511587)"
            ]
          },
          "metadata": {},
          "execution_count": 44
        }
      ],
      "source": [
        "#Checking other regression model\n",
        "\n",
        "bagging = BaggingRegressor(n_estimators = 200, oob_score = True, n_jobs = 10)\n",
        "bagging.fit(X_train, y_train.values.ravel())\n",
        "bagging.score(X_train,y_train), bagging.score(X_test,y_test)"
      ]
    },
    {
      "cell_type": "markdown",
      "metadata": {
        "id": "T5l8PE9FTMJT"
      },
      "source": [
        "# ExtraTreesRegressor"
      ]
    },
    {
      "cell_type": "code",
      "execution_count": null,
      "metadata": {
        "id": "KALuIiJ2TMJT",
        "colab": {
          "base_uri": "https://localhost:8080/"
        },
        "outputId": "0c4580a1-36cf-431f-82f7-ed52b182e2f1"
      },
      "outputs": [
        {
          "output_type": "execute_result",
          "data": {
            "text/plain": [
              "(0.8540807199440961, 0.6844422768141082)"
            ]
          },
          "metadata": {},
          "execution_count": 45
        }
      ],
      "source": [
        "#Checking another regression model\n",
        "\n",
        "etr = ExtraTreesRegressor(random_state=0, n_estimators = 250, max_features = None, min_samples_split = 6)\n",
        "etr.fit(X_train, y_train.values.ravel())\n",
        "etr.score(X_train,y_train), etr.score(X_test,y_test)"
      ]
    },
    {
      "cell_type": "markdown",
      "metadata": {
        "id": "-5rzBp2mTMJU"
      },
      "source": [
        "## Data Cross Validation\n",
        "Using cross valudation to verify data accuracy and prevent overfitting on 3 best models"
      ]
    },
    {
      "cell_type": "code",
      "execution_count": null,
      "metadata": {
        "id": "pRVjsoqZTMJU",
        "colab": {
          "base_uri": "https://localhost:8080/"
        },
        "outputId": "5a9f0046-cae6-4553-b5ea-222152be987b"
      },
      "outputs": [
        {
          "output_type": "stream",
          "name": "stdout",
          "text": [
            "ExtraTreesRegressor model has [-0.37419792  0.69081666  0.41133155  0.56586893] accuracy\n",
            "BaggingRegressor model has [-0.49204229  0.58247005  0.38297518  0.43106527] accuracy scores\n",
            "RandomForestRegressor model has [-0.49345653  0.58081492  0.38179936  0.43540378] accuracy scores\n"
          ]
        }
      ],
      "source": [
        "etr_values = cross_val_score(etr, X, y.values.ravel(), cv=4)\n",
        "bagging_values = cross_val_score(bagging, X, y.values.ravel(), cv=4)\n",
        "random_forest_values = cross_val_score(random_forest, X, y.values.ravel(), cv=4)\n",
        "\n",
        "print(f\"ExtraTreesRegressor model has {etr_values} accuracy\")\n",
        "print(f\"BaggingRegressor model has {bagging_values} accuracy scores\")\n",
        "print(f\"RandomForestRegressor model has {random_forest_values} accuracy scores\")\n",
        "                   "
      ]
    },
    {
      "cell_type": "markdown",
      "metadata": {
        "id": "tq4Kboy_TMJU"
      },
      "source": [
        "# Model Accuracy Evaluation"
      ]
    },
    {
      "cell_type": "code",
      "execution_count": null,
      "metadata": {
        "id": "W772z_ssTMJU",
        "colab": {
          "base_uri": "https://localhost:8080/"
        },
        "outputId": "26bf42c2-c902-4ef4-81cf-b80d0ea134fa"
      },
      "outputs": [
        {
          "output_type": "stream",
          "name": "stdout",
          "text": [
            "ExtraTreesRegressor Accuracy Evaluation\n",
            "r2 score: 0.6844422768141082\n",
            "Mean absolute error: 4022.770770842193\n",
            "Mean squared error: 28344917.425043564\n",
            "\n",
            "\n",
            "BaggingRegressor Accuracy Evaluation\n",
            "r2 score: 0.6222372568511587\n",
            "Mean absolute error: 4381.253128183192\n",
            "Mean squared error: 33932472.48936473\n",
            "\n",
            "\n",
            "RandomForestRegressor Accuracy Evaluation\n",
            "r2 score: 0.6215955670124362\n",
            "Mean absolute error: 4381.770119504403\n",
            "Mean squared error: 33990112.16716265\n"
          ]
        }
      ],
      "source": [
        "from sklearn.metrics import r2_score\n",
        "from sklearn.metrics import mean_absolute_error\n",
        "from sklearn.metrics import mean_squared_error\n",
        "#r2_score and regression score functions show the same information, \n",
        "#mean errors show how much off the predictions were in numeric terms\n",
        "\n",
        "#Model 1 stats\n",
        "print('ExtraTreesRegressor Accuracy Evaluation')\n",
        "print(f'r2 score: {r2_score(y_test, etr.predict(X_test))}')\n",
        "print(f'Mean absolute error: {mean_absolute_error(y_test, etr.predict(X_test))}')\n",
        "print(f'Mean squared error: {mean_squared_error(y_test, etr.predict(X_test))}')\n",
        "print('\\n')\n",
        "#Model 2 stats\n",
        "print('BaggingRegressor Accuracy Evaluation')\n",
        "print(f'r2 score: {r2_score(y_test, bagging.predict(X_test))}')\n",
        "print(f'Mean absolute error: {mean_absolute_error(y_test, bagging.predict(X_test))}')\n",
        "print(f'Mean squared error: {mean_squared_error(y_test, bagging.predict(X_test))}')\n",
        "print('\\n')\n",
        "#Model 3 stats\n",
        "print('RandomForestRegressor Accuracy Evaluation')\n",
        "print(f'r2 score: {r2_score(y_test, random_forest.predict(X_test))}')\n",
        "print(f'Mean absolute error: {mean_absolute_error(y_test, random_forest.predict(X_test))}')\n",
        "print(f'Mean squared error: {mean_squared_error(y_test, random_forest.predict(X_test))}')\n"
      ]
    },
    {
      "cell_type": "markdown",
      "source": [
        "# Conclusion"
      ],
      "metadata": {
        "id": "OsR83vADfU45"
      }
    },
    {
      "cell_type": "markdown",
      "source": [
        "After carry out EDA on the dataset i found out how different column are related to our target in this case which was price for example if we relate mileage to price we found out that when mileage was high the price was low and vice verse.even the number of years as they increased the  price also increased.also diffrent brands or Make related to price diffrently or example Bently had high prices as much as BMW were many which indicates that Bently are costly .From our Model  results we can see that the model which performed best is RandomForestRegressor ater trying diffrent models even though not all .That is why it qualfys to be used for predictions since its Score was 94.35%"
      ],
      "metadata": {
        "id": "SgToAlTubdD4"
      }
    },
    {
      "cell_type": "code",
      "source": [
        ""
      ],
      "metadata": {
        "id": "1F481lwINQ6J"
      },
      "execution_count": null,
      "outputs": []
    },
    {
      "cell_type": "code",
      "source": [
        "from google.colab import drive\n",
        "drive.mount('/content/drive')"
      ],
      "metadata": {
        "colab": {
          "base_uri": "https://localhost:8080/"
        },
        "id": "TOrWnzSgRZmc",
        "outputId": "360f8365-62fa-4914-995e-2aac9082910c"
      },
      "execution_count": 62,
      "outputs": [
        {
          "output_type": "stream",
          "name": "stdout",
          "text": [
            "Mounted at /content/drive\n"
          ]
        }
      ]
    }
  ],
  "metadata": {
    "colab": {
      "collapsed_sections": [],
      "name": "kiboma EDA for used car Price Prediction.ipynb",
      "provenance": []
    },
    "kernelspec": {
      "display_name": "Python 3 (ipykernel)",
      "language": "python",
      "name": "python3"
    },
    "language_info": {
      "codemirror_mode": {
        "name": "ipython",
        "version": 3
      },
      "file_extension": ".py",
      "mimetype": "text/x-python",
      "name": "python",
      "nbconvert_exporter": "python",
      "pygments_lexer": "ipython3",
      "version": "3.8.10"
    }
  },
  "nbformat": 4,
  "nbformat_minor": 0
}