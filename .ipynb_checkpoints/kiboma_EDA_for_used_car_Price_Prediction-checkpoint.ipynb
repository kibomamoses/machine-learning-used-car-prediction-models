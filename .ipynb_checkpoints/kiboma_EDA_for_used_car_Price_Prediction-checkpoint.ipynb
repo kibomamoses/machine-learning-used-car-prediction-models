{
 "cells": [
  {
   "cell_type": "markdown",
   "metadata": {
    "id": "-y7UMwShTMIm"
   },
   "source": [
    "# Used Car Dataset EDA and Price Prediction datasets\n",
    "by Moses Kiboma"
   ]
  },
  {
   "cell_type": "markdown",
   "metadata": {
    "id": "zedzF35_dkD8"
   },
   "source": [
    "#  Loading Dataset\n",
    "For this project, I used the dataset on used car sales from\n",
    "all over the United States from TrueCar. \n",
    "### The features available\n",
    "in this dataset are \n",
    "\n",
    "Mileage,\n",
    "Make,\n",
    "Model,\n",
    "Year,\n",
    "State,\n",
    "City,"
   ]
  },
  {
   "cell_type": "markdown",
   "metadata": {
    "id": "tPj9oN99eMmW"
   },
   "source": [
    "### Import necessary libraries"
   ]
  },
  {
   "cell_type": "code",
   "execution_count": 1,
   "metadata": {
    "id": "UUUnPZ4-TMIw"
   },
   "outputs": [],
   "source": [
    "import pandas as pd #dataframe\n",
    "import numpy as np #mathematical computations\n",
    "import matplotlib.pyplot as plt #visualization\n",
    "import seaborn as sns #visualization\n",
    "from sklearn.model_selection import train_test_split #Splitting the dataset into training and testing\n",
    "from sklearn.model_selection import ShuffleSplit #Random shuffling\n",
    "from sklearn.model_selection import cross_val_score #Score cross validation\n",
    "from warnings import simplefilter #Filtering warnings\n",
    "#Liblaries for models\n",
    "from sklearn.linear_model import LinearRegression, Ridge\n",
    "from sklearn.neighbors import KNeighborsRegressor\n",
    "from sklearn.tree import DecisionTreeRegressor\n",
    "simplefilter(action='ignore', category=FutureWarning)\n",
    "%matplotlib inline"
   ]
  },
  {
   "cell_type": "markdown",
   "metadata": {
    "id": "WTokwm-nTMIz"
   },
   "source": [
    "### Loading dataaets into DataFrames"
   ]
  },
  {
   "cell_type": "code",
   "execution_count": null,
   "metadata": {
    "colab": {
     "base_uri": "https://localhost:8080/",
     "height": 206
    },
    "id": "1AEcd2BxTMIz",
    "outputId": "d6e4322f-5632-4cb8-924a-b09ecff065c5"
   },
   "outputs": [],
   "source": [
    "#Loading Dataset 1\n",
    "df1 = pd.read_csv('true_car_listings.csv')\n",
    "df1.head()"
   ]
  },
  {
   "cell_type": "code",
   "execution_count": 67,
   "metadata": {
    "colab": {
     "base_uri": "https://localhost:8080/",
     "height": 206
    },
    "id": "taeK1lhdTMI1",
    "outputId": "c6abaaac-4aaf-46a6-fcf6-91bc82896830"
   },
   "outputs": [
    {
     "data": {
      "text/html": [
       "\n",
       "  <div id=\"df-8a2156d4-c5dd-4933-8597-efdbfac5dea1\">\n",
       "    <div class=\"colab-df-container\">\n",
       "      <div>\n",
       "<style scoped>\n",
       "    .dataframe tbody tr th:only-of-type {\n",
       "        vertical-align: middle;\n",
       "    }\n",
       "\n",
       "    .dataframe tbody tr th {\n",
       "        vertical-align: top;\n",
       "    }\n",
       "\n",
       "    .dataframe thead th {\n",
       "        text-align: right;\n",
       "    }\n",
       "</style>\n",
       "<table border=\"1\" class=\"dataframe\">\n",
       "  <thead>\n",
       "    <tr style=\"text-align: right;\">\n",
       "      <th></th>\n",
       "      <th>Id</th>\n",
       "      <th>Price</th>\n",
       "      <th>Year</th>\n",
       "      <th>Mileage</th>\n",
       "      <th>City</th>\n",
       "      <th>State</th>\n",
       "      <th>Vin</th>\n",
       "      <th>Make</th>\n",
       "      <th>Model</th>\n",
       "    </tr>\n",
       "  </thead>\n",
       "  <tbody>\n",
       "    <tr>\n",
       "      <th>0</th>\n",
       "      <td>1</td>\n",
       "      <td>16472</td>\n",
       "      <td>2015</td>\n",
       "      <td>18681</td>\n",
       "      <td>Jefferson City</td>\n",
       "      <td>MO</td>\n",
       "      <td>KL4CJBSBXFB267643</td>\n",
       "      <td>Buick</td>\n",
       "      <td>EncoreConvenience</td>\n",
       "    </tr>\n",
       "    <tr>\n",
       "      <th>1</th>\n",
       "      <td>2</td>\n",
       "      <td>15749</td>\n",
       "      <td>2015</td>\n",
       "      <td>27592</td>\n",
       "      <td>Highland</td>\n",
       "      <td>IN</td>\n",
       "      <td>KL4CJASB5FB245057</td>\n",
       "      <td>Buick</td>\n",
       "      <td>EncoreFWD</td>\n",
       "    </tr>\n",
       "    <tr>\n",
       "      <th>2</th>\n",
       "      <td>3</td>\n",
       "      <td>16998</td>\n",
       "      <td>2015</td>\n",
       "      <td>13650</td>\n",
       "      <td>Boone</td>\n",
       "      <td>NC</td>\n",
       "      <td>KL4CJCSB0FB264921</td>\n",
       "      <td>Buick</td>\n",
       "      <td>EncoreLeather</td>\n",
       "    </tr>\n",
       "    <tr>\n",
       "      <th>3</th>\n",
       "      <td>4</td>\n",
       "      <td>15777</td>\n",
       "      <td>2015</td>\n",
       "      <td>25195</td>\n",
       "      <td>New Orleans</td>\n",
       "      <td>LA</td>\n",
       "      <td>KL4CJASB4FB217542</td>\n",
       "      <td>Buick</td>\n",
       "      <td>EncoreFWD</td>\n",
       "    </tr>\n",
       "    <tr>\n",
       "      <th>4</th>\n",
       "      <td>5</td>\n",
       "      <td>16784</td>\n",
       "      <td>2015</td>\n",
       "      <td>22800</td>\n",
       "      <td>Las Vegas</td>\n",
       "      <td>NV</td>\n",
       "      <td>KL4CJBSB3FB166881</td>\n",
       "      <td>Buick</td>\n",
       "      <td>EncoreConvenience</td>\n",
       "    </tr>\n",
       "  </tbody>\n",
       "</table>\n",
       "</div>\n",
       "      <button class=\"colab-df-convert\" onclick=\"convertToInteractive('df-8a2156d4-c5dd-4933-8597-efdbfac5dea1')\"\n",
       "              title=\"Convert this dataframe to an interactive table.\"\n",
       "              style=\"display:none;\">\n",
       "        \n",
       "  <svg xmlns=\"http://www.w3.org/2000/svg\" height=\"24px\"viewBox=\"0 0 24 24\"\n",
       "       width=\"24px\">\n",
       "    <path d=\"M0 0h24v24H0V0z\" fill=\"none\"/>\n",
       "    <path d=\"M18.56 5.44l.94 2.06.94-2.06 2.06-.94-2.06-.94-.94-2.06-.94 2.06-2.06.94zm-11 1L8.5 8.5l.94-2.06 2.06-.94-2.06-.94L8.5 2.5l-.94 2.06-2.06.94zm10 10l.94 2.06.94-2.06 2.06-.94-2.06-.94-.94-2.06-.94 2.06-2.06.94z\"/><path d=\"M17.41 7.96l-1.37-1.37c-.4-.4-.92-.59-1.43-.59-.52 0-1.04.2-1.43.59L10.3 9.45l-7.72 7.72c-.78.78-.78 2.05 0 2.83L4 21.41c.39.39.9.59 1.41.59.51 0 1.02-.2 1.41-.59l7.78-7.78 2.81-2.81c.8-.78.8-2.07 0-2.86zM5.41 20L4 18.59l7.72-7.72 1.47 1.35L5.41 20z\"/>\n",
       "  </svg>\n",
       "      </button>\n",
       "      \n",
       "  <style>\n",
       "    .colab-df-container {\n",
       "      display:flex;\n",
       "      flex-wrap:wrap;\n",
       "      gap: 12px;\n",
       "    }\n",
       "\n",
       "    .colab-df-convert {\n",
       "      background-color: #E8F0FE;\n",
       "      border: none;\n",
       "      border-radius: 50%;\n",
       "      cursor: pointer;\n",
       "      display: none;\n",
       "      fill: #1967D2;\n",
       "      height: 32px;\n",
       "      padding: 0 0 0 0;\n",
       "      width: 32px;\n",
       "    }\n",
       "\n",
       "    .colab-df-convert:hover {\n",
       "      background-color: #E2EBFA;\n",
       "      box-shadow: 0px 1px 2px rgba(60, 64, 67, 0.3), 0px 1px 3px 1px rgba(60, 64, 67, 0.15);\n",
       "      fill: #174EA6;\n",
       "    }\n",
       "\n",
       "    [theme=dark] .colab-df-convert {\n",
       "      background-color: #3B4455;\n",
       "      fill: #D2E3FC;\n",
       "    }\n",
       "\n",
       "    [theme=dark] .colab-df-convert:hover {\n",
       "      background-color: #434B5C;\n",
       "      box-shadow: 0px 1px 3px 1px rgba(0, 0, 0, 0.15);\n",
       "      filter: drop-shadow(0px 1px 2px rgba(0, 0, 0, 0.3));\n",
       "      fill: #FFFFFF;\n",
       "    }\n",
       "  </style>\n",
       "\n",
       "      <script>\n",
       "        const buttonEl =\n",
       "          document.querySelector('#df-8a2156d4-c5dd-4933-8597-efdbfac5dea1 button.colab-df-convert');\n",
       "        buttonEl.style.display =\n",
       "          google.colab.kernel.accessAllowed ? 'block' : 'none';\n",
       "\n",
       "        async function convertToInteractive(key) {\n",
       "          const element = document.querySelector('#df-8a2156d4-c5dd-4933-8597-efdbfac5dea1');\n",
       "          const dataTable =\n",
       "            await google.colab.kernel.invokeFunction('convertToInteractive',\n",
       "                                                     [key], {});\n",
       "          if (!dataTable) return;\n",
       "\n",
       "          const docLinkHtml = 'Like what you see? Visit the ' +\n",
       "            '<a target=\"_blank\" href=https://colab.research.google.com/notebooks/data_table.ipynb>data table notebook</a>'\n",
       "            + ' to learn more about interactive tables.';\n",
       "          element.innerHTML = '';\n",
       "          dataTable['output_type'] = 'display_data';\n",
       "          await google.colab.output.renderOutput(dataTable, element);\n",
       "          const docLink = document.createElement('div');\n",
       "          docLink.innerHTML = docLinkHtml;\n",
       "          element.appendChild(docLink);\n",
       "        }\n",
       "      </script>\n",
       "    </div>\n",
       "  </div>\n",
       "  "
      ],
      "text/plain": [
       "   Id  Price  Year  Mileage            City State                Vin   Make  \\\n",
       "0   1  16472  2015    18681  Jefferson City    MO  KL4CJBSBXFB267643  Buick   \n",
       "1   2  15749  2015    27592        Highland    IN  KL4CJASB5FB245057  Buick   \n",
       "2   3  16998  2015    13650           Boone    NC  KL4CJCSB0FB264921  Buick   \n",
       "3   4  15777  2015    25195     New Orleans    LA  KL4CJASB4FB217542  Buick   \n",
       "4   5  16784  2015    22800       Las Vegas    NV  KL4CJBSB3FB166881  Buick   \n",
       "\n",
       "               Model  \n",
       "0  EncoreConvenience  \n",
       "1          EncoreFWD  \n",
       "2      EncoreLeather  \n",
       "3          EncoreFWD  \n",
       "4  EncoreConvenience  "
      ]
     },
     "execution_count": 67,
     "metadata": {},
     "output_type": "execute_result"
    }
   ],
   "source": [
    "#Loading Dataset and skipping bad lines\n",
    "df2 = pd.read_csv('tc20171021.csv' , on_bad_lines='skip')\n",
    "df2.head()\n"
   ]
  },
  {
   "cell_type": "code",
   "execution_count": 68,
   "metadata": {
    "colab": {
     "base_uri": "https://localhost:8080/"
    },
    "id": "awAb3DSxTMI2",
    "outputId": "0d2e4102-db4e-4625-b3fb-d1f2bf9afaa7"
   },
   "outputs": [
    {
     "data": {
      "text/plain": [
       "(852122, 8)"
      ]
     },
     "execution_count": 68,
     "metadata": {},
     "output_type": "execute_result"
    }
   ],
   "source": [
    "# shape of dataset 1\n",
    "df1.shape\n"
   ]
  },
  {
   "cell_type": "code",
   "execution_count": 69,
   "metadata": {
    "colab": {
     "base_uri": "https://localhost:8080/"
    },
    "id": "277v0205TMI3",
    "outputId": "7303b8a7-dec2-44b6-df78-24e04737a764"
   },
   "outputs": [
    {
     "data": {
      "text/plain": [
       "(1089022, 9)"
      ]
     },
     "execution_count": 69,
     "metadata": {},
     "output_type": "execute_result"
    }
   ],
   "source": [
    "# shape of dataset 1\n",
    "df2.shape"
   ]
  },
  {
   "cell_type": "markdown",
   "metadata": {
    "id": "x1ht6kIQWXZW"
   },
   "source": [
    "# Droping column ID from dataset 2\n",
    "To merge the data sets the colums must be equla that is why we are droping column ID to make sure there is no maerging error"
   ]
  },
  {
   "cell_type": "code",
   "execution_count": 70,
   "metadata": {
    "colab": {
     "base_uri": "https://localhost:8080/",
     "height": 424
    },
    "id": "oQPknz6lUSka",
    "outputId": "561b922d-3191-496b-d9df-c0680bbc11e7"
   },
   "outputs": [
    {
     "data": {
      "text/html": [
       "\n",
       "  <div id=\"df-efa3dcf1-cc35-4248-a00e-f72a9cf697ee\">\n",
       "    <div class=\"colab-df-container\">\n",
       "      <div>\n",
       "<style scoped>\n",
       "    .dataframe tbody tr th:only-of-type {\n",
       "        vertical-align: middle;\n",
       "    }\n",
       "\n",
       "    .dataframe tbody tr th {\n",
       "        vertical-align: top;\n",
       "    }\n",
       "\n",
       "    .dataframe thead th {\n",
       "        text-align: right;\n",
       "    }\n",
       "</style>\n",
       "<table border=\"1\" class=\"dataframe\">\n",
       "  <thead>\n",
       "    <tr style=\"text-align: right;\">\n",
       "      <th></th>\n",
       "      <th>Price</th>\n",
       "      <th>Year</th>\n",
       "      <th>Mileage</th>\n",
       "      <th>City</th>\n",
       "      <th>State</th>\n",
       "      <th>Vin</th>\n",
       "      <th>Make</th>\n",
       "      <th>Model</th>\n",
       "    </tr>\n",
       "  </thead>\n",
       "  <tbody>\n",
       "    <tr>\n",
       "      <th>0</th>\n",
       "      <td>16472</td>\n",
       "      <td>2015</td>\n",
       "      <td>18681</td>\n",
       "      <td>Jefferson City</td>\n",
       "      <td>MO</td>\n",
       "      <td>KL4CJBSBXFB267643</td>\n",
       "      <td>Buick</td>\n",
       "      <td>EncoreConvenience</td>\n",
       "    </tr>\n",
       "    <tr>\n",
       "      <th>1</th>\n",
       "      <td>15749</td>\n",
       "      <td>2015</td>\n",
       "      <td>27592</td>\n",
       "      <td>Highland</td>\n",
       "      <td>IN</td>\n",
       "      <td>KL4CJASB5FB245057</td>\n",
       "      <td>Buick</td>\n",
       "      <td>EncoreFWD</td>\n",
       "    </tr>\n",
       "    <tr>\n",
       "      <th>2</th>\n",
       "      <td>16998</td>\n",
       "      <td>2015</td>\n",
       "      <td>13650</td>\n",
       "      <td>Boone</td>\n",
       "      <td>NC</td>\n",
       "      <td>KL4CJCSB0FB264921</td>\n",
       "      <td>Buick</td>\n",
       "      <td>EncoreLeather</td>\n",
       "    </tr>\n",
       "    <tr>\n",
       "      <th>3</th>\n",
       "      <td>15777</td>\n",
       "      <td>2015</td>\n",
       "      <td>25195</td>\n",
       "      <td>New Orleans</td>\n",
       "      <td>LA</td>\n",
       "      <td>KL4CJASB4FB217542</td>\n",
       "      <td>Buick</td>\n",
       "      <td>EncoreFWD</td>\n",
       "    </tr>\n",
       "    <tr>\n",
       "      <th>4</th>\n",
       "      <td>16784</td>\n",
       "      <td>2015</td>\n",
       "      <td>22800</td>\n",
       "      <td>Las Vegas</td>\n",
       "      <td>NV</td>\n",
       "      <td>KL4CJBSB3FB166881</td>\n",
       "      <td>Buick</td>\n",
       "      <td>EncoreConvenience</td>\n",
       "    </tr>\n",
       "    <tr>\n",
       "      <th>...</th>\n",
       "      <td>...</td>\n",
       "      <td>...</td>\n",
       "      <td>...</td>\n",
       "      <td>...</td>\n",
       "      <td>...</td>\n",
       "      <td>...</td>\n",
       "      <td>...</td>\n",
       "      <td>...</td>\n",
       "    </tr>\n",
       "    <tr>\n",
       "      <th>1089017</th>\n",
       "      <td>13473</td>\n",
       "      <td>2016</td>\n",
       "      <td>20134</td>\n",
       "      <td>Kenner</td>\n",
       "      <td>LA</td>\n",
       "      <td>3MYDLBZV0GY125066</td>\n",
       "      <td>Scion</td>\n",
       "      <td>iAManual</td>\n",
       "    </tr>\n",
       "    <tr>\n",
       "      <th>1089018</th>\n",
       "      <td>12995</td>\n",
       "      <td>2014</td>\n",
       "      <td>25699</td>\n",
       "      <td>Charlotte</td>\n",
       "      <td>NC</td>\n",
       "      <td>JTKJF5C76E3078659</td>\n",
       "      <td>Scion</td>\n",
       "      <td>tCManual</td>\n",
       "    </tr>\n",
       "    <tr>\n",
       "      <th>1089019</th>\n",
       "      <td>13179</td>\n",
       "      <td>2014</td>\n",
       "      <td>39544</td>\n",
       "      <td>North Charleston</td>\n",
       "      <td>SC</td>\n",
       "      <td>JTKJF5C73E3077713</td>\n",
       "      <td>Scion</td>\n",
       "      <td>tCAutomatic</td>\n",
       "    </tr>\n",
       "    <tr>\n",
       "      <th>1089020</th>\n",
       "      <td>10691</td>\n",
       "      <td>2014</td>\n",
       "      <td>12722</td>\n",
       "      <td>Houston</td>\n",
       "      <td>TX</td>\n",
       "      <td>JTKKUPB47E1041998</td>\n",
       "      <td>Scion</td>\n",
       "      <td>xDAutomatic</td>\n",
       "    </tr>\n",
       "    <tr>\n",
       "      <th>1089021</th>\n",
       "      <td>13706</td>\n",
       "      <td>2016</td>\n",
       "      <td>18730</td>\n",
       "      <td>Northampton</td>\n",
       "      <td>MA</td>\n",
       "      <td>JTNKARJE3GJ518320</td>\n",
       "      <td>Scion</td>\n",
       "      <td>iMAutoma</td>\n",
       "    </tr>\n",
       "  </tbody>\n",
       "</table>\n",
       "<p>1089022 rows × 8 columns</p>\n",
       "</div>\n",
       "      <button class=\"colab-df-convert\" onclick=\"convertToInteractive('df-efa3dcf1-cc35-4248-a00e-f72a9cf697ee')\"\n",
       "              title=\"Convert this dataframe to an interactive table.\"\n",
       "              style=\"display:none;\">\n",
       "        \n",
       "  <svg xmlns=\"http://www.w3.org/2000/svg\" height=\"24px\"viewBox=\"0 0 24 24\"\n",
       "       width=\"24px\">\n",
       "    <path d=\"M0 0h24v24H0V0z\" fill=\"none\"/>\n",
       "    <path d=\"M18.56 5.44l.94 2.06.94-2.06 2.06-.94-2.06-.94-.94-2.06-.94 2.06-2.06.94zm-11 1L8.5 8.5l.94-2.06 2.06-.94-2.06-.94L8.5 2.5l-.94 2.06-2.06.94zm10 10l.94 2.06.94-2.06 2.06-.94-2.06-.94-.94-2.06-.94 2.06-2.06.94z\"/><path d=\"M17.41 7.96l-1.37-1.37c-.4-.4-.92-.59-1.43-.59-.52 0-1.04.2-1.43.59L10.3 9.45l-7.72 7.72c-.78.78-.78 2.05 0 2.83L4 21.41c.39.39.9.59 1.41.59.51 0 1.02-.2 1.41-.59l7.78-7.78 2.81-2.81c.8-.78.8-2.07 0-2.86zM5.41 20L4 18.59l7.72-7.72 1.47 1.35L5.41 20z\"/>\n",
       "  </svg>\n",
       "      </button>\n",
       "      \n",
       "  <style>\n",
       "    .colab-df-container {\n",
       "      display:flex;\n",
       "      flex-wrap:wrap;\n",
       "      gap: 12px;\n",
       "    }\n",
       "\n",
       "    .colab-df-convert {\n",
       "      background-color: #E8F0FE;\n",
       "      border: none;\n",
       "      border-radius: 50%;\n",
       "      cursor: pointer;\n",
       "      display: none;\n",
       "      fill: #1967D2;\n",
       "      height: 32px;\n",
       "      padding: 0 0 0 0;\n",
       "      width: 32px;\n",
       "    }\n",
       "\n",
       "    .colab-df-convert:hover {\n",
       "      background-color: #E2EBFA;\n",
       "      box-shadow: 0px 1px 2px rgba(60, 64, 67, 0.3), 0px 1px 3px 1px rgba(60, 64, 67, 0.15);\n",
       "      fill: #174EA6;\n",
       "    }\n",
       "\n",
       "    [theme=dark] .colab-df-convert {\n",
       "      background-color: #3B4455;\n",
       "      fill: #D2E3FC;\n",
       "    }\n",
       "\n",
       "    [theme=dark] .colab-df-convert:hover {\n",
       "      background-color: #434B5C;\n",
       "      box-shadow: 0px 1px 3px 1px rgba(0, 0, 0, 0.15);\n",
       "      filter: drop-shadow(0px 1px 2px rgba(0, 0, 0, 0.3));\n",
       "      fill: #FFFFFF;\n",
       "    }\n",
       "  </style>\n",
       "\n",
       "      <script>\n",
       "        const buttonEl =\n",
       "          document.querySelector('#df-efa3dcf1-cc35-4248-a00e-f72a9cf697ee button.colab-df-convert');\n",
       "        buttonEl.style.display =\n",
       "          google.colab.kernel.accessAllowed ? 'block' : 'none';\n",
       "\n",
       "        async function convertToInteractive(key) {\n",
       "          const element = document.querySelector('#df-efa3dcf1-cc35-4248-a00e-f72a9cf697ee');\n",
       "          const dataTable =\n",
       "            await google.colab.kernel.invokeFunction('convertToInteractive',\n",
       "                                                     [key], {});\n",
       "          if (!dataTable) return;\n",
       "\n",
       "          const docLinkHtml = 'Like what you see? Visit the ' +\n",
       "            '<a target=\"_blank\" href=https://colab.research.google.com/notebooks/data_table.ipynb>data table notebook</a>'\n",
       "            + ' to learn more about interactive tables.';\n",
       "          element.innerHTML = '';\n",
       "          dataTable['output_type'] = 'display_data';\n",
       "          await google.colab.output.renderOutput(dataTable, element);\n",
       "          const docLink = document.createElement('div');\n",
       "          docLink.innerHTML = docLinkHtml;\n",
       "          element.appendChild(docLink);\n",
       "        }\n",
       "      </script>\n",
       "    </div>\n",
       "  </div>\n",
       "  "
      ],
      "text/plain": [
       "         Price  Year  Mileage              City State                Vin  \\\n",
       "0        16472  2015    18681    Jefferson City    MO  KL4CJBSBXFB267643   \n",
       "1        15749  2015    27592          Highland    IN  KL4CJASB5FB245057   \n",
       "2        16998  2015    13650             Boone    NC  KL4CJCSB0FB264921   \n",
       "3        15777  2015    25195       New Orleans    LA  KL4CJASB4FB217542   \n",
       "4        16784  2015    22800         Las Vegas    NV  KL4CJBSB3FB166881   \n",
       "...        ...   ...      ...               ...   ...                ...   \n",
       "1089017  13473  2016    20134            Kenner    LA  3MYDLBZV0GY125066   \n",
       "1089018  12995  2014    25699         Charlotte    NC  JTKJF5C76E3078659   \n",
       "1089019  13179  2014    39544  North Charleston    SC  JTKJF5C73E3077713   \n",
       "1089020  10691  2014    12722           Houston    TX  JTKKUPB47E1041998   \n",
       "1089021  13706  2016    18730       Northampton    MA  JTNKARJE3GJ518320   \n",
       "\n",
       "          Make              Model  \n",
       "0        Buick  EncoreConvenience  \n",
       "1        Buick          EncoreFWD  \n",
       "2        Buick      EncoreLeather  \n",
       "3        Buick          EncoreFWD  \n",
       "4        Buick  EncoreConvenience  \n",
       "...        ...                ...  \n",
       "1089017  Scion           iAManual  \n",
       "1089018  Scion           tCManual  \n",
       "1089019  Scion        tCAutomatic  \n",
       "1089020  Scion        xDAutomatic  \n",
       "1089021  Scion           iMAutoma  \n",
       "\n",
       "[1089022 rows x 8 columns]"
      ]
     },
     "execution_count": 70,
     "metadata": {},
     "output_type": "execute_result"
    }
   ],
   "source": [
    "df3=df2.drop(['Id'], axis = 1)\n",
    "df3"
   ]
  },
  {
   "cell_type": "code",
   "execution_count": 71,
   "metadata": {
    "colab": {
     "base_uri": "https://localhost:8080/"
    },
    "id": "bSyl9RugTMI4",
    "outputId": "0b0824d0-0a93-4c42-d2c4-69c4b5fd2c78"
   },
   "outputs": [
    {
     "data": {
      "text/plain": [
       "Index(['Price', 'Year', 'Mileage', 'City', 'State', 'Vin', 'Make', 'Model'], dtype='object')"
      ]
     },
     "execution_count": 71,
     "metadata": {},
     "output_type": "execute_result"
    }
   ],
   "source": [
    "# dataset 1 columns\n",
    "df1.columns\n"
   ]
  },
  {
   "cell_type": "code",
   "execution_count": 72,
   "metadata": {
    "colab": {
     "base_uri": "https://localhost:8080/"
    },
    "id": "jioUyNvsTMI5",
    "outputId": "138b6c48-09c5-4d5d-8345-4eee237c3f5b"
   },
   "outputs": [
    {
     "data": {
      "text/plain": [
       "Index(['Price', 'Year', 'Mileage', 'City', 'State', 'Vin', 'Make', 'Model'], dtype='object')"
      ]
     },
     "execution_count": 72,
     "metadata": {},
     "output_type": "execute_result"
    }
   ],
   "source": [
    "#dataset 2 columns\n",
    "df3.columns"
   ]
  },
  {
   "cell_type": "markdown",
   "metadata": {
    "id": "9wGA69dD77A5"
   },
   "source": [
    "Now that colums are equal as show by the results we can be able to merge"
   ]
  },
  {
   "cell_type": "markdown",
   "metadata": {
    "id": "TWr-meWIWw-p"
   },
   "source": [
    "# Merging the datasets"
   ]
  },
  {
   "cell_type": "code",
   "execution_count": 73,
   "metadata": {
    "colab": {
     "base_uri": "https://localhost:8080/",
     "height": 424
    },
    "id": "x7rqYhlKVU05",
    "outputId": "2665c3ee-2d73-454c-a680-6a763b18e150"
   },
   "outputs": [
    {
     "data": {
      "text/html": [
       "\n",
       "  <div id=\"df-7c208d83-6799-402d-b1dd-0467981080f0\">\n",
       "    <div class=\"colab-df-container\">\n",
       "      <div>\n",
       "<style scoped>\n",
       "    .dataframe tbody tr th:only-of-type {\n",
       "        vertical-align: middle;\n",
       "    }\n",
       "\n",
       "    .dataframe tbody tr th {\n",
       "        vertical-align: top;\n",
       "    }\n",
       "\n",
       "    .dataframe thead th {\n",
       "        text-align: right;\n",
       "    }\n",
       "</style>\n",
       "<table border=\"1\" class=\"dataframe\">\n",
       "  <thead>\n",
       "    <tr style=\"text-align: right;\">\n",
       "      <th></th>\n",
       "      <th>Price</th>\n",
       "      <th>Year</th>\n",
       "      <th>Mileage</th>\n",
       "      <th>City</th>\n",
       "      <th>State</th>\n",
       "      <th>Vin</th>\n",
       "      <th>Make</th>\n",
       "      <th>Model</th>\n",
       "    </tr>\n",
       "  </thead>\n",
       "  <tbody>\n",
       "    <tr>\n",
       "      <th>0</th>\n",
       "      <td>8995</td>\n",
       "      <td>2014</td>\n",
       "      <td>35725</td>\n",
       "      <td>El Paso</td>\n",
       "      <td>TX</td>\n",
       "      <td>19VDE2E53EE000083</td>\n",
       "      <td>Acura</td>\n",
       "      <td>ILX6-Speed</td>\n",
       "    </tr>\n",
       "    <tr>\n",
       "      <th>1</th>\n",
       "      <td>10888</td>\n",
       "      <td>2013</td>\n",
       "      <td>19606</td>\n",
       "      <td>Long Island City</td>\n",
       "      <td>NY</td>\n",
       "      <td>19VDE1F52DE012636</td>\n",
       "      <td>Acura</td>\n",
       "      <td>ILX5-Speed</td>\n",
       "    </tr>\n",
       "    <tr>\n",
       "      <th>2</th>\n",
       "      <td>8995</td>\n",
       "      <td>2013</td>\n",
       "      <td>48851</td>\n",
       "      <td>El Paso</td>\n",
       "      <td>TX</td>\n",
       "      <td>19VDE2E52DE000025</td>\n",
       "      <td>Acura</td>\n",
       "      <td>ILX6-Speed</td>\n",
       "    </tr>\n",
       "    <tr>\n",
       "      <th>3</th>\n",
       "      <td>10999</td>\n",
       "      <td>2014</td>\n",
       "      <td>39922</td>\n",
       "      <td>Windsor</td>\n",
       "      <td>CO</td>\n",
       "      <td>19VDE1F71EE003817</td>\n",
       "      <td>Acura</td>\n",
       "      <td>ILX5-Speed</td>\n",
       "    </tr>\n",
       "    <tr>\n",
       "      <th>4</th>\n",
       "      <td>14799</td>\n",
       "      <td>2016</td>\n",
       "      <td>22142</td>\n",
       "      <td>Lindon</td>\n",
       "      <td>UT</td>\n",
       "      <td>19UDE2F32GA001284</td>\n",
       "      <td>Acura</td>\n",
       "      <td>ILXAutomatic</td>\n",
       "    </tr>\n",
       "    <tr>\n",
       "      <th>...</th>\n",
       "      <td>...</td>\n",
       "      <td>...</td>\n",
       "      <td>...</td>\n",
       "      <td>...</td>\n",
       "      <td>...</td>\n",
       "      <td>...</td>\n",
       "      <td>...</td>\n",
       "      <td>...</td>\n",
       "    </tr>\n",
       "    <tr>\n",
       "      <th>521109</th>\n",
       "      <td>55499</td>\n",
       "      <td>2016</td>\n",
       "      <td>25659</td>\n",
       "      <td>Fort Collins</td>\n",
       "      <td>CO</td>\n",
       "      <td>YV4A22PLXG1081083</td>\n",
       "      <td>Volvo</td>\n",
       "      <td>XC90AWD</td>\n",
       "    </tr>\n",
       "    <tr>\n",
       "      <th>521110</th>\n",
       "      <td>56789</td>\n",
       "      <td>2016</td>\n",
       "      <td>19250</td>\n",
       "      <td>Summit</td>\n",
       "      <td>NJ</td>\n",
       "      <td>YV4A22PM8G1050830</td>\n",
       "      <td>Volvo</td>\n",
       "      <td>XC90AWD</td>\n",
       "    </tr>\n",
       "    <tr>\n",
       "      <th>521111</th>\n",
       "      <td>59175</td>\n",
       "      <td>2017</td>\n",
       "      <td>1322</td>\n",
       "      <td>Englewood</td>\n",
       "      <td>NJ</td>\n",
       "      <td>YV1A22MKXH1010413</td>\n",
       "      <td>Volvo</td>\n",
       "      <td>S90T6</td>\n",
       "    </tr>\n",
       "    <tr>\n",
       "      <th>521112</th>\n",
       "      <td>59260</td>\n",
       "      <td>2017</td>\n",
       "      <td>2126</td>\n",
       "      <td>Hasbrouck Heights</td>\n",
       "      <td>NJ</td>\n",
       "      <td>YV1A22MK0H1015281</td>\n",
       "      <td>Volvo</td>\n",
       "      <td>S90T6</td>\n",
       "    </tr>\n",
       "    <tr>\n",
       "      <th>521113</th>\n",
       "      <td>55999</td>\n",
       "      <td>2016</td>\n",
       "      <td>28941</td>\n",
       "      <td>Fort Collins</td>\n",
       "      <td>CO</td>\n",
       "      <td>YV4A22PL4G1000868</td>\n",
       "      <td>Volvo</td>\n",
       "      <td>XC90AWD</td>\n",
       "    </tr>\n",
       "  </tbody>\n",
       "</table>\n",
       "<p>521114 rows × 8 columns</p>\n",
       "</div>\n",
       "      <button class=\"colab-df-convert\" onclick=\"convertToInteractive('df-7c208d83-6799-402d-b1dd-0467981080f0')\"\n",
       "              title=\"Convert this dataframe to an interactive table.\"\n",
       "              style=\"display:none;\">\n",
       "        \n",
       "  <svg xmlns=\"http://www.w3.org/2000/svg\" height=\"24px\"viewBox=\"0 0 24 24\"\n",
       "       width=\"24px\">\n",
       "    <path d=\"M0 0h24v24H0V0z\" fill=\"none\"/>\n",
       "    <path d=\"M18.56 5.44l.94 2.06.94-2.06 2.06-.94-2.06-.94-.94-2.06-.94 2.06-2.06.94zm-11 1L8.5 8.5l.94-2.06 2.06-.94-2.06-.94L8.5 2.5l-.94 2.06-2.06.94zm10 10l.94 2.06.94-2.06 2.06-.94-2.06-.94-.94-2.06-.94 2.06-2.06.94z\"/><path d=\"M17.41 7.96l-1.37-1.37c-.4-.4-.92-.59-1.43-.59-.52 0-1.04.2-1.43.59L10.3 9.45l-7.72 7.72c-.78.78-.78 2.05 0 2.83L4 21.41c.39.39.9.59 1.41.59.51 0 1.02-.2 1.41-.59l7.78-7.78 2.81-2.81c.8-.78.8-2.07 0-2.86zM5.41 20L4 18.59l7.72-7.72 1.47 1.35L5.41 20z\"/>\n",
       "  </svg>\n",
       "      </button>\n",
       "      \n",
       "  <style>\n",
       "    .colab-df-container {\n",
       "      display:flex;\n",
       "      flex-wrap:wrap;\n",
       "      gap: 12px;\n",
       "    }\n",
       "\n",
       "    .colab-df-convert {\n",
       "      background-color: #E8F0FE;\n",
       "      border: none;\n",
       "      border-radius: 50%;\n",
       "      cursor: pointer;\n",
       "      display: none;\n",
       "      fill: #1967D2;\n",
       "      height: 32px;\n",
       "      padding: 0 0 0 0;\n",
       "      width: 32px;\n",
       "    }\n",
       "\n",
       "    .colab-df-convert:hover {\n",
       "      background-color: #E2EBFA;\n",
       "      box-shadow: 0px 1px 2px rgba(60, 64, 67, 0.3), 0px 1px 3px 1px rgba(60, 64, 67, 0.15);\n",
       "      fill: #174EA6;\n",
       "    }\n",
       "\n",
       "    [theme=dark] .colab-df-convert {\n",
       "      background-color: #3B4455;\n",
       "      fill: #D2E3FC;\n",
       "    }\n",
       "\n",
       "    [theme=dark] .colab-df-convert:hover {\n",
       "      background-color: #434B5C;\n",
       "      box-shadow: 0px 1px 3px 1px rgba(0, 0, 0, 0.15);\n",
       "      filter: drop-shadow(0px 1px 2px rgba(0, 0, 0, 0.3));\n",
       "      fill: #FFFFFF;\n",
       "    }\n",
       "  </style>\n",
       "\n",
       "      <script>\n",
       "        const buttonEl =\n",
       "          document.querySelector('#df-7c208d83-6799-402d-b1dd-0467981080f0 button.colab-df-convert');\n",
       "        buttonEl.style.display =\n",
       "          google.colab.kernel.accessAllowed ? 'block' : 'none';\n",
       "\n",
       "        async function convertToInteractive(key) {\n",
       "          const element = document.querySelector('#df-7c208d83-6799-402d-b1dd-0467981080f0');\n",
       "          const dataTable =\n",
       "            await google.colab.kernel.invokeFunction('convertToInteractive',\n",
       "                                                     [key], {});\n",
       "          if (!dataTable) return;\n",
       "\n",
       "          const docLinkHtml = 'Like what you see? Visit the ' +\n",
       "            '<a target=\"_blank\" href=https://colab.research.google.com/notebooks/data_table.ipynb>data table notebook</a>'\n",
       "            + ' to learn more about interactive tables.';\n",
       "          element.innerHTML = '';\n",
       "          dataTable['output_type'] = 'display_data';\n",
       "          await google.colab.output.renderOutput(dataTable, element);\n",
       "          const docLink = document.createElement('div');\n",
       "          docLink.innerHTML = docLinkHtml;\n",
       "          element.appendChild(docLink);\n",
       "        }\n",
       "      </script>\n",
       "    </div>\n",
       "  </div>\n",
       "  "
      ],
      "text/plain": [
       "        Price  Year  Mileage               City State                Vin  \\\n",
       "0        8995  2014    35725            El Paso    TX  19VDE2E53EE000083   \n",
       "1       10888  2013    19606   Long Island City    NY  19VDE1F52DE012636   \n",
       "2        8995  2013    48851            El Paso    TX  19VDE2E52DE000025   \n",
       "3       10999  2014    39922            Windsor    CO  19VDE1F71EE003817   \n",
       "4       14799  2016    22142             Lindon    UT  19UDE2F32GA001284   \n",
       "...       ...   ...      ...                ...   ...                ...   \n",
       "521109  55499  2016    25659       Fort Collins    CO  YV4A22PLXG1081083   \n",
       "521110  56789  2016    19250             Summit    NJ  YV4A22PM8G1050830   \n",
       "521111  59175  2017     1322          Englewood    NJ  YV1A22MKXH1010413   \n",
       "521112  59260  2017     2126  Hasbrouck Heights    NJ  YV1A22MK0H1015281   \n",
       "521113  55999  2016    28941       Fort Collins    CO  YV4A22PL4G1000868   \n",
       "\n",
       "         Make         Model  \n",
       "0       Acura    ILX6-Speed  \n",
       "1       Acura    ILX5-Speed  \n",
       "2       Acura    ILX6-Speed  \n",
       "3       Acura    ILX5-Speed  \n",
       "4       Acura  ILXAutomatic  \n",
       "...       ...           ...  \n",
       "521109  Volvo       XC90AWD  \n",
       "521110  Volvo       XC90AWD  \n",
       "521111  Volvo         S90T6  \n",
       "521112  Volvo         S90T6  \n",
       "521113  Volvo       XC90AWD  \n",
       "\n",
       "[521114 rows x 8 columns]"
      ]
     },
     "execution_count": 73,
     "metadata": {},
     "output_type": "execute_result"
    }
   ],
   "source": [
    "maindf = pd.merge(df1, df3)\n",
    "maindf"
   ]
  },
  {
   "cell_type": "markdown",
   "metadata": {
    "id": "Iu4cWUxu8GUk"
   },
   "source": [
    "After corretly merging the data increases "
   ]
  },
  {
   "cell_type": "markdown",
   "metadata": {
    "id": "i_r2EPYgXczh"
   },
   "source": [
    "# Columns Types\n",
    "Here am finding column types which can help me identfy categorical and numerical data"
   ]
  },
  {
   "cell_type": "code",
   "execution_count": 74,
   "metadata": {
    "colab": {
     "base_uri": "https://localhost:8080/"
    },
    "id": "O0Ja27YEXjXb",
    "outputId": "a2bd2a96-6bc8-4262-d49c-5423bd6e8b46"
   },
   "outputs": [
    {
     "data": {
      "text/plain": [
       "Price       int64\n",
       "Year        int64\n",
       "Mileage     int64\n",
       "City       object\n",
       "State      object\n",
       "Vin        object\n",
       "Make       object\n",
       "Model      object\n",
       "dtype: object"
      ]
     },
     "execution_count": 74,
     "metadata": {},
     "output_type": "execute_result"
    }
   ],
   "source": [
    "maindf.dtypes"
   ]
  },
  {
   "cell_type": "code",
   "execution_count": 75,
   "metadata": {
    "colab": {
     "base_uri": "https://localhost:8080/"
    },
    "id": "cg9VjXnvVgGU",
    "outputId": "2ed2c2ae-0595-43db-8d67-63880574c5d7"
   },
   "outputs": [
    {
     "name": "stdout",
     "output_type": "stream",
     "text": [
      "<class 'pandas.core.frame.DataFrame'>\n",
      "Int64Index: 521114 entries, 0 to 521113\n",
      "Data columns (total 8 columns):\n",
      " #   Column   Non-Null Count   Dtype \n",
      "---  ------   --------------   ----- \n",
      " 0   Price    521114 non-null  int64 \n",
      " 1   Year     521114 non-null  int64 \n",
      " 2   Mileage  521114 non-null  int64 \n",
      " 3   City     521114 non-null  object\n",
      " 4   State    521114 non-null  object\n",
      " 5   Vin      521114 non-null  object\n",
      " 6   Make     521114 non-null  object\n",
      " 7   Model    521114 non-null  object\n",
      "dtypes: int64(3), object(5)\n",
      "memory usage: 35.8+ MB\n"
     ]
    }
   ],
   "source": [
    "maindf.info()"
   ]
  },
  {
   "cell_type": "markdown",
   "metadata": {
    "id": "LuLzL8fV8izQ"
   },
   "source": [
    "This info shows us the summary of the combined dataset"
   ]
  },
  {
   "cell_type": "markdown",
   "metadata": {
    "id": "HWhBTxV-TMI-"
   },
   "source": [
    "# Checking missing values"
   ]
  },
  {
   "cell_type": "code",
   "execution_count": 76,
   "metadata": {
    "colab": {
     "base_uri": "https://localhost:8080/"
    },
    "id": "IHQEOBZjTMI_",
    "outputId": "9c77d3ad-3978-4692-9a8d-4dcfa93a6e9d"
   },
   "outputs": [
    {
     "data": {
      "text/plain": [
       "Price      0\n",
       "Year       0\n",
       "Mileage    0\n",
       "City       0\n",
       "State      0\n",
       "Vin        0\n",
       "Make       0\n",
       "Model      0\n",
       "dtype: int64"
      ]
     },
     "execution_count": 76,
     "metadata": {},
     "output_type": "execute_result"
    }
   ],
   "source": [
    "maindf.isnull().sum()"
   ]
  },
  {
   "cell_type": "markdown",
   "metadata": {
    "id": "Rlp_ztLgX6RG"
   },
   "source": [
    "As you can see there are no missing values from the dataset"
   ]
  },
  {
   "cell_type": "markdown",
   "metadata": {
    "id": "1RktbZA3YM2c"
   },
   "source": [
    "# Statistical Analysis:\n"
   ]
  },
  {
   "cell_type": "markdown",
   "metadata": {
    "id": "8r9wgG22YRRJ"
   },
   "source": [
    "# Descriptive Analysis for Numerical data"
   ]
  },
  {
   "cell_type": "markdown",
   "metadata": {
    "id": "egtUtWi48tVu"
   },
   "source": [
    "I have identfied numerical data from our combined dataset"
   ]
  },
  {
   "cell_type": "code",
   "execution_count": 77,
   "metadata": {
    "colab": {
     "base_uri": "https://localhost:8080/",
     "height": 424
    },
    "id": "o_IUFdH-W8YL",
    "outputId": "d66e0dfc-b83e-4b16-aebb-c19434d2eff9"
   },
   "outputs": [
    {
     "data": {
      "text/html": [
       "\n",
       "  <div id=\"df-d49f44a7-d858-4ff5-858d-a295fa4e470d\">\n",
       "    <div class=\"colab-df-container\">\n",
       "      <div>\n",
       "<style scoped>\n",
       "    .dataframe tbody tr th:only-of-type {\n",
       "        vertical-align: middle;\n",
       "    }\n",
       "\n",
       "    .dataframe tbody tr th {\n",
       "        vertical-align: top;\n",
       "    }\n",
       "\n",
       "    .dataframe thead th {\n",
       "        text-align: right;\n",
       "    }\n",
       "</style>\n",
       "<table border=\"1\" class=\"dataframe\">\n",
       "  <thead>\n",
       "    <tr style=\"text-align: right;\">\n",
       "      <th></th>\n",
       "      <th>Price</th>\n",
       "      <th>Year</th>\n",
       "      <th>Mileage</th>\n",
       "    </tr>\n",
       "  </thead>\n",
       "  <tbody>\n",
       "    <tr>\n",
       "      <th>0</th>\n",
       "      <td>8995</td>\n",
       "      <td>2014</td>\n",
       "      <td>35725</td>\n",
       "    </tr>\n",
       "    <tr>\n",
       "      <th>1</th>\n",
       "      <td>10888</td>\n",
       "      <td>2013</td>\n",
       "      <td>19606</td>\n",
       "    </tr>\n",
       "    <tr>\n",
       "      <th>2</th>\n",
       "      <td>8995</td>\n",
       "      <td>2013</td>\n",
       "      <td>48851</td>\n",
       "    </tr>\n",
       "    <tr>\n",
       "      <th>3</th>\n",
       "      <td>10999</td>\n",
       "      <td>2014</td>\n",
       "      <td>39922</td>\n",
       "    </tr>\n",
       "    <tr>\n",
       "      <th>4</th>\n",
       "      <td>14799</td>\n",
       "      <td>2016</td>\n",
       "      <td>22142</td>\n",
       "    </tr>\n",
       "    <tr>\n",
       "      <th>...</th>\n",
       "      <td>...</td>\n",
       "      <td>...</td>\n",
       "      <td>...</td>\n",
       "    </tr>\n",
       "    <tr>\n",
       "      <th>521109</th>\n",
       "      <td>55499</td>\n",
       "      <td>2016</td>\n",
       "      <td>25659</td>\n",
       "    </tr>\n",
       "    <tr>\n",
       "      <th>521110</th>\n",
       "      <td>56789</td>\n",
       "      <td>2016</td>\n",
       "      <td>19250</td>\n",
       "    </tr>\n",
       "    <tr>\n",
       "      <th>521111</th>\n",
       "      <td>59175</td>\n",
       "      <td>2017</td>\n",
       "      <td>1322</td>\n",
       "    </tr>\n",
       "    <tr>\n",
       "      <th>521112</th>\n",
       "      <td>59260</td>\n",
       "      <td>2017</td>\n",
       "      <td>2126</td>\n",
       "    </tr>\n",
       "    <tr>\n",
       "      <th>521113</th>\n",
       "      <td>55999</td>\n",
       "      <td>2016</td>\n",
       "      <td>28941</td>\n",
       "    </tr>\n",
       "  </tbody>\n",
       "</table>\n",
       "<p>521114 rows × 3 columns</p>\n",
       "</div>\n",
       "      <button class=\"colab-df-convert\" onclick=\"convertToInteractive('df-d49f44a7-d858-4ff5-858d-a295fa4e470d')\"\n",
       "              title=\"Convert this dataframe to an interactive table.\"\n",
       "              style=\"display:none;\">\n",
       "        \n",
       "  <svg xmlns=\"http://www.w3.org/2000/svg\" height=\"24px\"viewBox=\"0 0 24 24\"\n",
       "       width=\"24px\">\n",
       "    <path d=\"M0 0h24v24H0V0z\" fill=\"none\"/>\n",
       "    <path d=\"M18.56 5.44l.94 2.06.94-2.06 2.06-.94-2.06-.94-.94-2.06-.94 2.06-2.06.94zm-11 1L8.5 8.5l.94-2.06 2.06-.94-2.06-.94L8.5 2.5l-.94 2.06-2.06.94zm10 10l.94 2.06.94-2.06 2.06-.94-2.06-.94-.94-2.06-.94 2.06-2.06.94z\"/><path d=\"M17.41 7.96l-1.37-1.37c-.4-.4-.92-.59-1.43-.59-.52 0-1.04.2-1.43.59L10.3 9.45l-7.72 7.72c-.78.78-.78 2.05 0 2.83L4 21.41c.39.39.9.59 1.41.59.51 0 1.02-.2 1.41-.59l7.78-7.78 2.81-2.81c.8-.78.8-2.07 0-2.86zM5.41 20L4 18.59l7.72-7.72 1.47 1.35L5.41 20z\"/>\n",
       "  </svg>\n",
       "      </button>\n",
       "      \n",
       "  <style>\n",
       "    .colab-df-container {\n",
       "      display:flex;\n",
       "      flex-wrap:wrap;\n",
       "      gap: 12px;\n",
       "    }\n",
       "\n",
       "    .colab-df-convert {\n",
       "      background-color: #E8F0FE;\n",
       "      border: none;\n",
       "      border-radius: 50%;\n",
       "      cursor: pointer;\n",
       "      display: none;\n",
       "      fill: #1967D2;\n",
       "      height: 32px;\n",
       "      padding: 0 0 0 0;\n",
       "      width: 32px;\n",
       "    }\n",
       "\n",
       "    .colab-df-convert:hover {\n",
       "      background-color: #E2EBFA;\n",
       "      box-shadow: 0px 1px 2px rgba(60, 64, 67, 0.3), 0px 1px 3px 1px rgba(60, 64, 67, 0.15);\n",
       "      fill: #174EA6;\n",
       "    }\n",
       "\n",
       "    [theme=dark] .colab-df-convert {\n",
       "      background-color: #3B4455;\n",
       "      fill: #D2E3FC;\n",
       "    }\n",
       "\n",
       "    [theme=dark] .colab-df-convert:hover {\n",
       "      background-color: #434B5C;\n",
       "      box-shadow: 0px 1px 3px 1px rgba(0, 0, 0, 0.15);\n",
       "      filter: drop-shadow(0px 1px 2px rgba(0, 0, 0, 0.3));\n",
       "      fill: #FFFFFF;\n",
       "    }\n",
       "  </style>\n",
       "\n",
       "      <script>\n",
       "        const buttonEl =\n",
       "          document.querySelector('#df-d49f44a7-d858-4ff5-858d-a295fa4e470d button.colab-df-convert');\n",
       "        buttonEl.style.display =\n",
       "          google.colab.kernel.accessAllowed ? 'block' : 'none';\n",
       "\n",
       "        async function convertToInteractive(key) {\n",
       "          const element = document.querySelector('#df-d49f44a7-d858-4ff5-858d-a295fa4e470d');\n",
       "          const dataTable =\n",
       "            await google.colab.kernel.invokeFunction('convertToInteractive',\n",
       "                                                     [key], {});\n",
       "          if (!dataTable) return;\n",
       "\n",
       "          const docLinkHtml = 'Like what you see? Visit the ' +\n",
       "            '<a target=\"_blank\" href=https://colab.research.google.com/notebooks/data_table.ipynb>data table notebook</a>'\n",
       "            + ' to learn more about interactive tables.';\n",
       "          element.innerHTML = '';\n",
       "          dataTable['output_type'] = 'display_data';\n",
       "          await google.colab.output.renderOutput(dataTable, element);\n",
       "          const docLink = document.createElement('div');\n",
       "          docLink.innerHTML = docLinkHtml;\n",
       "          element.appendChild(docLink);\n",
       "        }\n",
       "      </script>\n",
       "    </div>\n",
       "  </div>\n",
       "  "
      ],
      "text/plain": [
       "        Price  Year  Mileage\n",
       "0        8995  2014    35725\n",
       "1       10888  2013    19606\n",
       "2        8995  2013    48851\n",
       "3       10999  2014    39922\n",
       "4       14799  2016    22142\n",
       "...       ...   ...      ...\n",
       "521109  55499  2016    25659\n",
       "521110  56789  2016    19250\n",
       "521111  59175  2017     1322\n",
       "521112  59260  2017     2126\n",
       "521113  55999  2016    28941\n",
       "\n",
       "[521114 rows x 3 columns]"
      ]
     },
     "execution_count": 77,
     "metadata": {},
     "output_type": "execute_result"
    }
   ],
   "source": [
    "numdata= maindf.select_dtypes(include=['int64']).copy()\n",
    "numdata"
   ]
  },
  {
   "cell_type": "code",
   "execution_count": 78,
   "metadata": {
    "id": "07q790CXTMJA"
   },
   "outputs": [],
   "source": [
    "sns.set(color_codes=True)\n",
    "sns.set(rc={'figure.figsize':(6,3)})\n",
    "\n",
    "def plot_histogram(col, color_val='#005c9d',\\\n",
    "                   x_label='Price', y_label='Frequency',\\\n",
    "                   title_text='Distribution of car prices'):\n",
    "    sns.distplot(col, kde=False, color=color_val)\n",
    "    \n",
    "    ax = plt.gca()\n",
    "    ax.set_xlabel(x_label)\n",
    "    ax.set_ylabel(y_label)\n",
    "    ax.set_title(title_text)\n",
    "    ax.get_xaxis().get_major_formatter().set_scientific(False)\n",
    "    ax.get_yaxis().get_major_formatter().set_scientific(False)\n",
    "\n",
    "    plt.show()"
   ]
  },
  {
   "cell_type": "markdown",
   "metadata": {
    "id": "Wr1u8k_BTMJD"
   },
   "source": [
    "### Comparing mean and median of pricesof our dataset"
   ]
  },
  {
   "cell_type": "code",
   "execution_count": 79,
   "metadata": {
    "colab": {
     "base_uri": "https://localhost:8080/"
    },
    "id": "wcmxsSntTMJD",
    "outputId": "e0eed9cd-f405-49ee-9408-042c2767800d"
   },
   "outputs": [
    {
     "name": "stdout",
     "output_type": "stream",
     "text": [
      "Mean: 20882.164342159296\n",
      "\n",
      "Median:  17967.0\n"
     ]
    }
   ],
   "source": [
    "print('Mean:', numdata.Price.mean())\n",
    "print()\n",
    "print('Median: ',numdata.Price.median())"
   ]
  },
  {
   "cell_type": "markdown",
   "metadata": {
    "id": "GKckdEgXTMJE"
   },
   "source": [
    "### Finding minmum and maximum  prices of our dataset"
   ]
  },
  {
   "cell_type": "code",
   "execution_count": 80,
   "metadata": {
    "colab": {
     "base_uri": "https://localhost:8080/"
    },
    "id": "6W3sTSj6TMJE",
    "outputId": "4db94dd8-66b5-42d9-8c7e-735306bad2c4"
   },
   "outputs": [
    {
     "name": "stdout",
     "output_type": "stream",
     "text": [
      "MaxMum price:  499500\n",
      "MinMum price:  1500\n"
     ]
    }
   ],
   "source": [
    "print('MaxMum price: ', numdata.Price.max())\n",
    "print('MinMum price: ', numdata.Price.min())"
   ]
  },
  {
   "cell_type": "code",
   "execution_count": 81,
   "metadata": {
    "colab": {
     "base_uri": "https://localhost:8080/",
     "height": 300
    },
    "id": "MOnIGynbTMI7",
    "outputId": "d771cb78-5b2d-4f90-afa2-7ee58f26b93c"
   },
   "outputs": [
    {
     "data": {
      "text/html": [
       "\n",
       "  <div id=\"df-fafef3ff-392f-41be-a3fb-4a5db1b2da84\">\n",
       "    <div class=\"colab-df-container\">\n",
       "      <div>\n",
       "<style scoped>\n",
       "    .dataframe tbody tr th:only-of-type {\n",
       "        vertical-align: middle;\n",
       "    }\n",
       "\n",
       "    .dataframe tbody tr th {\n",
       "        vertical-align: top;\n",
       "    }\n",
       "\n",
       "    .dataframe thead th {\n",
       "        text-align: right;\n",
       "    }\n",
       "</style>\n",
       "<table border=\"1\" class=\"dataframe\">\n",
       "  <thead>\n",
       "    <tr style=\"text-align: right;\">\n",
       "      <th></th>\n",
       "      <th>Price</th>\n",
       "      <th>Year</th>\n",
       "      <th>Mileage</th>\n",
       "    </tr>\n",
       "  </thead>\n",
       "  <tbody>\n",
       "    <tr>\n",
       "      <th>count</th>\n",
       "      <td>521114.000000</td>\n",
       "      <td>521114.000000</td>\n",
       "      <td>5.211140e+05</td>\n",
       "    </tr>\n",
       "    <tr>\n",
       "      <th>mean</th>\n",
       "      <td>20882.164342</td>\n",
       "      <td>2013.028397</td>\n",
       "      <td>5.469350e+04</td>\n",
       "    </tr>\n",
       "    <tr>\n",
       "      <th>std</th>\n",
       "      <td>13700.303943</td>\n",
       "      <td>3.567952</td>\n",
       "      <td>4.334982e+04</td>\n",
       "    </tr>\n",
       "    <tr>\n",
       "      <th>min</th>\n",
       "      <td>1500.000000</td>\n",
       "      <td>1997.000000</td>\n",
       "      <td>5.000000e+00</td>\n",
       "    </tr>\n",
       "    <tr>\n",
       "      <th>25%</th>\n",
       "      <td>12798.000000</td>\n",
       "      <td>2012.000000</td>\n",
       "      <td>2.461800e+04</td>\n",
       "    </tr>\n",
       "    <tr>\n",
       "      <th>50%</th>\n",
       "      <td>17967.000000</td>\n",
       "      <td>2014.000000</td>\n",
       "      <td>4.185400e+04</td>\n",
       "    </tr>\n",
       "    <tr>\n",
       "      <th>75%</th>\n",
       "      <td>26121.000000</td>\n",
       "      <td>2015.000000</td>\n",
       "      <td>7.644300e+04</td>\n",
       "    </tr>\n",
       "    <tr>\n",
       "      <th>max</th>\n",
       "      <td>499500.000000</td>\n",
       "      <td>2018.000000</td>\n",
       "      <td>2.856196e+06</td>\n",
       "    </tr>\n",
       "  </tbody>\n",
       "</table>\n",
       "</div>\n",
       "      <button class=\"colab-df-convert\" onclick=\"convertToInteractive('df-fafef3ff-392f-41be-a3fb-4a5db1b2da84')\"\n",
       "              title=\"Convert this dataframe to an interactive table.\"\n",
       "              style=\"display:none;\">\n",
       "        \n",
       "  <svg xmlns=\"http://www.w3.org/2000/svg\" height=\"24px\"viewBox=\"0 0 24 24\"\n",
       "       width=\"24px\">\n",
       "    <path d=\"M0 0h24v24H0V0z\" fill=\"none\"/>\n",
       "    <path d=\"M18.56 5.44l.94 2.06.94-2.06 2.06-.94-2.06-.94-.94-2.06-.94 2.06-2.06.94zm-11 1L8.5 8.5l.94-2.06 2.06-.94-2.06-.94L8.5 2.5l-.94 2.06-2.06.94zm10 10l.94 2.06.94-2.06 2.06-.94-2.06-.94-.94-2.06-.94 2.06-2.06.94z\"/><path d=\"M17.41 7.96l-1.37-1.37c-.4-.4-.92-.59-1.43-.59-.52 0-1.04.2-1.43.59L10.3 9.45l-7.72 7.72c-.78.78-.78 2.05 0 2.83L4 21.41c.39.39.9.59 1.41.59.51 0 1.02-.2 1.41-.59l7.78-7.78 2.81-2.81c.8-.78.8-2.07 0-2.86zM5.41 20L4 18.59l7.72-7.72 1.47 1.35L5.41 20z\"/>\n",
       "  </svg>\n",
       "      </button>\n",
       "      \n",
       "  <style>\n",
       "    .colab-df-container {\n",
       "      display:flex;\n",
       "      flex-wrap:wrap;\n",
       "      gap: 12px;\n",
       "    }\n",
       "\n",
       "    .colab-df-convert {\n",
       "      background-color: #E8F0FE;\n",
       "      border: none;\n",
       "      border-radius: 50%;\n",
       "      cursor: pointer;\n",
       "      display: none;\n",
       "      fill: #1967D2;\n",
       "      height: 32px;\n",
       "      padding: 0 0 0 0;\n",
       "      width: 32px;\n",
       "    }\n",
       "\n",
       "    .colab-df-convert:hover {\n",
       "      background-color: #E2EBFA;\n",
       "      box-shadow: 0px 1px 2px rgba(60, 64, 67, 0.3), 0px 1px 3px 1px rgba(60, 64, 67, 0.15);\n",
       "      fill: #174EA6;\n",
       "    }\n",
       "\n",
       "    [theme=dark] .colab-df-convert {\n",
       "      background-color: #3B4455;\n",
       "      fill: #D2E3FC;\n",
       "    }\n",
       "\n",
       "    [theme=dark] .colab-df-convert:hover {\n",
       "      background-color: #434B5C;\n",
       "      box-shadow: 0px 1px 3px 1px rgba(0, 0, 0, 0.15);\n",
       "      filter: drop-shadow(0px 1px 2px rgba(0, 0, 0, 0.3));\n",
       "      fill: #FFFFFF;\n",
       "    }\n",
       "  </style>\n",
       "\n",
       "      <script>\n",
       "        const buttonEl =\n",
       "          document.querySelector('#df-fafef3ff-392f-41be-a3fb-4a5db1b2da84 button.colab-df-convert');\n",
       "        buttonEl.style.display =\n",
       "          google.colab.kernel.accessAllowed ? 'block' : 'none';\n",
       "\n",
       "        async function convertToInteractive(key) {\n",
       "          const element = document.querySelector('#df-fafef3ff-392f-41be-a3fb-4a5db1b2da84');\n",
       "          const dataTable =\n",
       "            await google.colab.kernel.invokeFunction('convertToInteractive',\n",
       "                                                     [key], {});\n",
       "          if (!dataTable) return;\n",
       "\n",
       "          const docLinkHtml = 'Like what you see? Visit the ' +\n",
       "            '<a target=\"_blank\" href=https://colab.research.google.com/notebooks/data_table.ipynb>data table notebook</a>'\n",
       "            + ' to learn more about interactive tables.';\n",
       "          element.innerHTML = '';\n",
       "          dataTable['output_type'] = 'display_data';\n",
       "          await google.colab.output.renderOutput(dataTable, element);\n",
       "          const docLink = document.createElement('div');\n",
       "          docLink.innerHTML = docLinkHtml;\n",
       "          element.appendChild(docLink);\n",
       "        }\n",
       "      </script>\n",
       "    </div>\n",
       "  </div>\n",
       "  "
      ],
      "text/plain": [
       "               Price           Year       Mileage\n",
       "count  521114.000000  521114.000000  5.211140e+05\n",
       "mean    20882.164342    2013.028397  5.469350e+04\n",
       "std     13700.303943       3.567952  4.334982e+04\n",
       "min      1500.000000    1997.000000  5.000000e+00\n",
       "25%     12798.000000    2012.000000  2.461800e+04\n",
       "50%     17967.000000    2014.000000  4.185400e+04\n",
       "75%     26121.000000    2015.000000  7.644300e+04\n",
       "max    499500.000000    2018.000000  2.856196e+06"
      ]
     },
     "execution_count": 81,
     "metadata": {},
     "output_type": "execute_result"
    }
   ],
   "source": [
    "numdata.describe()"
   ]
  },
  {
   "cell_type": "markdown",
   "metadata": {
    "id": "6v4S33kxpaMk"
   },
   "source": [
    "#Visualizing Descriptive data"
   ]
  },
  {
   "cell_type": "code",
   "execution_count": 82,
   "metadata": {
    "colab": {
     "base_uri": "https://localhost:8080/",
     "height": 839
    },
    "id": "ko2fSCNwYbxE",
    "outputId": "b4207f29-56e8-4dd6-b0fb-cd64d2f5213f"
   },
   "outputs": [
    {
     "data": {
      "image/png": "[encoded data removed]",
      "text/plain": [
       "<Figure size 720x1008 with 4 Axes>"
      ]
     },
     "metadata": {},
     "output_type": "display_data"
    }
   ],
   "source": [
    "numdata.hist(figsize=(10, 14), bins=50, xlabelsize=8, ylabelsize=8); "
   ]
  },
  {
   "cell_type": "markdown",
   "metadata": {
    "id": "aQ8Hl9vR89IJ"
   },
   "source": [
    "From the histograms we can know how numerical data relate to eah other"
   ]
  },
  {
   "cell_type": "code",
   "execution_count": 83,
   "metadata": {
    "colab": {
     "base_uri": "https://localhost:8080/",
     "height": 246
    },
    "id": "_VIkYblQTMJB",
    "outputId": "8bbd7d71-0c0f-4e8c-b9b7-adaf09dd9e97"
   },
   "outputs": [
    {
     "data": {
      "image/png": "[encoded data removed]",
      "text/plain": [
       "<Figure size 432x216 with 1 Axes>"
      ]
     },
     "metadata": {},
     "output_type": "display_data"
    }
   ],
   "source": [
    "price_mill = numdata.Price\n",
    "plot_histogram(price_mill)"
   ]
  },
  {
   "cell_type": "markdown",
   "metadata": {
    "id": "TvfrE_LUTMJB"
   },
   "source": [
    "The plot indicates that the prices are skewed toward the left, with the maximum number of cars hovering between 0 and 100000.\n",
    "\n",
    "For a better perspective, let us view the distribution in the USD 0–100000 range"
   ]
  },
  {
   "cell_type": "code",
   "execution_count": 84,
   "metadata": {
    "colab": {
     "base_uri": "https://localhost:8080/",
     "height": 246
    },
    "id": "peV0ZEmZTMJC",
    "outputId": "698e4611-39ae-4221-8b45-20f9d736d586"
   },
   "outputs": [
    {
     "data": {
      "image/png": "[encoded data removed]",
      "text/plain": [
       "<Figure size 432x216 with 1 Axes>"
      ]
     },
     "metadata": {},
     "output_type": "display_data"
    }
   ],
   "source": [
    "plot_histogram(numdata.Price[numdata.Price<100000])"
   ]
  },
  {
   "cell_type": "markdown",
   "metadata": {
    "id": "TcemVlIOpVsZ"
   },
   "source": [
    "Apparently, a large number of cars in the database are priced between at 12995 . Here is code that proves this:"
   ]
  },
  {
   "cell_type": "code",
   "execution_count": 85,
   "metadata": {
    "colab": {
     "base_uri": "https://localhost:8080/"
    },
    "id": "rvL1ZWwbTMJD",
    "outputId": "e3aabec9-bf6d-4a17-c894-642c342bb647"
   },
   "outputs": [
    {
     "name": "stdout",
     "output_type": "stream",
     "text": [
      "Price:  14995 \n",
      "Counts:  3234\n",
      "\n",
      "Ten most frequently occurring prices:\n",
      "\n",
      "14995    3234\n",
      "12995    3105\n",
      "13995    3091\n",
      "9995     3019\n",
      "10995    2818\n",
      "15995    2813\n",
      "16995    2807\n",
      "11995    2730\n",
      "8995     2705\n",
      "17995    2406\n",
      "Name: Price, dtype: int64\n"
     ]
    }
   ],
   "source": [
    "price_counts = numdata.Price.value_counts()\n",
    "print('Price: ', price_counts.index[0], '\\nCounts: ', price_counts.values[0])\n",
    "print('\\nTen most frequently occurring prices:\\n')\n",
    "print(price_counts[:10])"
   ]
  },
  {
   "cell_type": "markdown",
   "metadata": {
    "id": "lNYzFthrTMJJ"
   },
   "source": [
    "## How make is Interelated with Prices"
   ]
  },
  {
   "cell_type": "code",
   "execution_count": 86,
   "metadata": {
    "colab": {
     "base_uri": "https://localhost:8080/",
     "height": 404
    },
    "id": "U1bZL96ETMJK",
    "outputId": "5169a97d-26d9-4620-c96c-61d0fd527585"
   },
   "outputs": [
    {
     "data": {
      "image/png": "[encoded data removed]",
      "text/plain": [
       "<Figure size 1440x360 with 1 Axes>"
      ]
     },
     "metadata": {},
     "output_type": "display_data"
    }
   ],
   "source": [
    "plt.figure(figsize=(20, 5))\n",
    "plt.xticks(rotation=90)\n",
    "sns.barplot(x='Make', y='Price', data=maindf);"
   ]
  },
  {
   "cell_type": "markdown",
   "metadata": {
    "id": "8v_RyqMXirHM"
   },
   "source": [
    "from the grap MCLarren cost high that other cars"
   ]
  },
  {
   "cell_type": "markdown",
   "metadata": {
    "id": "ejV7DVMs_NDZ"
   },
   "source": [
    "#How state is related to price"
   ]
  },
  {
   "cell_type": "code",
   "execution_count": 104,
   "metadata": {
    "colab": {
     "base_uri": "https://localhost:8080/",
     "height": 346
    },
    "id": "IXV9h4Cd_Mfn",
    "outputId": "25722d49-ae19-4f03-ec37-3a19f58ed1b6"
   },
   "outputs": [
    {
     "data": {
      "image/png": "[encoded data removed]",
      "text/plain": [
       "<Figure size 1440x360 with 1 Axes>"
      ]
     },
     "metadata": {},
     "output_type": "display_data"
    }
   ],
   "source": [
    "plt.figure(figsize=(20, 5))\n",
    "plt.xticks(rotation=90)\n",
    "sns.barplot(x='State', y='Price', data=maindf);"
   ]
  },
  {
   "cell_type": "markdown",
   "metadata": {
    "id": "1GjDMxgp9SGk"
   },
   "source": [
    "#How Year relate to Prices"
   ]
  },
  {
   "cell_type": "code",
   "execution_count": 88,
   "metadata": {
    "colab": {
     "base_uri": "https://localhost:8080/",
     "height": 303
    },
    "id": "LgtkGeONTMJL",
    "outputId": "dfcd8952-c277-4d30-a8fa-186d7165a8bb"
   },
   "outputs": [
    {
     "data": {
      "image/png": "[encoded data removed]",
      "text/plain": [
       "<Figure size 720x288 with 1 Axes>"
      ]
     },
     "metadata": {},
     "output_type": "display_data"
    }
   ],
   "source": [
    "year = maindf.Year.astype(np.int64)\n",
    "price = maindf.Price\n",
    "plt.figure(figsize=(10, 4))\n",
    "plt.xticks(rotation=90)\n",
    "sns.barplot(year, price);"
   ]
  },
  {
   "cell_type": "markdown",
   "metadata": {
    "id": "Q-r2Nq6RyNde"
   },
   "source": [
    "The price went high with the years"
   ]
  },
  {
   "cell_type": "markdown",
   "metadata": {
    "id": "bTCCaNvzTMJL"
   },
   "source": [
    "## How Mileage compares to prices of cars"
   ]
  },
  {
   "cell_type": "code",
   "execution_count": 89,
   "metadata": {
    "colab": {
     "base_uri": "https://localhost:8080/",
     "height": 285
    },
    "id": "JSXt7YK0TMJL",
    "outputId": "d629d41b-4f1b-40bf-b4b9-2bcecb1f014f"
   },
   "outputs": [
    {
     "data": {
      "image/png": "[encoded data removed]",
      "text/plain": [
       "<Figure size 1080x288 with 1 Axes>"
      ]
     },
     "metadata": {},
     "output_type": "display_data"
    }
   ],
   "source": [
    "Mileage = maindf.Mileage.astype(np.int64)\n",
    "price = maindf.Price\n",
    "plt.figure(figsize=(15, 4))\n",
    "plt.xticks(rotation=180)\n",
    "sns.scatterplot(Mileage, price);"
   ]
  },
  {
   "cell_type": "markdown",
   "metadata": {
    "id": "QM5b9LJQYmZm"
   },
   "source": [
    "From the scatter plot graph we can conclude that the less the milliage the higher the price or the higher the milleage the less the price"
   ]
  },
  {
   "cell_type": "code",
   "execution_count": 90,
   "metadata": {
    "colab": {
     "base_uri": "https://localhost:8080/",
     "height": 143
    },
    "id": "Dtl_Abz6TMJM",
    "outputId": "4345fc89-68e9-41d1-c4e5-9a4e1b0dab5e"
   },
   "outputs": [
    {
     "data": {
      "text/html": [
       "\n",
       "  <div id=\"df-e97d3b5a-7f7e-481d-9786-4bd54338b5a3\">\n",
       "    <div class=\"colab-df-container\">\n",
       "      <div>\n",
       "<style scoped>\n",
       "    .dataframe tbody tr th:only-of-type {\n",
       "        vertical-align: middle;\n",
       "    }\n",
       "\n",
       "    .dataframe tbody tr th {\n",
       "        vertical-align: top;\n",
       "    }\n",
       "\n",
       "    .dataframe thead th {\n",
       "        text-align: right;\n",
       "    }\n",
       "</style>\n",
       "<table border=\"1\" class=\"dataframe\">\n",
       "  <thead>\n",
       "    <tr style=\"text-align: right;\">\n",
       "      <th></th>\n",
       "      <th>Price</th>\n",
       "      <th>Year</th>\n",
       "      <th>Mileage</th>\n",
       "    </tr>\n",
       "  </thead>\n",
       "  <tbody>\n",
       "    <tr>\n",
       "      <th>Price</th>\n",
       "      <td>1.000000</td>\n",
       "      <td>0.413156</td>\n",
       "      <td>-0.434526</td>\n",
       "    </tr>\n",
       "    <tr>\n",
       "      <th>Year</th>\n",
       "      <td>0.413156</td>\n",
       "      <td>1.000000</td>\n",
       "      <td>-0.764847</td>\n",
       "    </tr>\n",
       "    <tr>\n",
       "      <th>Mileage</th>\n",
       "      <td>-0.434526</td>\n",
       "      <td>-0.764847</td>\n",
       "      <td>1.000000</td>\n",
       "    </tr>\n",
       "  </tbody>\n",
       "</table>\n",
       "</div>\n",
       "      <button class=\"colab-df-convert\" onclick=\"convertToInteractive('df-e97d3b5a-7f7e-481d-9786-4bd54338b5a3')\"\n",
       "              title=\"Convert this dataframe to an interactive table.\"\n",
       "              style=\"display:none;\">\n",
       "        \n",
       "  <svg xmlns=\"http://www.w3.org/2000/svg\" height=\"24px\"viewBox=\"0 0 24 24\"\n",
       "       width=\"24px\">\n",
       "    <path d=\"M0 0h24v24H0V0z\" fill=\"none\"/>\n",
       "    <path d=\"M18.56 5.44l.94 2.06.94-2.06 2.06-.94-2.06-.94-.94-2.06-.94 2.06-2.06.94zm-11 1L8.5 8.5l.94-2.06 2.06-.94-2.06-.94L8.5 2.5l-.94 2.06-2.06.94zm10 10l.94 2.06.94-2.06 2.06-.94-2.06-.94-.94-2.06-.94 2.06-2.06.94z\"/><path d=\"M17.41 7.96l-1.37-1.37c-.4-.4-.92-.59-1.43-.59-.52 0-1.04.2-1.43.59L10.3 9.45l-7.72 7.72c-.78.78-.78 2.05 0 2.83L4 21.41c.39.39.9.59 1.41.59.51 0 1.02-.2 1.41-.59l7.78-7.78 2.81-2.81c.8-.78.8-2.07 0-2.86zM5.41 20L4 18.59l7.72-7.72 1.47 1.35L5.41 20z\"/>\n",
       "  </svg>\n",
       "      </button>\n",
       "      \n",
       "  <style>\n",
       "    .colab-df-container {\n",
       "      display:flex;\n",
       "      flex-wrap:wrap;\n",
       "      gap: 12px;\n",
       "    }\n",
       "\n",
       "    .colab-df-convert {\n",
       "      background-color: #E8F0FE;\n",
       "      border: none;\n",
       "      border-radius: 50%;\n",
       "      cursor: pointer;\n",
       "      display: none;\n",
       "      fill: #1967D2;\n",
       "      height: 32px;\n",
       "      padding: 0 0 0 0;\n",
       "      width: 32px;\n",
       "    }\n",
       "\n",
       "    .colab-df-convert:hover {\n",
       "      background-color: #E2EBFA;\n",
       "      box-shadow: 0px 1px 2px rgba(60, 64, 67, 0.3), 0px 1px 3px 1px rgba(60, 64, 67, 0.15);\n",
       "      fill: #174EA6;\n",
       "    }\n",
       "\n",
       "    [theme=dark] .colab-df-convert {\n",
       "      background-color: #3B4455;\n",
       "      fill: #D2E3FC;\n",
       "    }\n",
       "\n",
       "    [theme=dark] .colab-df-convert:hover {\n",
       "      background-color: #434B5C;\n",
       "      box-shadow: 0px 1px 3px 1px rgba(0, 0, 0, 0.15);\n",
       "      filter: drop-shadow(0px 1px 2px rgba(0, 0, 0, 0.3));\n",
       "      fill: #FFFFFF;\n",
       "    }\n",
       "  </style>\n",
       "\n",
       "      <script>\n",
       "        const buttonEl =\n",
       "          document.querySelector('#df-e97d3b5a-7f7e-481d-9786-4bd54338b5a3 button.colab-df-convert');\n",
       "        buttonEl.style.display =\n",
       "          google.colab.kernel.accessAllowed ? 'block' : 'none';\n",
       "\n",
       "        async function convertToInteractive(key) {\n",
       "          const element = document.querySelector('#df-e97d3b5a-7f7e-481d-9786-4bd54338b5a3');\n",
       "          const dataTable =\n",
       "            await google.colab.kernel.invokeFunction('convertToInteractive',\n",
       "                                                     [key], {});\n",
       "          if (!dataTable) return;\n",
       "\n",
       "          const docLinkHtml = 'Like what you see? Visit the ' +\n",
       "            '<a target=\"_blank\" href=https://colab.research.google.com/notebooks/data_table.ipynb>data table notebook</a>'\n",
       "            + ' to learn more about interactive tables.';\n",
       "          element.innerHTML = '';\n",
       "          dataTable['output_type'] = 'display_data';\n",
       "          await google.colab.output.renderOutput(dataTable, element);\n",
       "          const docLink = document.createElement('div');\n",
       "          docLink.innerHTML = docLinkHtml;\n",
       "          element.appendChild(docLink);\n",
       "        }\n",
       "      </script>\n",
       "    </div>\n",
       "  </div>\n",
       "  "
      ],
      "text/plain": [
       "            Price      Year   Mileage\n",
       "Price    1.000000  0.413156 -0.434526\n",
       "Year     0.413156  1.000000 -0.764847\n",
       "Mileage -0.434526 -0.764847  1.000000"
      ]
     },
     "execution_count": 90,
     "metadata": {},
     "output_type": "execute_result"
    }
   ],
   "source": [
    "corr=maindf.corr()\n",
    "corr"
   ]
  },
  {
   "cell_type": "code",
   "execution_count": 91,
   "metadata": {
    "colab": {
     "base_uri": "https://localhost:8080/",
     "height": 615
    },
    "id": "9e3Gp4XWTMJM",
    "outputId": "ca97db4b-b0b0-4dcd-e476-39102d271fad"
   },
   "outputs": [
    {
     "data": {
      "text/plain": [
       "<matplotlib.axes._subplots.AxesSubplot at 0x7fa4545b2ed0>"
      ]
     },
     "execution_count": 91,
     "metadata": {},
     "output_type": "execute_result"
    },
    {
     "data": {
      "image/png": "[encoded data removed]",
      "text/plain": [
       "<Figure size 1080x720 with 2 Axes>"
      ]
     },
     "metadata": {},
     "output_type": "display_data"
    }
   ],
   "source": [
    "plt.figure(figsize = (15,10))\n",
    "sns.heatmap(corr,annot=True)"
   ]
  },
  {
   "cell_type": "markdown",
   "metadata": {
    "id": "6VD_lfvB9Z5P"
   },
   "source": [
    "Correlation helps us know how much strong the numerical data is related to each other"
   ]
  },
  {
   "cell_type": "code",
   "execution_count": 92,
   "metadata": {
    "colab": {
     "base_uri": "https://localhost:8080/"
    },
    "id": "n5jMhlw0zDGq",
    "outputId": "98a23b31-170c-417c-9550-9da9de05a40a"
   },
   "outputs": [
    {
     "data": {
      "text/plain": [
       "<bound method DataFrame.info of         Price  Year  Mileage\n",
       "0        8995  2014    35725\n",
       "1       10888  2013    19606\n",
       "2        8995  2013    48851\n",
       "3       10999  2014    39922\n",
       "4       14799  2016    22142\n",
       "...       ...   ...      ...\n",
       "521109  55499  2016    25659\n",
       "521110  56789  2016    19250\n",
       "521111  59175  2017     1322\n",
       "521112  59260  2017     2126\n",
       "521113  55999  2016    28941\n",
       "\n",
       "[521114 rows x 3 columns]>"
      ]
     },
     "execution_count": 92,
     "metadata": {},
     "output_type": "execute_result"
    }
   ],
   "source": [
    "numdata.info"
   ]
  },
  {
   "cell_type": "markdown",
   "metadata": {
    "id": "pS-SfetHbTVE"
   },
   "source": [
    "# Categorical Features Analysis\n"
   ]
  },
  {
   "cell_type": "markdown",
   "metadata": {
    "id": "_PB0nI1_9oU1"
   },
   "source": [
    "I identfied the categorical data by using object"
   ]
  },
  {
   "cell_type": "code",
   "execution_count": 93,
   "metadata": {
    "colab": {
     "base_uri": "https://localhost:8080/",
     "height": 424
    },
    "id": "N8eyH9fabSex",
    "outputId": "7816db94-0126-4ee8-e66c-588c9ffa0d03"
   },
   "outputs": [
    {
     "data": {
      "text/html": [
       "\n",
       "  <div id=\"df-5369dfa3-8066-490f-a2cd-890152cc00cc\">\n",
       "    <div class=\"colab-df-container\">\n",
       "      <div>\n",
       "<style scoped>\n",
       "    .dataframe tbody tr th:only-of-type {\n",
       "        vertical-align: middle;\n",
       "    }\n",
       "\n",
       "    .dataframe tbody tr th {\n",
       "        vertical-align: top;\n",
       "    }\n",
       "\n",
       "    .dataframe thead th {\n",
       "        text-align: right;\n",
       "    }\n",
       "</style>\n",
       "<table border=\"1\" class=\"dataframe\">\n",
       "  <thead>\n",
       "    <tr style=\"text-align: right;\">\n",
       "      <th></th>\n",
       "      <th>City</th>\n",
       "      <th>State</th>\n",
       "      <th>Vin</th>\n",
       "      <th>Make</th>\n",
       "      <th>Model</th>\n",
       "    </tr>\n",
       "  </thead>\n",
       "  <tbody>\n",
       "    <tr>\n",
       "      <th>0</th>\n",
       "      <td>El Paso</td>\n",
       "      <td>TX</td>\n",
       "      <td>19VDE2E53EE000083</td>\n",
       "      <td>Acura</td>\n",
       "      <td>ILX6-Speed</td>\n",
       "    </tr>\n",
       "    <tr>\n",
       "      <th>1</th>\n",
       "      <td>Long Island City</td>\n",
       "      <td>NY</td>\n",
       "      <td>19VDE1F52DE012636</td>\n",
       "      <td>Acura</td>\n",
       "      <td>ILX5-Speed</td>\n",
       "    </tr>\n",
       "    <tr>\n",
       "      <th>2</th>\n",
       "      <td>El Paso</td>\n",
       "      <td>TX</td>\n",
       "      <td>19VDE2E52DE000025</td>\n",
       "      <td>Acura</td>\n",
       "      <td>ILX6-Speed</td>\n",
       "    </tr>\n",
       "    <tr>\n",
       "      <th>3</th>\n",
       "      <td>Windsor</td>\n",
       "      <td>CO</td>\n",
       "      <td>19VDE1F71EE003817</td>\n",
       "      <td>Acura</td>\n",
       "      <td>ILX5-Speed</td>\n",
       "    </tr>\n",
       "    <tr>\n",
       "      <th>4</th>\n",
       "      <td>Lindon</td>\n",
       "      <td>UT</td>\n",
       "      <td>19UDE2F32GA001284</td>\n",
       "      <td>Acura</td>\n",
       "      <td>ILXAutomatic</td>\n",
       "    </tr>\n",
       "    <tr>\n",
       "      <th>...</th>\n",
       "      <td>...</td>\n",
       "      <td>...</td>\n",
       "      <td>...</td>\n",
       "      <td>...</td>\n",
       "      <td>...</td>\n",
       "    </tr>\n",
       "    <tr>\n",
       "      <th>521109</th>\n",
       "      <td>Fort Collins</td>\n",
       "      <td>CO</td>\n",
       "      <td>YV4A22PLXG1081083</td>\n",
       "      <td>Volvo</td>\n",
       "      <td>XC90AWD</td>\n",
       "    </tr>\n",
       "    <tr>\n",
       "      <th>521110</th>\n",
       "      <td>Summit</td>\n",
       "      <td>NJ</td>\n",
       "      <td>YV4A22PM8G1050830</td>\n",
       "      <td>Volvo</td>\n",
       "      <td>XC90AWD</td>\n",
       "    </tr>\n",
       "    <tr>\n",
       "      <th>521111</th>\n",
       "      <td>Englewood</td>\n",
       "      <td>NJ</td>\n",
       "      <td>YV1A22MKXH1010413</td>\n",
       "      <td>Volvo</td>\n",
       "      <td>S90T6</td>\n",
       "    </tr>\n",
       "    <tr>\n",
       "      <th>521112</th>\n",
       "      <td>Hasbrouck Heights</td>\n",
       "      <td>NJ</td>\n",
       "      <td>YV1A22MK0H1015281</td>\n",
       "      <td>Volvo</td>\n",
       "      <td>S90T6</td>\n",
       "    </tr>\n",
       "    <tr>\n",
       "      <th>521113</th>\n",
       "      <td>Fort Collins</td>\n",
       "      <td>CO</td>\n",
       "      <td>YV4A22PL4G1000868</td>\n",
       "      <td>Volvo</td>\n",
       "      <td>XC90AWD</td>\n",
       "    </tr>\n",
       "  </tbody>\n",
       "</table>\n",
       "<p>521114 rows × 5 columns</p>\n",
       "</div>\n",
       "      <button class=\"colab-df-convert\" onclick=\"convertToInteractive('df-5369dfa3-8066-490f-a2cd-890152cc00cc')\"\n",
       "              title=\"Convert this dataframe to an interactive table.\"\n",
       "              style=\"display:none;\">\n",
       "        \n",
       "  <svg xmlns=\"http://www.w3.org/2000/svg\" height=\"24px\"viewBox=\"0 0 24 24\"\n",
       "       width=\"24px\">\n",
       "    <path d=\"M0 0h24v24H0V0z\" fill=\"none\"/>\n",
       "    <path d=\"M18.56 5.44l.94 2.06.94-2.06 2.06-.94-2.06-.94-.94-2.06-.94 2.06-2.06.94zm-11 1L8.5 8.5l.94-2.06 2.06-.94-2.06-.94L8.5 2.5l-.94 2.06-2.06.94zm10 10l.94 2.06.94-2.06 2.06-.94-2.06-.94-.94-2.06-.94 2.06-2.06.94z\"/><path d=\"M17.41 7.96l-1.37-1.37c-.4-.4-.92-.59-1.43-.59-.52 0-1.04.2-1.43.59L10.3 9.45l-7.72 7.72c-.78.78-.78 2.05 0 2.83L4 21.41c.39.39.9.59 1.41.59.51 0 1.02-.2 1.41-.59l7.78-7.78 2.81-2.81c.8-.78.8-2.07 0-2.86zM5.41 20L4 18.59l7.72-7.72 1.47 1.35L5.41 20z\"/>\n",
       "  </svg>\n",
       "      </button>\n",
       "      \n",
       "  <style>\n",
       "    .colab-df-container {\n",
       "      display:flex;\n",
       "      flex-wrap:wrap;\n",
       "      gap: 12px;\n",
       "    }\n",
       "\n",
       "    .colab-df-convert {\n",
       "      background-color: #E8F0FE;\n",
       "      border: none;\n",
       "      border-radius: 50%;\n",
       "      cursor: pointer;\n",
       "      display: none;\n",
       "      fill: #1967D2;\n",
       "      height: 32px;\n",
       "      padding: 0 0 0 0;\n",
       "      width: 32px;\n",
       "    }\n",
       "\n",
       "    .colab-df-convert:hover {\n",
       "      background-color: #E2EBFA;\n",
       "      box-shadow: 0px 1px 2px rgba(60, 64, 67, 0.3), 0px 1px 3px 1px rgba(60, 64, 67, 0.15);\n",
       "      fill: #174EA6;\n",
       "    }\n",
       "\n",
       "    [theme=dark] .colab-df-convert {\n",
       "      background-color: #3B4455;\n",
       "      fill: #D2E3FC;\n",
       "    }\n",
       "\n",
       "    [theme=dark] .colab-df-convert:hover {\n",
       "      background-color: #434B5C;\n",
       "      box-shadow: 0px 1px 3px 1px rgba(0, 0, 0, 0.15);\n",
       "      filter: drop-shadow(0px 1px 2px rgba(0, 0, 0, 0.3));\n",
       "      fill: #FFFFFF;\n",
       "    }\n",
       "  </style>\n",
       "\n",
       "      <script>\n",
       "        const buttonEl =\n",
       "          document.querySelector('#df-5369dfa3-8066-490f-a2cd-890152cc00cc button.colab-df-convert');\n",
       "        buttonEl.style.display =\n",
       "          google.colab.kernel.accessAllowed ? 'block' : 'none';\n",
       "\n",
       "        async function convertToInteractive(key) {\n",
       "          const element = document.querySelector('#df-5369dfa3-8066-490f-a2cd-890152cc00cc');\n",
       "          const dataTable =\n",
       "            await google.colab.kernel.invokeFunction('convertToInteractive',\n",
       "                                                     [key], {});\n",
       "          if (!dataTable) return;\n",
       "\n",
       "          const docLinkHtml = 'Like what you see? Visit the ' +\n",
       "            '<a target=\"_blank\" href=https://colab.research.google.com/notebooks/data_table.ipynb>data table notebook</a>'\n",
       "            + ' to learn more about interactive tables.';\n",
       "          element.innerHTML = '';\n",
       "          dataTable['output_type'] = 'display_data';\n",
       "          await google.colab.output.renderOutput(dataTable, element);\n",
       "          const docLink = document.createElement('div');\n",
       "          docLink.innerHTML = docLinkHtml;\n",
       "          element.appendChild(docLink);\n",
       "        }\n",
       "      </script>\n",
       "    </div>\n",
       "  </div>\n",
       "  "
      ],
      "text/plain": [
       "                     City State                Vin   Make         Model\n",
       "0                 El Paso    TX  19VDE2E53EE000083  Acura    ILX6-Speed\n",
       "1        Long Island City    NY  19VDE1F52DE012636  Acura    ILX5-Speed\n",
       "2                 El Paso    TX  19VDE2E52DE000025  Acura    ILX6-Speed\n",
       "3                 Windsor    CO  19VDE1F71EE003817  Acura    ILX5-Speed\n",
       "4                  Lindon    UT  19UDE2F32GA001284  Acura  ILXAutomatic\n",
       "...                   ...   ...                ...    ...           ...\n",
       "521109       Fort Collins    CO  YV4A22PLXG1081083  Volvo       XC90AWD\n",
       "521110             Summit    NJ  YV4A22PM8G1050830  Volvo       XC90AWD\n",
       "521111          Englewood    NJ  YV1A22MKXH1010413  Volvo         S90T6\n",
       "521112  Hasbrouck Heights    NJ  YV1A22MK0H1015281  Volvo         S90T6\n",
       "521113       Fort Collins    CO  YV4A22PL4G1000868  Volvo       XC90AWD\n",
       "\n",
       "[521114 rows x 5 columns]"
      ]
     },
     "execution_count": 93,
     "metadata": {},
     "output_type": "execute_result"
    }
   ],
   "source": [
    " catdata= maindf.select_dtypes(include=['object']).copy()\n",
    " catdata"
   ]
  },
  {
   "cell_type": "code",
   "execution_count": 94,
   "metadata": {
    "colab": {
     "base_uri": "https://localhost:8080/"
    },
    "id": "_S9ADo6tziKG",
    "outputId": "1c29298a-3089-4326-ad37-02b958c3e6c5"
   },
   "outputs": [
    {
     "data": {
      "text/plain": [
       "<bound method DataFrame.info of                      City State                Vin   Make         Model\n",
       "0                 El Paso    TX  19VDE2E53EE000083  Acura    ILX6-Speed\n",
       "1        Long Island City    NY  19VDE1F52DE012636  Acura    ILX5-Speed\n",
       "2                 El Paso    TX  19VDE2E52DE000025  Acura    ILX6-Speed\n",
       "3                 Windsor    CO  19VDE1F71EE003817  Acura    ILX5-Speed\n",
       "4                  Lindon    UT  19UDE2F32GA001284  Acura  ILXAutomatic\n",
       "...                   ...   ...                ...    ...           ...\n",
       "521109       Fort Collins    CO  YV4A22PLXG1081083  Volvo       XC90AWD\n",
       "521110             Summit    NJ  YV4A22PM8G1050830  Volvo       XC90AWD\n",
       "521111          Englewood    NJ  YV1A22MKXH1010413  Volvo         S90T6\n",
       "521112  Hasbrouck Heights    NJ  YV1A22MK0H1015281  Volvo         S90T6\n",
       "521113       Fort Collins    CO  YV4A22PL4G1000868  Volvo       XC90AWD\n",
       "\n",
       "[521114 rows x 5 columns]>"
      ]
     },
     "execution_count": 94,
     "metadata": {},
     "output_type": "execute_result"
    }
   ],
   "source": [
    "catdata.info"
   ]
  },
  {
   "cell_type": "markdown",
   "metadata": {
    "id": "0M9ABaL5zo7m"
   },
   "source": [
    "Categorical data have same rows that Numerucal colums"
   ]
  },
  {
   "cell_type": "markdown",
   "metadata": {
    "id": "p7C5vpi6cT75"
   },
   "source": [
    "#### Checking missing values"
   ]
  },
  {
   "cell_type": "code",
   "execution_count": 95,
   "metadata": {
    "colab": {
     "base_uri": "https://localhost:8080/"
    },
    "id": "uX35mNMkcLeF",
    "outputId": "253f9301-943b-4c44-facc-7b2e1c16c71e"
   },
   "outputs": [
    {
     "name": "stdout",
     "output_type": "stream",
     "text": [
      "City     0\n",
      "State    0\n",
      "Vin      0\n",
      "Make     0\n",
      "Model    0\n",
      "dtype: int64\n"
     ]
    }
   ],
   "source": [
    "print(catdata.isnull().sum())"
   ]
  },
  {
   "cell_type": "markdown",
   "metadata": {
    "id": "TTCp8Nc2clxh"
   },
   "source": [
    "###Lets know what each of our colums contain"
   ]
  },
  {
   "cell_type": "code",
   "execution_count": 96,
   "metadata": {
    "colab": {
     "base_uri": "https://localhost:8080/"
    },
    "id": "BSY1WQcMc98_",
    "outputId": "69c0a584-9b07-4b6a-a44f-5187dba82b3e"
   },
   "outputs": [
    {
     "name": "stdout",
     "output_type": "stream",
     "text": [
      " TX    60184\n",
      " CA    50113\n",
      " FL    48184\n",
      " GA    23680\n",
      " IL    23016\n",
      " NC    22425\n",
      " VA    20907\n",
      " NY    17471\n",
      " PA    16695\n",
      " NJ    16670\n",
      " AZ    14265\n",
      " CO    14157\n",
      " OH    13931\n",
      " WA    13496\n",
      " TN    11276\n",
      " MA    10409\n",
      " MD    10220\n",
      " IN     9375\n",
      " MO     9126\n",
      " KY     9000\n",
      " AL     7729\n",
      " MI     6572\n",
      " MN     6434\n",
      " OR     6331\n",
      " SC     6263\n",
      " CT     6233\n",
      " UT     6082\n",
      " WI     6014\n",
      " OK     5460\n",
      " LA     5299\n",
      " KS     4756\n",
      " NV     4437\n",
      " MS     3927\n",
      " AR     3884\n",
      " NH     3553\n",
      " NM     3053\n",
      " NE     2919\n",
      " IA     2734\n",
      " ID     2213\n",
      " HI     1956\n",
      " DE     1411\n",
      " ME     1297\n",
      " MT     1286\n",
      " AK     1151\n",
      " RI     1105\n",
      " WV      945\n",
      " SD      852\n",
      " VT      682\n",
      " ND      548\n",
      " Fl      522\n",
      " WY      386\n",
      " Va      121\n",
      " Md       92\n",
      " ga       77\n",
      " Ga       65\n",
      " Az       52\n",
      " Oh       34\n",
      " DC       22\n",
      " Ca       17\n",
      "Name: State, dtype: int64\n"
     ]
    }
   ],
   "source": [
    "print(catdata['State'].value_counts())"
   ]
  },
  {
   "cell_type": "code",
   "execution_count": 97,
   "metadata": {
    "colab": {
     "base_uri": "https://localhost:8080/"
    },
    "id": "dl2F7hgkc-Sa",
    "outputId": "f73a7718-42b4-4f06-982f-1789dcf12a1c"
   },
   "outputs": [
    {
     "name": "stdout",
     "output_type": "stream",
     "text": [
      "1G1JC6SH8E4194609    2\n",
      "3FA6P0LU4HR258592    2\n",
      "1FADP3F24GL320976    2\n",
      "3FA6P0G72DR373223    2\n",
      "1FADP3F24DL182433    2\n",
      "                    ..\n",
      "3FA6P0H79HR159995    1\n",
      "1FADP5AU5GL106647    1\n",
      "1FADP3E23GL350407    1\n",
      "3FA6P0H74HR111174    1\n",
      "YV4A22PL4G1000868    1\n",
      "Name: Vin, Length: 521095, dtype: int64\n"
     ]
    }
   ],
   "source": [
    "print(catdata['Vin'].value_counts())"
   ]
  },
  {
   "cell_type": "code",
   "execution_count": 98,
   "metadata": {
    "colab": {
     "base_uri": "https://localhost:8080/"
    },
    "id": "2LOPHiqbc-jC",
    "outputId": "cdf7e9c0-6ae5-4970-9c40-9f4e7a6585ef"
   },
   "outputs": [
    {
     "name": "stdout",
     "output_type": "stream",
     "text": [
      "Chevrolet        65115\n",
      "Ford             62640\n",
      "Nissan           42834\n",
      "Toyota           36528\n",
      "BMW              32415\n",
      "Honda            30800\n",
      "Jeep             24204\n",
      "Hyundai          23050\n",
      "Dodge            22579\n",
      "GMC              18008\n",
      "Kia              17281\n",
      "Mercedes-Benz    16787\n",
      "Audi             12618\n",
      "Acura            11049\n",
      "Lexus            10891\n",
      "Chrysler         10201\n",
      "Volkswagen       10056\n",
      "Cadillac          9376\n",
      "Mazda             8684\n",
      "Subaru            7754\n",
      "Buick             7654\n",
      "INFINITI          7366\n",
      "Ram               6376\n",
      "Lincoln           4396\n",
      "Mitsubishi        2787\n",
      "MINI              2678\n",
      "Land              2505\n",
      "Porsche           2492\n",
      "Volvo             1897\n",
      "Pontiac           1356\n",
      "Scion             1355\n",
      "Jaguar            1290\n",
      "FIAT              1194\n",
      "Mercury            815\n",
      "Saturn             778\n",
      "HUMMER             654\n",
      "Maserati           634\n",
      "Bentley            367\n",
      "smart              285\n",
      "Saab               203\n",
      "Ferrari            192\n",
      "Suzuki             167\n",
      "Aston              149\n",
      "Tesla              107\n",
      "Oldsmobile         101\n",
      "Lamborghini         81\n",
      "Isuzu               68\n",
      "Rolls-Royce         60\n",
      "Genesis             53\n",
      "Alfa                44\n",
      "Plymouth            37\n",
      "Lotus               30\n",
      "McLaren             25\n",
      "AM                  19\n",
      "Fisker              14\n",
      "Freightliner         7\n",
      "Maybach              7\n",
      "Geo                  1\n",
      "Name: Make, dtype: int64\n"
     ]
    }
   ],
   "source": [
    "print(catdata['Make'].value_counts())"
   ]
  },
  {
   "cell_type": "code",
   "execution_count": 99,
   "metadata": {
    "colab": {
     "base_uri": "https://localhost:8080/"
    },
    "id": "cYJFKuVDdMOg",
    "outputId": "176418ee-8f67-417b-a2d4-e3393c852494"
   },
   "outputs": [
    {
     "name": "stdout",
     "output_type": "stream",
     "text": [
      "Silverado      15811\n",
      "3              11131\n",
      "Grand          10882\n",
      "Accord          8484\n",
      "F-1504WD        7358\n",
      "               ...  \n",
      "ZX22dr             1\n",
      "FusionSEL          1\n",
      "xD                 1\n",
      "EscapeSPORT        1\n",
      "V60Polestar        1\n",
      "Name: Model, Length: 2554, dtype: int64\n"
     ]
    }
   ],
   "source": [
    "print(catdata['Model'].value_counts())"
   ]
  },
  {
   "cell_type": "code",
   "execution_count": 100,
   "metadata": {
    "colab": {
     "base_uri": "https://localhost:8080/"
    },
    "id": "euGHGrNzc5XW",
    "outputId": "c454a6b2-f0cf-4595-cc59-36c00fbc31bb"
   },
   "outputs": [
    {
     "name": "stdout",
     "output_type": "stream",
     "text": [
      "Houston                 8559\n",
      "San Antonio             4881\n",
      "Louisville              4325\n",
      "Jacksonville            3869\n",
      "Orlando                 3646\n",
      "                        ... \n",
      "New Prague                 3\n",
      "White River Junction       2\n",
      "Holbrook                   2\n",
      "Royston                    2\n",
      "Port Jervis                1\n",
      "Name: City, Length: 2553, dtype: int64\n"
     ]
    }
   ],
   "source": [
    "print(catdata['City'].value_counts())"
   ]
  },
  {
   "cell_type": "markdown",
   "metadata": {
    "id": "dUIMq_FMeVki"
   },
   "source": [
    "# Visualize Our categorical data"
   ]
  },
  {
   "cell_type": "code",
   "execution_count": 101,
   "metadata": {
    "colab": {
     "base_uri": "https://localhost:8080/",
     "height": 359
    },
    "id": "dXhXbZORTMJJ",
    "outputId": "c26d9ded-7fe3-429c-e4d1-e2181f0d8c8a"
   },
   "outputs": [
    {
     "data": {
      "image/png": "[encoded data removed]",
      "text/plain": [
       "<Figure size 720x288 with 1 Axes>"
      ]
     },
     "metadata": {},
     "output_type": "display_data"
    }
   ],
   "source": [
    "plt.figure(figsize=(10, 4))\n",
    "plt.xticks(rotation=90)\n",
    "sns.countplot(catdata.Make);"
   ]
  },
  {
   "cell_type": "code",
   "execution_count": 102,
   "metadata": {
    "colab": {
     "base_uri": "https://localhost:8080/",
     "height": 399
    },
    "id": "el2ICHyRfJyC",
    "outputId": "da066bfa-5717-4466-dd8a-671566c662ae"
   },
   "outputs": [
    {
     "data": {
      "image/png": "[encoded data removed]",
      "text/plain": [
       "<Figure size 1440x432 with 1 Axes>"
      ]
     },
     "metadata": {},
     "output_type": "display_data"
    }
   ],
   "source": [
    "plt.figure(figsize=(20, 6))\n",
    "plt.xticks(rotation=90)\n",
    "sns.countplot(catdata.State);"
   ]
  },
  {
   "cell_type": "markdown",
   "metadata": {
    "id": "paxuobK81xde"
   },
   "source": [
    "Texas has higher number of cars compared to other states"
   ]
  },
  {
   "cell_type": "markdown",
   "metadata": {
    "id": "_JZMEBLQm1XB"
   },
   "source": [
    "#Removing Duplicate vins"
   ]
  },
  {
   "cell_type": "code",
   "execution_count": 105,
   "metadata": {
    "id": "v8GF3MsZg47n"
   },
   "outputs": [],
   "source": [
    "#sorting first\n",
    "maindf.sort_values(\"Vin\", inplace = True)"
   ]
  },
  {
   "cell_type": "code",
   "execution_count": 106,
   "metadata": {
    "colab": {
     "base_uri": "https://localhost:8080/",
     "height": 424
    },
    "id": "UcBf3tCsnduV",
    "outputId": "0d48fd6d-7037-42e0-a7b8-fee4194811d7"
   },
   "outputs": [
    {
     "data": {
      "text/html": [
       "\n",
       "  <div id=\"df-8df54209-840b-4fe4-8d50-f01181616cf2\">\n",
       "    <div class=\"colab-df-container\">\n",
       "      <div>\n",
       "<style scoped>\n",
       "    .dataframe tbody tr th:only-of-type {\n",
       "        vertical-align: middle;\n",
       "    }\n",
       "\n",
       "    .dataframe tbody tr th {\n",
       "        vertical-align: top;\n",
       "    }\n",
       "\n",
       "    .dataframe thead th {\n",
       "        text-align: right;\n",
       "    }\n",
       "</style>\n",
       "<table border=\"1\" class=\"dataframe\">\n",
       "  <thead>\n",
       "    <tr style=\"text-align: right;\">\n",
       "      <th></th>\n",
       "      <th>Price</th>\n",
       "      <th>Year</th>\n",
       "      <th>Mileage</th>\n",
       "      <th>City</th>\n",
       "      <th>State</th>\n",
       "      <th>Vin</th>\n",
       "      <th>Make</th>\n",
       "      <th>Model</th>\n",
       "    </tr>\n",
       "  </thead>\n",
       "  <tbody>\n",
       "    <tr>\n",
       "      <th>61497</th>\n",
       "      <td>29833</td>\n",
       "      <td>2016</td>\n",
       "      <td>55</td>\n",
       "      <td>Tinley Park</td>\n",
       "      <td>IL</td>\n",
       "      <td>04WT3N56GG0646582</td>\n",
       "      <td>Buick</td>\n",
       "      <td>CascadaPremium</td>\n",
       "    </tr>\n",
       "    <tr>\n",
       "      <th>61498</th>\n",
       "      <td>29833</td>\n",
       "      <td>2016</td>\n",
       "      <td>56</td>\n",
       "      <td>Tinley Park</td>\n",
       "      <td>IL</td>\n",
       "      <td>04WT3N59GG1261202</td>\n",
       "      <td>Buick</td>\n",
       "      <td>CascadaPremium</td>\n",
       "    </tr>\n",
       "    <tr>\n",
       "      <th>285146</th>\n",
       "      <td>77995</td>\n",
       "      <td>2004</td>\n",
       "      <td>51651</td>\n",
       "      <td>Hampstead</td>\n",
       "      <td>MD</td>\n",
       "      <td>137FA84374E208897</td>\n",
       "      <td>HUMMER</td>\n",
       "      <td>H14-Passenger</td>\n",
       "    </tr>\n",
       "    <tr>\n",
       "      <th>11111</th>\n",
       "      <td>89999</td>\n",
       "      <td>2001</td>\n",
       "      <td>49100</td>\n",
       "      <td>Houston</td>\n",
       "      <td>TX</td>\n",
       "      <td>137FA843X1E195221</td>\n",
       "      <td>AM</td>\n",
       "      <td>General</td>\n",
       "    </tr>\n",
       "    <tr>\n",
       "      <th>285141</th>\n",
       "      <td>59995</td>\n",
       "      <td>2002</td>\n",
       "      <td>44420</td>\n",
       "      <td>Manassas</td>\n",
       "      <td>VA</td>\n",
       "      <td>137FA843X2E197617</td>\n",
       "      <td>HUMMER</td>\n",
       "      <td>H14-Passenger</td>\n",
       "    </tr>\n",
       "    <tr>\n",
       "      <th>...</th>\n",
       "      <td>...</td>\n",
       "      <td>...</td>\n",
       "      <td>...</td>\n",
       "      <td>...</td>\n",
       "      <td>...</td>\n",
       "      <td>...</td>\n",
       "      <td>...</td>\n",
       "      <td>...</td>\n",
       "    </tr>\n",
       "    <tr>\n",
       "      <th>376887</th>\n",
       "      <td>80990</td>\n",
       "      <td>2017</td>\n",
       "      <td>11819</td>\n",
       "      <td>Indianapolis</td>\n",
       "      <td>IN</td>\n",
       "      <td>ZN661YUL7HX199849</td>\n",
       "      <td>Maserati</td>\n",
       "      <td>LevanteS</td>\n",
       "    </tr>\n",
       "    <tr>\n",
       "      <th>376898</th>\n",
       "      <td>85900</td>\n",
       "      <td>2017</td>\n",
       "      <td>3952</td>\n",
       "      <td>Oakhurst</td>\n",
       "      <td>NJ</td>\n",
       "      <td>ZN661YUL8HX196815</td>\n",
       "      <td>Maserati</td>\n",
       "      <td>LevanteS</td>\n",
       "    </tr>\n",
       "    <tr>\n",
       "      <th>376882</th>\n",
       "      <td>81875</td>\n",
       "      <td>2017</td>\n",
       "      <td>2220</td>\n",
       "      <td>Oakhurst</td>\n",
       "      <td>NJ</td>\n",
       "      <td>ZN661YUL8HX230445</td>\n",
       "      <td>Maserati</td>\n",
       "      <td>LevanteS</td>\n",
       "    </tr>\n",
       "    <tr>\n",
       "      <th>376876</th>\n",
       "      <td>82687</td>\n",
       "      <td>2017</td>\n",
       "      <td>1632</td>\n",
       "      <td>Gaithersburg</td>\n",
       "      <td>MD</td>\n",
       "      <td>ZN661YUS7HX230573</td>\n",
       "      <td>Maserati</td>\n",
       "      <td>LevanteS</td>\n",
       "    </tr>\n",
       "    <tr>\n",
       "      <th>376897</th>\n",
       "      <td>84995</td>\n",
       "      <td>2017</td>\n",
       "      <td>12687</td>\n",
       "      <td>Austin</td>\n",
       "      <td>TX</td>\n",
       "      <td>ZN661YUS9HX226976</td>\n",
       "      <td>Maserati</td>\n",
       "      <td>LevanteS</td>\n",
       "    </tr>\n",
       "  </tbody>\n",
       "</table>\n",
       "<p>521076 rows × 8 columns</p>\n",
       "</div>\n",
       "      <button class=\"colab-df-convert\" onclick=\"convertToInteractive('df-8df54209-840b-4fe4-8d50-f01181616cf2')\"\n",
       "              title=\"Convert this dataframe to an interactive table.\"\n",
       "              style=\"display:none;\">\n",
       "        \n",
       "  <svg xmlns=\"http://www.w3.org/2000/svg\" height=\"24px\"viewBox=\"0 0 24 24\"\n",
       "       width=\"24px\">\n",
       "    <path d=\"M0 0h24v24H0V0z\" fill=\"none\"/>\n",
       "    <path d=\"M18.56 5.44l.94 2.06.94-2.06 2.06-.94-2.06-.94-.94-2.06-.94 2.06-2.06.94zm-11 1L8.5 8.5l.94-2.06 2.06-.94-2.06-.94L8.5 2.5l-.94 2.06-2.06.94zm10 10l.94 2.06.94-2.06 2.06-.94-2.06-.94-.94-2.06-.94 2.06-2.06.94z\"/><path d=\"M17.41 7.96l-1.37-1.37c-.4-.4-.92-.59-1.43-.59-.52 0-1.04.2-1.43.59L10.3 9.45l-7.72 7.72c-.78.78-.78 2.05 0 2.83L4 21.41c.39.39.9.59 1.41.59.51 0 1.02-.2 1.41-.59l7.78-7.78 2.81-2.81c.8-.78.8-2.07 0-2.86zM5.41 20L4 18.59l7.72-7.72 1.47 1.35L5.41 20z\"/>\n",
       "  </svg>\n",
       "      </button>\n",
       "      \n",
       "  <style>\n",
       "    .colab-df-container {\n",
       "      display:flex;\n",
       "      flex-wrap:wrap;\n",
       "      gap: 12px;\n",
       "    }\n",
       "\n",
       "    .colab-df-convert {\n",
       "      background-color: #E8F0FE;\n",
       "      border: none;\n",
       "      border-radius: 50%;\n",
       "      cursor: pointer;\n",
       "      display: none;\n",
       "      fill: #1967D2;\n",
       "      height: 32px;\n",
       "      padding: 0 0 0 0;\n",
       "      width: 32px;\n",
       "    }\n",
       "\n",
       "    .colab-df-convert:hover {\n",
       "      background-color: #E2EBFA;\n",
       "      box-shadow: 0px 1px 2px rgba(60, 64, 67, 0.3), 0px 1px 3px 1px rgba(60, 64, 67, 0.15);\n",
       "      fill: #174EA6;\n",
       "    }\n",
       "\n",
       "    [theme=dark] .colab-df-convert {\n",
       "      background-color: #3B4455;\n",
       "      fill: #D2E3FC;\n",
       "    }\n",
       "\n",
       "    [theme=dark] .colab-df-convert:hover {\n",
       "      background-color: #434B5C;\n",
       "      box-shadow: 0px 1px 3px 1px rgba(0, 0, 0, 0.15);\n",
       "      filter: drop-shadow(0px 1px 2px rgba(0, 0, 0, 0.3));\n",
       "      fill: #FFFFFF;\n",
       "    }\n",
       "  </style>\n",
       "\n",
       "      <script>\n",
       "        const buttonEl =\n",
       "          document.querySelector('#df-8df54209-840b-4fe4-8d50-f01181616cf2 button.colab-df-convert');\n",
       "        buttonEl.style.display =\n",
       "          google.colab.kernel.accessAllowed ? 'block' : 'none';\n",
       "\n",
       "        async function convertToInteractive(key) {\n",
       "          const element = document.querySelector('#df-8df54209-840b-4fe4-8d50-f01181616cf2');\n",
       "          const dataTable =\n",
       "            await google.colab.kernel.invokeFunction('convertToInteractive',\n",
       "                                                     [key], {});\n",
       "          if (!dataTable) return;\n",
       "\n",
       "          const docLinkHtml = 'Like what you see? Visit the ' +\n",
       "            '<a target=\"_blank\" href=https://colab.research.google.com/notebooks/data_table.ipynb>data table notebook</a>'\n",
       "            + ' to learn more about interactive tables.';\n",
       "          element.innerHTML = '';\n",
       "          dataTable['output_type'] = 'display_data';\n",
       "          await google.colab.output.renderOutput(dataTable, element);\n",
       "          const docLink = document.createElement('div');\n",
       "          docLink.innerHTML = docLinkHtml;\n",
       "          element.appendChild(docLink);\n",
       "        }\n",
       "      </script>\n",
       "    </div>\n",
       "  </div>\n",
       "  "
      ],
      "text/plain": [
       "        Price  Year  Mileage          City State                Vin      Make  \\\n",
       "61497   29833  2016       55   Tinley Park    IL  04WT3N56GG0646582     Buick   \n",
       "61498   29833  2016       56   Tinley Park    IL  04WT3N59GG1261202     Buick   \n",
       "285146  77995  2004    51651     Hampstead    MD  137FA84374E208897    HUMMER   \n",
       "11111   89999  2001    49100       Houston    TX  137FA843X1E195221        AM   \n",
       "285141  59995  2002    44420      Manassas    VA  137FA843X2E197617    HUMMER   \n",
       "...       ...   ...      ...           ...   ...                ...       ...   \n",
       "376887  80990  2017    11819  Indianapolis    IN  ZN661YUL7HX199849  Maserati   \n",
       "376898  85900  2017     3952      Oakhurst    NJ  ZN661YUL8HX196815  Maserati   \n",
       "376882  81875  2017     2220      Oakhurst    NJ  ZN661YUL8HX230445  Maserati   \n",
       "376876  82687  2017     1632  Gaithersburg    MD  ZN661YUS7HX230573  Maserati   \n",
       "376897  84995  2017    12687        Austin    TX  ZN661YUS9HX226976  Maserati   \n",
       "\n",
       "                 Model  \n",
       "61497   CascadaPremium  \n",
       "61498   CascadaPremium  \n",
       "285146   H14-Passenger  \n",
       "11111          General  \n",
       "285141   H14-Passenger  \n",
       "...                ...  \n",
       "376887        LevanteS  \n",
       "376898        LevanteS  \n",
       "376882        LevanteS  \n",
       "376876        LevanteS  \n",
       "376897        LevanteS  \n",
       "\n",
       "[521076 rows x 8 columns]"
      ]
     },
     "execution_count": 106,
     "metadata": {},
     "output_type": "execute_result"
    }
   ],
   "source": [
    "maindf.drop_duplicates(subset =\"Vin\",\n",
    "                     keep = False, inplace = True)\n",
    "maindf"
   ]
  },
  {
   "cell_type": "markdown",
   "metadata": {
    "id": "XeSO8hgnoIem"
   },
   "source": [
    "#Combining categorical data and numerical data"
   ]
  },
  {
   "cell_type": "code",
   "execution_count": 107,
   "metadata": {
    "colab": {
     "base_uri": "https://localhost:8080/",
     "height": 424
    },
    "id": "FfQiSGbeTMJB",
    "outputId": "dbc5ee06-1e17-4375-c961-8006e80011ce"
   },
   "outputs": [
    {
     "data": {
      "text/html": [
       "\n",
       "  <div id=\"df-31ffeb9f-b0a2-4f18-b872-713d86c176f4\">\n",
       "    <div class=\"colab-df-container\">\n",
       "      <div>\n",
       "<style scoped>\n",
       "    .dataframe tbody tr th:only-of-type {\n",
       "        vertical-align: middle;\n",
       "    }\n",
       "\n",
       "    .dataframe tbody tr th {\n",
       "        vertical-align: top;\n",
       "    }\n",
       "\n",
       "    .dataframe thead th {\n",
       "        text-align: right;\n",
       "    }\n",
       "</style>\n",
       "<table border=\"1\" class=\"dataframe\">\n",
       "  <thead>\n",
       "    <tr style=\"text-align: right;\">\n",
       "      <th></th>\n",
       "      <th>Price</th>\n",
       "      <th>Year</th>\n",
       "      <th>Mileage</th>\n",
       "      <th>City</th>\n",
       "      <th>State</th>\n",
       "      <th>Vin</th>\n",
       "      <th>Make</th>\n",
       "      <th>Model</th>\n",
       "    </tr>\n",
       "  </thead>\n",
       "  <tbody>\n",
       "    <tr>\n",
       "      <th>0</th>\n",
       "      <td>8995.0</td>\n",
       "      <td>2014.0</td>\n",
       "      <td>35725.0</td>\n",
       "      <td>NaN</td>\n",
       "      <td>NaN</td>\n",
       "      <td>NaN</td>\n",
       "      <td>NaN</td>\n",
       "      <td>NaN</td>\n",
       "    </tr>\n",
       "    <tr>\n",
       "      <th>1</th>\n",
       "      <td>10888.0</td>\n",
       "      <td>2013.0</td>\n",
       "      <td>19606.0</td>\n",
       "      <td>NaN</td>\n",
       "      <td>NaN</td>\n",
       "      <td>NaN</td>\n",
       "      <td>NaN</td>\n",
       "      <td>NaN</td>\n",
       "    </tr>\n",
       "    <tr>\n",
       "      <th>2</th>\n",
       "      <td>8995.0</td>\n",
       "      <td>2013.0</td>\n",
       "      <td>48851.0</td>\n",
       "      <td>NaN</td>\n",
       "      <td>NaN</td>\n",
       "      <td>NaN</td>\n",
       "      <td>NaN</td>\n",
       "      <td>NaN</td>\n",
       "    </tr>\n",
       "    <tr>\n",
       "      <th>3</th>\n",
       "      <td>10999.0</td>\n",
       "      <td>2014.0</td>\n",
       "      <td>39922.0</td>\n",
       "      <td>NaN</td>\n",
       "      <td>NaN</td>\n",
       "      <td>NaN</td>\n",
       "      <td>NaN</td>\n",
       "      <td>NaN</td>\n",
       "    </tr>\n",
       "    <tr>\n",
       "      <th>4</th>\n",
       "      <td>14799.0</td>\n",
       "      <td>2016.0</td>\n",
       "      <td>22142.0</td>\n",
       "      <td>NaN</td>\n",
       "      <td>NaN</td>\n",
       "      <td>NaN</td>\n",
       "      <td>NaN</td>\n",
       "      <td>NaN</td>\n",
       "    </tr>\n",
       "    <tr>\n",
       "      <th>...</th>\n",
       "      <td>...</td>\n",
       "      <td>...</td>\n",
       "      <td>...</td>\n",
       "      <td>...</td>\n",
       "      <td>...</td>\n",
       "      <td>...</td>\n",
       "      <td>...</td>\n",
       "      <td>...</td>\n",
       "    </tr>\n",
       "    <tr>\n",
       "      <th>521109</th>\n",
       "      <td>NaN</td>\n",
       "      <td>NaN</td>\n",
       "      <td>NaN</td>\n",
       "      <td>Fort Collins</td>\n",
       "      <td>CO</td>\n",
       "      <td>YV4A22PLXG1081083</td>\n",
       "      <td>Volvo</td>\n",
       "      <td>XC90AWD</td>\n",
       "    </tr>\n",
       "    <tr>\n",
       "      <th>521110</th>\n",
       "      <td>NaN</td>\n",
       "      <td>NaN</td>\n",
       "      <td>NaN</td>\n",
       "      <td>Summit</td>\n",
       "      <td>NJ</td>\n",
       "      <td>YV4A22PM8G1050830</td>\n",
       "      <td>Volvo</td>\n",
       "      <td>XC90AWD</td>\n",
       "    </tr>\n",
       "    <tr>\n",
       "      <th>521111</th>\n",
       "      <td>NaN</td>\n",
       "      <td>NaN</td>\n",
       "      <td>NaN</td>\n",
       "      <td>Englewood</td>\n",
       "      <td>NJ</td>\n",
       "      <td>YV1A22MKXH1010413</td>\n",
       "      <td>Volvo</td>\n",
       "      <td>S90T6</td>\n",
       "    </tr>\n",
       "    <tr>\n",
       "      <th>521112</th>\n",
       "      <td>NaN</td>\n",
       "      <td>NaN</td>\n",
       "      <td>NaN</td>\n",
       "      <td>Hasbrouck Heights</td>\n",
       "      <td>NJ</td>\n",
       "      <td>YV1A22MK0H1015281</td>\n",
       "      <td>Volvo</td>\n",
       "      <td>S90T6</td>\n",
       "    </tr>\n",
       "    <tr>\n",
       "      <th>521113</th>\n",
       "      <td>NaN</td>\n",
       "      <td>NaN</td>\n",
       "      <td>NaN</td>\n",
       "      <td>Fort Collins</td>\n",
       "      <td>CO</td>\n",
       "      <td>YV4A22PL4G1000868</td>\n",
       "      <td>Volvo</td>\n",
       "      <td>XC90AWD</td>\n",
       "    </tr>\n",
       "  </tbody>\n",
       "</table>\n",
       "<p>1042228 rows × 8 columns</p>\n",
       "</div>\n",
       "      <button class=\"colab-df-convert\" onclick=\"convertToInteractive('df-31ffeb9f-b0a2-4f18-b872-713d86c176f4')\"\n",
       "              title=\"Convert this dataframe to an interactive table.\"\n",
       "              style=\"display:none;\">\n",
       "        \n",
       "  <svg xmlns=\"http://www.w3.org/2000/svg\" height=\"24px\"viewBox=\"0 0 24 24\"\n",
       "       width=\"24px\">\n",
       "    <path d=\"M0 0h24v24H0V0z\" fill=\"none\"/>\n",
       "    <path d=\"M18.56 5.44l.94 2.06.94-2.06 2.06-.94-2.06-.94-.94-2.06-.94 2.06-2.06.94zm-11 1L8.5 8.5l.94-2.06 2.06-.94-2.06-.94L8.5 2.5l-.94 2.06-2.06.94zm10 10l.94 2.06.94-2.06 2.06-.94-2.06-.94-.94-2.06-.94 2.06-2.06.94z\"/><path d=\"M17.41 7.96l-1.37-1.37c-.4-.4-.92-.59-1.43-.59-.52 0-1.04.2-1.43.59L10.3 9.45l-7.72 7.72c-.78.78-.78 2.05 0 2.83L4 21.41c.39.39.9.59 1.41.59.51 0 1.02-.2 1.41-.59l7.78-7.78 2.81-2.81c.8-.78.8-2.07 0-2.86zM5.41 20L4 18.59l7.72-7.72 1.47 1.35L5.41 20z\"/>\n",
       "  </svg>\n",
       "      </button>\n",
       "      \n",
       "  <style>\n",
       "    .colab-df-container {\n",
       "      display:flex;\n",
       "      flex-wrap:wrap;\n",
       "      gap: 12px;\n",
       "    }\n",
       "\n",
       "    .colab-df-convert {\n",
       "      background-color: #E8F0FE;\n",
       "      border: none;\n",
       "      border-radius: 50%;\n",
       "      cursor: pointer;\n",
       "      display: none;\n",
       "      fill: #1967D2;\n",
       "      height: 32px;\n",
       "      padding: 0 0 0 0;\n",
       "      width: 32px;\n",
       "    }\n",
       "\n",
       "    .colab-df-convert:hover {\n",
       "      background-color: #E2EBFA;\n",
       "      box-shadow: 0px 1px 2px rgba(60, 64, 67, 0.3), 0px 1px 3px 1px rgba(60, 64, 67, 0.15);\n",
       "      fill: #174EA6;\n",
       "    }\n",
       "\n",
       "    [theme=dark] .colab-df-convert {\n",
       "      background-color: #3B4455;\n",
       "      fill: #D2E3FC;\n",
       "    }\n",
       "\n",
       "    [theme=dark] .colab-df-convert:hover {\n",
       "      background-color: #434B5C;\n",
       "      box-shadow: 0px 1px 3px 1px rgba(0, 0, 0, 0.15);\n",
       "      filter: drop-shadow(0px 1px 2px rgba(0, 0, 0, 0.3));\n",
       "      fill: #FFFFFF;\n",
       "    }\n",
       "  </style>\n",
       "\n",
       "      <script>\n",
       "        const buttonEl =\n",
       "          document.querySelector('#df-31ffeb9f-b0a2-4f18-b872-713d86c176f4 button.colab-df-convert');\n",
       "        buttonEl.style.display =\n",
       "          google.colab.kernel.accessAllowed ? 'block' : 'none';\n",
       "\n",
       "        async function convertToInteractive(key) {\n",
       "          const element = document.querySelector('#df-31ffeb9f-b0a2-4f18-b872-713d86c176f4');\n",
       "          const dataTable =\n",
       "            await google.colab.kernel.invokeFunction('convertToInteractive',\n",
       "                                                     [key], {});\n",
       "          if (!dataTable) return;\n",
       "\n",
       "          const docLinkHtml = 'Like what you see? Visit the ' +\n",
       "            '<a target=\"_blank\" href=https://colab.research.google.com/notebooks/data_table.ipynb>data table notebook</a>'\n",
       "            + ' to learn more about interactive tables.';\n",
       "          element.innerHTML = '';\n",
       "          dataTable['output_type'] = 'display_data';\n",
       "          await google.colab.output.renderOutput(dataTable, element);\n",
       "          const docLink = document.createElement('div');\n",
       "          docLink.innerHTML = docLinkHtml;\n",
       "          element.appendChild(docLink);\n",
       "        }\n",
       "      </script>\n",
       "    </div>\n",
       "  </div>\n",
       "  "
      ],
      "text/plain": [
       "          Price    Year  Mileage               City State                Vin  \\\n",
       "0        8995.0  2014.0  35725.0                NaN   NaN                NaN   \n",
       "1       10888.0  2013.0  19606.0                NaN   NaN                NaN   \n",
       "2        8995.0  2013.0  48851.0                NaN   NaN                NaN   \n",
       "3       10999.0  2014.0  39922.0                NaN   NaN                NaN   \n",
       "4       14799.0  2016.0  22142.0                NaN   NaN                NaN   \n",
       "...         ...     ...      ...                ...   ...                ...   \n",
       "521109      NaN     NaN      NaN       Fort Collins    CO  YV4A22PLXG1081083   \n",
       "521110      NaN     NaN      NaN             Summit    NJ  YV4A22PM8G1050830   \n",
       "521111      NaN     NaN      NaN          Englewood    NJ  YV1A22MKXH1010413   \n",
       "521112      NaN     NaN      NaN  Hasbrouck Heights    NJ  YV1A22MK0H1015281   \n",
       "521113      NaN     NaN      NaN       Fort Collins    CO  YV4A22PL4G1000868   \n",
       "\n",
       "         Make    Model  \n",
       "0         NaN      NaN  \n",
       "1         NaN      NaN  \n",
       "2         NaN      NaN  \n",
       "3         NaN      NaN  \n",
       "4         NaN      NaN  \n",
       "...       ...      ...  \n",
       "521109  Volvo  XC90AWD  \n",
       "521110  Volvo  XC90AWD  \n",
       "521111  Volvo    S90T6  \n",
       "521112  Volvo    S90T6  \n",
       "521113  Volvo  XC90AWD  \n",
       "\n",
       "[1042228 rows x 8 columns]"
      ]
     },
     "execution_count": 107,
     "metadata": {},
     "output_type": "execute_result"
    }
   ],
   "source": [
    "cleandf=numdata.append(catdata)\n",
    "cleandf"
   ]
  },
  {
   "cell_type": "markdown",
   "metadata": {
    "id": "LuciLQ7tudyr"
   },
   "source": [
    "#Uppecasing Colum names"
   ]
  },
  {
   "cell_type": "code",
   "execution_count": 108,
   "metadata": {
    "colab": {
     "base_uri": "https://localhost:8080/",
     "height": 424
    },
    "id": "9TBOWt5Pui1e",
    "outputId": "b0f7b83e-467e-4ef3-cf1d-429b6eab0ae8"
   },
   "outputs": [
    {
     "data": {
      "text/html": [
       "\n",
       "  <div id=\"df-7b7cbc17-81f9-494f-bbf6-61d7b05f8447\">\n",
       "    <div class=\"colab-df-container\">\n",
       "      <div>\n",
       "<style scoped>\n",
       "    .dataframe tbody tr th:only-of-type {\n",
       "        vertical-align: middle;\n",
       "    }\n",
       "\n",
       "    .dataframe tbody tr th {\n",
       "        vertical-align: top;\n",
       "    }\n",
       "\n",
       "    .dataframe thead th {\n",
       "        text-align: right;\n",
       "    }\n",
       "</style>\n",
       "<table border=\"1\" class=\"dataframe\">\n",
       "  <thead>\n",
       "    <tr style=\"text-align: right;\">\n",
       "      <th></th>\n",
       "      <th>PRICE</th>\n",
       "      <th>YEAR</th>\n",
       "      <th>MILEAGE</th>\n",
       "      <th>CITY</th>\n",
       "      <th>STATE</th>\n",
       "      <th>VIN</th>\n",
       "      <th>MAKE</th>\n",
       "      <th>MODEL</th>\n",
       "    </tr>\n",
       "  </thead>\n",
       "  <tbody>\n",
       "    <tr>\n",
       "      <th>61497</th>\n",
       "      <td>29833</td>\n",
       "      <td>2016</td>\n",
       "      <td>55</td>\n",
       "      <td>Tinley Park</td>\n",
       "      <td>IL</td>\n",
       "      <td>04WT3N56GG0646582</td>\n",
       "      <td>Buick</td>\n",
       "      <td>CascadaPremium</td>\n",
       "    </tr>\n",
       "    <tr>\n",
       "      <th>61498</th>\n",
       "      <td>29833</td>\n",
       "      <td>2016</td>\n",
       "      <td>56</td>\n",
       "      <td>Tinley Park</td>\n",
       "      <td>IL</td>\n",
       "      <td>04WT3N59GG1261202</td>\n",
       "      <td>Buick</td>\n",
       "      <td>CascadaPremium</td>\n",
       "    </tr>\n",
       "    <tr>\n",
       "      <th>285146</th>\n",
       "      <td>77995</td>\n",
       "      <td>2004</td>\n",
       "      <td>51651</td>\n",
       "      <td>Hampstead</td>\n",
       "      <td>MD</td>\n",
       "      <td>137FA84374E208897</td>\n",
       "      <td>HUMMER</td>\n",
       "      <td>H14-Passenger</td>\n",
       "    </tr>\n",
       "    <tr>\n",
       "      <th>11111</th>\n",
       "      <td>89999</td>\n",
       "      <td>2001</td>\n",
       "      <td>49100</td>\n",
       "      <td>Houston</td>\n",
       "      <td>TX</td>\n",
       "      <td>137FA843X1E195221</td>\n",
       "      <td>AM</td>\n",
       "      <td>General</td>\n",
       "    </tr>\n",
       "    <tr>\n",
       "      <th>285141</th>\n",
       "      <td>59995</td>\n",
       "      <td>2002</td>\n",
       "      <td>44420</td>\n",
       "      <td>Manassas</td>\n",
       "      <td>VA</td>\n",
       "      <td>137FA843X2E197617</td>\n",
       "      <td>HUMMER</td>\n",
       "      <td>H14-Passenger</td>\n",
       "    </tr>\n",
       "    <tr>\n",
       "      <th>...</th>\n",
       "      <td>...</td>\n",
       "      <td>...</td>\n",
       "      <td>...</td>\n",
       "      <td>...</td>\n",
       "      <td>...</td>\n",
       "      <td>...</td>\n",
       "      <td>...</td>\n",
       "      <td>...</td>\n",
       "    </tr>\n",
       "    <tr>\n",
       "      <th>376887</th>\n",
       "      <td>80990</td>\n",
       "      <td>2017</td>\n",
       "      <td>11819</td>\n",
       "      <td>Indianapolis</td>\n",
       "      <td>IN</td>\n",
       "      <td>ZN661YUL7HX199849</td>\n",
       "      <td>Maserati</td>\n",
       "      <td>LevanteS</td>\n",
       "    </tr>\n",
       "    <tr>\n",
       "      <th>376898</th>\n",
       "      <td>85900</td>\n",
       "      <td>2017</td>\n",
       "      <td>3952</td>\n",
       "      <td>Oakhurst</td>\n",
       "      <td>NJ</td>\n",
       "      <td>ZN661YUL8HX196815</td>\n",
       "      <td>Maserati</td>\n",
       "      <td>LevanteS</td>\n",
       "    </tr>\n",
       "    <tr>\n",
       "      <th>376882</th>\n",
       "      <td>81875</td>\n",
       "      <td>2017</td>\n",
       "      <td>2220</td>\n",
       "      <td>Oakhurst</td>\n",
       "      <td>NJ</td>\n",
       "      <td>ZN661YUL8HX230445</td>\n",
       "      <td>Maserati</td>\n",
       "      <td>LevanteS</td>\n",
       "    </tr>\n",
       "    <tr>\n",
       "      <th>376876</th>\n",
       "      <td>82687</td>\n",
       "      <td>2017</td>\n",
       "      <td>1632</td>\n",
       "      <td>Gaithersburg</td>\n",
       "      <td>MD</td>\n",
       "      <td>ZN661YUS7HX230573</td>\n",
       "      <td>Maserati</td>\n",
       "      <td>LevanteS</td>\n",
       "    </tr>\n",
       "    <tr>\n",
       "      <th>376897</th>\n",
       "      <td>84995</td>\n",
       "      <td>2017</td>\n",
       "      <td>12687</td>\n",
       "      <td>Austin</td>\n",
       "      <td>TX</td>\n",
       "      <td>ZN661YUS9HX226976</td>\n",
       "      <td>Maserati</td>\n",
       "      <td>LevanteS</td>\n",
       "    </tr>\n",
       "  </tbody>\n",
       "</table>\n",
       "<p>521076 rows × 8 columns</p>\n",
       "</div>\n",
       "      <button class=\"colab-df-convert\" onclick=\"convertToInteractive('df-7b7cbc17-81f9-494f-bbf6-61d7b05f8447')\"\n",
       "              title=\"Convert this dataframe to an interactive table.\"\n",
       "              style=\"display:none;\">\n",
       "        \n",
       "  <svg xmlns=\"http://www.w3.org/2000/svg\" height=\"24px\"viewBox=\"0 0 24 24\"\n",
       "       width=\"24px\">\n",
       "    <path d=\"M0 0h24v24H0V0z\" fill=\"none\"/>\n",
       "    <path d=\"M18.56 5.44l.94 2.06.94-2.06 2.06-.94-2.06-.94-.94-2.06-.94 2.06-2.06.94zm-11 1L8.5 8.5l.94-2.06 2.06-.94-2.06-.94L8.5 2.5l-.94 2.06-2.06.94zm10 10l.94 2.06.94-2.06 2.06-.94-2.06-.94-.94-2.06-.94 2.06-2.06.94z\"/><path d=\"M17.41 7.96l-1.37-1.37c-.4-.4-.92-.59-1.43-.59-.52 0-1.04.2-1.43.59L10.3 9.45l-7.72 7.72c-.78.78-.78 2.05 0 2.83L4 21.41c.39.39.9.59 1.41.59.51 0 1.02-.2 1.41-.59l7.78-7.78 2.81-2.81c.8-.78.8-2.07 0-2.86zM5.41 20L4 18.59l7.72-7.72 1.47 1.35L5.41 20z\"/>\n",
       "  </svg>\n",
       "      </button>\n",
       "      \n",
       "  <style>\n",
       "    .colab-df-container {\n",
       "      display:flex;\n",
       "      flex-wrap:wrap;\n",
       "      gap: 12px;\n",
       "    }\n",
       "\n",
       "    .colab-df-convert {\n",
       "      background-color: #E8F0FE;\n",
       "      border: none;\n",
       "      border-radius: 50%;\n",
       "      cursor: pointer;\n",
       "      display: none;\n",
       "      fill: #1967D2;\n",
       "      height: 32px;\n",
       "      padding: 0 0 0 0;\n",
       "      width: 32px;\n",
       "    }\n",
       "\n",
       "    .colab-df-convert:hover {\n",
       "      background-color: #E2EBFA;\n",
       "      box-shadow: 0px 1px 2px rgba(60, 64, 67, 0.3), 0px 1px 3px 1px rgba(60, 64, 67, 0.15);\n",
       "      fill: #174EA6;\n",
       "    }\n",
       "\n",
       "    [theme=dark] .colab-df-convert {\n",
       "      background-color: #3B4455;\n",
       "      fill: #D2E3FC;\n",
       "    }\n",
       "\n",
       "    [theme=dark] .colab-df-convert:hover {\n",
       "      background-color: #434B5C;\n",
       "      box-shadow: 0px 1px 3px 1px rgba(0, 0, 0, 0.15);\n",
       "      filter: drop-shadow(0px 1px 2px rgba(0, 0, 0, 0.3));\n",
       "      fill: #FFFFFF;\n",
       "    }\n",
       "  </style>\n",
       "\n",
       "      <script>\n",
       "        const buttonEl =\n",
       "          document.querySelector('#df-7b7cbc17-81f9-494f-bbf6-61d7b05f8447 button.colab-df-convert');\n",
       "        buttonEl.style.display =\n",
       "          google.colab.kernel.accessAllowed ? 'block' : 'none';\n",
       "\n",
       "        async function convertToInteractive(key) {\n",
       "          const element = document.querySelector('#df-7b7cbc17-81f9-494f-bbf6-61d7b05f8447');\n",
       "          const dataTable =\n",
       "            await google.colab.kernel.invokeFunction('convertToInteractive',\n",
       "                                                     [key], {});\n",
       "          if (!dataTable) return;\n",
       "\n",
       "          const docLinkHtml = 'Like what you see? Visit the ' +\n",
       "            '<a target=\"_blank\" href=https://colab.research.google.com/notebooks/data_table.ipynb>data table notebook</a>'\n",
       "            + ' to learn more about interactive tables.';\n",
       "          element.innerHTML = '';\n",
       "          dataTable['output_type'] = 'display_data';\n",
       "          await google.colab.output.renderOutput(dataTable, element);\n",
       "          const docLink = document.createElement('div');\n",
       "          docLink.innerHTML = docLinkHtml;\n",
       "          element.appendChild(docLink);\n",
       "        }\n",
       "      </script>\n",
       "    </div>\n",
       "  </div>\n",
       "  "
      ],
      "text/plain": [
       "        PRICE  YEAR  MILEAGE          CITY STATE                VIN      MAKE  \\\n",
       "61497   29833  2016       55   Tinley Park    IL  04WT3N56GG0646582     Buick   \n",
       "61498   29833  2016       56   Tinley Park    IL  04WT3N59GG1261202     Buick   \n",
       "285146  77995  2004    51651     Hampstead    MD  137FA84374E208897    HUMMER   \n",
       "11111   89999  2001    49100       Houston    TX  137FA843X1E195221        AM   \n",
       "285141  59995  2002    44420      Manassas    VA  137FA843X2E197617    HUMMER   \n",
       "...       ...   ...      ...           ...   ...                ...       ...   \n",
       "376887  80990  2017    11819  Indianapolis    IN  ZN661YUL7HX199849  Maserati   \n",
       "376898  85900  2017     3952      Oakhurst    NJ  ZN661YUL8HX196815  Maserati   \n",
       "376882  81875  2017     2220      Oakhurst    NJ  ZN661YUL8HX230445  Maserati   \n",
       "376876  82687  2017     1632  Gaithersburg    MD  ZN661YUS7HX230573  Maserati   \n",
       "376897  84995  2017    12687        Austin    TX  ZN661YUS9HX226976  Maserati   \n",
       "\n",
       "                 MODEL  \n",
       "61497   CascadaPremium  \n",
       "61498   CascadaPremium  \n",
       "285146   H14-Passenger  \n",
       "11111          General  \n",
       "285141   H14-Passenger  \n",
       "...                ...  \n",
       "376887        LevanteS  \n",
       "376898        LevanteS  \n",
       "376882        LevanteS  \n",
       "376876        LevanteS  \n",
       "376897        LevanteS  \n",
       "\n",
       "[521076 rows x 8 columns]"
      ]
     },
     "execution_count": 108,
     "metadata": {},
     "output_type": "execute_result"
    }
   ],
   "source": [
    "maindf.columns = maindf.columns.str.upper()\n",
    "maindf"
   ]
  },
  {
   "cell_type": "markdown",
   "metadata": {
    "id": "xt5RiVST2S6D"
   },
   "source": [
    "# Dividing into Old and New sets"
   ]
  },
  {
   "cell_type": "code",
   "execution_count": 108,
   "metadata": {
    "id": "2FToT6iM2Q2s"
   },
   "outputs": [],
   "source": []
  },
  {
   "cell_type": "markdown",
   "metadata": {
    "id": "LLb5z3qa5N91"
   },
   "source": [
    "#Removing Vin Column"
   ]
  },
  {
   "cell_type": "code",
   "execution_count": 109,
   "metadata": {
    "colab": {
     "base_uri": "https://localhost:8080/",
     "height": 424
    },
    "id": "tCGpib9M5V7S",
    "outputId": "9218eb3b-a663-44ca-f3c3-44569723a910"
   },
   "outputs": [
    {
     "data": {
      "text/html": [
       "\n",
       "  <div id=\"df-5ff81940-5b1b-4f70-9d78-c572506a5968\">\n",
       "    <div class=\"colab-df-container\">\n",
       "      <div>\n",
       "<style scoped>\n",
       "    .dataframe tbody tr th:only-of-type {\n",
       "        vertical-align: middle;\n",
       "    }\n",
       "\n",
       "    .dataframe tbody tr th {\n",
       "        vertical-align: top;\n",
       "    }\n",
       "\n",
       "    .dataframe thead th {\n",
       "        text-align: right;\n",
       "    }\n",
       "</style>\n",
       "<table border=\"1\" class=\"dataframe\">\n",
       "  <thead>\n",
       "    <tr style=\"text-align: right;\">\n",
       "      <th></th>\n",
       "      <th>PRICE</th>\n",
       "      <th>YEAR</th>\n",
       "      <th>MILEAGE</th>\n",
       "      <th>CITY</th>\n",
       "      <th>STATE</th>\n",
       "      <th>MAKE</th>\n",
       "      <th>MODEL</th>\n",
       "    </tr>\n",
       "  </thead>\n",
       "  <tbody>\n",
       "    <tr>\n",
       "      <th>61497</th>\n",
       "      <td>29833</td>\n",
       "      <td>2016</td>\n",
       "      <td>55</td>\n",
       "      <td>Tinley Park</td>\n",
       "      <td>IL</td>\n",
       "      <td>Buick</td>\n",
       "      <td>CascadaPremium</td>\n",
       "    </tr>\n",
       "    <tr>\n",
       "      <th>61498</th>\n",
       "      <td>29833</td>\n",
       "      <td>2016</td>\n",
       "      <td>56</td>\n",
       "      <td>Tinley Park</td>\n",
       "      <td>IL</td>\n",
       "      <td>Buick</td>\n",
       "      <td>CascadaPremium</td>\n",
       "    </tr>\n",
       "    <tr>\n",
       "      <th>285146</th>\n",
       "      <td>77995</td>\n",
       "      <td>2004</td>\n",
       "      <td>51651</td>\n",
       "      <td>Hampstead</td>\n",
       "      <td>MD</td>\n",
       "      <td>HUMMER</td>\n",
       "      <td>H14-Passenger</td>\n",
       "    </tr>\n",
       "    <tr>\n",
       "      <th>11111</th>\n",
       "      <td>89999</td>\n",
       "      <td>2001</td>\n",
       "      <td>49100</td>\n",
       "      <td>Houston</td>\n",
       "      <td>TX</td>\n",
       "      <td>AM</td>\n",
       "      <td>General</td>\n",
       "    </tr>\n",
       "    <tr>\n",
       "      <th>285141</th>\n",
       "      <td>59995</td>\n",
       "      <td>2002</td>\n",
       "      <td>44420</td>\n",
       "      <td>Manassas</td>\n",
       "      <td>VA</td>\n",
       "      <td>HUMMER</td>\n",
       "      <td>H14-Passenger</td>\n",
       "    </tr>\n",
       "    <tr>\n",
       "      <th>...</th>\n",
       "      <td>...</td>\n",
       "      <td>...</td>\n",
       "      <td>...</td>\n",
       "      <td>...</td>\n",
       "      <td>...</td>\n",
       "      <td>...</td>\n",
       "      <td>...</td>\n",
       "    </tr>\n",
       "    <tr>\n",
       "      <th>376887</th>\n",
       "      <td>80990</td>\n",
       "      <td>2017</td>\n",
       "      <td>11819</td>\n",
       "      <td>Indianapolis</td>\n",
       "      <td>IN</td>\n",
       "      <td>Maserati</td>\n",
       "      <td>LevanteS</td>\n",
       "    </tr>\n",
       "    <tr>\n",
       "      <th>376898</th>\n",
       "      <td>85900</td>\n",
       "      <td>2017</td>\n",
       "      <td>3952</td>\n",
       "      <td>Oakhurst</td>\n",
       "      <td>NJ</td>\n",
       "      <td>Maserati</td>\n",
       "      <td>LevanteS</td>\n",
       "    </tr>\n",
       "    <tr>\n",
       "      <th>376882</th>\n",
       "      <td>81875</td>\n",
       "      <td>2017</td>\n",
       "      <td>2220</td>\n",
       "      <td>Oakhurst</td>\n",
       "      <td>NJ</td>\n",
       "      <td>Maserati</td>\n",
       "      <td>LevanteS</td>\n",
       "    </tr>\n",
       "    <tr>\n",
       "      <th>376876</th>\n",
       "      <td>82687</td>\n",
       "      <td>2017</td>\n",
       "      <td>1632</td>\n",
       "      <td>Gaithersburg</td>\n",
       "      <td>MD</td>\n",
       "      <td>Maserati</td>\n",
       "      <td>LevanteS</td>\n",
       "    </tr>\n",
       "    <tr>\n",
       "      <th>376897</th>\n",
       "      <td>84995</td>\n",
       "      <td>2017</td>\n",
       "      <td>12687</td>\n",
       "      <td>Austin</td>\n",
       "      <td>TX</td>\n",
       "      <td>Maserati</td>\n",
       "      <td>LevanteS</td>\n",
       "    </tr>\n",
       "  </tbody>\n",
       "</table>\n",
       "<p>521076 rows × 7 columns</p>\n",
       "</div>\n",
       "      <button class=\"colab-df-convert\" onclick=\"convertToInteractive('df-5ff81940-5b1b-4f70-9d78-c572506a5968')\"\n",
       "              title=\"Convert this dataframe to an interactive table.\"\n",
       "              style=\"display:none;\">\n",
       "        \n",
       "  <svg xmlns=\"http://www.w3.org/2000/svg\" height=\"24px\"viewBox=\"0 0 24 24\"\n",
       "       width=\"24px\">\n",
       "    <path d=\"M0 0h24v24H0V0z\" fill=\"none\"/>\n",
       "    <path d=\"M18.56 5.44l.94 2.06.94-2.06 2.06-.94-2.06-.94-.94-2.06-.94 2.06-2.06.94zm-11 1L8.5 8.5l.94-2.06 2.06-.94-2.06-.94L8.5 2.5l-.94 2.06-2.06.94zm10 10l.94 2.06.94-2.06 2.06-.94-2.06-.94-.94-2.06-.94 2.06-2.06.94z\"/><path d=\"M17.41 7.96l-1.37-1.37c-.4-.4-.92-.59-1.43-.59-.52 0-1.04.2-1.43.59L10.3 9.45l-7.72 7.72c-.78.78-.78 2.05 0 2.83L4 21.41c.39.39.9.59 1.41.59.51 0 1.02-.2 1.41-.59l7.78-7.78 2.81-2.81c.8-.78.8-2.07 0-2.86zM5.41 20L4 18.59l7.72-7.72 1.47 1.35L5.41 20z\"/>\n",
       "  </svg>\n",
       "      </button>\n",
       "      \n",
       "  <style>\n",
       "    .colab-df-container {\n",
       "      display:flex;\n",
       "      flex-wrap:wrap;\n",
       "      gap: 12px;\n",
       "    }\n",
       "\n",
       "    .colab-df-convert {\n",
       "      background-color: #E8F0FE;\n",
       "      border: none;\n",
       "      border-radius: 50%;\n",
       "      cursor: pointer;\n",
       "      display: none;\n",
       "      fill: #1967D2;\n",
       "      height: 32px;\n",
       "      padding: 0 0 0 0;\n",
       "      width: 32px;\n",
       "    }\n",
       "\n",
       "    .colab-df-convert:hover {\n",
       "      background-color: #E2EBFA;\n",
       "      box-shadow: 0px 1px 2px rgba(60, 64, 67, 0.3), 0px 1px 3px 1px rgba(60, 64, 67, 0.15);\n",
       "      fill: #174EA6;\n",
       "    }\n",
       "\n",
       "    [theme=dark] .colab-df-convert {\n",
       "      background-color: #3B4455;\n",
       "      fill: #D2E3FC;\n",
       "    }\n",
       "\n",
       "    [theme=dark] .colab-df-convert:hover {\n",
       "      background-color: #434B5C;\n",
       "      box-shadow: 0px 1px 3px 1px rgba(0, 0, 0, 0.15);\n",
       "      filter: drop-shadow(0px 1px 2px rgba(0, 0, 0, 0.3));\n",
       "      fill: #FFFFFF;\n",
       "    }\n",
       "  </style>\n",
       "\n",
       "      <script>\n",
       "        const buttonEl =\n",
       "          document.querySelector('#df-5ff81940-5b1b-4f70-9d78-c572506a5968 button.colab-df-convert');\n",
       "        buttonEl.style.display =\n",
       "          google.colab.kernel.accessAllowed ? 'block' : 'none';\n",
       "\n",
       "        async function convertToInteractive(key) {\n",
       "          const element = document.querySelector('#df-5ff81940-5b1b-4f70-9d78-c572506a5968');\n",
       "          const dataTable =\n",
       "            await google.colab.kernel.invokeFunction('convertToInteractive',\n",
       "                                                     [key], {});\n",
       "          if (!dataTable) return;\n",
       "\n",
       "          const docLinkHtml = 'Like what you see? Visit the ' +\n",
       "            '<a target=\"_blank\" href=https://colab.research.google.com/notebooks/data_table.ipynb>data table notebook</a>'\n",
       "            + ' to learn more about interactive tables.';\n",
       "          element.innerHTML = '';\n",
       "          dataTable['output_type'] = 'display_data';\n",
       "          await google.colab.output.renderOutput(dataTable, element);\n",
       "          const docLink = document.createElement('div');\n",
       "          docLink.innerHTML = docLinkHtml;\n",
       "          element.appendChild(docLink);\n",
       "        }\n",
       "      </script>\n",
       "    </div>\n",
       "  </div>\n",
       "  "
      ],
      "text/plain": [
       "        PRICE  YEAR  MILEAGE          CITY STATE      MAKE           MODEL\n",
       "61497   29833  2016       55   Tinley Park    IL     Buick  CascadaPremium\n",
       "61498   29833  2016       56   Tinley Park    IL     Buick  CascadaPremium\n",
       "285146  77995  2004    51651     Hampstead    MD    HUMMER   H14-Passenger\n",
       "11111   89999  2001    49100       Houston    TX        AM         General\n",
       "285141  59995  2002    44420      Manassas    VA    HUMMER   H14-Passenger\n",
       "...       ...   ...      ...           ...   ...       ...             ...\n",
       "376887  80990  2017    11819  Indianapolis    IN  Maserati        LevanteS\n",
       "376898  85900  2017     3952      Oakhurst    NJ  Maserati        LevanteS\n",
       "376882  81875  2017     2220      Oakhurst    NJ  Maserati        LevanteS\n",
       "376876  82687  2017     1632  Gaithersburg    MD  Maserati        LevanteS\n",
       "376897  84995  2017    12687        Austin    TX  Maserati        LevanteS\n",
       "\n",
       "[521076 rows x 7 columns]"
      ]
     },
     "execution_count": 109,
     "metadata": {},
     "output_type": "execute_result"
    }
   ],
   "source": [
    "maindf.drop('VIN', inplace=True, axis=1)\n",
    "maindf"
   ]
  },
  {
   "cell_type": "markdown",
   "metadata": {
    "id": "IemUcnIY5U56"
   },
   "source": [
    "#Feature Engineering:"
   ]
  },
  {
   "cell_type": "markdown",
   "metadata": {
    "id": "1rNONK809Q72"
   },
   "source": [
    "###One Hot Encording for categorical data"
   ]
  },
  {
   "cell_type": "code",
   "execution_count": 110,
   "metadata": {
    "colab": {
     "base_uri": "https://localhost:8080/",
     "height": 300
    },
    "id": "RLKp92lV5ub2",
    "outputId": "0615df34-0c95-4d62-89dc-3a44887e75ea"
   },
   "outputs": [
    {
     "data": {
      "text/html": [
       "\n",
       "  <div id=\"df-8283a730-3536-41c9-973e-ee84be5b4bc4\">\n",
       "    <div class=\"colab-df-container\">\n",
       "      <div>\n",
       "<style scoped>\n",
       "    .dataframe tbody tr th:only-of-type {\n",
       "        vertical-align: middle;\n",
       "    }\n",
       "\n",
       "    .dataframe tbody tr th {\n",
       "        vertical-align: top;\n",
       "    }\n",
       "\n",
       "    .dataframe thead th {\n",
       "        text-align: right;\n",
       "    }\n",
       "</style>\n",
       "<table border=\"1\" class=\"dataframe\">\n",
       "  <thead>\n",
       "    <tr style=\"text-align: right;\">\n",
       "      <th></th>\n",
       "      <th>CITY_AKRON</th>\n",
       "      <th>CITY_ALEXANDRIA</th>\n",
       "      <th>CITY_AURORA</th>\n",
       "      <th>CITY_AUSTIN</th>\n",
       "      <th>CITY_AVON</th>\n",
       "      <th>CITY_Abbeville</th>\n",
       "      <th>CITY_Aberdeen</th>\n",
       "      <th>CITY_Abilene</th>\n",
       "      <th>CITY_Abington</th>\n",
       "      <th>CITY_Acton</th>\n",
       "      <th>...</th>\n",
       "      <th>MODEL_tCManual</th>\n",
       "      <th>MODEL_xA4dr</th>\n",
       "      <th>MODEL_xB5dr</th>\n",
       "      <th>MODEL_xB686</th>\n",
       "      <th>MODEL_xBAutomatic</th>\n",
       "      <th>MODEL_xBManual</th>\n",
       "      <th>MODEL_xD</th>\n",
       "      <th>MODEL_xD5dr</th>\n",
       "      <th>MODEL_xDAutomatic</th>\n",
       "      <th>MODEL_xDManual</th>\n",
       "    </tr>\n",
       "  </thead>\n",
       "  <tbody>\n",
       "    <tr>\n",
       "      <th>61497</th>\n",
       "      <td>0</td>\n",
       "      <td>0</td>\n",
       "      <td>0</td>\n",
       "      <td>0</td>\n",
       "      <td>0</td>\n",
       "      <td>0</td>\n",
       "      <td>0</td>\n",
       "      <td>0</td>\n",
       "      <td>0</td>\n",
       "      <td>0</td>\n",
       "      <td>...</td>\n",
       "      <td>0</td>\n",
       "      <td>0</td>\n",
       "      <td>0</td>\n",
       "      <td>0</td>\n",
       "      <td>0</td>\n",
       "      <td>0</td>\n",
       "      <td>0</td>\n",
       "      <td>0</td>\n",
       "      <td>0</td>\n",
       "      <td>0</td>\n",
       "    </tr>\n",
       "    <tr>\n",
       "      <th>61498</th>\n",
       "      <td>0</td>\n",
       "      <td>0</td>\n",
       "      <td>0</td>\n",
       "      <td>0</td>\n",
       "      <td>0</td>\n",
       "      <td>0</td>\n",
       "      <td>0</td>\n",
       "      <td>0</td>\n",
       "      <td>0</td>\n",
       "      <td>0</td>\n",
       "      <td>...</td>\n",
       "      <td>0</td>\n",
       "      <td>0</td>\n",
       "      <td>0</td>\n",
       "      <td>0</td>\n",
       "      <td>0</td>\n",
       "      <td>0</td>\n",
       "      <td>0</td>\n",
       "      <td>0</td>\n",
       "      <td>0</td>\n",
       "      <td>0</td>\n",
       "    </tr>\n",
       "    <tr>\n",
       "      <th>285146</th>\n",
       "      <td>0</td>\n",
       "      <td>0</td>\n",
       "      <td>0</td>\n",
       "      <td>0</td>\n",
       "      <td>0</td>\n",
       "      <td>0</td>\n",
       "      <td>0</td>\n",
       "      <td>0</td>\n",
       "      <td>0</td>\n",
       "      <td>0</td>\n",
       "      <td>...</td>\n",
       "      <td>0</td>\n",
       "      <td>0</td>\n",
       "      <td>0</td>\n",
       "      <td>0</td>\n",
       "      <td>0</td>\n",
       "      <td>0</td>\n",
       "      <td>0</td>\n",
       "      <td>0</td>\n",
       "      <td>0</td>\n",
       "      <td>0</td>\n",
       "    </tr>\n",
       "    <tr>\n",
       "      <th>11111</th>\n",
       "      <td>0</td>\n",
       "      <td>0</td>\n",
       "      <td>0</td>\n",
       "      <td>0</td>\n",
       "      <td>0</td>\n",
       "      <td>0</td>\n",
       "      <td>0</td>\n",
       "      <td>0</td>\n",
       "      <td>0</td>\n",
       "      <td>0</td>\n",
       "      <td>...</td>\n",
       "      <td>0</td>\n",
       "      <td>0</td>\n",
       "      <td>0</td>\n",
       "      <td>0</td>\n",
       "      <td>0</td>\n",
       "      <td>0</td>\n",
       "      <td>0</td>\n",
       "      <td>0</td>\n",
       "      <td>0</td>\n",
       "      <td>0</td>\n",
       "    </tr>\n",
       "    <tr>\n",
       "      <th>285141</th>\n",
       "      <td>0</td>\n",
       "      <td>0</td>\n",
       "      <td>0</td>\n",
       "      <td>0</td>\n",
       "      <td>0</td>\n",
       "      <td>0</td>\n",
       "      <td>0</td>\n",
       "      <td>0</td>\n",
       "      <td>0</td>\n",
       "      <td>0</td>\n",
       "      <td>...</td>\n",
       "      <td>0</td>\n",
       "      <td>0</td>\n",
       "      <td>0</td>\n",
       "      <td>0</td>\n",
       "      <td>0</td>\n",
       "      <td>0</td>\n",
       "      <td>0</td>\n",
       "      <td>0</td>\n",
       "      <td>0</td>\n",
       "      <td>0</td>\n",
       "    </tr>\n",
       "  </tbody>\n",
       "</table>\n",
       "<p>5 rows × 5224 columns</p>\n",
       "</div>\n",
       "      <button class=\"colab-df-convert\" onclick=\"convertToInteractive('df-8283a730-3536-41c9-973e-ee84be5b4bc4')\"\n",
       "              title=\"Convert this dataframe to an interactive table.\"\n",
       "              style=\"display:none;\">\n",
       "        \n",
       "  <svg xmlns=\"http://www.w3.org/2000/svg\" height=\"24px\"viewBox=\"0 0 24 24\"\n",
       "       width=\"24px\">\n",
       "    <path d=\"M0 0h24v24H0V0z\" fill=\"none\"/>\n",
       "    <path d=\"M18.56 5.44l.94 2.06.94-2.06 2.06-.94-2.06-.94-.94-2.06-.94 2.06-2.06.94zm-11 1L8.5 8.5l.94-2.06 2.06-.94-2.06-.94L8.5 2.5l-.94 2.06-2.06.94zm10 10l.94 2.06.94-2.06 2.06-.94-2.06-.94-.94-2.06-.94 2.06-2.06.94z\"/><path d=\"M17.41 7.96l-1.37-1.37c-.4-.4-.92-.59-1.43-.59-.52 0-1.04.2-1.43.59L10.3 9.45l-7.72 7.72c-.78.78-.78 2.05 0 2.83L4 21.41c.39.39.9.59 1.41.59.51 0 1.02-.2 1.41-.59l7.78-7.78 2.81-2.81c.8-.78.8-2.07 0-2.86zM5.41 20L4 18.59l7.72-7.72 1.47 1.35L5.41 20z\"/>\n",
       "  </svg>\n",
       "      </button>\n",
       "      \n",
       "  <style>\n",
       "    .colab-df-container {\n",
       "      display:flex;\n",
       "      flex-wrap:wrap;\n",
       "      gap: 12px;\n",
       "    }\n",
       "\n",
       "    .colab-df-convert {\n",
       "      background-color: #E8F0FE;\n",
       "      border: none;\n",
       "      border-radius: 50%;\n",
       "      cursor: pointer;\n",
       "      display: none;\n",
       "      fill: #1967D2;\n",
       "      height: 32px;\n",
       "      padding: 0 0 0 0;\n",
       "      width: 32px;\n",
       "    }\n",
       "\n",
       "    .colab-df-convert:hover {\n",
       "      background-color: #E2EBFA;\n",
       "      box-shadow: 0px 1px 2px rgba(60, 64, 67, 0.3), 0px 1px 3px 1px rgba(60, 64, 67, 0.15);\n",
       "      fill: #174EA6;\n",
       "    }\n",
       "\n",
       "    [theme=dark] .colab-df-convert {\n",
       "      background-color: #3B4455;\n",
       "      fill: #D2E3FC;\n",
       "    }\n",
       "\n",
       "    [theme=dark] .colab-df-convert:hover {\n",
       "      background-color: #434B5C;\n",
       "      box-shadow: 0px 1px 3px 1px rgba(0, 0, 0, 0.15);\n",
       "      filter: drop-shadow(0px 1px 2px rgba(0, 0, 0, 0.3));\n",
       "      fill: #FFFFFF;\n",
       "    }\n",
       "  </style>\n",
       "\n",
       "      <script>\n",
       "        const buttonEl =\n",
       "          document.querySelector('#df-8283a730-3536-41c9-973e-ee84be5b4bc4 button.colab-df-convert');\n",
       "        buttonEl.style.display =\n",
       "          google.colab.kernel.accessAllowed ? 'block' : 'none';\n",
       "\n",
       "        async function convertToInteractive(key) {\n",
       "          const element = document.querySelector('#df-8283a730-3536-41c9-973e-ee84be5b4bc4');\n",
       "          const dataTable =\n",
       "            await google.colab.kernel.invokeFunction('convertToInteractive',\n",
       "                                                     [key], {});\n",
       "          if (!dataTable) return;\n",
       "\n",
       "          const docLinkHtml = 'Like what you see? Visit the ' +\n",
       "            '<a target=\"_blank\" href=https://colab.research.google.com/notebooks/data_table.ipynb>data table notebook</a>'\n",
       "            + ' to learn more about interactive tables.';\n",
       "          element.innerHTML = '';\n",
       "          dataTable['output_type'] = 'display_data';\n",
       "          await google.colab.output.renderOutput(dataTable, element);\n",
       "          const docLink = document.createElement('div');\n",
       "          docLink.innerHTML = docLinkHtml;\n",
       "          element.appendChild(docLink);\n",
       "        }\n",
       "      </script>\n",
       "    </div>\n",
       "  </div>\n",
       "  "
      ],
      "text/plain": [
       "        CITY_AKRON  CITY_ALEXANDRIA  CITY_AURORA  CITY_AUSTIN  CITY_AVON  \\\n",
       "61497            0                0            0            0          0   \n",
       "61498            0                0            0            0          0   \n",
       "285146           0                0            0            0          0   \n",
       "11111            0                0            0            0          0   \n",
       "285141           0                0            0            0          0   \n",
       "\n",
       "        CITY_Abbeville  CITY_Aberdeen  CITY_Abilene  CITY_Abington  \\\n",
       "61497                0              0             0              0   \n",
       "61498                0              0             0              0   \n",
       "285146               0              0             0              0   \n",
       "11111                0              0             0              0   \n",
       "285141               0              0             0              0   \n",
       "\n",
       "        CITY_Acton  ...  MODEL_tCManual  MODEL_xA4dr  MODEL_xB5dr  \\\n",
       "61497            0  ...               0            0            0   \n",
       "61498            0  ...               0            0            0   \n",
       "285146           0  ...               0            0            0   \n",
       "11111            0  ...               0            0            0   \n",
       "285141           0  ...               0            0            0   \n",
       "\n",
       "        MODEL_xB686  MODEL_xBAutomatic  MODEL_xBManual  MODEL_xD  MODEL_xD5dr  \\\n",
       "61497             0                  0               0         0            0   \n",
       "61498             0                  0               0         0            0   \n",
       "285146            0                  0               0         0            0   \n",
       "11111             0                  0               0         0            0   \n",
       "285141            0                  0               0         0            0   \n",
       "\n",
       "        MODEL_xDAutomatic  MODEL_xDManual  \n",
       "61497                   0               0  \n",
       "61498                   0               0  \n",
       "285146                  0               0  \n",
       "11111                   0               0  \n",
       "285141                  0               0  \n",
       "\n",
       "[5 rows x 5224 columns]"
      ]
     },
     "execution_count": 110,
     "metadata": {},
     "output_type": "execute_result"
    }
   ],
   "source": [
    "cat=pd.get_dummies(maindf[['CITY','STATE','MAKE','MODEL']]).head()\n",
    "cat"
   ]
  },
  {
   "cell_type": "markdown",
   "metadata": {
    "id": "Yn5kC7AOTMJG"
   },
   "source": [
    "# Removing Outliers"
   ]
  },
  {
   "cell_type": "code",
   "execution_count": 111,
   "metadata": {
    "colab": {
     "base_uri": "https://localhost:8080/",
     "height": 224
    },
    "id": "b_vZoTXJ5uiL",
    "outputId": "4f270f19-5413-41d3-8190-d1d1ded97b24"
   },
   "outputs": [
    {
     "data": {
      "image/png": "[encoded data removed]",
      "text/plain": [
       "<Figure size 432x216 with 1 Axes>"
      ]
     },
     "metadata": {},
     "output_type": "display_data"
    }
   ],
   "source": [
    "sns.boxplot(data =maindf,color=\"y\") \n",
    "plt.show()"
   ]
  },
  {
   "cell_type": "code",
   "execution_count": 112,
   "metadata": {
    "id": "WdiQMb-xTMJH"
   },
   "outputs": [],
   "source": [
    "Q1 = maindf.quantile(0.25)\n",
    "Q3 = maindf.quantile(0.75)\n",
    "IQR = Q3 - Q1"
   ]
  },
  {
   "cell_type": "code",
   "execution_count": 113,
   "metadata": {
    "colab": {
     "base_uri": "https://localhost:8080/"
    },
    "id": "qAbsqEw1TMJH",
    "outputId": "07e2db67-87dd-4838-8f94-3b76187537ff"
   },
   "outputs": [
    {
     "data": {
      "text/plain": [
       "PRICE      12798.0\n",
       "YEAR        2012.0\n",
       "MILEAGE    24619.0\n",
       "Name: 0.25, dtype: float64"
      ]
     },
     "execution_count": 113,
     "metadata": {},
     "output_type": "execute_result"
    }
   ],
   "source": [
    "Q1"
   ]
  },
  {
   "cell_type": "code",
   "execution_count": 114,
   "metadata": {
    "colab": {
     "base_uri": "https://localhost:8080/"
    },
    "id": "559HKWzvTMJI",
    "outputId": "b547423d-81cc-4658-9d0b-c9cf832e0dae"
   },
   "outputs": [
    {
     "data": {
      "text/plain": [
       "PRICE      26125.0\n",
       "YEAR        2015.0\n",
       "MILEAGE    76446.0\n",
       "Name: 0.75, dtype: float64"
      ]
     },
     "execution_count": 114,
     "metadata": {},
     "output_type": "execute_result"
    }
   ],
   "source": [
    "Q3"
   ]
  },
  {
   "cell_type": "code",
   "execution_count": 115,
   "metadata": {
    "colab": {
     "base_uri": "https://localhost:8080/"
    },
    "id": "TniZPypFTMJI",
    "outputId": "b585db36-24c2-4965-8f2b-36018a319c9a"
   },
   "outputs": [
    {
     "data": {
      "text/plain": [
       "PRICE      13327.0\n",
       "YEAR           3.0\n",
       "MILEAGE    51827.0\n",
       "dtype: float64"
      ]
     },
     "execution_count": 115,
     "metadata": {},
     "output_type": "execute_result"
    }
   ],
   "source": [
    "IQR"
   ]
  },
  {
   "cell_type": "code",
   "execution_count": 116,
   "metadata": {
    "colab": {
     "base_uri": "https://localhost:8080/",
     "height": 424
    },
    "id": "Oi69cmqgTMJI",
    "outputId": "fb96d3e8-6338-4a72-b5c1-d399b1eea8d3"
   },
   "outputs": [
    {
     "data": {
      "text/html": [
       "\n",
       "  <div id=\"df-a6cdb0d3-08fe-45ed-862b-fb104857ea9c\">\n",
       "    <div class=\"colab-df-container\">\n",
       "      <div>\n",
       "<style scoped>\n",
       "    .dataframe tbody tr th:only-of-type {\n",
       "        vertical-align: middle;\n",
       "    }\n",
       "\n",
       "    .dataframe tbody tr th {\n",
       "        vertical-align: top;\n",
       "    }\n",
       "\n",
       "    .dataframe thead th {\n",
       "        text-align: right;\n",
       "    }\n",
       "</style>\n",
       "<table border=\"1\" class=\"dataframe\">\n",
       "  <thead>\n",
       "    <tr style=\"text-align: right;\">\n",
       "      <th></th>\n",
       "      <th>PRICE</th>\n",
       "      <th>YEAR</th>\n",
       "      <th>MILEAGE</th>\n",
       "      <th>CITY</th>\n",
       "      <th>STATE</th>\n",
       "      <th>MAKE</th>\n",
       "      <th>MODEL</th>\n",
       "    </tr>\n",
       "  </thead>\n",
       "  <tbody>\n",
       "    <tr>\n",
       "      <th>61497</th>\n",
       "      <td>29833</td>\n",
       "      <td>2016</td>\n",
       "      <td>55</td>\n",
       "      <td>Tinley Park</td>\n",
       "      <td>IL</td>\n",
       "      <td>Buick</td>\n",
       "      <td>CascadaPremium</td>\n",
       "    </tr>\n",
       "    <tr>\n",
       "      <th>61498</th>\n",
       "      <td>29833</td>\n",
       "      <td>2016</td>\n",
       "      <td>56</td>\n",
       "      <td>Tinley Park</td>\n",
       "      <td>IL</td>\n",
       "      <td>Buick</td>\n",
       "      <td>CascadaPremium</td>\n",
       "    </tr>\n",
       "    <tr>\n",
       "      <th>190036</th>\n",
       "      <td>16160</td>\n",
       "      <td>2014</td>\n",
       "      <td>31039</td>\n",
       "      <td>Santa Ana</td>\n",
       "      <td>CA</td>\n",
       "      <td>Ford</td>\n",
       "      <td>Mustang</td>\n",
       "    </tr>\n",
       "    <tr>\n",
       "      <th>584</th>\n",
       "      <td>19998</td>\n",
       "      <td>2016</td>\n",
       "      <td>16233</td>\n",
       "      <td>Indianapolis</td>\n",
       "      <td>IN</td>\n",
       "      <td>Acura</td>\n",
       "      <td>ILXAutomatic</td>\n",
       "    </tr>\n",
       "    <tr>\n",
       "      <th>1761</th>\n",
       "      <td>26598</td>\n",
       "      <td>2017</td>\n",
       "      <td>4309</td>\n",
       "      <td>San Juan</td>\n",
       "      <td>TX</td>\n",
       "      <td>Acura</td>\n",
       "      <td>ILXAutomatic</td>\n",
       "    </tr>\n",
       "    <tr>\n",
       "      <th>...</th>\n",
       "      <td>...</td>\n",
       "      <td>...</td>\n",
       "      <td>...</td>\n",
       "      <td>...</td>\n",
       "      <td>...</td>\n",
       "      <td>...</td>\n",
       "      <td>...</td>\n",
       "    </tr>\n",
       "    <tr>\n",
       "      <th>456241</th>\n",
       "      <td>18512</td>\n",
       "      <td>2015</td>\n",
       "      <td>7935</td>\n",
       "      <td>West Valley</td>\n",
       "      <td>UT</td>\n",
       "      <td>Ram</td>\n",
       "      <td>ProMaster</td>\n",
       "    </tr>\n",
       "    <tr>\n",
       "      <th>455743</th>\n",
       "      <td>17000</td>\n",
       "      <td>2016</td>\n",
       "      <td>5165</td>\n",
       "      <td>Monticello</td>\n",
       "      <td>MN</td>\n",
       "      <td>Ram</td>\n",
       "      <td>ProMaster</td>\n",
       "    </tr>\n",
       "    <tr>\n",
       "      <th>455847</th>\n",
       "      <td>15980</td>\n",
       "      <td>2016</td>\n",
       "      <td>17723</td>\n",
       "      <td>Pacoima</td>\n",
       "      <td>CA</td>\n",
       "      <td>Ram</td>\n",
       "      <td>ProMaster</td>\n",
       "    </tr>\n",
       "    <tr>\n",
       "      <th>455713</th>\n",
       "      <td>15988</td>\n",
       "      <td>2015</td>\n",
       "      <td>5912</td>\n",
       "      <td>Claremont</td>\n",
       "      <td>CA</td>\n",
       "      <td>Ram</td>\n",
       "      <td>ProMaster</td>\n",
       "    </tr>\n",
       "    <tr>\n",
       "      <th>455807</th>\n",
       "      <td>14995</td>\n",
       "      <td>2015</td>\n",
       "      <td>27977</td>\n",
       "      <td>Union City</td>\n",
       "      <td>GA</td>\n",
       "      <td>Ram</td>\n",
       "      <td>ProMaster</td>\n",
       "    </tr>\n",
       "  </tbody>\n",
       "</table>\n",
       "<p>446866 rows × 7 columns</p>\n",
       "</div>\n",
       "      <button class=\"colab-df-convert\" onclick=\"convertToInteractive('df-a6cdb0d3-08fe-45ed-862b-fb104857ea9c')\"\n",
       "              title=\"Convert this dataframe to an interactive table.\"\n",
       "              style=\"display:none;\">\n",
       "        \n",
       "  <svg xmlns=\"http://www.w3.org/2000/svg\" height=\"24px\"viewBox=\"0 0 24 24\"\n",
       "       width=\"24px\">\n",
       "    <path d=\"M0 0h24v24H0V0z\" fill=\"none\"/>\n",
       "    <path d=\"M18.56 5.44l.94 2.06.94-2.06 2.06-.94-2.06-.94-.94-2.06-.94 2.06-2.06.94zm-11 1L8.5 8.5l.94-2.06 2.06-.94-2.06-.94L8.5 2.5l-.94 2.06-2.06.94zm10 10l.94 2.06.94-2.06 2.06-.94-2.06-.94-.94-2.06-.94 2.06-2.06.94z\"/><path d=\"M17.41 7.96l-1.37-1.37c-.4-.4-.92-.59-1.43-.59-.52 0-1.04.2-1.43.59L10.3 9.45l-7.72 7.72c-.78.78-.78 2.05 0 2.83L4 21.41c.39.39.9.59 1.41.59.51 0 1.02-.2 1.41-.59l7.78-7.78 2.81-2.81c.8-.78.8-2.07 0-2.86zM5.41 20L4 18.59l7.72-7.72 1.47 1.35L5.41 20z\"/>\n",
       "  </svg>\n",
       "      </button>\n",
       "      \n",
       "  <style>\n",
       "    .colab-df-container {\n",
       "      display:flex;\n",
       "      flex-wrap:wrap;\n",
       "      gap: 12px;\n",
       "    }\n",
       "\n",
       "    .colab-df-convert {\n",
       "      background-color: #E8F0FE;\n",
       "      border: none;\n",
       "      border-radius: 50%;\n",
       "      cursor: pointer;\n",
       "      display: none;\n",
       "      fill: #1967D2;\n",
       "      height: 32px;\n",
       "      padding: 0 0 0 0;\n",
       "      width: 32px;\n",
       "    }\n",
       "\n",
       "    .colab-df-convert:hover {\n",
       "      background-color: #E2EBFA;\n",
       "      box-shadow: 0px 1px 2px rgba(60, 64, 67, 0.3), 0px 1px 3px 1px rgba(60, 64, 67, 0.15);\n",
       "      fill: #174EA6;\n",
       "    }\n",
       "\n",
       "    [theme=dark] .colab-df-convert {\n",
       "      background-color: #3B4455;\n",
       "      fill: #D2E3FC;\n",
       "    }\n",
       "\n",
       "    [theme=dark] .colab-df-convert:hover {\n",
       "      background-color: #434B5C;\n",
       "      box-shadow: 0px 1px 3px 1px rgba(0, 0, 0, 0.15);\n",
       "      filter: drop-shadow(0px 1px 2px rgba(0, 0, 0, 0.3));\n",
       "      fill: #FFFFFF;\n",
       "    }\n",
       "  </style>\n",
       "\n",
       "      <script>\n",
       "        const buttonEl =\n",
       "          document.querySelector('#df-a6cdb0d3-08fe-45ed-862b-fb104857ea9c button.colab-df-convert');\n",
       "        buttonEl.style.display =\n",
       "          google.colab.kernel.accessAllowed ? 'block' : 'none';\n",
       "\n",
       "        async function convertToInteractive(key) {\n",
       "          const element = document.querySelector('#df-a6cdb0d3-08fe-45ed-862b-fb104857ea9c');\n",
       "          const dataTable =\n",
       "            await google.colab.kernel.invokeFunction('convertToInteractive',\n",
       "                                                     [key], {});\n",
       "          if (!dataTable) return;\n",
       "\n",
       "          const docLinkHtml = 'Like what you see? Visit the ' +\n",
       "            '<a target=\"_blank\" href=https://colab.research.google.com/notebooks/data_table.ipynb>data table notebook</a>'\n",
       "            + ' to learn more about interactive tables.';\n",
       "          element.innerHTML = '';\n",
       "          dataTable['output_type'] = 'display_data';\n",
       "          await google.colab.output.renderOutput(dataTable, element);\n",
       "          const docLink = document.createElement('div');\n",
       "          docLink.innerHTML = docLinkHtml;\n",
       "          element.appendChild(docLink);\n",
       "        }\n",
       "      </script>\n",
       "    </div>\n",
       "  </div>\n",
       "  "
      ],
      "text/plain": [
       "        PRICE  YEAR  MILEAGE          CITY STATE   MAKE           MODEL\n",
       "61497   29833  2016       55   Tinley Park    IL  Buick  CascadaPremium\n",
       "61498   29833  2016       56   Tinley Park    IL  Buick  CascadaPremium\n",
       "190036  16160  2014    31039     Santa Ana    CA   Ford         Mustang\n",
       "584     19998  2016    16233  Indianapolis    IN  Acura    ILXAutomatic\n",
       "1761    26598  2017     4309      San Juan    TX  Acura    ILXAutomatic\n",
       "...       ...   ...      ...           ...   ...    ...             ...\n",
       "456241  18512  2015     7935   West Valley    UT    Ram       ProMaster\n",
       "455743  17000  2016     5165    Monticello    MN    Ram       ProMaster\n",
       "455847  15980  2016    17723       Pacoima    CA    Ram       ProMaster\n",
       "455713  15988  2015     5912     Claremont    CA    Ram       ProMaster\n",
       "455807  14995  2015    27977    Union City    GA    Ram       ProMaster\n",
       "\n",
       "[446866 rows x 7 columns]"
      ]
     },
     "execution_count": 116,
     "metadata": {},
     "output_type": "execute_result"
    }
   ],
   "source": [
    "maindf1 = maindf[~((maindf < (Q1 - 1.5 * IQR)) | (maindf > (Q3 + 1.5 * IQR))).any(axis=1)]\n",
    "maindf1"
   ]
  },
  {
   "cell_type": "markdown",
   "metadata": {
    "id": "p4D94eoFfKmw"
   },
   "source": [
    "# saving the clean data"
   ]
  },
  {
   "cell_type": "code",
   "execution_count": 117,
   "metadata": {
    "id": "cmD6FcZafKMP"
   },
   "outputs": [],
   "source": [
    "# saving the dataframe\n",
    "maindf.to_csv('clean_car_dataset.csv')"
   ]
  }
 ],
 "metadata": {
  "colab": {
   "collapsed_sections": [],
   "name": "kiboma EDA for used car Price Prediction.ipynb",
   "provenance": []
  },
  "kernelspec": {
   "display_name": "Python 3 (ipykernel)",
   "language": "python",
   "name": "python3"
  },
  "language_info": {
   "codemirror_mode": {
    "name": "ipython",
    "version": 3
   },
   "file_extension": ".py",
   "mimetype": "text/x-python",
   "name": "python",
   "nbconvert_exporter": "python",
   "pygments_lexer": "ipython3",
   "version": "3.8.10"
  }
 },
 "nbformat": 4,
 "nbformat_minor": 1
}
