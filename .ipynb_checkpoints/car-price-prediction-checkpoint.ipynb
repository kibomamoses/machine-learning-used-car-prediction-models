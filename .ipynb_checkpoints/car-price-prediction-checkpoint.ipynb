{
 "cells": [
  {
   "cell_type": "markdown",
   "metadata": {},
   "source": [
    "# Car Price Prediction using Regression"
   ]
  },
  {
   "cell_type": "markdown",
   "metadata": {},
   "source": [
    "### Import necessary libraries"
   ]
  },
  {
   "cell_type": "code",
   "execution_count": 2,
   "metadata": {},
   "outputs": [],
   "source": [
    "import pandas as pd #dataframe\n",
    "import numpy as np #mathematical computations\n",
    "import matplotlib.pyplot as plt #visualization\n",
    "import matplotlib\n",
    "import seaborn as sns #visualization\n",
    "import json #exporting columns\n",
    "import pickle #saving the model\n",
    "from sklearn.linear_model import LinearRegression #Linear Regression\n",
    "from sklearn.linear_model import Lasso #Lasso Regression\n",
    "from sklearn.tree import DecisionTreeRegressor #Decision Tree Regression\n",
    "from sklearn.ensemble import RandomForestRegressor #Random Forest Regression\n",
    "from sklearn.model_selection import train_test_split #Splitting the dataset into training and testing\n",
    "from sklearn.model_selection import ShuffleSplit #Random shuffling\n",
    "from sklearn.model_selection import cross_val_score #Score cross validation\n",
    "from sklearn.model_selection import GridSearchCV #Hyper parameter tuning\n",
    "from warnings import simplefilter #Filtering warnings\n",
    "\n",
    "simplefilter(action='ignore', category=FutureWarning)\n",
    "%matplotlib inline"
   ]
  },
  {
   "cell_type": "markdown",
   "metadata": {},
   "source": [
    "### Load data into DataFrame"
   ]
  },
  {
   "cell_type": "code",
   "execution_count": 6,
   "metadata": {},
   "outputs": [
    {
     "data": {
      "text/html": [
       "<div>\n",
       "<style scoped>\n",
       "    .dataframe tbody tr th:only-of-type {\n",
       "        vertical-align: middle;\n",
       "    }\n",
       "\n",
       "    .dataframe tbody tr th {\n",
       "        vertical-align: top;\n",
       "    }\n",
       "\n",
       "    .dataframe thead th {\n",
       "        text-align: right;\n",
       "    }\n",
       "</style>\n",
       "<table border=\"1\" class=\"dataframe\">\n",
       "  <thead>\n",
       "    <tr style=\"text-align: right;\">\n",
       "      <th></th>\n",
       "      <th>Price</th>\n",
       "      <th>Year</th>\n",
       "      <th>Mileage</th>\n",
       "      <th>City</th>\n",
       "      <th>State</th>\n",
       "      <th>Vin</th>\n",
       "      <th>Make</th>\n",
       "      <th>Model</th>\n",
       "    </tr>\n",
       "  </thead>\n",
       "  <tbody>\n",
       "    <tr>\n",
       "      <th>0</th>\n",
       "      <td>8995</td>\n",
       "      <td>2014</td>\n",
       "      <td>35725</td>\n",
       "      <td>El Paso</td>\n",
       "      <td>TX</td>\n",
       "      <td>19VDE2E53EE000083</td>\n",
       "      <td>Acura</td>\n",
       "      <td>ILX6-Speed</td>\n",
       "    </tr>\n",
       "    <tr>\n",
       "      <th>1</th>\n",
       "      <td>10888</td>\n",
       "      <td>2013</td>\n",
       "      <td>19606</td>\n",
       "      <td>Long Island City</td>\n",
       "      <td>NY</td>\n",
       "      <td>19VDE1F52DE012636</td>\n",
       "      <td>Acura</td>\n",
       "      <td>ILX5-Speed</td>\n",
       "    </tr>\n",
       "    <tr>\n",
       "      <th>2</th>\n",
       "      <td>8995</td>\n",
       "      <td>2013</td>\n",
       "      <td>48851</td>\n",
       "      <td>El Paso</td>\n",
       "      <td>TX</td>\n",
       "      <td>19VDE2E52DE000025</td>\n",
       "      <td>Acura</td>\n",
       "      <td>ILX6-Speed</td>\n",
       "    </tr>\n",
       "    <tr>\n",
       "      <th>3</th>\n",
       "      <td>10999</td>\n",
       "      <td>2014</td>\n",
       "      <td>39922</td>\n",
       "      <td>Windsor</td>\n",
       "      <td>CO</td>\n",
       "      <td>19VDE1F71EE003817</td>\n",
       "      <td>Acura</td>\n",
       "      <td>ILX5-Speed</td>\n",
       "    </tr>\n",
       "    <tr>\n",
       "      <th>4</th>\n",
       "      <td>14799</td>\n",
       "      <td>2016</td>\n",
       "      <td>22142</td>\n",
       "      <td>Lindon</td>\n",
       "      <td>UT</td>\n",
       "      <td>19UDE2F32GA001284</td>\n",
       "      <td>Acura</td>\n",
       "      <td>ILXAutomatic</td>\n",
       "    </tr>\n",
       "  </tbody>\n",
       "</table>\n",
       "</div>"
      ],
      "text/plain": [
       "   Price  Year  Mileage              City State                Vin   Make  \\\n",
       "0   8995  2014    35725           El Paso    TX  19VDE2E53EE000083  Acura   \n",
       "1  10888  2013    19606  Long Island City    NY  19VDE1F52DE012636  Acura   \n",
       "2   8995  2013    48851           El Paso    TX  19VDE2E52DE000025  Acura   \n",
       "3  10999  2014    39922           Windsor    CO  19VDE1F71EE003817  Acura   \n",
       "4  14799  2016    22142            Lindon    UT  19UDE2F32GA001284  Acura   \n",
       "\n",
       "          Model  \n",
       "0    ILX6-Speed  \n",
       "1    ILX5-Speed  \n",
       "2    ILX6-Speed  \n",
       "3    ILX5-Speed  \n",
       "4  ILXAutomatic  "
      ]
     },
     "execution_count": 6,
     "metadata": {},
     "output_type": "execute_result"
    }
   ],
   "source": [
    "#Loading Dataset 1\n",
    "df1 = pd.read_csv('true_car_listings.csv')\n",
    "df1.head()"
   ]
  },
  {
   "cell_type": "code",
   "execution_count": 5,
   "metadata": {},
   "outputs": [
    {
     "data": {
      "text/html": [
       "<div>\n",
       "<style scoped>\n",
       "    .dataframe tbody tr th:only-of-type {\n",
       "        vertical-align: middle;\n",
       "    }\n",
       "\n",
       "    .dataframe tbody tr th {\n",
       "        vertical-align: top;\n",
       "    }\n",
       "\n",
       "    .dataframe thead th {\n",
       "        text-align: right;\n",
       "    }\n",
       "</style>\n",
       "<table border=\"1\" class=\"dataframe\">\n",
       "  <thead>\n",
       "    <tr style=\"text-align: right;\">\n",
       "      <th></th>\n",
       "      <th>Id</th>\n",
       "      <th>Price</th>\n",
       "      <th>Year</th>\n",
       "      <th>Mileage</th>\n",
       "      <th>City</th>\n",
       "      <th>State</th>\n",
       "      <th>Vin</th>\n",
       "      <th>Make</th>\n",
       "      <th>Model</th>\n",
       "    </tr>\n",
       "  </thead>\n",
       "  <tbody>\n",
       "    <tr>\n",
       "      <th>0</th>\n",
       "      <td>1</td>\n",
       "      <td>16472</td>\n",
       "      <td>2015</td>\n",
       "      <td>18681</td>\n",
       "      <td>Jefferson City</td>\n",
       "      <td>MO</td>\n",
       "      <td>KL4CJBSBXFB267643</td>\n",
       "      <td>Buick</td>\n",
       "      <td>EncoreConvenience</td>\n",
       "    </tr>\n",
       "    <tr>\n",
       "      <th>1</th>\n",
       "      <td>2</td>\n",
       "      <td>15749</td>\n",
       "      <td>2015</td>\n",
       "      <td>27592</td>\n",
       "      <td>Highland</td>\n",
       "      <td>IN</td>\n",
       "      <td>KL4CJASB5FB245057</td>\n",
       "      <td>Buick</td>\n",
       "      <td>EncoreFWD</td>\n",
       "    </tr>\n",
       "    <tr>\n",
       "      <th>2</th>\n",
       "      <td>3</td>\n",
       "      <td>16998</td>\n",
       "      <td>2015</td>\n",
       "      <td>13650</td>\n",
       "      <td>Boone</td>\n",
       "      <td>NC</td>\n",
       "      <td>KL4CJCSB0FB264921</td>\n",
       "      <td>Buick</td>\n",
       "      <td>EncoreLeather</td>\n",
       "    </tr>\n",
       "    <tr>\n",
       "      <th>3</th>\n",
       "      <td>4</td>\n",
       "      <td>15777</td>\n",
       "      <td>2015</td>\n",
       "      <td>25195</td>\n",
       "      <td>New Orleans</td>\n",
       "      <td>LA</td>\n",
       "      <td>KL4CJASB4FB217542</td>\n",
       "      <td>Buick</td>\n",
       "      <td>EncoreFWD</td>\n",
       "    </tr>\n",
       "    <tr>\n",
       "      <th>4</th>\n",
       "      <td>5</td>\n",
       "      <td>16784</td>\n",
       "      <td>2015</td>\n",
       "      <td>22800</td>\n",
       "      <td>Las Vegas</td>\n",
       "      <td>NV</td>\n",
       "      <td>KL4CJBSB3FB166881</td>\n",
       "      <td>Buick</td>\n",
       "      <td>EncoreConvenience</td>\n",
       "    </tr>\n",
       "  </tbody>\n",
       "</table>\n",
       "</div>"
      ],
      "text/plain": [
       "   Id  Price  Year  Mileage            City State                Vin   Make  \\\n",
       "0   1  16472  2015    18681  Jefferson City    MO  KL4CJBSBXFB267643  Buick   \n",
       "1   2  15749  2015    27592        Highland    IN  KL4CJASB5FB245057  Buick   \n",
       "2   3  16998  2015    13650           Boone    NC  KL4CJCSB0FB264921  Buick   \n",
       "3   4  15777  2015    25195     New Orleans    LA  KL4CJASB4FB217542  Buick   \n",
       "4   5  16784  2015    22800       Las Vegas    NV  KL4CJBSB3FB166881  Buick   \n",
       "\n",
       "               Model  \n",
       "0  EncoreConvenience  \n",
       "1          EncoreFWD  \n",
       "2      EncoreLeather  \n",
       "3          EncoreFWD  \n",
       "4  EncoreConvenience  "
      ]
     },
     "execution_count": 5,
     "metadata": {},
     "output_type": "execute_result"
    }
   ],
   "source": [
    "#Loading Data base 1\n",
    "df2 = pd.read_csv('tc20171021.csv' , on_bad_lines='skip')\n",
    "df2.head()\n"
   ]
  },
  {
   "cell_type": "code",
   "execution_count": 7,
   "metadata": {},
   "outputs": [
    {
     "data": {
      "text/plain": [
       "(852122, 8)"
      ]
     },
     "execution_count": 7,
     "metadata": {},
     "output_type": "execute_result"
    }
   ],
   "source": [
    "# shape of dataset 1\n",
    "df1.shape\n"
   ]
  },
  {
   "cell_type": "code",
   "execution_count": 8,
   "metadata": {},
   "outputs": [
    {
     "data": {
      "text/plain": [
       "(1216250, 9)"
      ]
     },
     "execution_count": 8,
     "metadata": {},
     "output_type": "execute_result"
    }
   ],
   "source": [
    "# shape of dataset 1\n",
    "df2.shape"
   ]
  },
  {
   "cell_type": "code",
   "execution_count": 9,
   "metadata": {},
   "outputs": [
    {
     "data": {
      "text/plain": [
       "Index(['Price', 'Year', 'Mileage', 'City', 'State', 'Vin', 'Make', 'Model'], dtype='object')"
      ]
     },
     "execution_count": 9,
     "metadata": {},
     "output_type": "execute_result"
    }
   ],
   "source": [
    "# dataset 1 columns\n",
    "df1.columns\n"
   ]
  },
  {
   "cell_type": "code",
   "execution_count": 10,
   "metadata": {},
   "outputs": [
    {
     "data": {
      "text/plain": [
       "Index(['Id', 'Price', 'Year', 'Mileage', 'City', 'State', 'Vin', 'Make',\n",
       "       'Model'],\n",
       "      dtype='object')"
      ]
     },
     "execution_count": 10,
     "metadata": {},
     "output_type": "execute_result"
    }
   ],
   "source": [
    "#dataset 2 columns\n",
    "df2.columns"
   ]
  },
  {
   "cell_type": "code",
   "execution_count": 11,
   "metadata": {},
   "outputs": [
    {
     "name": "stdout",
     "output_type": "stream",
     "text": [
      "<class 'pandas.core.frame.DataFrame'>\n",
      "RangeIndex: 852122 entries, 0 to 852121\n",
      "Data columns (total 8 columns):\n",
      " #   Column   Non-Null Count   Dtype \n",
      "---  ------   --------------   ----- \n",
      " 0   Price    852122 non-null  int64 \n",
      " 1   Year     852122 non-null  int64 \n",
      " 2   Mileage  852122 non-null  int64 \n",
      " 3   City     852122 non-null  object\n",
      " 4   State    852122 non-null  object\n",
      " 5   Vin      852122 non-null  object\n",
      " 6   Make     852122 non-null  object\n",
      " 7   Model    852122 non-null  object\n",
      "dtypes: int64(3), object(5)\n",
      "memory usage: 52.0+ MB\n"
     ]
    }
   ],
   "source": [
    "df1.info()"
   ]
  },
  {
   "cell_type": "code",
   "execution_count": 12,
   "metadata": {},
   "outputs": [
    {
     "name": "stdout",
     "output_type": "stream",
     "text": [
      "<class 'pandas.core.frame.DataFrame'>\n",
      "RangeIndex: 1216250 entries, 0 to 1216249\n",
      "Data columns (total 9 columns):\n",
      " #   Column   Non-Null Count    Dtype \n",
      "---  ------   --------------    ----- \n",
      " 0   Id       1216250 non-null  int64 \n",
      " 1   Price    1216250 non-null  int64 \n",
      " 2   Year     1216250 non-null  int64 \n",
      " 3   Mileage  1216250 non-null  int64 \n",
      " 4   City     1216250 non-null  object\n",
      " 5   State    1216250 non-null  object\n",
      " 6   Vin      1216250 non-null  object\n",
      " 7   Make     1216250 non-null  object\n",
      " 8   Model    1216250 non-null  object\n",
      "dtypes: int64(4), object(5)\n",
      "memory usage: 83.5+ MB\n"
     ]
    }
   ],
   "source": [
    "df2.info()"
   ]
  },
  {
   "cell_type": "code",
   "execution_count": 13,
   "metadata": {},
   "outputs": [
    {
     "data": {
      "text/html": [
       "<div>\n",
       "<style scoped>\n",
       "    .dataframe tbody tr th:only-of-type {\n",
       "        vertical-align: middle;\n",
       "    }\n",
       "\n",
       "    .dataframe tbody tr th {\n",
       "        vertical-align: top;\n",
       "    }\n",
       "\n",
       "    .dataframe thead th {\n",
       "        text-align: right;\n",
       "    }\n",
       "</style>\n",
       "<table border=\"1\" class=\"dataframe\">\n",
       "  <thead>\n",
       "    <tr style=\"text-align: right;\">\n",
       "      <th></th>\n",
       "      <th>Price</th>\n",
       "      <th>Year</th>\n",
       "      <th>Mileage</th>\n",
       "    </tr>\n",
       "  </thead>\n",
       "  <tbody>\n",
       "    <tr>\n",
       "      <th>count</th>\n",
       "      <td>852122.000000</td>\n",
       "      <td>852122.000000</td>\n",
       "      <td>8.521220e+05</td>\n",
       "    </tr>\n",
       "    <tr>\n",
       "      <th>mean</th>\n",
       "      <td>21464.100210</td>\n",
       "      <td>2013.289145</td>\n",
       "      <td>5.250779e+04</td>\n",
       "    </tr>\n",
       "    <tr>\n",
       "      <th>std</th>\n",
       "      <td>13596.202241</td>\n",
       "      <td>3.414987</td>\n",
       "      <td>4.198896e+04</td>\n",
       "    </tr>\n",
       "    <tr>\n",
       "      <th>min</th>\n",
       "      <td>1500.000000</td>\n",
       "      <td>1997.000000</td>\n",
       "      <td>5.000000e+00</td>\n",
       "    </tr>\n",
       "    <tr>\n",
       "      <th>25%</th>\n",
       "      <td>13000.000000</td>\n",
       "      <td>2012.000000</td>\n",
       "      <td>2.383600e+04</td>\n",
       "    </tr>\n",
       "    <tr>\n",
       "      <th>50%</th>\n",
       "      <td>18500.000000</td>\n",
       "      <td>2014.000000</td>\n",
       "      <td>4.025600e+04</td>\n",
       "    </tr>\n",
       "    <tr>\n",
       "      <th>75%</th>\n",
       "      <td>26995.000000</td>\n",
       "      <td>2016.000000</td>\n",
       "      <td>7.218600e+04</td>\n",
       "    </tr>\n",
       "    <tr>\n",
       "      <th>max</th>\n",
       "      <td>499500.000000</td>\n",
       "      <td>2018.000000</td>\n",
       "      <td>2.856196e+06</td>\n",
       "    </tr>\n",
       "  </tbody>\n",
       "</table>\n",
       "</div>"
      ],
      "text/plain": [
       "               Price           Year       Mileage\n",
       "count  852122.000000  852122.000000  8.521220e+05\n",
       "mean    21464.100210    2013.289145  5.250779e+04\n",
       "std     13596.202241       3.414987  4.198896e+04\n",
       "min      1500.000000    1997.000000  5.000000e+00\n",
       "25%     13000.000000    2012.000000  2.383600e+04\n",
       "50%     18500.000000    2014.000000  4.025600e+04\n",
       "75%     26995.000000    2016.000000  7.218600e+04\n",
       "max    499500.000000    2018.000000  2.856196e+06"
      ]
     },
     "execution_count": 13,
     "metadata": {},
     "output_type": "execute_result"
    }
   ],
   "source": [
    "df1.describe()"
   ]
  },
  {
   "cell_type": "code",
   "execution_count": 24,
   "metadata": {},
   "outputs": [
    {
     "data": {
      "text/html": [
       "<div>\n",
       "<style scoped>\n",
       "    .dataframe tbody tr th:only-of-type {\n",
       "        vertical-align: middle;\n",
       "    }\n",
       "\n",
       "    .dataframe tbody tr th {\n",
       "        vertical-align: top;\n",
       "    }\n",
       "\n",
       "    .dataframe thead th {\n",
       "        text-align: right;\n",
       "    }\n",
       "</style>\n",
       "<table border=\"1\" class=\"dataframe\">\n",
       "  <thead>\n",
       "    <tr style=\"text-align: right;\">\n",
       "      <th></th>\n",
       "      <th>Id</th>\n",
       "      <th>Price</th>\n",
       "      <th>Year</th>\n",
       "      <th>Mileage</th>\n",
       "    </tr>\n",
       "  </thead>\n",
       "  <tbody>\n",
       "    <tr>\n",
       "      <th>count</th>\n",
       "      <td>1.216250e+06</td>\n",
       "      <td>1.216250e+06</td>\n",
       "      <td>1.216250e+06</td>\n",
       "      <td>1.216250e+06</td>\n",
       "    </tr>\n",
       "    <tr>\n",
       "      <th>mean</th>\n",
       "      <td>6.132814e+05</td>\n",
       "      <td>2.096887e+04</td>\n",
       "      <td>2.013307e+03</td>\n",
       "      <td>5.290810e+04</td>\n",
       "    </tr>\n",
       "    <tr>\n",
       "      <th>std</th>\n",
       "      <td>3.546571e+05</td>\n",
       "      <td>1.315940e+04</td>\n",
       "      <td>3.441842e+00</td>\n",
       "      <td>8.192775e+04</td>\n",
       "    </tr>\n",
       "    <tr>\n",
       "      <th>min</th>\n",
       "      <td>1.000000e+00</td>\n",
       "      <td>1.500000e+03</td>\n",
       "      <td>1.997000e+03</td>\n",
       "      <td>5.000000e+00</td>\n",
       "    </tr>\n",
       "    <tr>\n",
       "      <th>25%</th>\n",
       "      <td>3.081122e+05</td>\n",
       "      <td>1.299400e+04</td>\n",
       "      <td>2.012000e+03</td>\n",
       "      <td>2.396200e+04</td>\n",
       "    </tr>\n",
       "    <tr>\n",
       "      <th>50%</th>\n",
       "      <td>6.134915e+05</td>\n",
       "      <td>1.799500e+04</td>\n",
       "      <td>2.014000e+03</td>\n",
       "      <td>4.053400e+04</td>\n",
       "    </tr>\n",
       "    <tr>\n",
       "      <th>75%</th>\n",
       "      <td>9.175538e+05</td>\n",
       "      <td>2.641400e+04</td>\n",
       "      <td>2.016000e+03</td>\n",
       "      <td>7.272500e+04</td>\n",
       "    </tr>\n",
       "    <tr>\n",
       "      <th>max</th>\n",
       "      <td>1.233042e+06</td>\n",
       "      <td>4.995000e+05</td>\n",
       "      <td>2.018000e+03</td>\n",
       "      <td>7.758776e+07</td>\n",
       "    </tr>\n",
       "  </tbody>\n",
       "</table>\n",
       "</div>"
      ],
      "text/plain": [
       "                 Id         Price          Year       Mileage\n",
       "count  1.216250e+06  1.216250e+06  1.216250e+06  1.216250e+06\n",
       "mean   6.132814e+05  2.096887e+04  2.013307e+03  5.290810e+04\n",
       "std    3.546571e+05  1.315940e+04  3.441842e+00  8.192775e+04\n",
       "min    1.000000e+00  1.500000e+03  1.997000e+03  5.000000e+00\n",
       "25%    3.081122e+05  1.299400e+04  2.012000e+03  2.396200e+04\n",
       "50%    6.134915e+05  1.799500e+04  2.014000e+03  4.053400e+04\n",
       "75%    9.175538e+05  2.641400e+04  2.016000e+03  7.272500e+04\n",
       "max    1.233042e+06  4.995000e+05  2.018000e+03  7.758776e+07"
      ]
     },
     "execution_count": 24,
     "metadata": {},
     "output_type": "execute_result"
    }
   ],
   "source": [
    "df2.describe()"
   ]
  },
  {
   "cell_type": "markdown",
   "metadata": {},
   "source": [
    "###### * Converting categorical variables to dummies\n",
    "* Making skew variables symmetric\n",
    "\n",
    "## One-hot encoding the dummy variables:"
   ]
  },
  {
   "cell_type": "code",
   "execution_count": 14,
   "metadata": {},
   "outputs": [
    {
     "name": "stderr",
     "output_type": "stream",
     "text": [
      "/tmp/ipykernel_7866/578087461.py:1: DeprecationWarning: `np.object` is a deprecated alias for the builtin `object`. To silence this warning, use `object` by itself. Doing this will not modify any behavior and is safe. \n",
      "Deprecated in NumPy 1.20; for more details and guidance: https://numpy.org/devdocs/release/1.20.0-notes.html#deprecations\n",
      "  one_hot_encode_cols = df1.dtypes[df1.dtypes == np.object]  # filtering by string categoricals\n",
      "/tmp/ipykernel_7866/578087461.py:3: DeprecationWarning: `np.object` is a deprecated alias for the builtin `object`. To silence this warning, use `object` by itself. Doing this will not modify any behavior and is safe. \n",
      "Deprecated in NumPy 1.20; for more details and guidance: https://numpy.org/devdocs/release/1.20.0-notes.html#deprecations\n",
      "  one_hot_encode_cols = df1.dtypes[df1.dtypes == np.object]  # filtering by string categoricals\n"
     ]
    },
    {
     "data": {
      "text/html": [
       "<div>\n",
       "<style scoped>\n",
       "    .dataframe tbody tr th:only-of-type {\n",
       "        vertical-align: middle;\n",
       "    }\n",
       "\n",
       "    .dataframe tbody tr th {\n",
       "        vertical-align: top;\n",
       "    }\n",
       "\n",
       "    .dataframe thead th {\n",
       "        text-align: right;\n",
       "    }\n",
       "</style>\n",
       "<table border=\"1\" class=\"dataframe\">\n",
       "  <thead>\n",
       "    <tr style=\"text-align: right;\">\n",
       "      <th></th>\n",
       "      <th>0</th>\n",
       "      <th>1</th>\n",
       "      <th>2</th>\n",
       "      <th>3</th>\n",
       "      <th>4</th>\n",
       "    </tr>\n",
       "  </thead>\n",
       "  <tbody>\n",
       "    <tr>\n",
       "      <th>City</th>\n",
       "      <td>El Paso</td>\n",
       "      <td>Long Island City</td>\n",
       "      <td>El Paso</td>\n",
       "      <td>Windsor</td>\n",
       "      <td>Lindon</td>\n",
       "    </tr>\n",
       "    <tr>\n",
       "      <th>State</th>\n",
       "      <td>TX</td>\n",
       "      <td>NY</td>\n",
       "      <td>TX</td>\n",
       "      <td>CO</td>\n",
       "      <td>UT</td>\n",
       "    </tr>\n",
       "    <tr>\n",
       "      <th>Vin</th>\n",
       "      <td>19VDE2E53EE000083</td>\n",
       "      <td>19VDE1F52DE012636</td>\n",
       "      <td>19VDE2E52DE000025</td>\n",
       "      <td>19VDE1F71EE003817</td>\n",
       "      <td>19UDE2F32GA001284</td>\n",
       "    </tr>\n",
       "    <tr>\n",
       "      <th>Make</th>\n",
       "      <td>Acura</td>\n",
       "      <td>Acura</td>\n",
       "      <td>Acura</td>\n",
       "      <td>Acura</td>\n",
       "      <td>Acura</td>\n",
       "    </tr>\n",
       "    <tr>\n",
       "      <th>Model</th>\n",
       "      <td>ILX6-Speed</td>\n",
       "      <td>ILX5-Speed</td>\n",
       "      <td>ILX6-Speed</td>\n",
       "      <td>ILX5-Speed</td>\n",
       "      <td>ILXAutomatic</td>\n",
       "    </tr>\n",
       "  </tbody>\n",
       "</table>\n",
       "</div>"
      ],
      "text/plain": [
       "                       0                  1                  2  \\\n",
       "City             El Paso   Long Island City            El Paso   \n",
       "State                 TX                 NY                 TX   \n",
       "Vin    19VDE2E53EE000083  19VDE1F52DE012636  19VDE2E52DE000025   \n",
       "Make               Acura              Acura              Acura   \n",
       "Model         ILX6-Speed         ILX5-Speed         ILX6-Speed   \n",
       "\n",
       "                       3                  4  \n",
       "City             Windsor             Lindon  \n",
       "State                 CO                 UT  \n",
       "Vin    19VDE1F71EE003817  19UDE2F32GA001284  \n",
       "Make               Acura              Acura  \n",
       "Model         ILX5-Speed       ILXAutomatic  "
      ]
     },
     "execution_count": 14,
     "metadata": {},
     "output_type": "execute_result"
    }
   ],
   "source": [
    "one_hot_encode_cols = df1.dtypes[df1.dtypes == np.object]  # filtering by string categoricals\n",
    "one_hot_encode_cols = one_hot_encode_cols.index.tolist()  # list of categorical fields\n",
    "one_hot_encode_cols = df1.dtypes[df1.dtypes == np.object]  # filtering by string categoricals\n",
    "one_hot_encode_cols = one_hot_encode_cols.index.tolist()  # list of categorical fields\n",
    "\n",
    "df1[one_hot_encode_cols].head().T\n",
    "df1[one_hot_encode_cols].head().T"
   ]
  },
  {
   "cell_type": "markdown",
   "metadata": {},
   "source": [
    "### Checking missing values"
   ]
  },
  {
   "cell_type": "code",
   "execution_count": 15,
   "metadata": {
    "scrolled": false
   },
   "outputs": [
    {
     "data": {
      "text/plain": [
       "Price      0\n",
       "Year       0\n",
       "Mileage    0\n",
       "City       0\n",
       "State      0\n",
       "Vin        0\n",
       "Make       0\n",
       "Model      0\n",
       "dtype: int64"
      ]
     },
     "execution_count": 15,
     "metadata": {},
     "output_type": "execute_result"
    }
   ],
   "source": [
    "# method 1\n",
    "df1.isnull().sum()"
   ]
  },
  {
   "cell_type": "code",
   "execution_count": 16,
   "metadata": {},
   "outputs": [
    {
     "data": {
      "text/plain": [
       "Id         0\n",
       "Price      0\n",
       "Year       0\n",
       "Mileage    0\n",
       "City       0\n",
       "State      0\n",
       "Vin        0\n",
       "Make       0\n",
       "Model      0\n",
       "dtype: int64"
      ]
     },
     "execution_count": 16,
     "metadata": {},
     "output_type": "execute_result"
    }
   ],
   "source": [
    "df2.isnull().sum()"
   ]
  },
  {
   "cell_type": "code",
   "execution_count": 17,
   "metadata": {},
   "outputs": [
    {
     "data": {
      "text/plain": [
       "array(['KL4CJBSBXFB267643', 'KL4CJASB5FB245057', 'KL4CJCSB0FB264921', ...,\n",
       "       'YV4A22PL4J1212676', 'YV4A22PL3H1186162', 'YV4A22NLXH1006162'],\n",
       "      dtype=object)"
      ]
     },
     "execution_count": 17,
     "metadata": {},
     "output_type": "execute_result"
    }
   ],
   "source": [
    "df2.Vin.unique()"
   ]
  },
  {
   "cell_type": "markdown",
   "metadata": {},
   "source": [
    "### Exploratory Data Analysis For dataset 1"
   ]
  },
  {
   "cell_type": "code",
   "execution_count": 25,
   "metadata": {},
   "outputs": [],
   "source": [
    "sns.set(color_codes=True)\n",
    "sns.set(rc={'figure.figsize':(6,3)})\n",
    "\n",
    "def plot_histogram(col, color_val='#005c9d',\\\n",
    "                   x_label='Price', y_label='Frequency',\\\n",
    "                   title_text='Distribution of car prices'):\n",
    "    sns.distplot(col, kde=False, color=color_val)\n",
    "    \n",
    "    ax = plt.gca()\n",
    "    ax.set_xlabel(x_label)\n",
    "    ax.set_ylabel(y_label)\n",
    "    ax.set_title(title_text)\n",
    "    ax.get_xaxis().get_major_formatter().set_scientific(False)\n",
    "    ax.get_yaxis().get_major_formatter().set_scientific(False)\n",
    "\n",
    "    plt.show()"
   ]
  },
  {
   "cell_type": "code",
   "execution_count": 26,
   "metadata": {},
   "outputs": [
    {
     "data": {
      "image/png": "[encoded data removed]",
      "text/plain": [
       "<Figure size 432x216 with 1 Axes>"
      ]
     },
     "metadata": {},
     "output_type": "display_data"
    }
   ],
   "source": [
    "price_mill = df1.Price\n",
    "plot_histogram(price_mill)"
   ]
  },
  {
   "cell_type": "code",
   "execution_count": null,
   "metadata": {},
   "outputs": [],
   "source": []
  },
  {
   "cell_type": "markdown",
   "metadata": {},
   "source": [
    "The plot indicates that the prices are skewed toward the left, with the maximum number of cars hovering between 0 and 100000.\n",
    "\n",
    "For a better perspective, let us view the distribution in the USD 0–80000 range"
   ]
  },
  {
   "cell_type": "code",
   "execution_count": 27,
   "metadata": {},
   "outputs": [
    {
     "data": {
      "image/png": "[encoded data removed]",
      "text/plain": [
       "<Figure size 432x216 with 1 Axes>"
      ]
     },
     "metadata": {},
     "output_type": "display_data"
    }
   ],
   "source": [
    "plot_histogram(df1.Price[df1.Price<80000])"
   ]
  },
  {
   "cell_type": "markdown",
   "metadata": {},
   "source": [
    "Apparently, a large number of cars in the database are priced between at 14995  . Here is code that proves this:"
   ]
  },
  {
   "cell_type": "code",
   "execution_count": 28,
   "metadata": {},
   "outputs": [
    {
     "name": "stdout",
     "output_type": "stream",
     "text": [
      "Price:  14995 \n",
      "Counts:  4898\n",
      "\n",
      "Ten most frequently occurring prices:\n",
      "\n",
      "14995    4898\n",
      "12995    4600\n",
      "13995    4591\n",
      "9995     4298\n",
      "15995    4282\n",
      "16995    4266\n",
      "10995    4079\n",
      "11995    4065\n",
      "8995     3969\n",
      "17995    3754\n",
      "Name: Price, dtype: int64\n"
     ]
    }
   ],
   "source": [
    "price_counts = df1.Price.value_counts()\n",
    "print('Price: ', price_counts.index[0], '\\nCounts: ', price_counts.values[0])\n",
    "print('\\nTen most frequently occurring prices:\\n')\n",
    "print(price_counts[:10])"
   ]
  },
  {
   "cell_type": "markdown",
   "metadata": {},
   "source": [
    "### Comparing mean and median of pricesof dataset 1"
   ]
  },
  {
   "cell_type": "code",
   "execution_count": 29,
   "metadata": {},
   "outputs": [
    {
     "name": "stdout",
     "output_type": "stream",
     "text": [
      "Mean: 21464.10020982911\n",
      "\n",
      "Median:  18500.0\n"
     ]
    }
   ],
   "source": [
    "print('Mean:', df1.Price.mean())\n",
    "print()\n",
    "print('Median: ', df1.Price.median())"
   ]
  },
  {
   "cell_type": "markdown",
   "metadata": {},
   "source": [
    "### Finding minmum and maximum  prices of dataset 1"
   ]
  },
  {
   "cell_type": "code",
   "execution_count": 30,
   "metadata": {},
   "outputs": [
    {
     "name": "stdout",
     "output_type": "stream",
     "text": [
      "MaxMum price:  499500\n",
      "MinMum price:  1500\n"
     ]
    }
   ],
   "source": [
    "print('MaxMum price: ', df1.Price.max())\n",
    "print('MinMum price: ', df1.Price.min())"
   ]
  },
  {
   "cell_type": "markdown",
   "metadata": {},
   "source": [
    "### Make types"
   ]
  },
  {
   "cell_type": "code",
   "execution_count": 31,
   "metadata": {},
   "outputs": [
    {
     "data": {
      "text/plain": [
       "Ford             110432\n",
       "Chevrolet        102268\n",
       "Toyota            77786\n",
       "Nissan            66250\n",
       "Honda             50193\n",
       "Jeep              40373\n",
       "Hyundai           35837\n",
       "Dodge             34368\n",
       "BMW               32415\n",
       "GMC               29008\n",
       "Kia               28636\n",
       "Mercedes-Benz     26323\n",
       "Volkswagen        23249\n",
       "Lexus             20641\n",
       "Ram               19808\n",
       "Subaru            16428\n",
       "Chrysler          16357\n",
       "Cadillac          15047\n",
       "Mazda             13365\n",
       "Audi              12618\n",
       "Buick             12491\n",
       "INFINITI          12258\n",
       "Acura             11049\n",
       "Lincoln            7120\n",
       "Volvo              5106\n",
       "MINI               4375\n",
       "Porsche            4106\n",
       "Land               4096\n",
       "Mitsubishi         4080\n",
       "Scion              3043\n",
       "Jaguar             2200\n",
       "Pontiac            1783\n",
       "FIAT               1782\n",
       "Mercury            1076\n",
       "Maserati           1047\n",
       "Saturn              963\n",
       "HUMMER              949\n",
       "smart               713\n",
       "Bentley             367\n",
       "Ferrari             345\n",
       "Suzuki              334\n",
       "Saab                260\n",
       "Tesla               231\n",
       "Aston               149\n",
       "Genesis             141\n",
       "Oldsmobile          122\n",
       "Lamborghini         121\n",
       "Rolls-Royce          92\n",
       "Isuzu                76\n",
       "Plymouth             51\n",
       "McLaren              47\n",
       "Alfa                 44\n",
       "Lotus                42\n",
       "Fisker               19\n",
       "AM                   19\n",
       "Freightliner         11\n",
       "Maybach              10\n",
       "Geo                   2\n",
       "Name: Make, dtype: int64"
      ]
     },
     "execution_count": 31,
     "metadata": {},
     "output_type": "execute_result"
    }
   ],
   "source": [
    "df1['Make'].value_counts()"
   ]
  },
  {
   "cell_type": "code",
   "execution_count": 32,
   "metadata": {},
   "outputs": [
    {
     "data": {
      "text/plain": [
       "Silverado          24932\n",
       "Grand              17321\n",
       "Accord             14502\n",
       "F-1504WD           14177\n",
       "Altima2.5          11288\n",
       "                   ...  \n",
       "EdgeLTD                1\n",
       "ExpeditionEddie        1\n",
       "EscortSE               1\n",
       "Ranger                 1\n",
       "V60Polestar            1\n",
       "Name: Model, Length: 2736, dtype: int64"
      ]
     },
     "execution_count": 32,
     "metadata": {},
     "output_type": "execute_result"
    }
   ],
   "source": [
    "df1['Model'].value_counts()"
   ]
  },
  {
   "cell_type": "markdown",
   "metadata": {},
   "source": [
    "# Removing Outliers"
   ]
  },
  {
   "cell_type": "code",
   "execution_count": 33,
   "metadata": {},
   "outputs": [],
   "source": [
    "Q1 = df1.quantile(0.25)\n",
    "Q3 = df1.quantile(0.75)\n",
    "IQR = Q3 - Q1"
   ]
  },
  {
   "cell_type": "code",
   "execution_count": 34,
   "metadata": {},
   "outputs": [
    {
     "data": {
      "text/plain": [
       "Price      13000.0\n",
       "Year        2012.0\n",
       "Mileage    23836.0\n",
       "Name: 0.25, dtype: float64"
      ]
     },
     "execution_count": 34,
     "metadata": {},
     "output_type": "execute_result"
    }
   ],
   "source": [
    "Q1"
   ]
  },
  {
   "cell_type": "code",
   "execution_count": 35,
   "metadata": {},
   "outputs": [
    {
     "data": {
      "text/plain": [
       "Price      26995.0\n",
       "Year        2016.0\n",
       "Mileage    72186.0\n",
       "Name: 0.75, dtype: float64"
      ]
     },
     "execution_count": 35,
     "metadata": {},
     "output_type": "execute_result"
    }
   ],
   "source": [
    "Q3"
   ]
  },
  {
   "cell_type": "code",
   "execution_count": 36,
   "metadata": {},
   "outputs": [
    {
     "data": {
      "text/plain": [
       "Price      13995.0\n",
       "Year           4.0\n",
       "Mileage    48350.0\n",
       "dtype: float64"
      ]
     },
     "execution_count": 36,
     "metadata": {},
     "output_type": "execute_result"
    }
   ],
   "source": [
    "IQR"
   ]
  },
  {
   "cell_type": "code",
   "execution_count": 37,
   "metadata": {},
   "outputs": [
    {
     "data": {
      "text/html": [
       "<div>\n",
       "<style scoped>\n",
       "    .dataframe tbody tr th:only-of-type {\n",
       "        vertical-align: middle;\n",
       "    }\n",
       "\n",
       "    .dataframe tbody tr th {\n",
       "        vertical-align: top;\n",
       "    }\n",
       "\n",
       "    .dataframe thead th {\n",
       "        text-align: right;\n",
       "    }\n",
       "</style>\n",
       "<table border=\"1\" class=\"dataframe\">\n",
       "  <thead>\n",
       "    <tr style=\"text-align: right;\">\n",
       "      <th></th>\n",
       "      <th>Price</th>\n",
       "      <th>Year</th>\n",
       "      <th>Mileage</th>\n",
       "      <th>City</th>\n",
       "      <th>State</th>\n",
       "      <th>Vin</th>\n",
       "      <th>Make</th>\n",
       "      <th>Model</th>\n",
       "    </tr>\n",
       "  </thead>\n",
       "  <tbody>\n",
       "    <tr>\n",
       "      <th>0</th>\n",
       "      <td>8995</td>\n",
       "      <td>2014</td>\n",
       "      <td>35725</td>\n",
       "      <td>El Paso</td>\n",
       "      <td>TX</td>\n",
       "      <td>19VDE2E53EE000083</td>\n",
       "      <td>Acura</td>\n",
       "      <td>ILX6-Speed</td>\n",
       "    </tr>\n",
       "    <tr>\n",
       "      <th>1</th>\n",
       "      <td>10888</td>\n",
       "      <td>2013</td>\n",
       "      <td>19606</td>\n",
       "      <td>Long Island City</td>\n",
       "      <td>NY</td>\n",
       "      <td>19VDE1F52DE012636</td>\n",
       "      <td>Acura</td>\n",
       "      <td>ILX5-Speed</td>\n",
       "    </tr>\n",
       "    <tr>\n",
       "      <th>2</th>\n",
       "      <td>8995</td>\n",
       "      <td>2013</td>\n",
       "      <td>48851</td>\n",
       "      <td>El Paso</td>\n",
       "      <td>TX</td>\n",
       "      <td>19VDE2E52DE000025</td>\n",
       "      <td>Acura</td>\n",
       "      <td>ILX6-Speed</td>\n",
       "    </tr>\n",
       "    <tr>\n",
       "      <th>3</th>\n",
       "      <td>10999</td>\n",
       "      <td>2014</td>\n",
       "      <td>39922</td>\n",
       "      <td>Windsor</td>\n",
       "      <td>CO</td>\n",
       "      <td>19VDE1F71EE003817</td>\n",
       "      <td>Acura</td>\n",
       "      <td>ILX5-Speed</td>\n",
       "    </tr>\n",
       "    <tr>\n",
       "      <th>4</th>\n",
       "      <td>14799</td>\n",
       "      <td>2016</td>\n",
       "      <td>22142</td>\n",
       "      <td>Lindon</td>\n",
       "      <td>UT</td>\n",
       "      <td>19UDE2F32GA001284</td>\n",
       "      <td>Acura</td>\n",
       "      <td>ILXAutomatic</td>\n",
       "    </tr>\n",
       "    <tr>\n",
       "      <th>...</th>\n",
       "      <td>...</td>\n",
       "      <td>...</td>\n",
       "      <td>...</td>\n",
       "      <td>...</td>\n",
       "      <td>...</td>\n",
       "      <td>...</td>\n",
       "      <td>...</td>\n",
       "      <td>...</td>\n",
       "    </tr>\n",
       "    <tr>\n",
       "      <th>852076</th>\n",
       "      <td>37999</td>\n",
       "      <td>2016</td>\n",
       "      <td>10801</td>\n",
       "      <td>Portsmouth</td>\n",
       "      <td>NH</td>\n",
       "      <td>YV1902SP8G1300493</td>\n",
       "      <td>Volvo</td>\n",
       "      <td>V60T6</td>\n",
       "    </tr>\n",
       "    <tr>\n",
       "      <th>852089</th>\n",
       "      <td>44565</td>\n",
       "      <td>2016</td>\n",
       "      <td>5650</td>\n",
       "      <td>Miami</td>\n",
       "      <td>FL</td>\n",
       "      <td>YV126MFK0G2407090</td>\n",
       "      <td>Volvo</td>\n",
       "      <td>S60T5</td>\n",
       "    </tr>\n",
       "    <tr>\n",
       "      <th>852108</th>\n",
       "      <td>45280</td>\n",
       "      <td>2017</td>\n",
       "      <td>8</td>\n",
       "      <td>San Leandro</td>\n",
       "      <td>CA</td>\n",
       "      <td>YV140MEK1H1370375</td>\n",
       "      <td>Volvo</td>\n",
       "      <td>V60T5</td>\n",
       "    </tr>\n",
       "    <tr>\n",
       "      <th>852111</th>\n",
       "      <td>46500</td>\n",
       "      <td>2017</td>\n",
       "      <td>8</td>\n",
       "      <td>San Leandro</td>\n",
       "      <td>CA</td>\n",
       "      <td>YV140MEM3H1370217</td>\n",
       "      <td>Volvo</td>\n",
       "      <td>V60T5</td>\n",
       "    </tr>\n",
       "    <tr>\n",
       "      <th>852112</th>\n",
       "      <td>46530</td>\n",
       "      <td>2017</td>\n",
       "      <td>10</td>\n",
       "      <td>San Leandro</td>\n",
       "      <td>CA</td>\n",
       "      <td>YV140MEK7H1364709</td>\n",
       "      <td>Volvo</td>\n",
       "      <td>V60T5</td>\n",
       "    </tr>\n",
       "  </tbody>\n",
       "</table>\n",
       "<p>770733 rows × 8 columns</p>\n",
       "</div>"
      ],
      "text/plain": [
       "        Price  Year  Mileage              City State                Vin  \\\n",
       "0        8995  2014    35725           El Paso    TX  19VDE2E53EE000083   \n",
       "1       10888  2013    19606  Long Island City    NY  19VDE1F52DE012636   \n",
       "2        8995  2013    48851           El Paso    TX  19VDE2E52DE000025   \n",
       "3       10999  2014    39922           Windsor    CO  19VDE1F71EE003817   \n",
       "4       14799  2016    22142            Lindon    UT  19UDE2F32GA001284   \n",
       "...       ...   ...      ...               ...   ...                ...   \n",
       "852076  37999  2016    10801        Portsmouth    NH  YV1902SP8G1300493   \n",
       "852089  44565  2016     5650             Miami    FL  YV126MFK0G2407090   \n",
       "852108  45280  2017        8       San Leandro    CA  YV140MEK1H1370375   \n",
       "852111  46500  2017        8       San Leandro    CA  YV140MEM3H1370217   \n",
       "852112  46530  2017       10       San Leandro    CA  YV140MEK7H1364709   \n",
       "\n",
       "         Make         Model  \n",
       "0       Acura    ILX6-Speed  \n",
       "1       Acura    ILX5-Speed  \n",
       "2       Acura    ILX6-Speed  \n",
       "3       Acura    ILX5-Speed  \n",
       "4       Acura  ILXAutomatic  \n",
       "...       ...           ...  \n",
       "852076  Volvo         V60T6  \n",
       "852089  Volvo         S60T5  \n",
       "852108  Volvo         V60T5  \n",
       "852111  Volvo         V60T5  \n",
       "852112  Volvo         V60T5  \n",
       "\n",
       "[770733 rows x 8 columns]"
      ]
     },
     "execution_count": 37,
     "metadata": {},
     "output_type": "execute_result"
    }
   ],
   "source": [
    "df1 = df1[~((df1 < (Q1 - 1.5 * IQR)) | (df1 > (Q3 + 1.5 * IQR))).any(axis=1)]\n",
    "df1"
   ]
  },
  {
   "cell_type": "markdown",
   "metadata": {},
   "source": [
    "## Number of cars per Make"
   ]
  },
  {
   "cell_type": "code",
   "execution_count": 38,
   "metadata": {},
   "outputs": [
    {
     "data": {
      "image/png": "[encoded data removed]",
      "text/plain": [
       "<Figure size 720x288 with 1 Axes>"
      ]
     },
     "metadata": {},
     "output_type": "display_data"
    }
   ],
   "source": [
    "plt.figure(figsize=(10, 4))\n",
    "plt.xticks(rotation=90)\n",
    "sns.countplot(df1.Make);"
   ]
  },
  {
   "cell_type": "markdown",
   "metadata": {},
   "source": [
    "Here we can see tha Ford make has the highes number of cars"
   ]
  },
  {
   "cell_type": "markdown",
   "metadata": {},
   "source": [
    "## How make is Interelated with Prices"
   ]
  },
  {
   "cell_type": "code",
   "execution_count": 39,
   "metadata": {},
   "outputs": [
    {
     "data": {
      "image/png": "[encoded data removed]",
      "text/plain": [
       "<Figure size 720x288 with 1 Axes>"
      ]
     },
     "metadata": {},
     "output_type": "display_data"
    }
   ],
   "source": [
    "plt.figure(figsize=(10, 4))\n",
    "plt.xticks(rotation=90)\n",
    "sns.barplot(x='Make', y='Price', data=df1);"
   ]
  },
  {
   "cell_type": "markdown",
   "metadata": {},
   "source": [
    "From the graph we can see Tesla leading with the Prices"
   ]
  },
  {
   "cell_type": "markdown",
   "metadata": {},
   "source": [
    "## How car prices vary with year of make"
   ]
  },
  {
   "cell_type": "code",
   "execution_count": 40,
   "metadata": {},
   "outputs": [
    {
     "data": {
      "image/png": "[encoded data removed]",
      "text/plain": [
       "<Figure size 720x288 with 1 Axes>"
      ]
     },
     "metadata": {},
     "output_type": "display_data"
    }
   ],
   "source": [
    "year = df1.Year.astype(np.int64)\n",
    "price = df1.Price\n",
    "plt.figure(figsize=(10, 4))\n",
    "plt.xticks(rotation=90)\n",
    "sns.barplot(year, price);"
   ]
  },
  {
   "cell_type": "markdown",
   "metadata": {},
   "source": [
    "The above graph shows that prices increase fairly consistently with year"
   ]
  },
  {
   "cell_type": "markdown",
   "metadata": {},
   "source": [
    "## How Mileage compares to prices of cars"
   ]
  },
  {
   "cell_type": "code",
   "execution_count": 41,
   "metadata": {},
   "outputs": [
    {
     "data": {
      "image/png": "[encoded data removed]",
      "text/plain": [
       "<Figure size 720x288 with 1 Axes>"
      ]
     },
     "metadata": {},
     "output_type": "display_data"
    }
   ],
   "source": [
    "Mileage = df1.Mileage.astype(np.int64)\n",
    "price = df1.Price\n",
    "plt.figure(figsize=(10, 4))\n",
    "plt.xticks(rotation=90)\n",
    "sns.scatterplot(Mileage, price);"
   ]
  },
  {
   "cell_type": "markdown",
   "metadata": {},
   "source": [
    "# How the columns are correlated"
   ]
  },
  {
   "cell_type": "code",
   "execution_count": 42,
   "metadata": {},
   "outputs": [
    {
     "data": {
      "text/html": [
       "<div>\n",
       "<style scoped>\n",
       "    .dataframe tbody tr th:only-of-type {\n",
       "        vertical-align: middle;\n",
       "    }\n",
       "\n",
       "    .dataframe tbody tr th {\n",
       "        vertical-align: top;\n",
       "    }\n",
       "\n",
       "    .dataframe thead th {\n",
       "        text-align: right;\n",
       "    }\n",
       "</style>\n",
       "<table border=\"1\" class=\"dataframe\">\n",
       "  <thead>\n",
       "    <tr style=\"text-align: right;\">\n",
       "      <th></th>\n",
       "      <th>Price</th>\n",
       "      <th>Year</th>\n",
       "      <th>Mileage</th>\n",
       "    </tr>\n",
       "  </thead>\n",
       "  <tbody>\n",
       "    <tr>\n",
       "      <th>Price</th>\n",
       "      <td>1.000000</td>\n",
       "      <td>0.433378</td>\n",
       "      <td>-0.448612</td>\n",
       "    </tr>\n",
       "    <tr>\n",
       "      <th>Year</th>\n",
       "      <td>0.433378</td>\n",
       "      <td>1.000000</td>\n",
       "      <td>-0.763433</td>\n",
       "    </tr>\n",
       "    <tr>\n",
       "      <th>Mileage</th>\n",
       "      <td>-0.448612</td>\n",
       "      <td>-0.763433</td>\n",
       "      <td>1.000000</td>\n",
       "    </tr>\n",
       "  </tbody>\n",
       "</table>\n",
       "</div>"
      ],
      "text/plain": [
       "            Price      Year   Mileage\n",
       "Price    1.000000  0.433378 -0.448612\n",
       "Year     0.433378  1.000000 -0.763433\n",
       "Mileage -0.448612 -0.763433  1.000000"
      ]
     },
     "execution_count": 42,
     "metadata": {},
     "output_type": "execute_result"
    }
   ],
   "source": [
    "corr=df1.corr()\n",
    "corr"
   ]
  },
  {
   "cell_type": "code",
   "execution_count": 43,
   "metadata": {},
   "outputs": [
    {
     "data": {
      "text/plain": [
       "<AxesSubplot:>"
      ]
     },
     "execution_count": 43,
     "metadata": {},
     "output_type": "execute_result"
    },
    {
     "data": {
      "image/png": "[encoded data removed]",
      "text/plain": [
       "<Figure size 1080x720 with 2 Axes>"
      ]
     },
     "metadata": {},
     "output_type": "display_data"
    }
   ],
   "source": [
    "plt.figure(figsize = (15,10))\n",
    "sns.heatmap(corr,annot=True)"
   ]
  },
  {
   "cell_type": "markdown",
   "metadata": {},
   "source": [
    "Correlation varies between -1 and 1. A positive correlation value indicates direct proportion, and a negative correlation value indicates inverse proportion."
   ]
  },
  {
   "cell_type": "markdown",
   "metadata": {},
   "source": [
    "# Creating Models\n",
    "from the correlation i can see colums that are direclty correlated with the Price soi i will use all colums as X and our target will be Price which is our predictive value"
   ]
  },
  {
   "cell_type": "code",
   "execution_count": 44,
   "metadata": {},
   "outputs": [
    {
     "data": {
      "text/plain": [
       "<AxesSubplot:>"
      ]
     },
     "execution_count": 44,
     "metadata": {},
     "output_type": "execute_result"
    },
    {
     "data": {
      "image/png": "[encoded data removed]",
      "text/plain": [
       "<Figure size 432x216 with 2 Axes>"
      ]
     },
     "metadata": {},
     "output_type": "display_data"
    }
   ],
   "source": [
    "formodel = df1[['Make','Mileage','Year','Model','Price']]\n",
    "sns.heatmap(formodel.corr(), annot = True)"
   ]
  },
  {
   "cell_type": "code",
   "execution_count": 45,
   "metadata": {},
   "outputs": [],
   "source": [
    "X = df1[['Year', 'Mileage']]\n",
    "y = df1[['Price']]\n",
    "X_train, X_test, y_train, y_test = train_test_split(X,y,test_size = .2, random_state = 0)"
   ]
  },
  {
   "cell_type": "markdown",
   "metadata": {},
   "source": [
    "# Linear Regression"
   ]
  },
  {
   "cell_type": "code",
   "execution_count": 46,
   "metadata": {},
   "outputs": [
    {
     "data": {
      "text/plain": [
       "LinearRegression()"
      ]
     },
     "execution_count": 46,
     "metadata": {},
     "output_type": "execute_result"
    }
   ],
   "source": [
    "model = LinearRegression()\n",
    "model.fit(X_train,y_train)"
   ]
  },
  {
   "cell_type": "code",
   "execution_count": 47,
   "metadata": {},
   "outputs": [],
   "source": [
    "y_predict = model.predict(X_test)\n",
    "y_test = np.array(y_test)"
   ]
  },
  {
   "cell_type": "code",
   "execution_count": 48,
   "metadata": {
    "scrolled": true
   },
   "outputs": [
    {
     "data": {
      "text/plain": [
       "0.22064338193315236"
      ]
     },
     "execution_count": 48,
     "metadata": {},
     "output_type": "execute_result"
    }
   ],
   "source": [
    "lr = LinearRegression()\n",
    "lr.fit(X_train,y_train)\n",
    "lr.score(X_test,y_test)"
   ]
  },
  {
   "cell_type": "markdown",
   "metadata": {},
   "source": [
    "Use K Fold cross validation to measure accuracy of our LinearRegression model."
   ]
  },
  {
   "cell_type": "code",
   "execution_count": 49,
   "metadata": {},
   "outputs": [
    {
     "data": {
      "text/plain": [
       "array([0.22064338, 0.22210238, 0.22103114, 0.2231842 , 0.22400373])"
      ]
     },
     "execution_count": 49,
     "metadata": {},
     "output_type": "execute_result"
    }
   ],
   "source": [
    "cv = ShuffleSplit(n_splits=5, test_size=0.2, random_state=0)\n",
    "\n",
    "cross_val_score(LinearRegression(), X, y, cv=cv)"
   ]
  },
  {
   "cell_type": "markdown",
   "metadata": {},
   "source": [
    "As you can see, we are getting low score from Linear Regression. Let's see if we can get better results from different regression models."
   ]
  },
  {
   "cell_type": "code",
   "execution_count": 52,
   "metadata": {},
   "outputs": [],
   "source": [
    "#Liblaries for models\n",
    "from sklearn.linear_model import LinearRegression, Ridge\n",
    "from sklearn.naive_bayes import GaussianNB\n",
    "from sklearn.neighbors import KNeighborsRegressor\n",
    "from sklearn.tree import DecisionTreeRegressor\n",
    "from sklearn.ensemble import RandomForestRegressor, GradientBoostingRegressor, ExtraTreesRegressor, BaggingRegressor"
   ]
  },
  {
   "cell_type": "markdown",
   "metadata": {},
   "source": [
    "# KNN"
   ]
  },
  {
   "cell_type": "code",
   "execution_count": 54,
   "metadata": {},
   "outputs": [
    {
     "data": {
      "text/plain": [
       "(0.3837229875930066, 0.08609271982506272)"
      ]
     },
     "execution_count": 54,
     "metadata": {},
     "output_type": "execute_result"
    }
   ],
   "source": [
    "\n",
    "neigh=KNeighborsRegressor()\n",
    "neigh.fit(X_train,y_train)\n",
    "neigh.score(X_train,y_train), neigh.score(X_test,y_test)"
   ]
  },
  {
   "cell_type": "code",
   "execution_count": null,
   "metadata": {},
   "outputs": [],
   "source": [
    "# Checking the results when including polynomials up to x ** 5\n",
    "poly = PolynomialFeatures(degree=2)\n",
    "poly.fit(X_train, X_test)\n",
    "\n",
    "X_poly = poly.transform(X_train)\n",
    "Xtest_poly = poly.transform(X_test)\n",
    "\n",
    "lm.fit(X_poly, y_train)\n",
    "\n",
    "#lm.fit(x1_train,y1_train)\n",
    "print(lm.score(X_poly,y_train))\n",
    "print(lm.score(Xtest_poly, y_test))\n",
    "#print(lm.score(x1_test, y1_test))"
   ]
  },
  {
   "cell_type": "markdown",
   "metadata": {},
   "source": [
    "# GaussianNB"
   ]
  },
  {
   "cell_type": "code",
   "execution_count": null,
   "metadata": {},
   "outputs": [],
   "source": [
    "gnb = GaussianNB()\n",
    "gnb.fit(X_train, y_train.values.ravel())\n",
    "gnb.score(X_train,y_train), gnb.score(X_test,y_test)"
   ]
  },
  {
   "cell_type": "markdown",
   "metadata": {},
   "source": [
    "# DecisionTreeRegressor"
   ]
  },
  {
   "cell_type": "code",
   "execution_count": null,
   "metadata": {},
   "outputs": [],
   "source": [
    "#Checking another regression model\n",
    "\n",
    "dtr = DecisionTreeRegressor(random_state=0, max_depth=1000, min_samples_split = 18, min_impurity_decrease = 1.4)\n",
    "dtr.fit(x_train, y_train.values.ravel())\n",
    "dtr.score(x_train,y_train), dtr.score(x_test,y_test)"
   ]
  },
  {
   "cell_type": "code",
   "execution_count": null,
   "metadata": {},
   "outputs": [],
   "source": [
    "#Creating and fitting RandomForestRegressor\n",
    "\n",
    "random_forest = RandomForestRegressor(n_estimators = 250, max_features = 'sqrt', n_jobs = 20)\n",
    "random_forest.fit(x_train, y_train.values.ravel())\n",
    "print(random_forest.score(x_train, y_train), random_forest.score(x_test, y_test))\n"
   ]
  },
  {
   "cell_type": "markdown",
   "metadata": {},
   "source": [
    "# BaggingRegressor"
   ]
  },
  {
   "cell_type": "code",
   "execution_count": null,
   "metadata": {},
   "outputs": [],
   "source": [
    "#Checking other regression model\n",
    "\n",
    "bagging = BaggingRegressor(n_estimators = 200, oob_score = True, n_jobs = 10)\n",
    "bagging.fit(x_train, y_train.values.ravel())\n",
    "bagging.score(x_train,y_train), bagging.score(x_test,y_test)"
   ]
  },
  {
   "cell_type": "markdown",
   "metadata": {},
   "source": [
    "# ExtraTreesRegressor"
   ]
  },
  {
   "cell_type": "code",
   "execution_count": null,
   "metadata": {},
   "outputs": [],
   "source": [
    "#Checking another regression model\n",
    "\n",
    "etr = ExtraTreesRegressor(random_state=0, n_estimators = 250, max_features = None, min_samples_split = 6)\n",
    "etr.fit(x_train, y_train.values.ravel())\n",
    "etr.score(x_train,y_train), etr.score(x_test,y_test)"
   ]
  },
  {
   "cell_type": "markdown",
   "metadata": {},
   "source": [
    "## Data Cross Validation\n",
    "Using cross valudation to verify data accuracy and prevent overfitting on 3 best models"
   ]
  },
  {
   "cell_type": "code",
   "execution_count": null,
   "metadata": {},
   "outputs": [],
   "source": [
    "etr_values = cross_val_score(etr, x, y.values.ravel(), cv=4)\n",
    "bagging_values = cross_val_score(bagging, x, y.values.ravel(), cv=4)\n",
    "random_forest_values = cross_val_score(random_forest, x, y.values.ravel(), cv=4)\n",
    "\n",
    "print(f\"ExtraTreesRegressor model has {etr_values} accuracy\")\n",
    "print(f\"BaggingRegressor model has {bagging_values} accuracy scores\")\n",
    "print(f\"RandomForestRegressor model has {random_forest_values} accuracy scores\")\n",
    "                   "
   ]
  },
  {
   "cell_type": "markdown",
   "metadata": {},
   "source": [
    "# Model Accuracy Evaluation"
   ]
  },
  {
   "cell_type": "code",
   "execution_count": null,
   "metadata": {},
   "outputs": [],
   "source": [
    "#r2_score and regression score functions show the same information, mean errors show how much off the predictions were in numeric terms\n",
    "\n",
    "#Model 1 stats\n",
    "print('ExtraTreesRegressor Accuracy Evaluation')\n",
    "print(f'r2 score: {r2_score(y_test, etr.predict(x_test))}')\n",
    "print(f'Mean absolute error: {mean_absolute_error(y_test, etr.predict(x_test))}')\n",
    "print(f'Mean squared error: {mean_squared_error(y_test, etr.predict(x_test))}')\n",
    "print('\\n')\n",
    "#Model 2 stats\n",
    "print('BaggingRegressor Accuracy Evaluation')\n",
    "print(f'r2 score: {r2_score(y_test, bagging.predict(x_test))}')\n",
    "print(f'Mean absolute error: {mean_absolute_error(y_test, bagging.predict(x_test))}')\n",
    "print(f'Mean squared error: {mean_squared_error(y_test, bagging.predict(x_test))}')\n",
    "print('\\n')\n",
    "#Model 3 stats\n",
    "print('RandomForestRegressor Accuracy Evaluation')\n",
    "print(f'r2 score: {r2_score(y_test, random_forest.predict(x_test))}')\n",
    "print(f'Mean absolute error: {mean_absolute_error(y_test, random_forest.predict(x_test))}')\n",
    "print(f'Mean squared error: {mean_squared_error(y_test, random_forest.predict(x_test))}')\n"
   ]
  },
  {
   "cell_type": "code",
   "execution_count": 187,
   "metadata": {},
   "outputs": [
    {
     "data": {
      "text/plain": [
       "304375.0"
      ]
     },
     "execution_count": 187,
     "metadata": {},
     "output_type": "execute_result"
    }
   ],
   "source": [
    "predict_price('Manual','Diesel',1,2013,10000)"
   ]
  },
  {
   "cell_type": "code",
   "execution_count": 188,
   "metadata": {},
   "outputs": [
    {
     "data": {
      "text/plain": [
       "653000.0"
      ]
     },
     "execution_count": 188,
     "metadata": {},
     "output_type": "execute_result"
    }
   ],
   "source": [
    "predict_price('Automatic','Diesel',1,2015,50000)"
   ]
  },
  {
   "cell_type": "code",
   "execution_count": 189,
   "metadata": {},
   "outputs": [
    {
     "data": {
      "text/plain": [
       "651758.45"
      ]
     },
     "execution_count": 189,
     "metadata": {},
     "output_type": "execute_result"
    }
   ],
   "source": [
    "predict_price('Manual','Diesel',1,2018,20000)"
   ]
  },
  {
   "cell_type": "code",
   "execution_count": 190,
   "metadata": {},
   "outputs": [
    {
     "data": {
      "text/plain": [
       "693061.11"
      ]
     },
     "execution_count": 190,
     "metadata": {},
     "output_type": "execute_result"
    }
   ],
   "source": [
    "predict_price('Manual','Diesel',1,2020,10000)"
   ]
  },
  {
   "cell_type": "markdown",
   "metadata": {},
   "source": [
    "<div style=\"background-color: #303030;padding: 20px;font-size: 16px;color:white;\">\n",
    "Now we will be exporting our model into a pickle file\n",
    "</div>"
   ]
  },
  {
   "cell_type": "code",
   "execution_count": 191,
   "metadata": {},
   "outputs": [],
   "source": [
    "with open('used_car_price_model.pickle','wb') as f:\n",
    "    pickle.dump(model,f)"
   ]
  },
  {
   "cell_type": "code",
   "execution_count": 192,
   "metadata": {},
   "outputs": [],
   "source": [
    "# try to load the model\n",
    "with open('used_car_price_model.pickle','rb') as file:\n",
    "    mp = pickle.load(file)"
   ]
  },
  {
   "cell_type": "code",
   "execution_count": 193,
   "metadata": {},
   "outputs": [
    {
     "data": {
      "text/plain": [
       "array([487419.74541667])"
      ]
     },
     "execution_count": 193,
     "metadata": {},
     "output_type": "execute_result"
    }
   ],
   "source": [
    "# Manual, Diesel, Second Owner, year 2017, 30000 kilometers driven\n",
    "mp.predict([[0,1,1,0,0,2,2017,30000]])"
   ]
  },
  {
   "cell_type": "code",
   "execution_count": 194,
   "metadata": {
    "scrolled": true
   },
   "outputs": [],
   "source": [
    "columns = {\n",
    "    \"columns\": [col for col in X.columns]\n",
    "}\n",
    "\n",
    "with open(\"columns.json\",\"w\") as f:\n",
    "    f.write(json.dumps(columns))"
   ]
  }
 ],
 "metadata": {
  "kernelspec": {
   "display_name": "Python 3 (ipykernel)",
   "language": "python",
   "name": "python3"
  },
  "language_info": {
   "codemirror_mode": {
    "name": "ipython",
    "version": 3
   },
   "file_extension": ".py",
   "mimetype": "text/x-python",
   "name": "python",
   "nbconvert_exporter": "python",
   "pygments_lexer": "ipython3",
   "version": "3.8.10"
  }
 },
 "nbformat": 4,
 "nbformat_minor": 2
}
